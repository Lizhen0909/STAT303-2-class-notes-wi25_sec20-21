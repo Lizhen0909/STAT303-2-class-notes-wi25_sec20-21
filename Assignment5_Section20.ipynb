{
 "cells": [
  {
   "cell_type": "raw",
   "id": "52cfab42",
   "metadata": {},
   "source": [
    "---\n",
    "title: \"Assignment 5 (Section 20)\"\n",
    "format: \n",
    "  html:\n",
    "    toc: true\n",
    "    toc-title: Contents\n",
    "    toc-depth: 4\n",
    "    code-fold: show\n",
    "    self-contained: true\n",
    "    number-sections: false\n",
    "jupyter: python3\n",
    "---"
   ]
  },
  {
   "cell_type": "markdown",
   "id": "b1444767",
   "metadata": {},
   "source": [
    "## Instructions {-}\n",
    "\n",
    "1. You may talk to a friend, discuss the questions and potential directions for solving them. However, you need to write your own solutions and code separately, and not as a group activity. \n",
    "\n",
    "2. Write your code in the **Code cells** and your answers in the **Markdown cells** of the Jupyter notebook. Ensure that the solution is written neatly enough to for the graders to understand and follow.\n",
    "\n",
    "3. Use [Quarto](https://quarto.org/docs/output-formats/html-basics.html) to render the **.ipynb** file as HTML. You will need to open the command prompt, navigate to the directory containing the file, and use the command: `quarto render filename.ipynb --to html`. Submit the HTML file.\n",
    "\n",
    "4. The assignment is worth 100 points, and is due on **Thursday, 14th March 2024 at 11:59 pm**. \n",
    "\n",
    "5. **Five points are properly formatting the assignment**. The breakdown is as follows:\n",
    "    - Must be an HTML file rendered using Quarto **(1 point)**. *If you have a Quarto issue, you must mention the issue & quote the error you get when rendering using Quarto in the comments section of Canvas, and submit the ipynb file.* \n",
    "    - No name can be written on the assignment, nor can there be any indicator of the student’s identity—e.g. printouts of the working directory should not be included in the final submission.  **(1 point)**\n",
    "    - There aren’t excessively long outputs of extraneous information (e.g. no printouts of entire data frames without good reason, there aren’t long printouts of which iteration a loop is on, there aren’t long sections of commented-out code, etc.) **(1 point)**\n",
    "    - Final answers to each question are written in the Markdown cells. **(1 point)**\n",
    "    - There is no piece of unnecessary / redundant code, and no unnecessary / redundant text. **(1 point)**\n",
    "\n",
    "6.  The maximum possible score in the assigment is 100 + 5 = 105 out of 100."
   ]
  },
  {
   "cell_type": "markdown",
   "id": "6a65b940",
   "metadata": {},
   "source": [
    "## 1) Cross-validation for a Regression Task (34 points)"
   ]
  },
  {
   "cell_type": "markdown",
   "id": "f2da0ccc",
   "metadata": {},
   "source": [
    "For this question, we are interested in using lower-level cross-validation tools for a regression task. Read the **soc_ind.csv** file. The column names should be clear on what the variables represent."
   ]
  },
  {
   "cell_type": "markdown",
   "id": "6d50185f",
   "metadata": {},
   "source": [
    "### a) \n",
    "\n",
    "`gdpPerCapita` will be the response for this regression analysis. Before anything else, create two density plots to see if we should use it as it is or its log-transformed version. Justify your answer with the plots. **(2 points)**\n",
    "\n",
    "**Hint:** sns.kdeplot"
   ]
  },
  {
   "cell_type": "markdown",
   "id": "381c126c",
   "metadata": {},
   "source": [
    "### b)\n",
    "\n",
    "Create the proper response variable based on your answer in the previous part. The predictors are the rest of the variables except `Index`, `geographic_location`, and `country`. Create a predictor matrix accordingly. **(2 points)**\n",
    "\n",
    "Using **train_test_split** from **sklearn.model_selection** create the training and test data. (You may need to read its [documentation](https://scikit-learn.org/stable/modules/generated/sklearn.model_selection.train_test_split.html).) Use a 80%-20% train-test split and use `random_state=2` for reproducible results. **(3 points)**"
   ]
  },
  {
   "cell_type": "markdown",
   "id": "23866de2",
   "metadata": {},
   "source": [
    "### c)\n",
    "\n",
    "One-hot-encode and scale (in this order) both the training and the test dataset. **(2 points)**"
   ]
  },
  {
   "cell_type": "markdown",
   "id": "0b25633f",
   "metadata": {},
   "source": [
    "### d)\n",
    "\n",
    "Using a hyperparameter vector of `np.logspace(2,0.5,200)`, cross-validate a Ridge Regression model. Use 10 folds and `neg_mean_absolute_error` as the scoring metric. **(4 points)** Save all your cross-validation (CV) scores in a numpy array. **(1 point)**"
   ]
  },
  {
   "cell_type": "markdown",
   "id": "46337983",
   "metadata": {},
   "source": [
    "### e)\n",
    "\n",
    "Using the array you created in the previous part, find the optimal hyperparameter value and the best CV score that corresponds to it. **(1+1=2 points)**"
   ]
  },
  {
   "cell_type": "markdown",
   "id": "9fc9ac16",
   "metadata": {},
   "source": [
    "### f) \n",
    "\n",
    "Check the best CV score you found in the previous part. What seems to be the issue with it? Remember that the response is GDP per capita of countries. (We will solve this issue later in this question.) **(2 points)**"
   ]
  },
  {
   "cell_type": "markdown",
   "id": "5c12088a",
   "metadata": {},
   "source": [
    "### g)\n",
    "\n",
    "Create a final model with the optimal hyperparameter value you found in the previous question. Return the test MAE. **You need to return the test MAE in terms of actual GDP values for credit.** **(3 points)**"
   ]
  },
  {
   "cell_type": "markdown",
   "id": "cd4e65c2",
   "metadata": {},
   "source": [
    "### h)\n",
    "\n",
    "Now, it is time to calculate proper MAE values for the cross-validation results and optimize the hyperparameter value based on them. **Using cross_val_predict**, return the CV predictions for all hyperparameter values. Use a hyperparameter vector of `np.logspace(2,0.5,200)`. (Same as part d.). **(4 points)** Save all the predictions in a DataFrame. **(1 point)**"
   ]
  },
  {
   "cell_type": "markdown",
   "id": "8af432dd",
   "metadata": {},
   "source": [
    "### i)\n",
    "\n",
    "Using the DataFrame you created in the previous part, find the optimal hyperparameter value and the best CV MAE that corresponds to it. **(4\n",
    "points)** \n",
    "\n",
    "**Note:** \n",
    "\n",
    "1) The MAE should be in terms of actual GDP values for credit.\n",
    "2) No loops are allowed for this question. You may want to refresh your memory on .apply."
   ]
  },
  {
   "cell_type": "markdown",
   "id": "6fb31a8b",
   "metadata": {},
   "source": [
    "### j)\n",
    "\n",
    "With the hyperparameter value you found in the previous part, train a final model and print its test MAE. **(2 points)** How does it compare to the test MAE you found with cross_val_score? **(1 point)** Why do you think this is the case? **(1 point)**"
   ]
  },
  {
   "cell_type": "markdown",
   "id": "d7f70590",
   "metadata": {},
   "source": [
    "## 2) Cross-validation for a Classification Task (36 points)"
   ]
  },
  {
   "cell_type": "markdown",
   "id": "3137ecfb",
   "metadata": {},
   "source": [
    "For this question, we are interested in using lower-level cross-validation tools for a classification task. Read the diabetes_train.csv and diabetes_test.csv files. The `Outcome` variable represents whether the patient has diabetes or not. The rest of the variables are medical predictors we will use to predict the outcome."
   ]
  },
  {
   "cell_type": "markdown",
   "id": "5c8e9878",
   "metadata": {},
   "source": [
    "### a) \n",
    "\n",
    "Create the training and the test data. **(2 points)**"
   ]
  },
  {
   "cell_type": "markdown",
   "id": "8218054f",
   "metadata": {},
   "source": [
    "### b) \n",
    "\n",
    "Scale the datasets. **(1 point)**"
   ]
  },
  {
   "cell_type": "markdown",
   "id": "9e2c594e",
   "metadata": {},
   "source": [
    "### c) \n",
    "\n",
    "Using a hyperparameter vector of `Cs = np.logspace(2,-2,200)`, cross-validate a Lasso Classification model. Use 5 folds and the default scoring metric (which is accuracy.) **(4 points)** Save all your cross-validation (CV) scores in a numpy array. **(1 point)**"
   ]
  },
  {
   "cell_type": "markdown",
   "id": "c508cc5c",
   "metadata": {},
   "source": [
    "### d) \n",
    "\n",
    "Using the array you created in the previous part, find the optimal hyperparameter value and the best CV score that corresponds to it. **(1+1=2 points)**"
   ]
  },
  {
   "cell_type": "markdown",
   "id": "d3b5bbc4",
   "metadata": {},
   "source": [
    "### e)\n",
    "\n",
    "Create a final model with the optimal hyperparameter value you found in the previous question. Return the test accuracy, recall and AUC with a threshold of 0.5. **(4 points)** Which metric looks problematic? **(1 point)**"
   ]
  },
  {
   "cell_type": "markdown",
   "id": "7df6cbfa",
   "metadata": {},
   "source": [
    "### f)\n",
    "\n",
    "What was the threshold cross_val_score used to return the accuracy scores? **(1 point)** How did that contribute to the problem in the previous part? **(1 point)**"
   ]
  },
  {
   "cell_type": "markdown",
   "id": "ad7cab6c",
   "metadata": {},
   "source": [
    "### g)\n",
    "\n",
    "Now, it is time to return the CV predictions and optimize the threshold based on them. Using cross_val_predict, return the CV **prediction probabilities** for the best hyperparameter value your found in part d. **(3 points)** Note that you don't need any loops for this question, because you already know which C value to use."
   ]
  },
  {
   "cell_type": "markdown",
   "id": "efbcf16a",
   "metadata": {},
   "source": [
    "### h)\n",
    "\n",
    "Using the output of the previous part, calculate and store the accuracy, recall and AUC of all possible threshold values from 0 to 1 with a stepsize of 0.001. **(4 points)**"
   ]
  },
  {
   "cell_type": "markdown",
   "id": "04cce4be",
   "metadata": {},
   "source": [
    "### i)\n",
    "\n",
    "Plot the accuracy, recall and AUC values against the threshold on the same graph. **(2 points)** Include a legend. **(1 point)**"
   ]
  },
  {
   "cell_type": "markdown",
   "id": "fafa5fe7",
   "metadata": {},
   "source": [
    "### j)\n",
    "\n",
    "In the plot, you should see a threshold value where the accuracy, recall and AUC values are all the same. Find that value. **(3 points)**\n",
    "\n",
    "**Note:**\n",
    "\n",
    "1) The metric values are the same if you round them to 2 digits after the decimal point. (That is just the rounded integer values if you multiply the metric values by 100 in the previous question.)\n",
    "2) Trial-and-error will not receive any credit for this question. You need to use logical indexing.\n",
    "3) **np.where** and **np.round** should be helpful. (Along with the **& operator**.)"
   ]
  },
  {
   "cell_type": "markdown",
   "id": "dec02530",
   "metadata": {},
   "source": [
    "### k)\n",
    "\n",
    "Using the threshold value you found in the previous question and the best hyperparameter value you found in part d, train a final Lasso Classification model and return its test accuracy, recall and AUC. **(3 points)** How do the accuracy and recall results compare to part e? **(1 point)** Did AUC change? **(1 point)** Why or why not? **(1 point)**"
   ]
  },
  {
   "cell_type": "markdown",
   "id": "d060e642",
   "metadata": {},
   "source": [
    "## 3) Outliers and Collinearity (30 points)"
   ]
  },
  {
   "cell_type": "markdown",
   "id": "d1369d22",
   "metadata": {},
   "source": [
    "For this question, we are interested in analyzing how removing the unnecessary observations and predictors improve the prediction and inference performance of our model. Read the **Austin_Affordable_Housing_Train.csv** and **Austin_Affordable_Housing_Test.csv** files. Each row represents a housing development in Austin, TX. \n",
    "\n",
    "\n",
    "The `City_Amount` variable represents the amount (in USD) provided by the city of Austin to the development and it is the response for the regression task."
   ]
  },
  {
   "cell_type": "markdown",
   "id": "3ca6591e",
   "metadata": {},
   "source": [
    "### a)\n",
    "\n",
    "Use `Market_Rate_Units`, `Total_Affordable_Units`, `Total_Accessible_Units`, and `Total_Units` as four predictors to the linear regression model. Do not include any interaction terms and do not transform anything. Do not transform the response either.\n",
    "\n",
    "Create the model using statsmodels. Print the model summary and the test RMSE. **(3 points)** Which predictor is statistically insignificant? **(1 point)**"
   ]
  },
  {
   "cell_type": "markdown",
   "id": "70e01383",
   "metadata": {},
   "source": [
    "### b)\n",
    "\n",
    "To dive deeper into the statistical significance of the four predictors, create their correlation matrix first. **(1 point)** How many pairs seem to be highly correlated? **(1 point)** Why is this matrix not useful to detect collinearity in the model? **(2 points)**"
   ]
  },
  {
   "cell_type": "markdown",
   "id": "130fdf68",
   "metadata": {},
   "source": [
    "### c)\n",
    "\n",
    "Create the Variation Inflation Factor (VIF) table of the predictors. **(1 point)** Which predictors seem to be highly correlated? **(1 point)**"
   ]
  },
  {
   "cell_type": "markdown",
   "id": "a13bcc46",
   "metadata": {},
   "source": [
    "### d)\n",
    "\n",
    "Remove the predictor with the highest VIF and create the VIF table again. **(1 point)** Is there any collinearity left? **(1 point)**"
   ]
  },
  {
   "cell_type": "markdown",
   "id": "9d20c312",
   "metadata": {},
   "source": [
    "### e)\n",
    "\n",
    "With the remaining predictors, create the model again. Print its summary and test RMSE. **(1 point)** How did they change? Mention test RMSE **(1 point)**, R-squared **(1 point)** and the statistical significance. **(1 point)**. What is the reason behind these changes? **(2 points)**"
   ]
  },
  {
   "cell_type": "markdown",
   "id": "2058b379",
   "metadata": {},
   "source": [
    "### f)\n",
    "\n",
    "Now, it is time to clean out the observations. Find the influential points in the training dataset and filter them out. **(5 points)** How many observations did you discard? **(1 point)**"
   ]
  },
  {
   "cell_type": "markdown",
   "id": "0eef17f3",
   "metadata": {},
   "source": [
    "### g)\n",
    "\n",
    "Retrain the model in part e with the clean training dataset. Print the summary and the test RMSE. **(1 point)** How do the test RMSE and R-squared compare with the results in part e? **(2 points)** Do you also see a change in statistical significance? **(1 point)** Explain the reasons behind these changes. **(2 points)**"
   ]
  }
 ],
 "metadata": {
  "kernelspec": {
   "display_name": "Python 3 (ipykernel)",
   "language": "python",
   "name": "python3"
  },
  "language_info": {
   "codemirror_mode": {
    "name": "ipython",
    "version": 3
   },
   "file_extension": ".py",
   "mimetype": "text/x-python",
   "name": "python",
   "nbconvert_exporter": "python",
   "pygments_lexer": "ipython3",
   "version": "3.8.17"
  }
 },
 "nbformat": 4,
 "nbformat_minor": 5
}
