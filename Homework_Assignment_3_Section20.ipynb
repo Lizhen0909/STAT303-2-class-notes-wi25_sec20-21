{
 "cells": [
  {
   "cell_type": "raw",
   "id": "ac8cf91a",
   "metadata": {},
   "source": [
    "---\n",
    "title: \"Assignment 3 (Section 20)\"\n",
    "format: \n",
    "  html:\n",
    "    toc: true\n",
    "    toc-title: Contents\n",
    "    toc-depth: 4\n",
    "    code-fold: show\n",
    "    self-contained: true\n",
    "    number-sections: false\n",
    "jupyter: python3\n",
    "---"
   ]
  },
  {
   "cell_type": "markdown",
   "id": "2d1ddeef",
   "metadata": {},
   "source": [
    "## Instructions {-}\n",
    "\n",
    "1. You may talk to a friend, discuss the questions and potential directions for solving them. However, you need to write your own solutions and code separately, and not as a group activity. \n",
    "\n",
    "2. Write your code in the **Code cells** and your answers in the **Markdown cells** of the Jupyter notebook. Ensure that the solution is written neatly enough to for the graders to understand and follow.\n",
    "\n",
    "3. Use [Quarto](https://quarto.org/docs/output-formats/html-basics.html) to render the **.ipynb** file as HTML. You will need to open the command prompt, navigate to the directory containing the file, and use the command: `quarto render filename.ipynb --to html`. Submit the HTML file.\n",
    "\n",
    "4. The assignment is worth 100 points, and is due on **Tuesday, 20th February 2024 at 11:59 pm**. \n",
    "\n",
    "5. There is a **bonus** question worth 12 points.\n",
    "\n",
    "5. **Five points are properly formatting the assignment**. The breakdown is as follows:\n",
    "    - Must be an HTML file rendered using Quarto **(1 point)**. *If you have a Quarto issue, you must mention the issue & quote the error you get when rendering using Quarto in the comments section of Canvas, and submit the ipynb file.* \n",
    "    - No name can be written on the assignment, nor can there be any indicator of the student’s identity—e.g. printouts of the working directory should not be included in the final submission.  **(1 point)**\n",
    "    - There aren’t excessively long outputs of extraneous information (e.g. no printouts of entire data frames without good reason, there aren’t long printouts of which iteration a loop is on, there aren’t long sections of commented-out code, etc.) **(1 point)**\n",
    "    - Final answers to each question are written in the Markdown cells. **(1 point)**\n",
    "    - There is no piece of unnecessary / redundant code, and no unnecessary / redundant text. **(1 point)**\n",
    "\n",
    "6.  The maximum possible score in the assigment is 103 + 12 + 5 = 120 out of 100."
   ]
  },
  {
   "cell_type": "markdown",
   "id": "0275cb24",
   "metadata": {},
   "source": [
    "## Introduction (0 points)"
   ]
  },
  {
   "cell_type": "markdown",
   "id": "fabb3853",
   "metadata": {},
   "source": [
    "Read the **train.csv**, **test1.csv**, and **test2.csv**. All datasets are about direct marketing campaigns of a Portuguese banking institution. The marketing campaigns were based on phone calls, where bank clients were called to subscribe for a term deposit. Each observation is a phone call and each column is a variable about the client or the phone call. The columns are described as follows:\n",
    "\n",
    "1. `age`: Age of the client\n",
    "\n",
    "2. `education`: Education level of the client \n",
    "\n",
    "3. `day`: Day of the month the call is made\n",
    "\n",
    "4. `month`: Month of the call \n",
    "\n",
    "5. `y`: did the client subscribe to a term deposit? (This is the classification response.)\n",
    "\n",
    "6. `duration`: Call duration, in seconds. This variable highly affects the output (e.g., if duration=0 then y='no'). Yet, the `duration` is not known before a call is performed. Also, after the end of the call `y` is usually known. Therefore, it is a better idea that this variable should only be used for inference purposes and should be discarded if the intention is to have a realistic predictive model.\n",
    "\n",
    "(Source: [UCI Data Archive](https://archive.ics.uci.edu/ml/datasets/bank+marketing). Please use the given datasets for the assignment, not the raw data from the source. It is just for reference.)"
   ]
  },
  {
   "cell_type": "markdown",
   "id": "91895da4",
   "metadata": {},
   "source": [
    "## 1) Investigating the Effect of Call Duration on Subscription Probability (44 points)"
   ]
  },
  {
   "cell_type": "markdown",
   "id": "3679c510",
   "metadata": {},
   "source": [
    "### **1a)** \n",
    "First of all, you need a numeric response value for your statsmodels functions. (Numeric, not Boolean!) Convert the response column, **y**, of the training data (**train.csv**) into 0s for 'no' and 1s for 'yes'. **(2 points)**"
   ]
  },
  {
   "cell_type": "markdown",
   "id": "3347b3e3",
   "metadata": {},
   "source": [
    "### **1b)** \n",
    "Using the training data and **statsmodels**, train a logistic regression model to predict if the client subscribed to a term deposit using the call **duration**. Print its summary. **(2 points)**\n",
    "\n",
    "You need to use this model to answer all the remaining parts of this question."
   ]
  },
  {
   "cell_type": "markdown",
   "id": "00287af8",
   "metadata": {},
   "source": [
    "### **1c)** \n",
    "Is the effect of the call duration on the probability of the client subscription statistically significant? Justify your answer. **(2 points)**"
   ]
  },
  {
   "cell_type": "markdown",
   "id": "ff8d6b2b",
   "metadata": {},
   "source": [
    "### **1d)** \n",
    "What is the probability of the client subscribing after a 5-minute marketing call? (Note that the duration variable is in given in seconds.) **(3 points)**"
   ]
  },
  {
   "cell_type": "markdown",
   "id": "1b4a3a53",
   "metadata": {},
   "source": [
    "### **1e)** \n",
    "How many **minutes** are necessary to have at least 95% probability of the client subscribing? Print it in the following format: **\"... minutes or higher\"** **(5 points: 4 points for the calculation, 1 point for formatting)**"
   ]
  },
  {
   "cell_type": "markdown",
   "id": "a9a4eac0",
   "metadata": {},
   "source": [
    "### **1f)** \n",
    "What is the percentage increase in the odds of a client subscribing when the call duration increases by a **minute**? **(4 points)**"
   ]
  },
  {
   "cell_type": "markdown",
   "id": "0e915499",
   "metadata": {},
   "source": [
    "### **1g)** \n",
    "How many **minutes** need to be added to a call to double the odds of a client subscribing? **(3 points)**"
   ]
  },
  {
   "cell_type": "markdown",
   "id": "8b0544f8",
   "metadata": {},
   "source": [
    "### **1h)** \n",
    "After exploring the model coefficients, it is time to see the limitations of this rather simplistic model. \n",
    "\n",
    "What is the maximum call duration (in minutes) after which the client refused to subscribe? (Note that you need the dataset itself for this question, not the model.) **(2 points)** What is the subscription probability that the model predicts for that client? **(2 points)**"
   ]
  },
  {
   "cell_type": "markdown",
   "id": "c140db65",
   "metadata": {},
   "source": [
    "### **1i)** \n",
    "Use a scatterplot to visualize the data. You need to plot the classes against the duration values. **(2 points)** Add some small random noise (also called jitter) on the class values to visualize as many observations as possible. **(1 point)** On top of that, add the curve that the model fits to this data. **(2 points)** You should see a sigmoid fit without its bottom end. Does it look like the duration of the call is enough by itself to predict the client subscription? **(1 point)** Why or why not? **(1 point)**"
   ]
  },
  {
   "cell_type": "markdown",
   "id": "a8c7c493",
   "metadata": {},
   "source": [
    "### **1j)** \n",
    "Predict the accuracy and recall using a threshold of 0.5 for **test_data1.csv** and **test_data2.csv**. You should print 4 numbers. **(4 points)** You should see very different values for the different metrics. Explain why this is happening and which metric is a better evaluation of the prediction performance. **(3 points)**\n",
    "\n",
    "**Hint:** Checking the value counts of the response variable might be a good idea."
   ]
  },
  {
   "cell_type": "markdown",
   "id": "ec5b3d3f",
   "metadata": {},
   "source": [
    "### **1k)** \n",
    "Repeat the previous question with a threshold of 0.3. Did the accuracy change much? How about recall? Explain why the results changed (or not) in terms of the confusion matrix elements. **(5 points: 1 point for the calculation, 2 points for the recall explanation, 2 points for the accuracy explanation)**"
   ]
  },
  {
   "cell_type": "markdown",
   "id": "625259fd",
   "metadata": {},
   "source": [
    "## 2) Exploring Variable Interactions (10 points)"
   ]
  },
  {
   "cell_type": "markdown",
   "id": "a46344c2",
   "metadata": {},
   "source": [
    "### **2a)** \n",
    "Using the training data and statsmodels, train a logistic regression model to predict if the client subscribed to a term deposit using the **education** level and the **age**. Assume that the effect of age on the log-odds **depends on** the education level of the client. Print the summary. **(2 points)** \n",
    "\n",
    "You need to use this model to answer all the remaining parts of this question."
   ]
  },
  {
   "cell_type": "markdown",
   "id": "f26330e2",
   "metadata": {},
   "source": [
    "### **2b)** \n",
    "People with which level of education have the highest percentage increase in odds of a client subscribing with a unit increase in age? Justify your answer. **(4 points)**"
   ]
  },
  {
   "cell_type": "markdown",
   "id": "892c3610",
   "metadata": {},
   "source": [
    "### **2c)** \n",
    "What is the maximum age of a client with tertiary education to have 15% subscription probability or lower? **(4 points)**"
   ]
  },
  {
   "cell_type": "markdown",
   "id": "04f9dadd",
   "metadata": {},
   "source": [
    "## 3) Model Development and Evaluation (29 points)"
   ]
  },
  {
   "cell_type": "markdown",
   "id": "4fb813af",
   "metadata": {},
   "source": [
    "### **3a)**  \n",
    "Using the training data and statsmodels, train a logistic regression model to predict if the client subscribed to a term deposit using **age, education, day, and month.** The model must have:\n",
    "\n",
    "- A minimum of 75.0% accuracy for all three datasets. (train.csv, test1.csv, and test2.csv) **(3 points)**\n",
    "- A minimum of 50.0% recall for all three datasets. **(6 points)**\n",
    "\n",
    "Print the model summary. **(1 point)** For all three datasets, print the accuracy scores, recall scores and confusion matrices. **(3 points)**\n",
    "\n",
    "**Notes:**\n",
    "\n",
    "1) You cannot use duration as a predictor. The reason is explained in the description of the dataset in Introduction. **(No credit from the entire question for models that use duration.)**\n",
    "2) Explore some interactions and transformations. You do not need to go too high. (Still ok if you do and pass the given cutoffs.)\n",
    "3) You are free to choose the decision threshold as you wish. However, you must use the same threshold for all three datasets. **(No credit from the entire question for using different thresholds.)**\n",
    "4) No rounding. (For example, a recall of 49.9% is not considered correct.)\n",
    "\n",
    "You need to use this model (and threshold, unless stated otherwise) to answer all the remaining parts of this question."
   ]
  },
  {
   "cell_type": "markdown",
   "id": "75a71150",
   "metadata": {},
   "source": [
    "### **3b)** \n",
    "What is the probability that the model will predict a higher probability for a client who will subscribe compared to a client who will not? Justify your answer. **(3 points)**"
   ]
  },
  {
   "cell_type": "markdown",
   "id": "1e5a842f",
   "metadata": {},
   "source": [
    "### **3c)** \n",
    "Assume that you want to project all your prediction results for **test1.csv and test2.csv** to real-life profits. Assume that:\n",
    "\n",
    "- Only the clients who are predicted to subscribe are called.\n",
    "- A client who is called and subscribes returns a profit of \\$100.\n",
    "- A client who is called and does not subscribe returns a loss of $10.\n",
    "\n",
    "What is the net profit of the results? **(3 points)** Note that you need to use the confusion matrices printed in part a."
   ]
  },
  {
   "cell_type": "markdown",
   "id": "2263893e",
   "metadata": {},
   "source": [
    "### **3d)** \n",
    "Using the same assumptions in part c, find the threshold that would maximize the net profit. **(5 points)** Use the training data for this.\n",
    "\n",
    "This is probably the most challenging part of this assignment. Here are some suggestions:\n",
    "\n",
    "- You do not need to calculate results for every possible threshold. You should already have some metrics calculated for a large array of thresholds in part b.\n",
    "- Use those metrics and the proportion of class 1 observations in the dataset to find the net profit for all thresholds.\n",
    "- Find the index of the highest profit to find the threshold, again using the threshold array from part b."
   ]
  },
  {
   "cell_type": "markdown",
   "id": "102b1e6a",
   "metadata": {},
   "source": [
    "### **3e)** \n",
    "Using the new threshold you found in the previous part, calculate the net profit using **test1.csv and test2.csv**. **(4 points)**"
   ]
  },
  {
   "cell_type": "markdown",
   "id": "abc36df2",
   "metadata": {},
   "source": [
    "### **3f)** \n",
    "Just an intuitive question: In a real-life setting like this, would you prefer the threshold you found in part a that maximizes some mathematical concepts or the threshold you found in part d that maximizes your profit? **(1 point)**"
   ]
  },
  {
   "cell_type": "markdown",
   "id": "29cb8591",
   "metadata": {},
   "source": [
    "## 4) Sklearn (20 points)"
   ]
  },
  {
   "cell_type": "markdown",
   "id": "d5176dcd",
   "metadata": {},
   "source": [
    "Using train.csv and **only sklearn, pandas, and numpy**, train a Logistic Regression model. You need the following steps:\n",
    "\n",
    "- The response is still y. **(1 point)**\n",
    "- Predictors are education, month, day and age. **(1 point)**\n",
    "- Numerical predictors need to be transformed to **all** their second-order polynomial versions. **(3 points)**\n",
    "- Categorical predictors need to be one-hot-encoded. **(2 points)** They should not interact with the numerical predictors. **(2 points)**\n",
    "- Afterwards, the all the predictors needs to be standard scaled. **(3 points)**\n",
    "\n",
    "Print the accuracy and recall for both training and test data using a threshold of 0.11. **(5 points)** Use **test1.csv** as the test dataset. **Remember that the test dataset needs to go through the exact same transformation pipeline as the training dataset.** **(3 points)**\n"
   ]
  },
  {
   "cell_type": "markdown",
   "id": "7036b385",
   "metadata": {},
   "source": [
    "## 5) Bonus: Data Visualization with Precision, Recall and FPR (12 points)"
   ]
  },
  {
   "cell_type": "markdown",
   "id": "55c3d944",
   "metadata": {},
   "source": [
    "### **5a)** \n",
    "Plot the ROC curve for the model you trained in Question 3. Mark the point that corresponds to the decision threshold you found in 3d. (You can use a red solid point or whatever shape/color you want, as long as it is clearly marked.) Make sure you have the axis labels and the x=y line for comparison. **(3 points)**"
   ]
  },
  {
   "cell_type": "markdown",
   "id": "746667b9",
   "metadata": {},
   "source": [
    "### **5b)** \n",
    "Convert the previous plot to a scatter plot of TPR against FPR and color-code each point based on the corresponding profit. **(5 points)**"
   ]
  },
  {
   "cell_type": "markdown",
   "id": "1ff649fc",
   "metadata": {},
   "source": [
    "### **5c)** \n",
    "Plot the Precision-Recall curve for the model you trained in Question 3. Mark the decision threshold you found in 3d as **a dashed vertical line**. Make sure you have the axis labels. **(4 points)**"
   ]
  }
 ],
 "metadata": {
  "kernelspec": {
   "display_name": "Python 3 (ipykernel)",
   "language": "python",
   "name": "python3"
  },
  "language_info": {
   "codemirror_mode": {
    "name": "ipython",
    "version": 3
   },
   "file_extension": ".py",
   "mimetype": "text/x-python",
   "name": "python",
   "nbconvert_exporter": "python",
   "pygments_lexer": "ipython3",
   "version": "3.10.9"
  }
 },
 "nbformat": 4,
 "nbformat_minor": 5
}
