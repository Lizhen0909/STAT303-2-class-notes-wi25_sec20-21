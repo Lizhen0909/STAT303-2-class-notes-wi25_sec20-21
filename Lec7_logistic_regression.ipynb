{
 "cells": [
  {
   "cell_type": "raw",
   "id": "b99e8dcb",
   "metadata": {},
   "source": [
    "---\n",
    "title: \"Logistic regression\"\n",
    "format: \n",
    "  html:\n",
    "    code-fold: false\n",
    "    toc-depth: 4\n",
    "    jupyter: python3\n",
    "---"
   ]
  },
  {
   "cell_type": "markdown",
   "id": "1a0feec3",
   "metadata": {},
   "source": [
    "*Note that in this course, lecture notes are not sufficient, you must read the book for better understanding. Lecture notes are just implementing the concepts of the book on a dataset, but not explaining the concepts elaborately.*"
   ]
  },
  {
   "cell_type": "markdown",
   "id": "d4d4da4f",
   "metadata": {},
   "source": [
    "## Theory Behind Logistic Regression\n",
    "\n",
    "Logistic regression is the go-to linear classification algorithm for two-class problems. It is easy to implement, easy to understand and gets great results on a wide variety of problems, even when the expectations the method has for your data are violated.\n",
    "\n",
    "### Description\n",
    "\n",
    "#### Logistic Regression {-}\n",
    "\n",
    "Logistic regression is named for the function used at the core of the method, the [logistic function](https://en.wikipedia.org/wiki/Logistic_function).\n",
    "\n",
    "The logistic function, also called the **`Sigmoid function`** was developed by statisticians to describe properties of population growth in ecology, rising quickly and maxing out at the carrying capacity of the environment. It’s an S-shaped curve that can take any real-valued number and map it into a value between 0 and 1, but never exactly at those limits.\n",
    "\n",
    "$$\\frac{1}{1 + e^{-x}}$$\n",
    "\n",
    "$e$ is the base of the natural logarithms and $x$ is value that you want to transform via the logistic function."
   ]
  },
  {
   "cell_type": "code",
   "execution_count": 34,
   "id": "7d38512b",
   "metadata": {},
   "outputs": [
    {
     "data": {
      "text/plain": [
       "Text(0.5, 1.0, 'Sigmoid Function')"
      ]
     },
     "execution_count": 34,
     "metadata": {},
     "output_type": "execute_result"
    },
    {
     "data": {
      "image/png": "[encoded data removed]",
      "text/plain": [
       "<Figure size 720x432 with 1 Axes>"
      ]
     },
     "metadata": {},
     "output_type": "display_data"
    }
   ],
   "source": [
    "%matplotlib inline\n",
    "sns.set_style('whitegrid')\n",
    "plt.style.use(\"fivethirtyeight\")\n",
    "x = np.linspace(-6, 6, num=1000)\n",
    "plt.figure(figsize=(10, 6))\n",
    "plt.plot(x, (1 / (1 + np.exp(-x))))\n",
    "plt.xlabel(\"x\")\n",
    "plt.ylabel(\"y\")\n",
    "plt.title(\"Sigmoid Function\")"
   ]
  },
  {
   "cell_type": "markdown",
   "id": "2529a671",
   "metadata": {},
   "source": [
    "The logistic regression equation has a very similar representation like linear regression. The difference is that the output value being modelled is binary in nature.\n",
    "\n",
    "$$\\hat{y}=\\frac{e^{\\beta_0+\\beta_1x_1}}{1+\\beta_0+\\beta_1x_1}$$\n",
    "\n",
    "or\n",
    "\n",
    "$$\\hat{y}=\\frac{1.0}{1.0+e^{-\\beta_0-\\beta_1x_1}}$$\n",
    "\n",
    "$\\beta_0$ is the intecept term\n",
    "\n",
    "$\\beta_1$ is the coefficient for $x_1$\n",
    "\n",
    "$\\hat{y}$ is the predicted output with real value between 0 and 1. To convert this to binary output of 0 or 1, this would either need to be rounded to an integer value or a cutoff point be provided to specify the class segregation point.\n",
    "***\n",
    "### Learning the Logistic Regression Model\n",
    "\n",
    "The coefficients (Beta values b) of the logistic regression algorithm must be estimated from your training data. This is done using [maximum-likelihood estimation](https://en.wikipedia.org/wiki/Maximum_likelihood_estimation).\n",
    "\n",
    "Maximum-likelihood estimation is a common learning algorithm used by a variety of machine learning algorithms, although it does make assumptions about the distribution of your data (more on this when we talk about preparing your data).\n",
    "\n",
    "The best coefficients should result in a model that would predict a value very close to 1 (e.g. male) for the default class and a value very close to 0 (e.g. female) for the other class. The intuition for maximum-likelihood for logistic regression is that a search procedure seeks values for the coefficients (Beta values) that maximize the likelihood of the observed data. In other words, in MLE, we estimate the parameter values (Beta values) which are the more likely to produce that data at hand.\n",
    "\n",
    "Here is an analogy to understand the idea behind Maximum Likelihood Estimation (MLE). Let us say, you are listening to a song (data). You are not aware of the singer (parameter) of the song. With just the musical piece music at hand, you try to guess the singer (parameter) who you feel is the most likely (MLE) to have sung that song. Your guess a maximum likelihood estimate! Out of all the singers (parameter space) you have chosen them as the one who is the most likely to sing that song (data).\n",
    "\n",
    "We are not going to go into the math of maximum likelihood. It is enough to say that a minimization algorithm is used to optimize the best values for the coefficients for your training data. This is often implemented in practice using efficient numerical optimization algorithm (like the Quasi-newton method).\n",
    "\n",
    "When you are learning logistic, you can implement it yourself from scratch using the much simpler gradient descent algorithm."
   ]
  },
  {
   "cell_type": "markdown",
   "id": "87a04462",
   "metadata": {},
   "source": [
    "### Prepare Data for Logistic Regression\n",
    "The assumptions made by logistic regression about the distribution and relationships in your data are much the same as the assumptions made in linear regression.\n",
    "\n",
    "Much study has gone into defining these assumptions and precise probabilistic and statistical language is used. My advice is to use these as guidelines or rules of thumb and experiment with different data preparation schemes.\n",
    "\n",
    "Ultimately in predictive modeling machine learning projects you are laser focused on making accurate predictions rather than interpreting the results. As such, you can break some assumptions as long as the model is robust and performs well.\n",
    "\n",
    "- **Binary Output Variable:** This might be obvious as we have already mentioned it, but logistic regression is intended for binary (two-class) classification problems. It will predict the probability of an instance belonging to the default class, which can be snapped into a 0 or 1 classification.\n",
    "- **Remove Noise:** Logistic regression assumes no error in the output variable (y), consider removing outliers and possibly misclassified instances from your training data.\n",
    "- **Gaussian Distribution:** Logistic regression is a linear algorithm (with a non-linear transform on output). It does assume a linear relationship between the input variables with the output. Data transforms of your input variables that better expose this linear relationship can result in a more accurate model. For example, you can use log, root, Box-Cox and other univariate transforms to better expose this relationship.\n",
    "- **Remove Correlated Inputs:** Like linear regression, the model can overfit if you have multiple highly-correlated inputs. Consider calculating the pairwise correlations between all inputs and removing highly correlated inputs.\n",
    "- **Fail to Converge:** It is possible for the expected likelihood estimation process that learns the coefficients to fail to converge. This can happen if there are many highly correlated inputs in your data or the data is very sparse (e.g. lots of zeros in your input data)."
   ]
  },
  {
   "cell_type": "markdown",
   "id": "7b41ba00",
   "metadata": {},
   "source": [
    "## Logistic Regression Scikit-learn vs Statsmodels\n",
    "Python gives us two ways to do logistic regression. Statsmodels offers modeling from the perspective of statistics. Scikit-learn offers some of the same models from the perspective of machine learning.\n",
    "\n",
    "So we need to understand the difference between statistics and machine learning! Statistics makes mathematically valid inferences about a population based on sample data. Statistics answers the question, “What is the evidence that X is related to Y?” Machine learning has the goal of optimizing predictive accuracy rather than inference. Machine learning answers the question, “Given X, what prediction should we make for Y?”"
   ]
  },
  {
   "cell_type": "markdown",
   "id": "9ea9e2b3",
   "metadata": {},
   "source": [
    "Let us first see the use of `statsmodels` for logistic regression."
   ]
  },
  {
   "cell_type": "markdown",
   "id": "79614646",
   "metadata": {},
   "source": [
    "## Training a logistic regression model"
   ]
  },
  {
   "cell_type": "code",
   "execution_count": 1,
   "id": "50833288",
   "metadata": {},
   "outputs": [],
   "source": [
    "import pandas as pd\n",
    "import numpy as np\n",
    "import seaborn as sns\n",
    "import matplotlib.pyplot as plt\n",
    "import statsmodels.formula.api as sm"
   ]
  },
  {
   "cell_type": "markdown",
   "id": "0cb58b88",
   "metadata": {},
   "source": [
    "Read the data on social network ads. The data shows if the person purchased a product when targeted with an ad on social media. Fit a logistic regression model to predict if a user will purchase the product based on their characteristics such as age, gender and estimated salary."
   ]
  },
  {
   "cell_type": "code",
   "execution_count": 2,
   "id": "4810be5f",
   "metadata": {},
   "outputs": [],
   "source": [
    "train = pd.read_csv('./Datasets/Social_Network_Ads_train.csv') #Develop the model on train data\n",
    "test = pd.read_csv('./Datasets/Social_Network_Ads_test.csv') #Test the model on test data"
   ]
  },
  {
   "cell_type": "code",
   "execution_count": 8,
   "id": "0fbbd68d",
   "metadata": {},
   "outputs": [
    {
     "data": {
      "text/html": [
       "<div>\n",
       "<style scoped>\n",
       "    .dataframe tbody tr th:only-of-type {\n",
       "        vertical-align: middle;\n",
       "    }\n",
       "\n",
       "    .dataframe tbody tr th {\n",
       "        vertical-align: top;\n",
       "    }\n",
       "\n",
       "    .dataframe thead th {\n",
       "        text-align: right;\n",
       "    }\n",
       "</style>\n",
       "<table border=\"1\" class=\"dataframe\">\n",
       "  <thead>\n",
       "    <tr style=\"text-align: right;\">\n",
       "      <th></th>\n",
       "      <th>User ID</th>\n",
       "      <th>Gender</th>\n",
       "      <th>Age</th>\n",
       "      <th>EstimatedSalary</th>\n",
       "      <th>Purchased</th>\n",
       "    </tr>\n",
       "  </thead>\n",
       "  <tbody>\n",
       "    <tr>\n",
       "      <th>0</th>\n",
       "      <td>15755018</td>\n",
       "      <td>Male</td>\n",
       "      <td>36</td>\n",
       "      <td>33000</td>\n",
       "      <td>0</td>\n",
       "    </tr>\n",
       "    <tr>\n",
       "      <th>1</th>\n",
       "      <td>15697020</td>\n",
       "      <td>Female</td>\n",
       "      <td>39</td>\n",
       "      <td>61000</td>\n",
       "      <td>0</td>\n",
       "    </tr>\n",
       "    <tr>\n",
       "      <th>2</th>\n",
       "      <td>15796351</td>\n",
       "      <td>Male</td>\n",
       "      <td>36</td>\n",
       "      <td>118000</td>\n",
       "      <td>1</td>\n",
       "    </tr>\n",
       "    <tr>\n",
       "      <th>3</th>\n",
       "      <td>15665760</td>\n",
       "      <td>Male</td>\n",
       "      <td>39</td>\n",
       "      <td>122000</td>\n",
       "      <td>1</td>\n",
       "    </tr>\n",
       "    <tr>\n",
       "      <th>4</th>\n",
       "      <td>15794661</td>\n",
       "      <td>Female</td>\n",
       "      <td>26</td>\n",
       "      <td>118000</td>\n",
       "      <td>0</td>\n",
       "    </tr>\n",
       "  </tbody>\n",
       "</table>\n",
       "</div>"
      ],
      "text/plain": [
       "    User ID  Gender  Age  EstimatedSalary  Purchased\n",
       "0  15755018    Male   36            33000          0\n",
       "1  15697020  Female   39            61000          0\n",
       "2  15796351    Male   36           118000          1\n",
       "3  15665760    Male   39           122000          1\n",
       "4  15794661  Female   26           118000          0"
      ]
     },
     "execution_count": 8,
     "metadata": {},
     "output_type": "execute_result"
    }
   ],
   "source": [
    "train.head()"
   ]
  },
  {
   "cell_type": "markdown",
   "id": "ea2af7ca",
   "metadata": {},
   "source": [
    "Let us try to fit a linear regression model, instead of logistic regression. We fit a linear regression model to predict probability of purchase based on age."
   ]
  },
  {
   "cell_type": "code",
   "execution_count": 9,
   "id": "b38d598c",
   "metadata": {},
   "outputs": [
    {
     "data": {
      "text/plain": [
       "<AxesSubplot:xlabel='Age', ylabel='Purchased'>"
      ]
     },
     "execution_count": 9,
     "metadata": {},
     "output_type": "execute_result"
    },
    {
     "data": {
      "image/png": "[encoded data removed]",
      "text/plain": [
       "<Figure size 432x288 with 1 Axes>"
      ]
     },
     "metadata": {
      "needs_background": "light"
     },
     "output_type": "display_data"
    }
   ],
   "source": [
    "sns.scatterplot(x = 'Age', y = 'Purchased', data = train, color = 'orange') #Visualizing data\n",
    "lm = sm.ols(formula = 'Purchased~Age', data = train).fit() #Developing linear regression model\n",
    "sns.lineplot(x = 'Age', y= lm.predict(train), data = train, color = 'blue') #Visualizing model"
   ]
  },
  {
   "cell_type": "markdown",
   "id": "c1741ee0",
   "metadata": {},
   "source": [
    "Note the issues with the linear regression model:\n",
    "\n",
    "1. The regression line goes below 0 and over 1. However, probability of purchase must be in \\[0,1\\]. \n",
    "\n",
    "2. The linear regression model does not seem to fit the data well."
   ]
  },
  {
   "cell_type": "markdown",
   "id": "bcb52a2c",
   "metadata": {},
   "source": [
    "Now, let us fit a logistic regression model to predict probability of purchase based on `Age`."
   ]
  },
  {
   "cell_type": "code",
   "execution_count": 6,
   "id": "f506114c",
   "metadata": {},
   "outputs": [
    {
     "name": "stdout",
     "output_type": "stream",
     "text": [
      "Optimization terminated successfully.\n",
      "         Current function value: 0.430107\n",
      "         Iterations 7\n"
     ]
    },
    {
     "data": {
      "text/plain": [
       "<AxesSubplot:xlabel='Age', ylabel='Purchased'>"
      ]
     },
     "execution_count": 6,
     "metadata": {},
     "output_type": "execute_result"
    },
    {
     "data": {
      "image/png": "[encoded data removed]",
      "text/plain": [
       "<Figure size 432x288 with 1 Axes>"
      ]
     },
     "metadata": {
      "needs_background": "light"
     },
     "output_type": "display_data"
    }
   ],
   "source": [
    "sns.scatterplot(x = 'Age', y = 'Purchased', data = train, color = 'orange') #Visualizing data\n",
    "logit_model = sm.logit(formula = 'Purchased~Age', data = train).fit() #Developing logistic regression model\n",
    "sns.lineplot(x = 'Age', y= logit_model.predict(train), data = train, color = 'blue') #Visualizing model"
   ]
  },
  {
   "cell_type": "markdown",
   "id": "7a20d4ba",
   "metadata": {},
   "source": [
    "As logistic regression uses the sigmoid function, the probability stays in \\[0,1\\]. Also, it seems to better fit the points as compared to linear regression."
   ]
  },
  {
   "cell_type": "code",
   "execution_count": 16,
   "id": "044fb197",
   "metadata": {},
   "outputs": [
    {
     "data": {
      "text/html": [
       "<table class=\"simpletable\">\n",
       "<caption>Logit Regression Results</caption>\n",
       "<tr>\n",
       "  <th>Dep. Variable:</th>       <td>Purchased</td>    <th>  No. Observations:  </th>  <td>   300</td>  \n",
       "</tr>\n",
       "<tr>\n",
       "  <th>Model:</th>                 <td>Logit</td>      <th>  Df Residuals:      </th>  <td>   298</td>  \n",
       "</tr>\n",
       "<tr>\n",
       "  <th>Method:</th>                 <td>MLE</td>       <th>  Df Model:          </th>  <td>     1</td>  \n",
       "</tr>\n",
       "<tr>\n",
       "  <th>Date:</th>            <td>Tue, 19 Apr 2022</td> <th>  Pseudo R-squ.:     </th>  <td>0.3378</td>  \n",
       "</tr>\n",
       "<tr>\n",
       "  <th>Time:</th>                <td>16:46:02</td>     <th>  Log-Likelihood:    </th> <td> -129.03</td> \n",
       "</tr>\n",
       "<tr>\n",
       "  <th>converged:</th>             <td>True</td>       <th>  LL-Null:           </th> <td> -194.85</td> \n",
       "</tr>\n",
       "<tr>\n",
       "  <th>Covariance Type:</th>     <td>nonrobust</td>    <th>  LLR p-value:       </th> <td>1.805e-30</td>\n",
       "</tr>\n",
       "</table>\n",
       "<table class=\"simpletable\">\n",
       "<tr>\n",
       "      <td></td>         <th>coef</th>     <th>std err</th>      <th>z</th>      <th>P>|z|</th>  <th>[0.025</th>    <th>0.975]</th>  \n",
       "</tr>\n",
       "<tr>\n",
       "  <th>Intercept</th> <td>   -7.8102</td> <td>    0.885</td> <td>   -8.825</td> <td> 0.000</td> <td>   -9.545</td> <td>   -6.076</td>\n",
       "</tr>\n",
       "<tr>\n",
       "  <th>Age</th>       <td>    0.1842</td> <td>    0.022</td> <td>    8.449</td> <td> 0.000</td> <td>    0.141</td> <td>    0.227</td>\n",
       "</tr>\n",
       "</table>"
      ],
      "text/plain": [
       "<class 'statsmodels.iolib.summary.Summary'>\n",
       "\"\"\"\n",
       "                           Logit Regression Results                           \n",
       "==============================================================================\n",
       "Dep. Variable:              Purchased   No. Observations:                  300\n",
       "Model:                          Logit   Df Residuals:                      298\n",
       "Method:                           MLE   Df Model:                            1\n",
       "Date:                Tue, 19 Apr 2022   Pseudo R-squ.:                  0.3378\n",
       "Time:                        16:46:02   Log-Likelihood:                -129.03\n",
       "converged:                       True   LL-Null:                       -194.85\n",
       "Covariance Type:            nonrobust   LLR p-value:                 1.805e-30\n",
       "==============================================================================\n",
       "                 coef    std err          z      P>|z|      [0.025      0.975]\n",
       "------------------------------------------------------------------------------\n",
       "Intercept     -7.8102      0.885     -8.825      0.000      -9.545      -6.076\n",
       "Age            0.1842      0.022      8.449      0.000       0.141       0.227\n",
       "==============================================================================\n",
       "\"\"\""
      ]
     },
     "execution_count": 16,
     "metadata": {},
     "output_type": "execute_result"
    }
   ],
   "source": [
    "logit_model.summary()"
   ]
  },
  {
   "cell_type": "markdown",
   "id": "06529f8d",
   "metadata": {},
   "source": [
    "**Interpret the coefficient of age** \n",
    "\n",
    "For a unit increase in age, the log odds of purchase increase by 0.18, or the odds of purchase get multiplied by exp(0.18) = 1.2"
   ]
  },
  {
   "cell_type": "markdown",
   "id": "72c1548b",
   "metadata": {},
   "source": [
    "**Is the increase in probability of purchase constant with a unit increase in age?**"
   ]
  },
  {
   "cell_type": "markdown",
   "id": "9af1cb43",
   "metadata": {},
   "source": [
    "No, it depends on age."
   ]
  },
  {
   "cell_type": "markdown",
   "id": "ebdf61cd",
   "metadata": {},
   "source": [
    "**Is gender associated with probability of purchase?**"
   ]
  },
  {
   "cell_type": "code",
   "execution_count": 17,
   "id": "963f4857",
   "metadata": {},
   "outputs": [
    {
     "name": "stdout",
     "output_type": "stream",
     "text": [
      "Optimization terminated successfully.\n",
      "         Current function value: 0.648804\n",
      "         Iterations 4\n"
     ]
    },
    {
     "data": {
      "text/html": [
       "<table class=\"simpletable\">\n",
       "<caption>Logit Regression Results</caption>\n",
       "<tr>\n",
       "  <th>Dep. Variable:</th>       <td>Purchased</td>    <th>  No. Observations:  </th>  <td>   300</td> \n",
       "</tr>\n",
       "<tr>\n",
       "  <th>Model:</th>                 <td>Logit</td>      <th>  Df Residuals:      </th>  <td>   298</td> \n",
       "</tr>\n",
       "<tr>\n",
       "  <th>Method:</th>                 <td>MLE</td>       <th>  Df Model:          </th>  <td>     1</td> \n",
       "</tr>\n",
       "<tr>\n",
       "  <th>Date:</th>            <td>Tue, 19 Apr 2022</td> <th>  Pseudo R-squ.:     </th> <td>0.001049</td>\n",
       "</tr>\n",
       "<tr>\n",
       "  <th>Time:</th>                <td>16:46:04</td>     <th>  Log-Likelihood:    </th> <td> -194.64</td>\n",
       "</tr>\n",
       "<tr>\n",
       "  <th>converged:</th>             <td>True</td>       <th>  LL-Null:           </th> <td> -194.85</td>\n",
       "</tr>\n",
       "<tr>\n",
       "  <th>Covariance Type:</th>     <td>nonrobust</td>    <th>  LLR p-value:       </th>  <td>0.5225</td> \n",
       "</tr>\n",
       "</table>\n",
       "<table class=\"simpletable\">\n",
       "<tr>\n",
       "         <td></td>           <th>coef</th>     <th>std err</th>      <th>z</th>      <th>P>|z|</th>  <th>[0.025</th>    <th>0.975]</th>  \n",
       "</tr>\n",
       "<tr>\n",
       "  <th>Intercept</th>      <td>   -0.5285</td> <td>    0.168</td> <td>   -3.137</td> <td> 0.002</td> <td>   -0.859</td> <td>   -0.198</td>\n",
       "</tr>\n",
       "<tr>\n",
       "  <th>Gender[T.Male]</th> <td>   -0.1546</td> <td>    0.242</td> <td>   -0.639</td> <td> 0.523</td> <td>   -0.629</td> <td>    0.319</td>\n",
       "</tr>\n",
       "</table>"
      ],
      "text/plain": [
       "<class 'statsmodels.iolib.summary.Summary'>\n",
       "\"\"\"\n",
       "                           Logit Regression Results                           \n",
       "==============================================================================\n",
       "Dep. Variable:              Purchased   No. Observations:                  300\n",
       "Model:                          Logit   Df Residuals:                      298\n",
       "Method:                           MLE   Df Model:                            1\n",
       "Date:                Tue, 19 Apr 2022   Pseudo R-squ.:                0.001049\n",
       "Time:                        16:46:04   Log-Likelihood:                -194.64\n",
       "converged:                       True   LL-Null:                       -194.85\n",
       "Covariance Type:            nonrobust   LLR p-value:                    0.5225\n",
       "==================================================================================\n",
       "                     coef    std err          z      P>|z|      [0.025      0.975]\n",
       "----------------------------------------------------------------------------------\n",
       "Intercept         -0.5285      0.168     -3.137      0.002      -0.859      -0.198\n",
       "Gender[T.Male]    -0.1546      0.242     -0.639      0.523      -0.629       0.319\n",
       "==================================================================================\n",
       "\"\"\""
      ]
     },
     "execution_count": 17,
     "metadata": {},
     "output_type": "execute_result"
    }
   ],
   "source": [
    "logit_model_gender = sm.logit(formula = 'Purchased~Gender', data = train).fit()\n",
    "logit_model_gender.summary()"
   ]
  },
  {
   "cell_type": "markdown",
   "id": "6d7035b2",
   "metadata": {},
   "source": [
    "No, assuming a significance level of $\\alpha = 5\\%$, `Gender` is not associated with probability of default, as the $p$-value for `Male` is greater than 0.05."
   ]
  },
  {
   "cell_type": "markdown",
   "id": "881d9a6f",
   "metadata": {},
   "source": [
    "## Confusion matrix and prediction accuracy"
   ]
  },
  {
   "cell_type": "markdown",
   "id": "ab20c55c",
   "metadata": {},
   "source": [
    "A confusion matrix is a summary of prediction results on a classification problem. The number of correct and incorrect predictions are summarized with count values and broken down by each class. \n",
    "\n",
    "*[Source](https://machinelearningmastery.com/confusion-matrix-machine-learning/#:~:text=A%20confusion%20matrix%20is%20a%20summary%20of%20prediction%20results%20on,key%20to%20the%20confusion%20matrix)*"
   ]
  },
  {
   "cell_type": "code",
   "execution_count": 15,
   "id": "8a055597",
   "metadata": {},
   "outputs": [],
   "source": [
    "#Function to compute confusion matrix and prediction accuracy on training data\n",
    "def confusion_matrix_train(model,cutoff=0.5):\n",
    "    # Confusion matrix\n",
    "    cm_df = pd.DataFrame(model.pred_table(threshold = cutoff))\n",
    "    #Formatting the confusion matrix\n",
    "    cm_df.columns = ['Predicted 0', 'Predicted 1'] \n",
    "    cm_df = cm_df.rename(index={0: 'Actual 0',1: 'Actual 1'})\n",
    "    cm = np.array(cm_df)\n",
    "    # Calculate the accuracy\n",
    "    accuracy = 100*(cm[0,0]+cm[1,1])/cm.sum()\n",
    "    return cm_df, accuracy"
   ]
  },
  {
   "cell_type": "markdown",
   "id": "e20b0a98",
   "metadata": {},
   "source": [
    "Find the confusion matrix and classification accuracy of the model with `Age` as the predictor on training data."
   ]
  },
  {
   "cell_type": "code",
   "execution_count": 7,
   "id": "16c1de2a",
   "metadata": {},
   "outputs": [
    {
     "data": {
      "text/plain": [
       "(          Predicted 0  Predicted 1\n",
       " Actual 0        181.0         13.0\n",
       " Actual 1         37.0         69.0,\n",
       " 83.33333333333333)"
      ]
     },
     "execution_count": 7,
     "metadata": {},
     "output_type": "execute_result"
    }
   ],
   "source": [
    "confusion_matrix_train(logit_model)"
   ]
  },
  {
   "cell_type": "code",
   "execution_count": 16,
   "id": "e160eef3",
   "metadata": {},
   "outputs": [],
   "source": [
    "#Function to compute confusion matrix and prediction accuracy on test data\n",
    "def confusion_matrix_test(data,actual_values,model,cutoff=0.5):\n",
    "#Predict the values using the Logit model\n",
    "    pred_values = model.predict(data)\n",
    "# Specify the bins\n",
    "    bins=np.array([0,cutoff,1])\n",
    "#Confusion matrix\n",
    "    cm = np.histogram2d(actual_values, pred_values, bins=bins)[0]\n",
    "    cm_df = pd.DataFrame(cm)\n",
    "    cm_df.columns = ['Predicted 0','Predicted 1']\n",
    "    cm_df = cm_df.rename(index={0: 'Actual 0',1:'Actual 1'})\n",
    "# Calculate the accuracy\n",
    "    accuracy = 100*(cm[0,0]+cm[1,1])/cm.sum()\n",
    "# Return the confusion matrix and the accuracy\n",
    "    return cm_df, accuracy"
   ]
  },
  {
   "cell_type": "markdown",
   "id": "4c23445d",
   "metadata": {},
   "source": [
    "Find the confusion matrix and classification accuracy of the model with `Age` as the predictor on test data."
   ]
  },
  {
   "cell_type": "code",
   "execution_count": 9,
   "id": "8da99299",
   "metadata": {},
   "outputs": [
    {
     "data": {
      "text/plain": [
       "(          Predicted 0  Predicted 1\n",
       " Actual 0         58.0          5.0\n",
       " Actual 1          9.0         28.0,\n",
       " 86.0)"
      ]
     },
     "execution_count": 9,
     "metadata": {},
     "output_type": "execute_result"
    }
   ],
   "source": [
    "confusion_matrix_test(test,test.Purchased,logit_model)"
   ]
  },
  {
   "cell_type": "markdown",
   "id": "c169a7fa",
   "metadata": {},
   "source": [
    "The model classifies a bit more accurately on test data as compared to the training data, which is a bit unusual. However, it shows that the model did not overfit on training data."
   ]
  },
  {
   "cell_type": "markdown",
   "id": "d7ee6678",
   "metadata": {},
   "source": [
    "**Include `EstimatedSalary` as a predictor in the above model**"
   ]
  },
  {
   "cell_type": "code",
   "execution_count": 10,
   "id": "8b5276cd",
   "metadata": {},
   "outputs": [
    {
     "name": "stdout",
     "output_type": "stream",
     "text": [
      "Optimization terminated successfully.\n",
      "         Current function value: 0.358910\n",
      "         Iterations 7\n"
     ]
    },
    {
     "data": {
      "text/html": [
       "<table class=\"simpletable\">\n",
       "<caption>Logit Regression Results</caption>\n",
       "<tr>\n",
       "  <th>Dep. Variable:</th>       <td>Purchased</td>    <th>  No. Observations:  </th>  <td>   300</td>  \n",
       "</tr>\n",
       "<tr>\n",
       "  <th>Model:</th>                 <td>Logit</td>      <th>  Df Residuals:      </th>  <td>   297</td>  \n",
       "</tr>\n",
       "<tr>\n",
       "  <th>Method:</th>                 <td>MLE</td>       <th>  Df Model:          </th>  <td>     2</td>  \n",
       "</tr>\n",
       "<tr>\n",
       "  <th>Date:</th>            <td>Mon, 13 Feb 2023</td> <th>  Pseudo R-squ.:     </th>  <td>0.4474</td>  \n",
       "</tr>\n",
       "<tr>\n",
       "  <th>Time:</th>                <td>01:09:53</td>     <th>  Log-Likelihood:    </th> <td> -107.67</td> \n",
       "</tr>\n",
       "<tr>\n",
       "  <th>converged:</th>             <td>True</td>       <th>  LL-Null:           </th> <td> -194.85</td> \n",
       "</tr>\n",
       "<tr>\n",
       "  <th>Covariance Type:</th>     <td>nonrobust</td>    <th>  LLR p-value:       </th> <td>1.385e-38</td>\n",
       "</tr>\n",
       "</table>\n",
       "<table class=\"simpletable\">\n",
       "<tr>\n",
       "         <td></td>            <th>coef</th>     <th>std err</th>      <th>z</th>      <th>P>|z|</th>  <th>[0.025</th>    <th>0.975]</th>  \n",
       "</tr>\n",
       "<tr>\n",
       "  <th>Intercept</th>       <td>  -11.9432</td> <td>    1.424</td> <td>   -8.386</td> <td> 0.000</td> <td>  -14.735</td> <td>   -9.152</td>\n",
       "</tr>\n",
       "<tr>\n",
       "  <th>Age</th>             <td>    0.2242</td> <td>    0.028</td> <td>    7.890</td> <td> 0.000</td> <td>    0.168</td> <td>    0.280</td>\n",
       "</tr>\n",
       "<tr>\n",
       "  <th>EstimatedSalary</th> <td>  3.48e-05</td> <td> 6.15e-06</td> <td>    5.660</td> <td> 0.000</td> <td> 2.27e-05</td> <td> 4.68e-05</td>\n",
       "</tr>\n",
       "</table>"
      ],
      "text/plain": [
       "<class 'statsmodels.iolib.summary.Summary'>\n",
       "\"\"\"\n",
       "                           Logit Regression Results                           \n",
       "==============================================================================\n",
       "Dep. Variable:              Purchased   No. Observations:                  300\n",
       "Model:                          Logit   Df Residuals:                      297\n",
       "Method:                           MLE   Df Model:                            2\n",
       "Date:                Mon, 13 Feb 2023   Pseudo R-squ.:                  0.4474\n",
       "Time:                        01:09:53   Log-Likelihood:                -107.67\n",
       "converged:                       True   LL-Null:                       -194.85\n",
       "Covariance Type:            nonrobust   LLR p-value:                 1.385e-38\n",
       "===================================================================================\n",
       "                      coef    std err          z      P>|z|      [0.025      0.975]\n",
       "-----------------------------------------------------------------------------------\n",
       "Intercept         -11.9432      1.424     -8.386      0.000     -14.735      -9.152\n",
       "Age                 0.2242      0.028      7.890      0.000       0.168       0.280\n",
       "EstimatedSalary   3.48e-05   6.15e-06      5.660      0.000    2.27e-05    4.68e-05\n",
       "===================================================================================\n",
       "\"\"\""
      ]
     },
     "execution_count": 10,
     "metadata": {},
     "output_type": "execute_result"
    }
   ],
   "source": [
    "logit_model2 = sm.logit(formula = 'Purchased~Age+EstimatedSalary', data = train).fit()\n",
    "logit_model2.summary()"
   ]
  },
  {
   "cell_type": "code",
   "execution_count": 11,
   "id": "2c80571a",
   "metadata": {},
   "outputs": [
    {
     "data": {
      "text/plain": [
       "(          Predicted 0  Predicted 1\n",
       " Actual 0        178.0         16.0\n",
       " Actual 1         34.0         72.0,\n",
       " 83.33333333333333)"
      ]
     },
     "execution_count": 11,
     "metadata": {},
     "output_type": "execute_result"
    }
   ],
   "source": [
    "confusion_matrix_train(logit_model2)"
   ]
  },
  {
   "cell_type": "code",
   "execution_count": 12,
   "id": "3c4b6cc9",
   "metadata": {},
   "outputs": [
    {
     "data": {
      "text/plain": [
       "(          Predicted 0  Predicted 1\n",
       " Actual 0         58.0          5.0\n",
       " Actual 1          6.0         31.0,\n",
       " 89.0)"
      ]
     },
     "execution_count": 12,
     "metadata": {},
     "output_type": "execute_result"
    }
   ],
   "source": [
    "confusion_matrix_test(test,test.Purchased,logit_model2)"
   ]
  },
  {
   "cell_type": "markdown",
   "id": "bcb8314c",
   "metadata": {},
   "source": [
    "The log likelihood of the model has increased, while also increasing the prediction accuracy on test data, which shows that the additional predictor is helping explain the response better, without overfitting the data."
   ]
  },
  {
   "cell_type": "markdown",
   "id": "e6273f75",
   "metadata": {},
   "source": [
    "**Include `Gender` as a predictor in the above model**"
   ]
  },
  {
   "cell_type": "code",
   "execution_count": 25,
   "id": "bc766a7a",
   "metadata": {},
   "outputs": [
    {
     "name": "stdout",
     "output_type": "stream",
     "text": [
      "Optimization terminated successfully.\n",
      "         Current function value: 0.357327\n",
      "         Iterations 7\n"
     ]
    },
    {
     "data": {
      "text/html": [
       "<table class=\"simpletable\">\n",
       "<caption>Logit Regression Results</caption>\n",
       "<tr>\n",
       "  <th>Dep. Variable:</th>       <td>Purchased</td>    <th>  No. Observations:  </th>  <td>   300</td>  \n",
       "</tr>\n",
       "<tr>\n",
       "  <th>Model:</th>                 <td>Logit</td>      <th>  Df Residuals:      </th>  <td>   296</td>  \n",
       "</tr>\n",
       "<tr>\n",
       "  <th>Method:</th>                 <td>MLE</td>       <th>  Df Model:          </th>  <td>     3</td>  \n",
       "</tr>\n",
       "<tr>\n",
       "  <th>Date:</th>            <td>Tue, 19 Apr 2022</td> <th>  Pseudo R-squ.:     </th>  <td>0.4498</td>  \n",
       "</tr>\n",
       "<tr>\n",
       "  <th>Time:</th>                <td>16:46:13</td>     <th>  Log-Likelihood:    </th> <td> -107.20</td> \n",
       "</tr>\n",
       "<tr>\n",
       "  <th>converged:</th>             <td>True</td>       <th>  LL-Null:           </th> <td> -194.85</td> \n",
       "</tr>\n",
       "<tr>\n",
       "  <th>Covariance Type:</th>     <td>nonrobust</td>    <th>  LLR p-value:       </th> <td>9.150e-38</td>\n",
       "</tr>\n",
       "</table>\n",
       "<table class=\"simpletable\">\n",
       "<tr>\n",
       "         <td></td>            <th>coef</th>     <th>std err</th>      <th>z</th>      <th>P>|z|</th>  <th>[0.025</th>    <th>0.975]</th>  \n",
       "</tr>\n",
       "<tr>\n",
       "  <th>Intercept</th>       <td>  -12.2531</td> <td>    1.478</td> <td>   -8.293</td> <td> 0.000</td> <td>  -15.149</td> <td>   -9.357</td>\n",
       "</tr>\n",
       "<tr>\n",
       "  <th>Gender[T.Male]</th>  <td>    0.3356</td> <td>    0.346</td> <td>    0.970</td> <td> 0.332</td> <td>   -0.342</td> <td>    1.013</td>\n",
       "</tr>\n",
       "<tr>\n",
       "  <th>Age</th>             <td>    0.2275</td> <td>    0.029</td> <td>    7.888</td> <td> 0.000</td> <td>    0.171</td> <td>    0.284</td>\n",
       "</tr>\n",
       "<tr>\n",
       "  <th>EstimatedSalary</th> <td> 3.494e-05</td> <td> 6.17e-06</td> <td>    5.666</td> <td> 0.000</td> <td> 2.29e-05</td> <td>  4.7e-05</td>\n",
       "</tr>\n",
       "</table>"
      ],
      "text/plain": [
       "<class 'statsmodels.iolib.summary.Summary'>\n",
       "\"\"\"\n",
       "                           Logit Regression Results                           \n",
       "==============================================================================\n",
       "Dep. Variable:              Purchased   No. Observations:                  300\n",
       "Model:                          Logit   Df Residuals:                      296\n",
       "Method:                           MLE   Df Model:                            3\n",
       "Date:                Tue, 19 Apr 2022   Pseudo R-squ.:                  0.4498\n",
       "Time:                        16:46:13   Log-Likelihood:                -107.20\n",
       "converged:                       True   LL-Null:                       -194.85\n",
       "Covariance Type:            nonrobust   LLR p-value:                 9.150e-38\n",
       "===================================================================================\n",
       "                      coef    std err          z      P>|z|      [0.025      0.975]\n",
       "-----------------------------------------------------------------------------------\n",
       "Intercept         -12.2531      1.478     -8.293      0.000     -15.149      -9.357\n",
       "Gender[T.Male]      0.3356      0.346      0.970      0.332      -0.342       1.013\n",
       "Age                 0.2275      0.029      7.888      0.000       0.171       0.284\n",
       "EstimatedSalary  3.494e-05   6.17e-06      5.666      0.000    2.29e-05     4.7e-05\n",
       "===================================================================================\n",
       "\"\"\""
      ]
     },
     "execution_count": 25,
     "metadata": {},
     "output_type": "execute_result"
    }
   ],
   "source": [
    "logit_model = sm.logit(formula = 'Purchased~Age+EstimatedSalary+Gender', data = train).fit()\n",
    "logit_model.summary()"
   ]
  },
  {
   "cell_type": "code",
   "execution_count": 26,
   "id": "4fe4e1b8",
   "metadata": {},
   "outputs": [
    {
     "data": {
      "text/plain": [
       "(          Predicted 0  Predicted 1\n",
       " Actual 0        180.0         14.0\n",
       " Actual 1         33.0         73.0,\n",
       " 84.33333333333333)"
      ]
     },
     "execution_count": 26,
     "metadata": {},
     "output_type": "execute_result"
    }
   ],
   "source": [
    "confusion_matrix_train(logit_model)"
   ]
  },
  {
   "cell_type": "code",
   "execution_count": 27,
   "id": "c65ad6eb",
   "metadata": {},
   "outputs": [
    {
     "data": {
      "text/plain": [
       "(          Predicted 0  Predicted 1\n",
       " Actual 0         57.0          6.0\n",
       " Actual 1          6.0         31.0,\n",
       " 88.0)"
      ]
     },
     "execution_count": 27,
     "metadata": {},
     "output_type": "execute_result"
    }
   ],
   "source": [
    "confusion_matrix_test(test,test.Purchased,logit_model)"
   ]
  },
  {
   "cell_type": "markdown",
   "id": "cb85f1cb",
   "metadata": {},
   "source": [
    "`Gender` is a statistically insignificant predictor, and including it slightly lowers the classification accuracy on test data. Note that the classification accuracy on training data will continue to increase on adding more predictors, irrespective of their relevance *(similar to the idea of RSS on training data in linear regression)*."
   ]
  },
  {
   "cell_type": "markdown",
   "id": "8b1516fe",
   "metadata": {},
   "source": [
    "**Is there a residual in logistic regression?**"
   ]
  },
  {
   "cell_type": "markdown",
   "id": "b119bc0b",
   "metadata": {},
   "source": [
    "No, since the response is assumed to have a Bernoulli distribution, instead of a normal distribution."
   ]
  },
  {
   "cell_type": "markdown",
   "id": "7728156d",
   "metadata": {},
   "source": [
    "**Is the odds ratio for a unit increase in a predictor $X_j$, a constant (assuming that the rest of the predictors are held constant)?**"
   ]
  },
  {
   "cell_type": "markdown",
   "id": "9ef7bbf4",
   "metadata": {},
   "source": [
    "Yes, the odds ratio in this case will $e^{\\beta_j}$"
   ]
  },
  {
   "cell_type": "markdown",
   "id": "3a6c4556",
   "metadata": {},
   "source": [
    "## Variable tranformations in logistic regression"
   ]
  },
  {
   "cell_type": "markdown",
   "id": "81611898",
   "metadata": {},
   "source": [
    "Read the dataset *diabetes.csv* that contains if a person has diabetes (*Outcome = 1*) based on health parameters such as BMI, blood pressure, age etc. Develop a model to predict the probability of a person having diabetes based on their age."
   ]
  },
  {
   "cell_type": "code",
   "execution_count": 6,
   "id": "ba249f10",
   "metadata": {},
   "outputs": [],
   "source": [
    "data = pd.read_csv('./Datasets/diabetes.csv')"
   ]
  },
  {
   "cell_type": "code",
   "execution_count": 7,
   "id": "3e00c7da",
   "metadata": {},
   "outputs": [
    {
     "data": {
      "text/html": [
       "<div>\n",
       "<style scoped>\n",
       "    .dataframe tbody tr th:only-of-type {\n",
       "        vertical-align: middle;\n",
       "    }\n",
       "\n",
       "    .dataframe tbody tr th {\n",
       "        vertical-align: top;\n",
       "    }\n",
       "\n",
       "    .dataframe thead th {\n",
       "        text-align: right;\n",
       "    }\n",
       "</style>\n",
       "<table border=\"1\" class=\"dataframe\">\n",
       "  <thead>\n",
       "    <tr style=\"text-align: right;\">\n",
       "      <th></th>\n",
       "      <th>Pregnancies</th>\n",
       "      <th>Glucose</th>\n",
       "      <th>BloodPressure</th>\n",
       "      <th>SkinThickness</th>\n",
       "      <th>Insulin</th>\n",
       "      <th>BMI</th>\n",
       "      <th>DiabetesPedigreeFunction</th>\n",
       "      <th>Age</th>\n",
       "      <th>Outcome</th>\n",
       "    </tr>\n",
       "  </thead>\n",
       "  <tbody>\n",
       "    <tr>\n",
       "      <th>0</th>\n",
       "      <td>6</td>\n",
       "      <td>148</td>\n",
       "      <td>72</td>\n",
       "      <td>35</td>\n",
       "      <td>0</td>\n",
       "      <td>33.6</td>\n",
       "      <td>0.627</td>\n",
       "      <td>50</td>\n",
       "      <td>1</td>\n",
       "    </tr>\n",
       "    <tr>\n",
       "      <th>1</th>\n",
       "      <td>1</td>\n",
       "      <td>85</td>\n",
       "      <td>66</td>\n",
       "      <td>29</td>\n",
       "      <td>0</td>\n",
       "      <td>26.6</td>\n",
       "      <td>0.351</td>\n",
       "      <td>31</td>\n",
       "      <td>0</td>\n",
       "    </tr>\n",
       "    <tr>\n",
       "      <th>2</th>\n",
       "      <td>8</td>\n",
       "      <td>183</td>\n",
       "      <td>64</td>\n",
       "      <td>0</td>\n",
       "      <td>0</td>\n",
       "      <td>23.3</td>\n",
       "      <td>0.672</td>\n",
       "      <td>32</td>\n",
       "      <td>1</td>\n",
       "    </tr>\n",
       "    <tr>\n",
       "      <th>3</th>\n",
       "      <td>1</td>\n",
       "      <td>89</td>\n",
       "      <td>66</td>\n",
       "      <td>23</td>\n",
       "      <td>94</td>\n",
       "      <td>28.1</td>\n",
       "      <td>0.167</td>\n",
       "      <td>21</td>\n",
       "      <td>0</td>\n",
       "    </tr>\n",
       "    <tr>\n",
       "      <th>4</th>\n",
       "      <td>0</td>\n",
       "      <td>137</td>\n",
       "      <td>40</td>\n",
       "      <td>35</td>\n",
       "      <td>168</td>\n",
       "      <td>43.1</td>\n",
       "      <td>2.288</td>\n",
       "      <td>33</td>\n",
       "      <td>1</td>\n",
       "    </tr>\n",
       "  </tbody>\n",
       "</table>\n",
       "</div>"
      ],
      "text/plain": [
       "   Pregnancies  Glucose  BloodPressure  SkinThickness  Insulin   BMI  \\\n",
       "0            6      148             72             35        0  33.6   \n",
       "1            1       85             66             29        0  26.6   \n",
       "2            8      183             64              0        0  23.3   \n",
       "3            1       89             66             23       94  28.1   \n",
       "4            0      137             40             35      168  43.1   \n",
       "\n",
       "   DiabetesPedigreeFunction  Age  Outcome  \n",
       "0                     0.627   50        1  \n",
       "1                     0.351   31        0  \n",
       "2                     0.672   32        1  \n",
       "3                     0.167   21        0  \n",
       "4                     2.288   33        1  "
      ]
     },
     "execution_count": 7,
     "metadata": {},
     "output_type": "execute_result"
    }
   ],
   "source": [
    "data.head()"
   ]
  },
  {
   "cell_type": "markdown",
   "id": "06435934",
   "metadata": {},
   "source": [
    "Randomly select 80% of the observations to create a training dataset. Create a test dataset with the remaining 20% observations."
   ]
  },
  {
   "cell_type": "code",
   "execution_count": 8,
   "id": "d348507e",
   "metadata": {},
   "outputs": [],
   "source": [
    "#Creating training and test datasets\n",
    "np.random.seed(2)\n",
    "train = data.sample(round(data.shape[0]*0.8))\n",
    "test = data.drop(train.index)"
   ]
  },
  {
   "cell_type": "markdown",
   "id": "abce483c",
   "metadata": {},
   "source": [
    "Does `Age` seem to distinguish *Outcome's*?"
   ]
  },
  {
   "cell_type": "code",
   "execution_count": 80,
   "id": "982925c2",
   "metadata": {},
   "outputs": [
    {
     "data": {
      "text/plain": [
       "<AxesSubplot:xlabel='Outcome', ylabel='Age'>"
      ]
     },
     "execution_count": 80,
     "metadata": {},
     "output_type": "execute_result"
    },
    {
     "data": {
      "image/png": "[encoded data removed]",
      "text/plain": [
       "<Figure size 432x288 with 1 Axes>"
      ]
     },
     "metadata": {
      "needs_background": "light"
     },
     "output_type": "display_data"
    }
   ],
   "source": [
    "sns.boxplot(x = 'Outcome', y = 'Age', data = train)"
   ]
  },
  {
   "cell_type": "markdown",
   "id": "6bd48f9a",
   "metadata": {},
   "source": [
    "Yes it does!"
   ]
  },
  {
   "cell_type": "markdown",
   "id": "1e5e2520",
   "metadata": {},
   "source": [
    "Develop and visualize a logistic regression model to predict `Outcome` using `Age`."
   ]
  },
  {
   "cell_type": "code",
   "execution_count": 81,
   "id": "8f5f973c",
   "metadata": {},
   "outputs": [
    {
     "name": "stdout",
     "output_type": "stream",
     "text": [
      "Optimization terminated successfully.\n",
      "         Current function value: 0.612356\n",
      "         Iterations 5\n",
      "-375.9863802089716\n"
     ]
    },
    {
     "data": {
      "image/png": "[encoded data removed]",
      "text/plain": [
       "<Figure size 432x288 with 1 Axes>"
      ]
     },
     "metadata": {
      "needs_background": "light"
     },
     "output_type": "display_data"
    }
   ],
   "source": [
    "#Jittering points to better see the density of points in any given region of the plot\n",
    "def jitter(values,j):\n",
    "    return values + np.random.normal(j,0.02,values.shape)\n",
    "sns.scatterplot(x = jitter(train.Age,0), y = jitter(train.Outcome,0), data = train, color = 'orange')\n",
    "logit_model = sm.logit(formula = 'Outcome~Age', data = train).fit()\n",
    "sns.lineplot(x = 'Age', y= logit_model.predict(train), data = train, color = 'blue') \n",
    "print(logit_model.llf) #Printing the log likelihood to compare it with the next model we build"
   ]
  },
  {
   "cell_type": "code",
   "execution_count": 82,
   "id": "ea885706",
   "metadata": {},
   "outputs": [
    {
     "data": {
      "text/plain": [
       "(          Predicted 0  Predicted 1\n",
       " Actual 0        372.0         35.0\n",
       " Actual 1        176.0         31.0,\n",
       " 65.63517915309447)"
      ]
     },
     "execution_count": 82,
     "metadata": {},
     "output_type": "execute_result"
    }
   ],
   "source": [
    "confusion_matrix_train(logit_model)"
   ]
  },
  {
   "cell_type": "markdown",
   "id": "ae951437",
   "metadata": {},
   "source": [
    "Classification accuracy on train data = 66%"
   ]
  },
  {
   "cell_type": "code",
   "execution_count": 83,
   "id": "40a73daa",
   "metadata": {},
   "outputs": [
    {
     "data": {
      "text/plain": [
       "(          Predicted 0  Predicted 1\n",
       " Actual 0         85.0          8.0\n",
       " Actual 1         54.0          7.0,\n",
       " 59.74025974025974)"
      ]
     },
     "execution_count": 83,
     "metadata": {},
     "output_type": "execute_result"
    }
   ],
   "source": [
    "confusion_matrix_test(test,test.Outcome,logit_model)"
   ]
  },
  {
   "cell_type": "markdown",
   "id": "14386ff1",
   "metadata": {},
   "source": [
    "Classification accuracy on test data = 60%"
   ]
  },
  {
   "cell_type": "markdown",
   "id": "d1060e01",
   "metadata": {},
   "source": [
    "Can a tranformation of `Age` provide a more accurate model?"
   ]
  },
  {
   "cell_type": "markdown",
   "id": "56d4b909",
   "metadata": {},
   "source": [
    "Let us visualize how the probability of people having diabetes varies with `Age`. We will bin `Age` to get the percentage of people having diabetes within different `Age` bins."
   ]
  },
  {
   "cell_type": "code",
   "execution_count": 9,
   "id": "a163ede5",
   "metadata": {},
   "outputs": [],
   "source": [
    "#Binning Age\n",
    "binned_age = pd.qcut(train['Age'],11,retbins=True)\n",
    "train['age_binned'] = binned_age[0]"
   ]
  },
  {
   "cell_type": "code",
   "execution_count": 10,
   "id": "5855138d",
   "metadata": {},
   "outputs": [
    {
     "data": {
      "text/html": [
       "<div>\n",
       "<style scoped>\n",
       "    .dataframe tbody tr th:only-of-type {\n",
       "        vertical-align: middle;\n",
       "    }\n",
       "\n",
       "    .dataframe tbody tr th {\n",
       "        vertical-align: top;\n",
       "    }\n",
       "\n",
       "    .dataframe thead th {\n",
       "        text-align: right;\n",
       "    }\n",
       "</style>\n",
       "<table border=\"1\" class=\"dataframe\">\n",
       "  <thead>\n",
       "    <tr style=\"text-align: right;\">\n",
       "      <th></th>\n",
       "      <th>age_binned</th>\n",
       "      <th>diabetes_percent</th>\n",
       "      <th>nobs</th>\n",
       "    </tr>\n",
       "  </thead>\n",
       "  <tbody>\n",
       "    <tr>\n",
       "      <th>0</th>\n",
       "      <td>(20.999, 22.0]</td>\n",
       "      <td>0.110092</td>\n",
       "      <td>109</td>\n",
       "    </tr>\n",
       "    <tr>\n",
       "      <th>1</th>\n",
       "      <td>(22.0, 23.0]</td>\n",
       "      <td>0.206897</td>\n",
       "      <td>29</td>\n",
       "    </tr>\n",
       "    <tr>\n",
       "      <th>2</th>\n",
       "      <td>(23.0, 25.0]</td>\n",
       "      <td>0.243243</td>\n",
       "      <td>74</td>\n",
       "    </tr>\n",
       "    <tr>\n",
       "      <th>3</th>\n",
       "      <td>(25.0, 26.0]</td>\n",
       "      <td>0.259259</td>\n",
       "      <td>27</td>\n",
       "    </tr>\n",
       "    <tr>\n",
       "      <th>4</th>\n",
       "      <td>(26.0, 28.0]</td>\n",
       "      <td>0.271186</td>\n",
       "      <td>59</td>\n",
       "    </tr>\n",
       "    <tr>\n",
       "      <th>5</th>\n",
       "      <td>(28.0, 31.0]</td>\n",
       "      <td>0.415094</td>\n",
       "      <td>53</td>\n",
       "    </tr>\n",
       "    <tr>\n",
       "      <th>6</th>\n",
       "      <td>(31.0, 35.0]</td>\n",
       "      <td>0.434783</td>\n",
       "      <td>46</td>\n",
       "    </tr>\n",
       "    <tr>\n",
       "      <th>7</th>\n",
       "      <td>(35.0, 39.0]</td>\n",
       "      <td>0.450980</td>\n",
       "      <td>51</td>\n",
       "    </tr>\n",
       "    <tr>\n",
       "      <th>8</th>\n",
       "      <td>(39.0, 43.545]</td>\n",
       "      <td>0.500000</td>\n",
       "      <td>54</td>\n",
       "    </tr>\n",
       "    <tr>\n",
       "      <th>9</th>\n",
       "      <td>(43.545, 52.0]</td>\n",
       "      <td>0.576271</td>\n",
       "      <td>59</td>\n",
       "    </tr>\n",
       "    <tr>\n",
       "      <th>10</th>\n",
       "      <td>(52.0, 81.0]</td>\n",
       "      <td>0.415094</td>\n",
       "      <td>53</td>\n",
       "    </tr>\n",
       "  </tbody>\n",
       "</table>\n",
       "</div>"
      ],
      "text/plain": [
       "        age_binned  diabetes_percent  nobs\n",
       "0   (20.999, 22.0]          0.110092   109\n",
       "1     (22.0, 23.0]          0.206897    29\n",
       "2     (23.0, 25.0]          0.243243    74\n",
       "3     (25.0, 26.0]          0.259259    27\n",
       "4     (26.0, 28.0]          0.271186    59\n",
       "5     (28.0, 31.0]          0.415094    53\n",
       "6     (31.0, 35.0]          0.434783    46\n",
       "7     (35.0, 39.0]          0.450980    51\n",
       "8   (39.0, 43.545]          0.500000    54\n",
       "9   (43.545, 52.0]          0.576271    59\n",
       "10    (52.0, 81.0]          0.415094    53"
      ]
     },
     "execution_count": 10,
     "metadata": {},
     "output_type": "execute_result"
    }
   ],
   "source": [
    "#Finding percentage of people having diabetes in each Age bin\n",
    "age_data = train.groupby('age_binned')['Outcome'].agg([('diabetes_percent','mean'),('nobs','count')]).reset_index(drop=False)\n",
    "age_data"
   ]
  },
  {
   "cell_type": "code",
   "execution_count": 11,
   "id": "54f455f4",
   "metadata": {},
   "outputs": [
    {
     "data": {
      "text/plain": [
       "Text(0.5, 0, 'Age_bin')"
      ]
     },
     "execution_count": 11,
     "metadata": {},
     "output_type": "execute_result"
    },
    {
     "data": {
      "image/png": "[encoded data removed]",
      "text/plain": [
       "<Figure size 432x288 with 1 Axes>"
      ]
     },
     "metadata": {
      "needs_background": "light"
     },
     "output_type": "display_data"
    }
   ],
   "source": [
    "#Visualizing percentage of people having diabets with increasing Age (or Age bins)\n",
    "sns.lineplot(x = age_data.index, y= age_data['diabetes_percent'])\n",
    "plt.xlabel('Age_bin')"
   ]
  },
  {
   "cell_type": "markdown",
   "id": "56919dd6",
   "metadata": {},
   "source": [
    "We observe that the probability of people having diabetes does **not** keep increaseing monotonically with age. People with ages 52 and more have a lower probability of having diabetes than people in the immediately younger `Age` bin."
   ]
  },
  {
   "cell_type": "markdown",
   "id": "682aa4ba",
   "metadata": {},
   "source": [
    "A quadratic transformation of `Age` may better fit the above trend"
   ]
  },
  {
   "cell_type": "code",
   "execution_count": 12,
   "id": "6f9d82b8",
   "metadata": {},
   "outputs": [
    {
     "name": "stdout",
     "output_type": "stream",
     "text": [
      "Optimization terminated successfully.\n",
      "         Current function value: 0.586025\n",
      "         Iterations 6\n"
     ]
    },
    {
     "data": {
      "text/plain": [
       "-359.81925590230185"
      ]
     },
     "execution_count": 12,
     "metadata": {},
     "output_type": "execute_result"
    },
    {
     "data": {
      "image/png": "[encoded data removed]",
      "text/plain": [
       "<Figure size 432x288 with 1 Axes>"
      ]
     },
     "metadata": {
      "needs_background": "light"
     },
     "output_type": "display_data"
    }
   ],
   "source": [
    "#Model with the quadratic transformation of Age\n",
    "def jitter(values,j):\n",
    "    return values + np.random.normal(j,0.02,values.shape)\n",
    "sns.scatterplot(x = jitter(train.Age,0), y = jitter(train.Outcome,0), data = train, color = 'orange')\n",
    "logit_model = sm.logit(formula = 'Outcome~Age+I(Age**2)', data = train).fit()\n",
    "sns.lineplot(x = 'Age', y= logit_model.predict(train), data = train, color = 'blue') \n",
    "logit_model.llf"
   ]
  },
  {
   "cell_type": "code",
   "execution_count": 13,
   "id": "f67dd504",
   "metadata": {},
   "outputs": [
    {
     "data": {
      "text/html": [
       "<table class=\"simpletable\">\n",
       "<caption>Logit Regression Results</caption>\n",
       "<tr>\n",
       "  <th>Dep. Variable:</th>        <td>Outcome</td>     <th>  No. Observations:  </th>  <td>   614</td>  \n",
       "</tr>\n",
       "<tr>\n",
       "  <th>Model:</th>                 <td>Logit</td>      <th>  Df Residuals:      </th>  <td>   611</td>  \n",
       "</tr>\n",
       "<tr>\n",
       "  <th>Method:</th>                 <td>MLE</td>       <th>  Df Model:          </th>  <td>     2</td>  \n",
       "</tr>\n",
       "<tr>\n",
       "  <th>Date:</th>            <td>Mon, 13 Feb 2023</td> <th>  Pseudo R-squ.:     </th>  <td>0.08307</td> \n",
       "</tr>\n",
       "<tr>\n",
       "  <th>Time:</th>                <td>09:04:10</td>     <th>  Log-Likelihood:    </th> <td> -359.82</td> \n",
       "</tr>\n",
       "<tr>\n",
       "  <th>converged:</th>             <td>True</td>       <th>  LL-Null:           </th> <td> -392.42</td> \n",
       "</tr>\n",
       "<tr>\n",
       "  <th>Covariance Type:</th>     <td>nonrobust</td>    <th>  LLR p-value:       </th> <td>6.965e-15</td>\n",
       "</tr>\n",
       "</table>\n",
       "<table class=\"simpletable\">\n",
       "<tr>\n",
       "       <td></td>          <th>coef</th>     <th>std err</th>      <th>z</th>      <th>P>|z|</th>  <th>[0.025</th>    <th>0.975]</th>  \n",
       "</tr>\n",
       "<tr>\n",
       "  <th>Intercept</th>   <td>   -6.6485</td> <td>    0.908</td> <td>   -7.320</td> <td> 0.000</td> <td>   -8.429</td> <td>   -4.868</td>\n",
       "</tr>\n",
       "<tr>\n",
       "  <th>Age</th>         <td>    0.2936</td> <td>    0.048</td> <td>    6.101</td> <td> 0.000</td> <td>    0.199</td> <td>    0.388</td>\n",
       "</tr>\n",
       "<tr>\n",
       "  <th>I(Age ** 2)</th> <td>   -0.0031</td> <td>    0.001</td> <td>   -5.280</td> <td> 0.000</td> <td>   -0.004</td> <td>   -0.002</td>\n",
       "</tr>\n",
       "</table>"
      ],
      "text/plain": [
       "<class 'statsmodels.iolib.summary.Summary'>\n",
       "\"\"\"\n",
       "                           Logit Regression Results                           \n",
       "==============================================================================\n",
       "Dep. Variable:                Outcome   No. Observations:                  614\n",
       "Model:                          Logit   Df Residuals:                      611\n",
       "Method:                           MLE   Df Model:                            2\n",
       "Date:                Mon, 13 Feb 2023   Pseudo R-squ.:                 0.08307\n",
       "Time:                        09:04:10   Log-Likelihood:                -359.82\n",
       "converged:                       True   LL-Null:                       -392.42\n",
       "Covariance Type:            nonrobust   LLR p-value:                 6.965e-15\n",
       "===============================================================================\n",
       "                  coef    std err          z      P>|z|      [0.025      0.975]\n",
       "-------------------------------------------------------------------------------\n",
       "Intercept      -6.6485      0.908     -7.320      0.000      -8.429      -4.868\n",
       "Age             0.2936      0.048      6.101      0.000       0.199       0.388\n",
       "I(Age ** 2)    -0.0031      0.001     -5.280      0.000      -0.004      -0.002\n",
       "===============================================================================\n",
       "\"\"\""
      ]
     },
     "execution_count": 13,
     "metadata": {},
     "output_type": "execute_result"
    }
   ],
   "source": [
    "logit_model.summary()"
   ]
  },
  {
   "cell_type": "markdown",
   "id": "7cbab17e",
   "metadata": {},
   "source": [
    "The log likelihood of the model is higher and both the predictors are statistically significant indicating a better model fit. However, the model may also be overfitting. Let us check the model accuracy on test data."
   ]
  },
  {
   "cell_type": "code",
   "execution_count": 17,
   "id": "2f9efa6d",
   "metadata": {},
   "outputs": [
    {
     "data": {
      "text/plain": [
       "(          Predicted 0  Predicted 1\n",
       " Actual 0        338.0         69.0\n",
       " Actual 1        127.0         80.0,\n",
       " 68.07817589576547)"
      ]
     },
     "execution_count": 17,
     "metadata": {},
     "output_type": "execute_result"
    }
   ],
   "source": [
    "confusion_matrix_train(logit_model)"
   ]
  },
  {
   "cell_type": "code",
   "execution_count": 18,
   "id": "8c6ebd3c",
   "metadata": {},
   "outputs": [
    {
     "data": {
      "text/plain": [
       "(          Predicted 0  Predicted 1\n",
       " Actual 0         80.0         13.0\n",
       " Actual 1         35.0         26.0,\n",
       " 68.83116883116882)"
      ]
     },
     "execution_count": 18,
     "metadata": {},
     "output_type": "execute_result"
    }
   ],
   "source": [
    "confusion_matrix_test(test,test.Outcome,logit_model)"
   ]
  },
  {
   "cell_type": "markdown",
   "id": "0e843afb",
   "metadata": {},
   "source": [
    "The classification accuracy on test data has increased to 69%. However, the number of *false positives* have increased. But in case of diabetes, *false negatives* are more concerning that *false positives*. This is because if a person has diabetes, and is told that they do not have diabetes, their condition may deteriorate. If a person does not have diabetes, and is told that they have diabetes, they may take unnecessary precautions or tests, but it will not be as harmful to the person as in the previous case. So, in this problem, we will be more focused on reducing the number of *false negatives*, instead of reducing the *false positives* or increasing the overall classification accuracy."
   ]
  },
  {
   "cell_type": "markdown",
   "id": "0c37c467",
   "metadata": {},
   "source": [
    "We can decrease the cutoff for classifying a person as having diabetes to reduce the number of false negatives."
   ]
  },
  {
   "cell_type": "code",
   "execution_count": 19,
   "id": "c72d7e4a",
   "metadata": {},
   "outputs": [
    {
     "data": {
      "text/plain": [
       "(          Predicted 0  Predicted 1\n",
       " Actual 0         58.0         35.0\n",
       " Actual 1         12.0         49.0,\n",
       " 69.48051948051948)"
      ]
     },
     "execution_count": 19,
     "metadata": {},
     "output_type": "execute_result"
    }
   ],
   "source": [
    "#Reducing the cutoff for classifying a person as diabetic to 0.3 (instead of 0.5)\n",
    "confusion_matrix_test(test,test.Outcome,logit_model,0.3)"
   ]
  },
  {
   "cell_type": "markdown",
   "id": "8bfb5bbc",
   "metadata": {},
   "source": [
    "Note that the changed cut-off reduced the number of *false negatives*, but at the cost of increasing the *false positives*. However, the stakeholders may prefer the reduced cut-off to be safer."
   ]
  },
  {
   "cell_type": "markdown",
   "id": "97872245",
   "metadata": {},
   "source": [
    "**Is there another way to transform `Age`?**"
   ]
  },
  {
   "cell_type": "markdown",
   "id": "f9d6292e",
   "metadata": {},
   "source": [
    "Yes, binning age into bins that have similar proportion of people with diabetes may provide a better model fit."
   ]
  },
  {
   "cell_type": "code",
   "execution_count": 20,
   "id": "64b2afd7",
   "metadata": {},
   "outputs": [],
   "source": [
    "#Creating a function to bin age so that it can be applied to both the test and train datasets\n",
    "def var_transform(data):\n",
    "    binned_age = pd.qcut(train['Age'],10,retbins=True)\n",
    "    bins = binned_age[1]\n",
    "    data['age_binned'] = pd.cut(data['Age'],bins = bins)\n",
    "    dum = pd.get_dummies(data.age_binned,drop_first = True)\n",
    "    dum.columns = ['age'+str(x) for x in range(1,len(bins)-1)]\n",
    "    data = pd.concat([data,dum], axis = 1)\n",
    "    return data"
   ]
  },
  {
   "cell_type": "code",
   "execution_count": 21,
   "id": "034f7c07",
   "metadata": {},
   "outputs": [],
   "source": [
    "#Binning age using the function var_transform()\n",
    "train = var_transform(train)\n",
    "test = var_transform(test)"
   ]
  },
  {
   "cell_type": "code",
   "execution_count": 22,
   "id": "87672325",
   "metadata": {},
   "outputs": [
    {
     "data": {
      "text/plain": [
       "Text(0.5, 0, 'Age_bin')"
      ]
     },
     "execution_count": 22,
     "metadata": {},
     "output_type": "execute_result"
    },
    {
     "data": {
      "image/png": "[encoded data removed]",
      "text/plain": [
       "<Figure size 432x288 with 1 Axes>"
      ]
     },
     "metadata": {
      "needs_background": "light"
     },
     "output_type": "display_data"
    }
   ],
   "source": [
    "#Re-creating the plot of diabetes_percent vs age created earlier, just to check if the function binned age correctly. Yes, it did.\n",
    "age_data = train.groupby('age_binned')['Outcome'].agg([('diabetes_percent','mean'),('nobs','count')]).reset_index(drop=False)\n",
    "sns.lineplot(x = age_data.index, y= age_data['diabetes_percent'])\n",
    "plt.xlabel('Age_bin')"
   ]
  },
  {
   "cell_type": "code",
   "execution_count": 23,
   "id": "67cbcd91",
   "metadata": {},
   "outputs": [
    {
     "name": "stdout",
     "output_type": "stream",
     "text": [
      "Optimization terminated successfully.\n",
      "         Current function value: 0.585956\n",
      "         Iterations 6\n"
     ]
    },
    {
     "data": {
      "text/plain": [
       "<AxesSubplot:xlabel='Age', ylabel='Outcome'>"
      ]
     },
     "execution_count": 23,
     "metadata": {},
     "output_type": "execute_result"
    },
    {
     "data": {
      "image/png": "[encoded data removed]",
      "text/plain": [
       "<Figure size 432x288 with 1 Axes>"
      ]
     },
     "metadata": {
      "needs_background": "light"
     },
     "output_type": "display_data"
    }
   ],
   "source": [
    "#Model with binned Age\n",
    "def jitter(values,j):\n",
    "    return values + np.random.normal(j,0.02,values.shape)\n",
    "sns.scatterplot(x = jitter(train.Age,0), y = jitter(train.Outcome,0), data = train, color = 'orange')\n",
    "logit_model = sm.logit(formula = 'Outcome~' + '+'.join(['age'+str(x) for x in range(1,10)]), data = train).fit()\n",
    "sns.lineplot(x = 'Age', y= logit_model.predict(train), data = train, color = 'blue') "
   ]
  },
  {
   "cell_type": "markdown",
   "id": "1951f215",
   "metadata": {},
   "source": [
    "Note that the probability of having diabetes for each age bin is a constant, as per the above plot."
   ]
  },
  {
   "cell_type": "code",
   "execution_count": 24,
   "id": "d07118fc",
   "metadata": {},
   "outputs": [
    {
     "data": {
      "text/plain": [
       "(          Predicted 0  Predicted 1\n",
       " Actual 0         53.0         40.0\n",
       " Actual 1         10.0         51.0,\n",
       " 67.53246753246754)"
      ]
     },
     "execution_count": 24,
     "metadata": {},
     "output_type": "execute_result"
    }
   ],
   "source": [
    "confusion_matrix_test(test,test.Outcome,logit_model,0.3)"
   ]
  },
  {
   "cell_type": "markdown",
   "id": "d9cf0735",
   "metadata": {},
   "source": [
    "Binning `Age` provides a similar results as compared to the model with the quadratic transformation of `Age`."
   ]
  },
  {
   "cell_type": "code",
   "execution_count": 25,
   "id": "58900e06",
   "metadata": {},
   "outputs": [
    {
     "data": {
      "text/html": [
       "<div>\n",
       "<style scoped>\n",
       "    .dataframe tbody tr th:only-of-type {\n",
       "        vertical-align: middle;\n",
       "    }\n",
       "\n",
       "    .dataframe tbody tr th {\n",
       "        vertical-align: top;\n",
       "    }\n",
       "\n",
       "    .dataframe thead th {\n",
       "        text-align: right;\n",
       "    }\n",
       "</style>\n",
       "<table border=\"1\" class=\"dataframe\">\n",
       "  <thead>\n",
       "    <tr style=\"text-align: right;\">\n",
       "      <th></th>\n",
       "      <th>Pregnancies</th>\n",
       "      <th>Glucose</th>\n",
       "      <th>BloodPressure</th>\n",
       "      <th>SkinThickness</th>\n",
       "      <th>Insulin</th>\n",
       "      <th>BMI</th>\n",
       "      <th>DiabetesPedigreeFunction</th>\n",
       "      <th>Age</th>\n",
       "      <th>Outcome</th>\n",
       "      <th>age_binned</th>\n",
       "      <th>age1</th>\n",
       "      <th>age2</th>\n",
       "      <th>age3</th>\n",
       "      <th>age4</th>\n",
       "      <th>age5</th>\n",
       "      <th>age6</th>\n",
       "      <th>age7</th>\n",
       "      <th>age8</th>\n",
       "      <th>age9</th>\n",
       "    </tr>\n",
       "  </thead>\n",
       "  <tbody>\n",
       "    <tr>\n",
       "      <th>158</th>\n",
       "      <td>2</td>\n",
       "      <td>88</td>\n",
       "      <td>74</td>\n",
       "      <td>19</td>\n",
       "      <td>53</td>\n",
       "      <td>29.0</td>\n",
       "      <td>0.229</td>\n",
       "      <td>22</td>\n",
       "      <td>0</td>\n",
       "      <td>(21.0, 22.0]</td>\n",
       "      <td>0</td>\n",
       "      <td>0</td>\n",
       "      <td>0</td>\n",
       "      <td>0</td>\n",
       "      <td>0</td>\n",
       "      <td>0</td>\n",
       "      <td>0</td>\n",
       "      <td>0</td>\n",
       "      <td>0</td>\n",
       "    </tr>\n",
       "    <tr>\n",
       "      <th>251</th>\n",
       "      <td>2</td>\n",
       "      <td>129</td>\n",
       "      <td>84</td>\n",
       "      <td>0</td>\n",
       "      <td>0</td>\n",
       "      <td>28.0</td>\n",
       "      <td>0.284</td>\n",
       "      <td>27</td>\n",
       "      <td>0</td>\n",
       "      <td>(25.0, 27.0]</td>\n",
       "      <td>0</td>\n",
       "      <td>0</td>\n",
       "      <td>1</td>\n",
       "      <td>0</td>\n",
       "      <td>0</td>\n",
       "      <td>0</td>\n",
       "      <td>0</td>\n",
       "      <td>0</td>\n",
       "      <td>0</td>\n",
       "    </tr>\n",
       "    <tr>\n",
       "      <th>631</th>\n",
       "      <td>0</td>\n",
       "      <td>102</td>\n",
       "      <td>78</td>\n",
       "      <td>40</td>\n",
       "      <td>90</td>\n",
       "      <td>34.5</td>\n",
       "      <td>0.238</td>\n",
       "      <td>24</td>\n",
       "      <td>0</td>\n",
       "      <td>(23.0, 25.0]</td>\n",
       "      <td>0</td>\n",
       "      <td>1</td>\n",
       "      <td>0</td>\n",
       "      <td>0</td>\n",
       "      <td>0</td>\n",
       "      <td>0</td>\n",
       "      <td>0</td>\n",
       "      <td>0</td>\n",
       "      <td>0</td>\n",
       "    </tr>\n",
       "    <tr>\n",
       "      <th>757</th>\n",
       "      <td>0</td>\n",
       "      <td>123</td>\n",
       "      <td>72</td>\n",
       "      <td>0</td>\n",
       "      <td>0</td>\n",
       "      <td>36.3</td>\n",
       "      <td>0.258</td>\n",
       "      <td>52</td>\n",
       "      <td>1</td>\n",
       "      <td>(51.0, 81.0]</td>\n",
       "      <td>0</td>\n",
       "      <td>0</td>\n",
       "      <td>0</td>\n",
       "      <td>0</td>\n",
       "      <td>0</td>\n",
       "      <td>0</td>\n",
       "      <td>0</td>\n",
       "      <td>0</td>\n",
       "      <td>1</td>\n",
       "    </tr>\n",
       "    <tr>\n",
       "      <th>689</th>\n",
       "      <td>1</td>\n",
       "      <td>144</td>\n",
       "      <td>82</td>\n",
       "      <td>46</td>\n",
       "      <td>180</td>\n",
       "      <td>46.1</td>\n",
       "      <td>0.335</td>\n",
       "      <td>46</td>\n",
       "      <td>1</td>\n",
       "      <td>(42.0, 51.0]</td>\n",
       "      <td>0</td>\n",
       "      <td>0</td>\n",
       "      <td>0</td>\n",
       "      <td>0</td>\n",
       "      <td>0</td>\n",
       "      <td>0</td>\n",
       "      <td>0</td>\n",
       "      <td>1</td>\n",
       "      <td>0</td>\n",
       "    </tr>\n",
       "  </tbody>\n",
       "</table>\n",
       "</div>"
      ],
      "text/plain": [
       "     Pregnancies  Glucose  BloodPressure  SkinThickness  Insulin   BMI  \\\n",
       "158            2       88             74             19       53  29.0   \n",
       "251            2      129             84              0        0  28.0   \n",
       "631            0      102             78             40       90  34.5   \n",
       "757            0      123             72              0        0  36.3   \n",
       "689            1      144             82             46      180  46.1   \n",
       "\n",
       "     DiabetesPedigreeFunction  Age  Outcome    age_binned  age1  age2  age3  \\\n",
       "158                     0.229   22        0  (21.0, 22.0]     0     0     0   \n",
       "251                     0.284   27        0  (25.0, 27.0]     0     0     1   \n",
       "631                     0.238   24        0  (23.0, 25.0]     0     1     0   \n",
       "757                     0.258   52        1  (51.0, 81.0]     0     0     0   \n",
       "689                     0.335   46        1  (42.0, 51.0]     0     0     0   \n",
       "\n",
       "     age4  age5  age6  age7  age8  age9  \n",
       "158     0     0     0     0     0     0  \n",
       "251     0     0     0     0     0     0  \n",
       "631     0     0     0     0     0     0  \n",
       "757     0     0     0     0     0     1  \n",
       "689     0     0     0     0     1     0  "
      ]
     },
     "execution_count": 25,
     "metadata": {},
     "output_type": "execute_result"
    }
   ],
   "source": [
    "train.head()"
   ]
  },
  {
   "cell_type": "code",
   "execution_count": 26,
   "id": "bda4e2a1",
   "metadata": {},
   "outputs": [
    {
     "name": "stdout",
     "output_type": "stream",
     "text": [
      "Optimization terminated successfully.\n",
      "         Current function value: 0.470478\n",
      "         Iterations 6\n"
     ]
    },
    {
     "data": {
      "text/html": [
       "<table class=\"simpletable\">\n",
       "<caption>Logit Regression Results</caption>\n",
       "<tr>\n",
       "  <th>Dep. Variable:</th>        <td>Outcome</td>     <th>  No. Observations:  </th>  <td>   614</td>  \n",
       "</tr>\n",
       "<tr>\n",
       "  <th>Model:</th>                 <td>Logit</td>      <th>  Df Residuals:      </th>  <td>   607</td>  \n",
       "</tr>\n",
       "<tr>\n",
       "  <th>Method:</th>                 <td>MLE</td>       <th>  Df Model:          </th>  <td>     6</td>  \n",
       "</tr>\n",
       "<tr>\n",
       "  <th>Date:</th>            <td>Mon, 13 Feb 2023</td> <th>  Pseudo R-squ.:     </th>  <td>0.2639</td>  \n",
       "</tr>\n",
       "<tr>\n",
       "  <th>Time:</th>                <td>09:04:43</td>     <th>  Log-Likelihood:    </th> <td> -288.87</td> \n",
       "</tr>\n",
       "<tr>\n",
       "  <th>converged:</th>             <td>True</td>       <th>  LL-Null:           </th> <td> -392.42</td> \n",
       "</tr>\n",
       "<tr>\n",
       "  <th>Covariance Type:</th>     <td>nonrobust</td>    <th>  LLR p-value:       </th> <td>5.878e-42</td>\n",
       "</tr>\n",
       "</table>\n",
       "<table class=\"simpletable\">\n",
       "<tr>\n",
       "              <td></td>                <th>coef</th>     <th>std err</th>      <th>z</th>      <th>P>|z|</th>  <th>[0.025</th>    <th>0.975]</th>  \n",
       "</tr>\n",
       "<tr>\n",
       "  <th>Intercept</th>                <td>  -12.3347</td> <td>    1.282</td> <td>   -9.621</td> <td> 0.000</td> <td>  -14.847</td> <td>   -9.822</td>\n",
       "</tr>\n",
       "<tr>\n",
       "  <th>Age</th>                      <td>    0.2852</td> <td>    0.056</td> <td>    5.121</td> <td> 0.000</td> <td>    0.176</td> <td>    0.394</td>\n",
       "</tr>\n",
       "<tr>\n",
       "  <th>I(Age ** 2)</th>              <td>   -0.0030</td> <td>    0.001</td> <td>   -4.453</td> <td> 0.000</td> <td>   -0.004</td> <td>   -0.002</td>\n",
       "</tr>\n",
       "<tr>\n",
       "  <th>Glucose</th>                  <td>    0.0309</td> <td>    0.004</td> <td>    8.199</td> <td> 0.000</td> <td>    0.024</td> <td>    0.038</td>\n",
       "</tr>\n",
       "<tr>\n",
       "  <th>BloodPressure</th>            <td>   -0.0141</td> <td>    0.006</td> <td>   -2.426</td> <td> 0.015</td> <td>   -0.025</td> <td>   -0.003</td>\n",
       "</tr>\n",
       "<tr>\n",
       "  <th>BMI</th>                      <td>    0.0800</td> <td>    0.016</td> <td>    4.978</td> <td> 0.000</td> <td>    0.049</td> <td>    0.112</td>\n",
       "</tr>\n",
       "<tr>\n",
       "  <th>DiabetesPedigreeFunction</th> <td>    0.7138</td> <td>    0.322</td> <td>    2.213</td> <td> 0.027</td> <td>    0.082</td> <td>    1.346</td>\n",
       "</tr>\n",
       "</table>"
      ],
      "text/plain": [
       "<class 'statsmodels.iolib.summary.Summary'>\n",
       "\"\"\"\n",
       "                           Logit Regression Results                           \n",
       "==============================================================================\n",
       "Dep. Variable:                Outcome   No. Observations:                  614\n",
       "Model:                          Logit   Df Residuals:                      607\n",
       "Method:                           MLE   Df Model:                            6\n",
       "Date:                Mon, 13 Feb 2023   Pseudo R-squ.:                  0.2639\n",
       "Time:                        09:04:43   Log-Likelihood:                -288.87\n",
       "converged:                       True   LL-Null:                       -392.42\n",
       "Covariance Type:            nonrobust   LLR p-value:                 5.878e-42\n",
       "============================================================================================\n",
       "                               coef    std err          z      P>|z|      [0.025      0.975]\n",
       "--------------------------------------------------------------------------------------------\n",
       "Intercept                  -12.3347      1.282     -9.621      0.000     -14.847      -9.822\n",
       "Age                          0.2852      0.056      5.121      0.000       0.176       0.394\n",
       "I(Age ** 2)                 -0.0030      0.001     -4.453      0.000      -0.004      -0.002\n",
       "Glucose                      0.0309      0.004      8.199      0.000       0.024       0.038\n",
       "BloodPressure               -0.0141      0.006     -2.426      0.015      -0.025      -0.003\n",
       "BMI                          0.0800      0.016      4.978      0.000       0.049       0.112\n",
       "DiabetesPedigreeFunction     0.7138      0.322      2.213      0.027       0.082       1.346\n",
       "============================================================================================\n",
       "\"\"\""
      ]
     },
     "execution_count": 26,
     "metadata": {},
     "output_type": "execute_result"
    }
   ],
   "source": [
    "#Model with the quadratic transformation of Age and more predictors\n",
    "logit_model = sm.logit(formula = 'Outcome~Age+I(Age**2)+Glucose+BloodPressure+BMI+DiabetesPedigreeFunction', data = train).fit()\n",
    "logit_model.summary()"
   ]
  },
  {
   "cell_type": "markdown",
   "id": "a5125c52",
   "metadata": {},
   "source": [
    "Adding more predictors has increased the log likelihood of the model as expected."
   ]
  },
  {
   "cell_type": "code",
   "execution_count": 27,
   "id": "11ad906e",
   "metadata": {},
   "outputs": [],
   "source": [
    "#Function to compute confusion matrix and prediction accuracy on test/train data\n",
    "def confusion_matrix_data(data,actual_values,model,cutoff=0.5):\n",
    "#Predict the values using the Logit model\n",
    "    pred_values = model.predict(data)\n",
    "# Specify the bins\n",
    "    bins=np.array([0,cutoff,1])\n",
    "#Confusion matrix\n",
    "    cm = np.histogram2d(actual_values, pred_values, bins=bins)[0]\n",
    "    cm_df = pd.DataFrame(cm)\n",
    "    cm_df.columns = ['Predicted 0','Predicted 1']\n",
    "    cm_df = cm_df.rename(index={0: 'Actual 0',1:'Actual 1'})\n",
    "# Calculate the accuracy\n",
    "    accuracy = 100*(cm[0,0]+cm[1,1])/cm.sum()\n",
    "    fnr = 100*(cm[1,0])/(cm[1,0]+cm[1,1])\n",
    "    precision = 100*(cm[1,1])/(cm[0,1]+cm[1,1])\n",
    "    fpr = 100*(cm[0,1])/(cm[0,0]+cm[0,1])\n",
    "    tpr = 100*(cm[1,1])/(cm[1,0]+cm[1,1])\n",
    "    print(\"Accuracy = \", accuracy)\n",
    "    print(\"Precision = \", precision)\n",
    "    print(\"FNR = \", fnr)\n",
    "    print(\"FPR = \", fpr)\n",
    "    print(\"TPR or Recall = \", tpr)\n",
    "    print(\"Confusion matrix = \\n\", cm_df)\n",
    "    return (\" \")"
   ]
  },
  {
   "cell_type": "code",
   "execution_count": 28,
   "id": "c0d0b4f7",
   "metadata": {},
   "outputs": [
    {
     "name": "stdout",
     "output_type": "stream",
     "text": [
      "Accuracy =  74.2671009771987\n",
      "Precision =  58.78136200716846\n",
      "FNR =  20.77294685990338\n",
      "FPR =  28.255528255528255\n",
      "TPR or Recall =  79.22705314009661\n",
      "Confusion matrix = \n",
      "           Predicted 0  Predicted 1\n",
      "Actual 0        292.0        115.0\n",
      "Actual 1         43.0        164.0\n"
     ]
    },
    {
     "data": {
      "text/plain": [
       "' '"
      ]
     },
     "execution_count": 28,
     "metadata": {},
     "output_type": "execute_result"
    }
   ],
   "source": [
    "confusion_matrix_data(train,train.Outcome,logit_model, cutoff = 0.3)"
   ]
  },
  {
   "cell_type": "code",
   "execution_count": 29,
   "id": "2b5f9156",
   "metadata": {},
   "outputs": [
    {
     "name": "stdout",
     "output_type": "stream",
     "text": [
      "Accuracy =  80.51948051948052\n",
      "Precision =  70.12987012987013\n",
      "FNR =  11.475409836065573\n",
      "FPR =  24.731182795698924\n",
      "TPR or Recall =  88.52459016393442\n",
      "Confusion matrix = \n",
      "           Predicted 0  Predicted 1\n",
      "Actual 0         70.0         23.0\n",
      "Actual 1          7.0         54.0\n"
     ]
    },
    {
     "data": {
      "text/plain": [
       "' '"
      ]
     },
     "execution_count": 29,
     "metadata": {},
     "output_type": "execute_result"
    }
   ],
   "source": [
    "confusion_matrix_data(test,test.Outcome,logit_model,0.3)"
   ]
  },
  {
   "cell_type": "markdown",
   "id": "f44ed11a",
   "metadata": {},
   "source": [
    "The model with more predictors also has lesser number of *false negatives*, and higher overall classification accuracy."
   ]
  },
  {
   "cell_type": "markdown",
   "id": "ecbcdea4",
   "metadata": {},
   "source": [
    "**How many bins must you make for `Age` to get the most accurate model?** \\\n",
    "If the number of bins are too less, the trend may not be captured accurately. If the number of bins are too many, it may lead to overfitting of the model. There is an optimal value of the number of bins that captures the trend, but does not overfit. A couple of ways of estimating the optimal number of bins can be:\n",
    "\n",
    "1.  The number of bins for which the trend continues to be \"almost\" the same for several samples of the data. \n",
    "\n",
    "2. Testing the model on multiple test datasets.\n",
    "\n",
    "Optimizing the number of bins for each predictor may be a time-consuming exercises. You may choose to do it for your course project. However, we wil not do in the rest of the course."
   ]
  },
  {
   "cell_type": "markdown",
   "id": "cbb4c7db",
   "metadata": {},
   "source": [
    "**Visualize the ROC curve and compute the ROC-AUC for the developed classification model**"
   ]
  },
  {
   "cell_type": "code",
   "execution_count": 30,
   "id": "c0996e47",
   "metadata": {},
   "outputs": [
    {
     "name": "stdout",
     "output_type": "stream",
     "text": [
      "0.8325914847653979\n"
     ]
    },
    {
     "data": {
      "image/png": "[encoded data removed]",
      "text/plain": [
       "<Figure size 576x576 with 1 Axes>"
      ]
     },
     "metadata": {
      "needs_background": "light"
     },
     "output_type": "display_data"
    }
   ],
   "source": [
    "from sklearn.metrics import roc_curve, auc\n",
    "y=train.Outcome\n",
    "ypred = logit_model.predict(train)\n",
    "fpr, tpr, auc_thresholds = roc_curve(y, ypred)\n",
    "print(auc(fpr, tpr))# AUC of ROC\n",
    "def plot_roc_curve(fpr, tpr, label=None):\n",
    "\n",
    "    plt.figure(figsize=(8,8))\n",
    "    plt.title('ROC Curve')\n",
    "    plt.plot(fpr, tpr, linewidth=2, label=label)\n",
    "    plt.plot([0, 1], [0, 1], 'k--')\n",
    "    plt.axis([-0.005, 1, 0, 1.005])\n",
    "    plt.xticks(np.arange(0,1, 0.05), rotation=90)\n",
    "    plt.xlabel(\"False Positive Rate\")\n",
    "    plt.ylabel(\"True Positive Rate (Recall)\")\n",
    "\n",
    "fpr, tpr, auc_thresholds = roc_curve(y, ypred)\n",
    "plot_roc_curve(fpr, tpr)"
   ]
  },
  {
   "cell_type": "markdown",
   "id": "b5b25805",
   "metadata": {},
   "source": [
    "**Visualize the precision-recall curve for the developed model**"
   ]
  },
  {
   "cell_type": "code",
   "execution_count": 32,
   "id": "8a4cac82",
   "metadata": {},
   "outputs": [
    {
     "data": {
      "image/png": "[encoded data removed]",
      "text/plain": [
       "<Figure size 576x576 with 1 Axes>"
      ]
     },
     "metadata": {
      "needs_background": "light"
     },
     "output_type": "display_data"
    }
   ],
   "source": [
    "from sklearn.metrics import precision_recall_curve\n",
    "p, r, thresholds = precision_recall_curve(y, ypred)\n",
    "def plot_precision_recall_vs_threshold(precisions, recalls, thresholds):\n",
    "    plt.figure(figsize=(8, 8))\n",
    "    plt.title(\"Precision and Recall Scores as a function of the decision threshold\")\n",
    "    plt.plot(thresholds, precisions[:-1], \"b--\", label=\"Precision\")\n",
    "    plt.plot(thresholds, recalls[:-1], \"g-\", label=\"Recall\")\n",
    "    plt.ylabel(\"Score\")\n",
    "    plt.xlabel(\"Decision Threshold\")\n",
    "    plt.legend(loc='best')\n",
    "    plt.legend()\n",
    "plot_precision_recall_vs_threshold(p, r, thresholds)"
   ]
  }
 ],
 "metadata": {
  "kernelspec": {
   "display_name": "Python 3",
   "language": "python",
   "name": "python3"
  },
  "language_info": {
   "codemirror_mode": {
    "name": "ipython",
    "version": 3
   },
   "file_extension": ".py",
   "mimetype": "text/x-python",
   "name": "python",
   "nbconvert_exporter": "python",
   "pygments_lexer": "ipython3",
   "version": "3.8.8"
  }
 },
 "nbformat": 4,
 "nbformat_minor": 5
}
