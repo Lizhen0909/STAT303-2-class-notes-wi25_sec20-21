{
 "cells": [
  {
   "cell_type": "raw",
   "id": "2d08f12d",
   "metadata": {},
   "source": [
    "---\n",
    "title: \"Assignment B\"\n",
    "format: \n",
    "  html:\n",
    "    toc: true\n",
    "    toc-title: Contents\n",
    "    toc-depth: 4\n",
    "    code-fold: show\n",
    "    self-contained: true\n",
    "jupyter: python3\n",
    "---"
   ]
  },
  {
   "cell_type": "markdown",
   "id": "6efe6ec7",
   "metadata": {},
   "source": [
    "## Instructions {-}\n",
    "\n",
    "1. You may talk to a friend, discuss the questions and potential directions for solving them. However, you need to write your own solutions and code separately, and not as a group activity. \n",
    "\n",
    "2. Do not write your name on the assignment.\n",
    "\n",
    "3. Write your code in the *Code* cells and your answer in the *Markdown* cells of the Jupyter notebook. Ensure that the solution is written neatly enough to understand and grade.\n",
    "\n",
    "4. Use [Quarto](https://quarto.org/docs/output-formats/html-basics.html) to print the *.ipynb* file as HTML. You will need to open the command prompt, navigate to the directory containing the file, and use the command: `quarto render filename.ipynb --to html`. Submit the HTML file.\n",
    "\n",
    "5. The assignment is worth 100 points, and is due on **Thursday, 26th January 2023 at 11:59 pm**. \n",
    "\n",
    "6. There is a **bonus** question worth 5 points.\n",
    "\n",
    "7.  The maximum possible score in the assigment is 100 + 5 (bonus question) = 105 out of 100. There is no partial credit for bonus question.\n",
    "\n",
    "8. **Five points are properly formatting the assignment**. The breakdown is as follows:\n",
    "- Must be an HTML file rendered using Quarto (1 pt). *If you have a Quarto issue, you must mention the issue & quote the error you get when rendering using Quarto in the comments section of Canvas, and submit the ipynb file.* \n",
    "- No name can be written on the assignment, nor can there be any indicator of the student’s identity—e.g. printouts of the working directory should not be included in the final submission  (1 pt)\n",
    "- There aren’t excessively long outputs of extraneous information (e.g. no printouts of entire data frames without good reason, there aren’t long printouts of which iteration a loop is on, there aren’t long sections of commented-out code, etc.) (1 pt)\n",
    "- Final answers of each question are written in Markdown cells (1 pt).\n",
    "- There is no piece of unnecessary / redundant code, and no unnecessary / redundant text (1 pt)"
   ]
  },
  {
   "cell_type": "markdown",
   "id": "93d691ac",
   "metadata": {},
   "source": [
    "## Multiple linear regression"
   ]
  },
  {
   "cell_type": "markdown",
   "id": "76ef6e03",
   "metadata": {},
   "source": [
    "A study was conducted on 97 men with prostate cancer who were due to receive a radical prostatectomy. The dataset *prostate.csv* contains data on 9 measurements made on these 97 men. The description of variables can be found here: https://rafalab.github.io/pages/649/prostate.html"
   ]
  },
  {
   "cell_type": "markdown",
   "id": "659b081f",
   "metadata": {},
   "source": [
    "### \n",
    "Fit a linear regression model with `lpsa` as the response and the other variables as the predictors. Write down the equation to predict `lpsa` based on the other eight variables.\n",
    "\n",
    "*(2+2 points)*"
   ]
  },
  {
   "cell_type": "code",
   "execution_count": 17,
   "id": "a6c15220",
   "metadata": {},
   "outputs": [],
   "source": [
    "import pandas as pd\n",
    "import seaborn as sns\n",
    "import statsmodels.formula.api as smf\n",
    "import numpy as np"
   ]
  },
  {
   "cell_type": "code",
   "execution_count": 18,
   "id": "72f7749e",
   "metadata": {},
   "outputs": [
    {
     "data": {
      "text/html": [
       "<table class=\"simpletable\">\n",
       "<caption>OLS Regression Results</caption>\n",
       "<tr>\n",
       "  <th>Dep. Variable:</th>          <td>lpsa</td>       <th>  R-squared:         </th> <td>   0.655</td>\n",
       "</tr>\n",
       "<tr>\n",
       "  <th>Model:</th>                   <td>OLS</td>       <th>  Adj. R-squared:    </th> <td>   0.623</td>\n",
       "</tr>\n",
       "<tr>\n",
       "  <th>Method:</th>             <td>Least Squares</td>  <th>  F-statistic:       </th> <td>   20.86</td>\n",
       "</tr>\n",
       "<tr>\n",
       "  <th>Date:</th>             <td>Tue, 17 Jan 2023</td> <th>  Prob (F-statistic):</th> <td>2.24e-17</td>\n",
       "</tr>\n",
       "<tr>\n",
       "  <th>Time:</th>                 <td>09:58:35</td>     <th>  Log-Likelihood:    </th> <td> -99.476</td>\n",
       "</tr>\n",
       "<tr>\n",
       "  <th>No. Observations:</th>      <td>    97</td>      <th>  AIC:               </th> <td>   217.0</td>\n",
       "</tr>\n",
       "<tr>\n",
       "  <th>Df Residuals:</th>          <td>    88</td>      <th>  BIC:               </th> <td>   240.1</td>\n",
       "</tr>\n",
       "<tr>\n",
       "  <th>Df Model:</th>              <td>     8</td>      <th>                     </th>     <td> </td>   \n",
       "</tr>\n",
       "<tr>\n",
       "  <th>Covariance Type:</th>      <td>nonrobust</td>    <th>                     </th>     <td> </td>   \n",
       "</tr>\n",
       "</table>\n",
       "<table class=\"simpletable\">\n",
       "<tr>\n",
       "      <td></td>         <th>coef</th>     <th>std err</th>      <th>t</th>      <th>P>|t|</th>  <th>[0.025</th>    <th>0.975]</th>  \n",
       "</tr>\n",
       "<tr>\n",
       "  <th>Intercept</th> <td>    0.6693</td> <td>    1.296</td> <td>    0.516</td> <td> 0.607</td> <td>   -1.907</td> <td>    3.246</td>\n",
       "</tr>\n",
       "<tr>\n",
       "  <th>lcavol</th>    <td>    0.5870</td> <td>    0.088</td> <td>    6.677</td> <td> 0.000</td> <td>    0.412</td> <td>    0.762</td>\n",
       "</tr>\n",
       "<tr>\n",
       "  <th>lweight</th>   <td>    0.4545</td> <td>    0.170</td> <td>    2.673</td> <td> 0.009</td> <td>    0.117</td> <td>    0.792</td>\n",
       "</tr>\n",
       "<tr>\n",
       "  <th>age</th>       <td>   -0.0196</td> <td>    0.011</td> <td>   -1.758</td> <td> 0.082</td> <td>   -0.042</td> <td>    0.003</td>\n",
       "</tr>\n",
       "<tr>\n",
       "  <th>lbph</th>      <td>    0.1071</td> <td>    0.058</td> <td>    1.832</td> <td> 0.070</td> <td>   -0.009</td> <td>    0.223</td>\n",
       "</tr>\n",
       "<tr>\n",
       "  <th>svi</th>       <td>    0.7662</td> <td>    0.244</td> <td>    3.136</td> <td> 0.002</td> <td>    0.281</td> <td>    1.252</td>\n",
       "</tr>\n",
       "<tr>\n",
       "  <th>lcp</th>       <td>   -0.1055</td> <td>    0.091</td> <td>   -1.159</td> <td> 0.250</td> <td>   -0.286</td> <td>    0.075</td>\n",
       "</tr>\n",
       "<tr>\n",
       "  <th>gleason</th>   <td>    0.0451</td> <td>    0.157</td> <td>    0.287</td> <td> 0.775</td> <td>   -0.268</td> <td>    0.358</td>\n",
       "</tr>\n",
       "<tr>\n",
       "  <th>pgg45</th>     <td>    0.0045</td> <td>    0.004</td> <td>    1.024</td> <td> 0.309</td> <td>   -0.004</td> <td>    0.013</td>\n",
       "</tr>\n",
       "</table>\n",
       "<table class=\"simpletable\">\n",
       "<tr>\n",
       "  <th>Omnibus:</th>       <td> 0.235</td> <th>  Durbin-Watson:     </th> <td>   1.507</td>\n",
       "</tr>\n",
       "<tr>\n",
       "  <th>Prob(Omnibus):</th> <td> 0.889</td> <th>  Jarque-Bera (JB):  </th> <td>   0.026</td>\n",
       "</tr>\n",
       "<tr>\n",
       "  <th>Skew:</th>          <td>-0.017</td> <th>  Prob(JB):          </th> <td>   0.987</td>\n",
       "</tr>\n",
       "<tr>\n",
       "  <th>Kurtosis:</th>      <td> 3.073</td> <th>  Cond. No.          </th> <td>1.28e+03</td>\n",
       "</tr>\n",
       "</table><br/><br/>Notes:<br/>[1] Standard Errors assume that the covariance matrix of the errors is correctly specified.<br/>[2] The condition number is large, 1.28e+03. This might indicate that there are<br/>strong multicollinearity or other numerical problems."
      ],
      "text/plain": [
       "<class 'statsmodels.iolib.summary.Summary'>\n",
       "\"\"\"\n",
       "                            OLS Regression Results                            \n",
       "==============================================================================\n",
       "Dep. Variable:                   lpsa   R-squared:                       0.655\n",
       "Model:                            OLS   Adj. R-squared:                  0.623\n",
       "Method:                 Least Squares   F-statistic:                     20.86\n",
       "Date:                Tue, 17 Jan 2023   Prob (F-statistic):           2.24e-17\n",
       "Time:                        09:58:35   Log-Likelihood:                -99.476\n",
       "No. Observations:                  97   AIC:                             217.0\n",
       "Df Residuals:                      88   BIC:                             240.1\n",
       "Df Model:                           8                                         \n",
       "Covariance Type:            nonrobust                                         \n",
       "==============================================================================\n",
       "                 coef    std err          t      P>|t|      [0.025      0.975]\n",
       "------------------------------------------------------------------------------\n",
       "Intercept      0.6693      1.296      0.516      0.607      -1.907       3.246\n",
       "lcavol         0.5870      0.088      6.677      0.000       0.412       0.762\n",
       "lweight        0.4545      0.170      2.673      0.009       0.117       0.792\n",
       "age           -0.0196      0.011     -1.758      0.082      -0.042       0.003\n",
       "lbph           0.1071      0.058      1.832      0.070      -0.009       0.223\n",
       "svi            0.7662      0.244      3.136      0.002       0.281       1.252\n",
       "lcp           -0.1055      0.091     -1.159      0.250      -0.286       0.075\n",
       "gleason        0.0451      0.157      0.287      0.775      -0.268       0.358\n",
       "pgg45          0.0045      0.004      1.024      0.309      -0.004       0.013\n",
       "==============================================================================\n",
       "Omnibus:                        0.235   Durbin-Watson:                   1.507\n",
       "Prob(Omnibus):                  0.889   Jarque-Bera (JB):                0.026\n",
       "Skew:                          -0.017   Prob(JB):                        0.987\n",
       "Kurtosis:                       3.073   Cond. No.                     1.28e+03\n",
       "==============================================================================\n",
       "\n",
       "Notes:\n",
       "[1] Standard Errors assume that the covariance matrix of the errors is correctly specified.\n",
       "[2] The condition number is large, 1.28e+03. This might indicate that there are\n",
       "strong multicollinearity or other numerical problems.\n",
       "\"\"\""
      ]
     },
     "execution_count": 18,
     "metadata": {},
     "output_type": "execute_result"
    }
   ],
   "source": [
    "prostate = pd.read_csv('./Datasets/prostate.csv')\n",
    "predictors=list(prostate.columns)\n",
    "predictors.remove('lpsa')\n",
    "predictors = \"+\".join(predictors)\n",
    "model = smf.ols(formula='lpsa~'+predictors, data=prostate).fit()\n",
    "model.summary()"
   ]
  },
  {
   "cell_type": "markdown",
   "id": "c3f30c01",
   "metadata": {},
   "source": [
    "The prediction equation is\n",
    "lpsa = 0.669+0.587 * lcavol + 0.454l * weight − 0.020 * age + 0.107l * bph + 0.766 * svi − 0.105 * lcp + 0.045 * gleason + 0.005 * pgg45"
   ]
  },
  {
   "cell_type": "markdown",
   "id": "c1b57ce0",
   "metadata": {},
   "source": [
    "### \n",
    "Is the regression significant at 5% level?"
   ]
  },
  {
   "cell_type": "markdown",
   "id": "0461d38d",
   "metadata": {},
   "source": [
    "For the overall significance of the regression, we get $F = 20.86$ with 8 and 88 degrees of freedom. The $p$−value = 2.2 × 10−17 is extremely small indicating that the regression is highly significant."
   ]
  },
  {
   "cell_type": "markdown",
   "id": "18a04e29",
   "metadata": {},
   "source": [
    "### \n",
    "Report the $p$-values for `gleason` and `age`. What do you conclude about the significance of these variables?"
   ]
  },
  {
   "cell_type": "markdown",
   "id": "042cbfe7",
   "metadata": {},
   "source": [
    "The $p$-value of the `age` variable is 0.08229. This variable is not significant at 5% level, but is significant at\n",
    "10% level. So, overall, it is a marginally significant variable.\n",
    "\n",
    "The $p$-value of the `gleason` variable is 0.775. As this value is too high, this variable is insignificant."
   ]
  },
  {
   "cell_type": "markdown",
   "id": "03a5d054",
   "metadata": {},
   "source": [
    "### \n",
    "What is the 95% confidence interval for the coefficient of `age`? Can you conclude anything about its significance based on the confidence interval?"
   ]
  },
  {
   "cell_type": "markdown",
   "id": "cd28a7fc",
   "metadata": {},
   "source": [
    "The 95% confidence interval for the coefficient of age is \\[ -0.042\t0.003 \\]. We can see that the 95% confidence interval includes 0 and therefore, this variable is not significant at 5% level."
   ]
  },
  {
   "cell_type": "markdown",
   "id": "5ca83c71",
   "metadata": {},
   "source": [
    "### \n",
    "Fit a simple linear regression on `lpsa` against `gleason`. What is the $p$-value for `gleason`?"
   ]
  },
  {
   "cell_type": "code",
   "execution_count": 13,
   "id": "b59aa5d2",
   "metadata": {},
   "outputs": [
    {
     "data": {
      "text/html": [
       "<table class=\"simpletable\">\n",
       "<caption>OLS Regression Results</caption>\n",
       "<tr>\n",
       "  <th>Dep. Variable:</th>          <td>lpsa</td>       <th>  R-squared:         </th> <td>   0.136</td>\n",
       "</tr>\n",
       "<tr>\n",
       "  <th>Model:</th>                   <td>OLS</td>       <th>  Adj. R-squared:    </th> <td>   0.127</td>\n",
       "</tr>\n",
       "<tr>\n",
       "  <th>Method:</th>             <td>Least Squares</td>  <th>  F-statistic:       </th> <td>   14.97</td>\n",
       "</tr>\n",
       "<tr>\n",
       "  <th>Date:</th>             <td>Tue, 17 Jan 2023</td> <th>  Prob (F-statistic):</th> <td>0.000200</td>\n",
       "</tr>\n",
       "<tr>\n",
       "  <th>Time:</th>                 <td>03:03:57</td>     <th>  Log-Likelihood:    </th> <td> -143.96</td>\n",
       "</tr>\n",
       "<tr>\n",
       "  <th>No. Observations:</th>      <td>    97</td>      <th>  AIC:               </th> <td>   291.9</td>\n",
       "</tr>\n",
       "<tr>\n",
       "  <th>Df Residuals:</th>          <td>    95</td>      <th>  BIC:               </th> <td>   297.1</td>\n",
       "</tr>\n",
       "<tr>\n",
       "  <th>Df Model:</th>              <td>     1</td>      <th>                     </th>     <td> </td>   \n",
       "</tr>\n",
       "<tr>\n",
       "  <th>Covariance Type:</th>      <td>nonrobust</td>    <th>                     </th>     <td> </td>   \n",
       "</tr>\n",
       "</table>\n",
       "<table class=\"simpletable\">\n",
       "<tr>\n",
       "      <td></td>         <th>coef</th>     <th>std err</th>      <th>t</th>      <th>P>|t|</th>  <th>[0.025</th>    <th>0.975]</th>  \n",
       "</tr>\n",
       "<tr>\n",
       "  <th>Intercept</th> <td>   -1.5044</td> <td>    1.035</td> <td>   -1.453</td> <td> 0.149</td> <td>   -3.559</td> <td>    0.550</td>\n",
       "</tr>\n",
       "<tr>\n",
       "  <th>gleason</th>   <td>    0.5898</td> <td>    0.152</td> <td>    3.869</td> <td> 0.000</td> <td>    0.287</td> <td>    0.892</td>\n",
       "</tr>\n",
       "</table>\n",
       "<table class=\"simpletable\">\n",
       "<tr>\n",
       "  <th>Omnibus:</th>       <td> 2.099</td> <th>  Durbin-Watson:     </th> <td>   0.245</td>\n",
       "</tr>\n",
       "<tr>\n",
       "  <th>Prob(Omnibus):</th> <td> 0.350</td> <th>  Jarque-Bera (JB):  </th> <td>   1.526</td>\n",
       "</tr>\n",
       "<tr>\n",
       "  <th>Skew:</th>          <td> 0.178</td> <th>  Prob(JB):          </th> <td>   0.466</td>\n",
       "</tr>\n",
       "<tr>\n",
       "  <th>Kurtosis:</th>      <td> 3.501</td> <th>  Cond. No.          </th> <td>    65.6</td>\n",
       "</tr>\n",
       "</table><br/><br/>Notes:<br/>[1] Standard Errors assume that the covariance matrix of the errors is correctly specified."
      ],
      "text/plain": [
       "<class 'statsmodels.iolib.summary.Summary'>\n",
       "\"\"\"\n",
       "                            OLS Regression Results                            \n",
       "==============================================================================\n",
       "Dep. Variable:                   lpsa   R-squared:                       0.136\n",
       "Model:                            OLS   Adj. R-squared:                  0.127\n",
       "Method:                 Least Squares   F-statistic:                     14.97\n",
       "Date:                Tue, 17 Jan 2023   Prob (F-statistic):           0.000200\n",
       "Time:                        03:03:57   Log-Likelihood:                -143.96\n",
       "No. Observations:                  97   AIC:                             291.9\n",
       "Df Residuals:                      95   BIC:                             297.1\n",
       "Df Model:                           1                                         \n",
       "Covariance Type:            nonrobust                                         \n",
       "==============================================================================\n",
       "                 coef    std err          t      P>|t|      [0.025      0.975]\n",
       "------------------------------------------------------------------------------\n",
       "Intercept     -1.5044      1.035     -1.453      0.149      -3.559       0.550\n",
       "gleason        0.5898      0.152      3.869      0.000       0.287       0.892\n",
       "==============================================================================\n",
       "Omnibus:                        2.099   Durbin-Watson:                   0.245\n",
       "Prob(Omnibus):                  0.350   Jarque-Bera (JB):                1.526\n",
       "Skew:                           0.178   Prob(JB):                        0.466\n",
       "Kurtosis:                       3.501   Cond. No.                         65.6\n",
       "==============================================================================\n",
       "\n",
       "Notes:\n",
       "[1] Standard Errors assume that the covariance matrix of the errors is correctly specified.\n",
       "\"\"\""
      ]
     },
     "execution_count": 13,
     "metadata": {},
     "output_type": "execute_result"
    }
   ],
   "source": [
    "model = smf.ols(formula='lpsa~gleason', data=prostate).fit()\n",
    "model.summary()"
   ]
  },
  {
   "cell_type": "markdown",
   "id": "b587e47e",
   "metadata": {},
   "source": [
    "### \n",
    "Is the predictor `gleason` statistically significant in the model developed in the previous question *(where it is the only predictor)? \n",
    "\n",
    "Was `gleason` statistically significant in the model developed in the first question with multiple predictors?\n",
    "\n",
    "Did the statistical significance of `gleason` change in the absence of other predictors? Why or why not?"
   ]
  },
  {
   "cell_type": "markdown",
   "id": "7f8e3487",
   "metadata": {},
   "source": [
    "The predictor `gleason` appears to be statisticaly significant in the simple linear regression model, but insignificant in the multiple linear regression model. \n",
    "\n",
    "This is not surprising as the hypotheses being tested in the two models are different.\n",
    "\n",
    "For the simple linear regression model, the hypothesis being tested is:\n",
    "\n",
    "$H_0 : E(y) = \\beta_0$ against $H_1 : E(y) = \\beta_0 + \\beta_1$`gleason`,\n",
    "\n",
    "whereas in the multiple linear regression, the hypothesis being tested is:\n",
    "\n",
    "$H_0 : E(y) = \\beta_0+ \\beta_1$ `lcavol`+ $\\beta_2$ `lweight` + \\beta_3age + \\beta4lbph + \\beta5svi + \\beta6lcp+ \\beta8pgg45$ against $H_1 : E(y) = \\beta_0+ \\beta_1lcavol+\\beta_2lweight+\\beta_3age+\\beta4lbph+\\beta5svi + \\beta6lcp+ \\beta7gleason+ \\beta8pgg45$"
   ]
  },
  {
   "cell_type": "markdown",
   "id": "240a7345",
   "metadata": {},
   "source": [
    "We can further explain this observation with the help of the correlation table below."
   ]
  },
  {
   "cell_type": "code",
   "execution_count": 14,
   "id": "31afc45c",
   "metadata": {},
   "outputs": [
    {
     "data": {
      "text/html": [
       "<div>\n",
       "<style scoped>\n",
       "    .dataframe tbody tr th:only-of-type {\n",
       "        vertical-align: middle;\n",
       "    }\n",
       "\n",
       "    .dataframe tbody tr th {\n",
       "        vertical-align: top;\n",
       "    }\n",
       "\n",
       "    .dataframe thead th {\n",
       "        text-align: right;\n",
       "    }\n",
       "</style>\n",
       "<table border=\"1\" class=\"dataframe\">\n",
       "  <thead>\n",
       "    <tr style=\"text-align: right;\">\n",
       "      <th></th>\n",
       "      <th>lcavol</th>\n",
       "      <th>lweight</th>\n",
       "      <th>age</th>\n",
       "      <th>lbph</th>\n",
       "      <th>svi</th>\n",
       "      <th>lcp</th>\n",
       "      <th>gleason</th>\n",
       "      <th>pgg45</th>\n",
       "      <th>lpsa</th>\n",
       "    </tr>\n",
       "  </thead>\n",
       "  <tbody>\n",
       "    <tr>\n",
       "      <th>lcavol</th>\n",
       "      <td>1.000000</td>\n",
       "      <td>0.194128</td>\n",
       "      <td>0.225000</td>\n",
       "      <td>0.027350</td>\n",
       "      <td>0.538845</td>\n",
       "      <td>0.675311</td>\n",
       "      <td>0.432417</td>\n",
       "      <td>0.433652</td>\n",
       "      <td>0.734460</td>\n",
       "    </tr>\n",
       "    <tr>\n",
       "      <th>lweight</th>\n",
       "      <td>0.194128</td>\n",
       "      <td>1.000000</td>\n",
       "      <td>0.307525</td>\n",
       "      <td>0.434932</td>\n",
       "      <td>0.108778</td>\n",
       "      <td>0.100239</td>\n",
       "      <td>-0.001283</td>\n",
       "      <td>0.050846</td>\n",
       "      <td>0.354122</td>\n",
       "    </tr>\n",
       "    <tr>\n",
       "      <th>age</th>\n",
       "      <td>0.225000</td>\n",
       "      <td>0.307525</td>\n",
       "      <td>1.000000</td>\n",
       "      <td>0.350186</td>\n",
       "      <td>0.117658</td>\n",
       "      <td>0.127668</td>\n",
       "      <td>0.268892</td>\n",
       "      <td>0.276112</td>\n",
       "      <td>0.169593</td>\n",
       "    </tr>\n",
       "    <tr>\n",
       "      <th>lbph</th>\n",
       "      <td>0.027350</td>\n",
       "      <td>0.434932</td>\n",
       "      <td>0.350186</td>\n",
       "      <td>1.000000</td>\n",
       "      <td>-0.085843</td>\n",
       "      <td>-0.006999</td>\n",
       "      <td>0.077820</td>\n",
       "      <td>0.078460</td>\n",
       "      <td>0.179810</td>\n",
       "    </tr>\n",
       "    <tr>\n",
       "      <th>svi</th>\n",
       "      <td>0.538845</td>\n",
       "      <td>0.108778</td>\n",
       "      <td>0.117658</td>\n",
       "      <td>-0.085843</td>\n",
       "      <td>1.000000</td>\n",
       "      <td>0.673111</td>\n",
       "      <td>0.320412</td>\n",
       "      <td>0.457648</td>\n",
       "      <td>0.566218</td>\n",
       "    </tr>\n",
       "    <tr>\n",
       "      <th>lcp</th>\n",
       "      <td>0.675311</td>\n",
       "      <td>0.100239</td>\n",
       "      <td>0.127668</td>\n",
       "      <td>-0.006999</td>\n",
       "      <td>0.673111</td>\n",
       "      <td>1.000000</td>\n",
       "      <td>0.514830</td>\n",
       "      <td>0.631528</td>\n",
       "      <td>0.548813</td>\n",
       "    </tr>\n",
       "    <tr>\n",
       "      <th>gleason</th>\n",
       "      <td>0.432417</td>\n",
       "      <td>-0.001283</td>\n",
       "      <td>0.268892</td>\n",
       "      <td>0.077820</td>\n",
       "      <td>0.320412</td>\n",
       "      <td>0.514830</td>\n",
       "      <td>1.000000</td>\n",
       "      <td>0.751905</td>\n",
       "      <td>0.368987</td>\n",
       "    </tr>\n",
       "    <tr>\n",
       "      <th>pgg45</th>\n",
       "      <td>0.433652</td>\n",
       "      <td>0.050846</td>\n",
       "      <td>0.276112</td>\n",
       "      <td>0.078460</td>\n",
       "      <td>0.457648</td>\n",
       "      <td>0.631528</td>\n",
       "      <td>0.751905</td>\n",
       "      <td>1.000000</td>\n",
       "      <td>0.422316</td>\n",
       "    </tr>\n",
       "    <tr>\n",
       "      <th>lpsa</th>\n",
       "      <td>0.734460</td>\n",
       "      <td>0.354122</td>\n",
       "      <td>0.169593</td>\n",
       "      <td>0.179810</td>\n",
       "      <td>0.566218</td>\n",
       "      <td>0.548813</td>\n",
       "      <td>0.368987</td>\n",
       "      <td>0.422316</td>\n",
       "      <td>1.000000</td>\n",
       "    </tr>\n",
       "  </tbody>\n",
       "</table>\n",
       "</div>"
      ],
      "text/plain": [
       "           lcavol   lweight       age      lbph       svi       lcp   gleason  \\\n",
       "lcavol   1.000000  0.194128  0.225000  0.027350  0.538845  0.675311  0.432417   \n",
       "lweight  0.194128  1.000000  0.307525  0.434932  0.108778  0.100239 -0.001283   \n",
       "age      0.225000  0.307525  1.000000  0.350186  0.117658  0.127668  0.268892   \n",
       "lbph     0.027350  0.434932  0.350186  1.000000 -0.085843 -0.006999  0.077820   \n",
       "svi      0.538845  0.108778  0.117658 -0.085843  1.000000  0.673111  0.320412   \n",
       "lcp      0.675311  0.100239  0.127668 -0.006999  0.673111  1.000000  0.514830   \n",
       "gleason  0.432417 -0.001283  0.268892  0.077820  0.320412  0.514830  1.000000   \n",
       "pgg45    0.433652  0.050846  0.276112  0.078460  0.457648  0.631528  0.751905   \n",
       "lpsa     0.734460  0.354122  0.169593  0.179810  0.566218  0.548813  0.368987   \n",
       "\n",
       "            pgg45      lpsa  \n",
       "lcavol   0.433652  0.734460  \n",
       "lweight  0.050846  0.354122  \n",
       "age      0.276112  0.169593  \n",
       "lbph     0.078460  0.179810  \n",
       "svi      0.457648  0.566218  \n",
       "lcp      0.631528  0.548813  \n",
       "gleason  0.751905  0.368987  \n",
       "pgg45    1.000000  0.422316  \n",
       "lpsa     0.422316  1.000000  "
      ]
     },
     "execution_count": 14,
     "metadata": {},
     "output_type": "execute_result"
    }
   ],
   "source": [
    "prostate.corr()"
   ]
  },
  {
   "cell_type": "markdown",
   "id": "43809fba",
   "metadata": {},
   "source": [
    "Note that `gleason` is somewhat correlated with `lcavol`, and `lcavol` is highly statisticaly significant. In the simple linear regression model, the coefficient of `gleason` represents the average change in `lpsa` with a unit change in `gleason`, ignoring other predictors such as `lcavol`. However, in the multiple linear regression model, the coefficient of `gleason` represents the average change in `lpsa` with a unit change in `gleason` holding the other predictors such as `lcavol` constant. This shows that `gleason`, when by itself, is a surrogate for other statistically significant predictors such ad `lcavol`, and actually does not have a statistically significant relationship with `lpsa`."
   ]
  },
  {
   "cell_type": "markdown",
   "id": "1ec9f3d9",
   "metadata": {},
   "source": [
    "### \n",
    "Predict `lpsa` of a 65-year old man with `lcavol` = 1.35, `lweight` = 3.65, `lbph` = 0.1, `svi` = 0.22, `lcp` = -0.18, `gleason` = 6.75, and `pgg45` = 25 and find 95% prediction intervals."
   ]
  },
  {
   "cell_type": "code",
   "execution_count": 15,
   "id": "25e0b437",
   "metadata": {},
   "outputs": [
    {
     "data": {
      "text/plain": [
       "0    2.476867\n",
       "dtype: float64"
      ]
     },
     "execution_count": 15,
     "metadata": {},
     "output_type": "execute_result"
    }
   ],
   "source": [
    "predictor_vals=pd.DataFrame({'lcavol':[1.35], 'lweight': 3.65, 'lbph': 0.1,'svi': [0.22],'lcp': [-0.18],'gleason': [6.75],'pgg45': [25],'age':65})\n",
    "model.predict(predictor_vals)"
   ]
  },
  {
   "cell_type": "code",
   "execution_count": 16,
   "id": "dd448cc2",
   "metadata": {},
   "outputs": [
    {
     "data": {
      "text/html": [
       "<div>\n",
       "<style scoped>\n",
       "    .dataframe tbody tr th:only-of-type {\n",
       "        vertical-align: middle;\n",
       "    }\n",
       "\n",
       "    .dataframe tbody tr th {\n",
       "        vertical-align: top;\n",
       "    }\n",
       "\n",
       "    .dataframe thead th {\n",
       "        text-align: right;\n",
       "    }\n",
       "</style>\n",
       "<table border=\"1\" class=\"dataframe\">\n",
       "  <thead>\n",
       "    <tr style=\"text-align: right;\">\n",
       "      <th></th>\n",
       "      <th>mean</th>\n",
       "      <th>mean_se</th>\n",
       "      <th>mean_ci_lower</th>\n",
       "      <th>mean_ci_upper</th>\n",
       "      <th>obs_ci_lower</th>\n",
       "      <th>obs_ci_upper</th>\n",
       "    </tr>\n",
       "  </thead>\n",
       "  <tbody>\n",
       "    <tr>\n",
       "      <th>0</th>\n",
       "      <td>2.476867</td>\n",
       "      <td>0.109506</td>\n",
       "      <td>2.259469</td>\n",
       "      <td>2.694264</td>\n",
       "      <td>0.324755</td>\n",
       "      <td>4.628979</td>\n",
       "    </tr>\n",
       "  </tbody>\n",
       "</table>\n",
       "</div>"
      ],
      "text/plain": [
       "       mean   mean_se  mean_ci_lower  mean_ci_upper  obs_ci_lower  \\\n",
       "0  2.476867  0.109506       2.259469       2.694264      0.324755   \n",
       "\n",
       "   obs_ci_upper  \n",
       "0      4.628979  "
      ]
     },
     "execution_count": 16,
     "metadata": {},
     "output_type": "execute_result"
    }
   ],
   "source": [
    "intervals = model.get_prediction(predictor_vals)\n",
    "intervals.summary_frame(alpha=0.05)"
   ]
  },
  {
   "cell_type": "markdown",
   "id": "2fe69189",
   "metadata": {},
   "source": [
    "Predicted value for `lpsa` = 2.46, and prediction interval is \\[1.04, 3.87\\]"
   ]
  },
  {
   "cell_type": "code",
   "execution_count": 34,
   "id": "4cf7b717",
   "metadata": {},
   "outputs": [
    {
     "data": {
      "text/html": [
       "<table class=\"simpletable\">\n",
       "<caption>OLS Regression Results</caption>\n",
       "<tr>\n",
       "  <th>Dep. Variable:</th>          <td>lpsa</td>       <th>  R-squared:         </th> <td>   0.655</td>\n",
       "</tr>\n",
       "<tr>\n",
       "  <th>Model:</th>                   <td>OLS</td>       <th>  Adj. R-squared:    </th> <td>   0.623</td>\n",
       "</tr>\n",
       "<tr>\n",
       "  <th>Method:</th>             <td>Least Squares</td>  <th>  F-statistic:       </th> <td>   20.86</td>\n",
       "</tr>\n",
       "<tr>\n",
       "  <th>Date:</th>             <td>Tue, 17 Jan 2023</td> <th>  Prob (F-statistic):</th> <td>2.24e-17</td>\n",
       "</tr>\n",
       "<tr>\n",
       "  <th>Time:</th>                 <td>10:02:55</td>     <th>  Log-Likelihood:    </th> <td> -99.476</td>\n",
       "</tr>\n",
       "<tr>\n",
       "  <th>No. Observations:</th>      <td>    97</td>      <th>  AIC:               </th> <td>   217.0</td>\n",
       "</tr>\n",
       "<tr>\n",
       "  <th>Df Residuals:</th>          <td>    88</td>      <th>  BIC:               </th> <td>   240.1</td>\n",
       "</tr>\n",
       "<tr>\n",
       "  <th>Df Model:</th>              <td>     8</td>      <th>                     </th>     <td> </td>   \n",
       "</tr>\n",
       "<tr>\n",
       "  <th>Covariance Type:</th>      <td>nonrobust</td>    <th>                     </th>     <td> </td>   \n",
       "</tr>\n",
       "</table>\n",
       "<table class=\"simpletable\">\n",
       "<tr>\n",
       "      <td></td>         <th>coef</th>     <th>std err</th>      <th>t</th>      <th>P>|t|</th>  <th>[0.025</th>    <th>0.975]</th>  \n",
       "</tr>\n",
       "<tr>\n",
       "  <th>Intercept</th> <td>    0.6693</td> <td>    1.296</td> <td>    0.516</td> <td> 0.607</td> <td>   -1.907</td> <td>    3.246</td>\n",
       "</tr>\n",
       "<tr>\n",
       "  <th>lcavol</th>    <td>    0.5870</td> <td>    0.088</td> <td>    6.677</td> <td> 0.000</td> <td>    0.412</td> <td>    0.762</td>\n",
       "</tr>\n",
       "<tr>\n",
       "  <th>lweight</th>   <td>    0.4545</td> <td>    0.170</td> <td>    2.673</td> <td> 0.009</td> <td>    0.117</td> <td>    0.792</td>\n",
       "</tr>\n",
       "<tr>\n",
       "  <th>age</th>       <td>   -0.0196</td> <td>    0.011</td> <td>   -1.758</td> <td> 0.082</td> <td>   -0.042</td> <td>    0.003</td>\n",
       "</tr>\n",
       "<tr>\n",
       "  <th>lbph</th>      <td>    0.1071</td> <td>    0.058</td> <td>    1.832</td> <td> 0.070</td> <td>   -0.009</td> <td>    0.223</td>\n",
       "</tr>\n",
       "<tr>\n",
       "  <th>svi</th>       <td>    0.7662</td> <td>    0.244</td> <td>    3.136</td> <td> 0.002</td> <td>    0.281</td> <td>    1.252</td>\n",
       "</tr>\n",
       "<tr>\n",
       "  <th>lcp</th>       <td>   -0.1055</td> <td>    0.091</td> <td>   -1.159</td> <td> 0.250</td> <td>   -0.286</td> <td>    0.075</td>\n",
       "</tr>\n",
       "<tr>\n",
       "  <th>gleason</th>   <td>    0.0451</td> <td>    0.157</td> <td>    0.287</td> <td> 0.775</td> <td>   -0.268</td> <td>    0.358</td>\n",
       "</tr>\n",
       "<tr>\n",
       "  <th>pgg45</th>     <td>    0.0045</td> <td>    0.004</td> <td>    1.024</td> <td> 0.309</td> <td>   -0.004</td> <td>    0.013</td>\n",
       "</tr>\n",
       "</table>\n",
       "<table class=\"simpletable\">\n",
       "<tr>\n",
       "  <th>Omnibus:</th>       <td> 0.235</td> <th>  Durbin-Watson:     </th> <td>   1.507</td>\n",
       "</tr>\n",
       "<tr>\n",
       "  <th>Prob(Omnibus):</th> <td> 0.889</td> <th>  Jarque-Bera (JB):  </th> <td>   0.026</td>\n",
       "</tr>\n",
       "<tr>\n",
       "  <th>Skew:</th>          <td>-0.017</td> <th>  Prob(JB):          </th> <td>   0.987</td>\n",
       "</tr>\n",
       "<tr>\n",
       "  <th>Kurtosis:</th>      <td> 3.073</td> <th>  Cond. No.          </th> <td>1.28e+03</td>\n",
       "</tr>\n",
       "</table><br/><br/>Notes:<br/>[1] Standard Errors assume that the covariance matrix of the errors is correctly specified.<br/>[2] The condition number is large, 1.28e+03. This might indicate that there are<br/>strong multicollinearity or other numerical problems."
      ],
      "text/plain": [
       "<class 'statsmodels.iolib.summary.Summary'>\n",
       "\"\"\"\n",
       "                            OLS Regression Results                            \n",
       "==============================================================================\n",
       "Dep. Variable:                   lpsa   R-squared:                       0.655\n",
       "Model:                            OLS   Adj. R-squared:                  0.623\n",
       "Method:                 Least Squares   F-statistic:                     20.86\n",
       "Date:                Tue, 17 Jan 2023   Prob (F-statistic):           2.24e-17\n",
       "Time:                        10:02:55   Log-Likelihood:                -99.476\n",
       "No. Observations:                  97   AIC:                             217.0\n",
       "Df Residuals:                      88   BIC:                             240.1\n",
       "Df Model:                           8                                         \n",
       "Covariance Type:            nonrobust                                         \n",
       "==============================================================================\n",
       "                 coef    std err          t      P>|t|      [0.025      0.975]\n",
       "------------------------------------------------------------------------------\n",
       "Intercept      0.6693      1.296      0.516      0.607      -1.907       3.246\n",
       "lcavol         0.5870      0.088      6.677      0.000       0.412       0.762\n",
       "lweight        0.4545      0.170      2.673      0.009       0.117       0.792\n",
       "age           -0.0196      0.011     -1.758      0.082      -0.042       0.003\n",
       "lbph           0.1071      0.058      1.832      0.070      -0.009       0.223\n",
       "svi            0.7662      0.244      3.136      0.002       0.281       1.252\n",
       "lcp           -0.1055      0.091     -1.159      0.250      -0.286       0.075\n",
       "gleason        0.0451      0.157      0.287      0.775      -0.268       0.358\n",
       "pgg45          0.0045      0.004      1.024      0.309      -0.004       0.013\n",
       "==============================================================================\n",
       "Omnibus:                        0.235   Durbin-Watson:                   1.507\n",
       "Prob(Omnibus):                  0.889   Jarque-Bera (JB):                0.026\n",
       "Skew:                          -0.017   Prob(JB):                        0.987\n",
       "Kurtosis:                       3.073   Cond. No.                     1.28e+03\n",
       "==============================================================================\n",
       "\n",
       "Notes:\n",
       "[1] Standard Errors assume that the covariance matrix of the errors is correctly specified.\n",
       "[2] The condition number is large, 1.28e+03. This might indicate that there are\n",
       "strong multicollinearity or other numerical problems.\n",
       "\"\"\""
      ]
     },
     "execution_count": 34,
     "metadata": {},
     "output_type": "execute_result"
    }
   ],
   "source": [
    "prostate = pd.read_csv('./Datasets/prostate.csv')\n",
    "predictors=list(prostate.columns)\n",
    "predictors.remove('lpsa')\n",
    "predictors = \"+\".join(predictors)\n",
    "model = smf.ols(formula='lpsa~'+predictors, data=prostate).fit()\n",
    "model.summary()"
   ]
  },
  {
   "cell_type": "code",
   "execution_count": 35,
   "id": "ec5270ef",
   "metadata": {},
   "outputs": [
    {
     "data": {
      "text/plain": [
       "0.5018525374082506"
      ]
     },
     "execution_count": 35,
     "metadata": {},
     "output_type": "execute_result"
    }
   ],
   "source": [
    "model.mse_resid"
   ]
  },
  {
   "cell_type": "code",
   "execution_count": 37,
   "id": "7b135f5f",
   "metadata": {},
   "outputs": [
    {
     "data": {
      "text/html": [
       "<table class=\"simpletable\">\n",
       "<caption>OLS Regression Results</caption>\n",
       "<tr>\n",
       "  <th>Dep. Variable:</th>          <td>lpsa</td>       <th>  R-squared:         </th> <td>   0.626</td>\n",
       "</tr>\n",
       "<tr>\n",
       "  <th>Model:</th>                   <td>OLS</td>       <th>  Adj. R-squared:    </th> <td>   0.614</td>\n",
       "</tr>\n",
       "<tr>\n",
       "  <th>Method:</th>             <td>Least Squares</td>  <th>  F-statistic:       </th> <td>   51.99</td>\n",
       "</tr>\n",
       "<tr>\n",
       "  <th>Date:</th>             <td>Tue, 17 Jan 2023</td> <th>  Prob (F-statistic):</th> <td>8.05e-20</td>\n",
       "</tr>\n",
       "<tr>\n",
       "  <th>Time:</th>                 <td>10:03:08</td>     <th>  Log-Likelihood:    </th> <td> -103.30</td>\n",
       "</tr>\n",
       "<tr>\n",
       "  <th>No. Observations:</th>      <td>    97</td>      <th>  AIC:               </th> <td>   214.6</td>\n",
       "</tr>\n",
       "<tr>\n",
       "  <th>Df Residuals:</th>          <td>    93</td>      <th>  BIC:               </th> <td>   224.9</td>\n",
       "</tr>\n",
       "<tr>\n",
       "  <th>Df Model:</th>              <td>     3</td>      <th>                     </th>     <td> </td>   \n",
       "</tr>\n",
       "<tr>\n",
       "  <th>Covariance Type:</th>      <td>nonrobust</td>    <th>                     </th>     <td> </td>   \n",
       "</tr>\n",
       "</table>\n",
       "<table class=\"simpletable\">\n",
       "<tr>\n",
       "      <td></td>         <th>coef</th>     <th>std err</th>      <th>t</th>      <th>P>|t|</th>  <th>[0.025</th>    <th>0.975]</th>  \n",
       "</tr>\n",
       "<tr>\n",
       "  <th>Intercept</th> <td>   -0.2681</td> <td>    0.543</td> <td>   -0.493</td> <td> 0.623</td> <td>   -1.347</td> <td>    0.811</td>\n",
       "</tr>\n",
       "<tr>\n",
       "  <th>lcavol</th>    <td>    0.5516</td> <td>    0.075</td> <td>    7.388</td> <td> 0.000</td> <td>    0.403</td> <td>    0.700</td>\n",
       "</tr>\n",
       "<tr>\n",
       "  <th>lweight</th>   <td>    0.5085</td> <td>    0.150</td> <td>    3.386</td> <td> 0.001</td> <td>    0.210</td> <td>    0.807</td>\n",
       "</tr>\n",
       "<tr>\n",
       "  <th>svi</th>       <td>    0.6662</td> <td>    0.210</td> <td>    3.176</td> <td> 0.002</td> <td>    0.250</td> <td>    1.083</td>\n",
       "</tr>\n",
       "</table>\n",
       "<table class=\"simpletable\">\n",
       "<tr>\n",
       "  <th>Omnibus:</th>       <td> 0.647</td> <th>  Durbin-Watson:     </th> <td>   1.467</td>\n",
       "</tr>\n",
       "<tr>\n",
       "  <th>Prob(Omnibus):</th> <td> 0.723</td> <th>  Jarque-Bera (JB):  </th> <td>   0.776</td>\n",
       "</tr>\n",
       "<tr>\n",
       "  <th>Skew:</th>          <td>-0.118</td> <th>  Prob(JB):          </th> <td>   0.679</td>\n",
       "</tr>\n",
       "<tr>\n",
       "  <th>Kurtosis:</th>      <td> 2.631</td> <th>  Cond. No.          </th> <td>    31.6</td>\n",
       "</tr>\n",
       "</table><br/><br/>Notes:<br/>[1] Standard Errors assume that the covariance matrix of the errors is correctly specified."
      ],
      "text/plain": [
       "<class 'statsmodels.iolib.summary.Summary'>\n",
       "\"\"\"\n",
       "                            OLS Regression Results                            \n",
       "==============================================================================\n",
       "Dep. Variable:                   lpsa   R-squared:                       0.626\n",
       "Model:                            OLS   Adj. R-squared:                  0.614\n",
       "Method:                 Least Squares   F-statistic:                     51.99\n",
       "Date:                Tue, 17 Jan 2023   Prob (F-statistic):           8.05e-20\n",
       "Time:                        10:03:08   Log-Likelihood:                -103.30\n",
       "No. Observations:                  97   AIC:                             214.6\n",
       "Df Residuals:                      93   BIC:                             224.9\n",
       "Df Model:                           3                                         \n",
       "Covariance Type:            nonrobust                                         \n",
       "==============================================================================\n",
       "                 coef    std err          t      P>|t|      [0.025      0.975]\n",
       "------------------------------------------------------------------------------\n",
       "Intercept     -0.2681      0.543     -0.493      0.623      -1.347       0.811\n",
       "lcavol         0.5516      0.075      7.388      0.000       0.403       0.700\n",
       "lweight        0.5085      0.150      3.386      0.001       0.210       0.807\n",
       "svi            0.6662      0.210      3.176      0.002       0.250       1.083\n",
       "==============================================================================\n",
       "Omnibus:                        0.647   Durbin-Watson:                   1.467\n",
       "Prob(Omnibus):                  0.723   Jarque-Bera (JB):                0.776\n",
       "Skew:                          -0.118   Prob(JB):                        0.679\n",
       "Kurtosis:                       2.631   Cond. No.                         31.6\n",
       "==============================================================================\n",
       "\n",
       "Notes:\n",
       "[1] Standard Errors assume that the covariance matrix of the errors is correctly specified.\n",
       "\"\"\""
      ]
     },
     "execution_count": 37,
     "metadata": {},
     "output_type": "execute_result"
    }
   ],
   "source": [
    "model = smf.ols(formula='lpsa~lcavol+lweight+svi', data=prostate).fit()\n",
    "model.summary()"
   ]
  },
  {
   "cell_type": "code",
   "execution_count": 38,
   "id": "9ddcf178",
   "metadata": {},
   "outputs": [
    {
     "data": {
      "text/plain": [
       "0.513815701532462"
      ]
     },
     "execution_count": 38,
     "metadata": {},
     "output_type": "execute_result"
    }
   ],
   "source": [
    "model.mse_resid"
   ]
  },
  {
   "cell_type": "code",
   "execution_count": 31,
   "id": "c8830479",
   "metadata": {},
   "outputs": [
    {
     "name": "stdout",
     "output_type": "stream",
     "text": [
      "<F test: F=array([[3.15970915]]), p=0.007461102808167509, df_denom=88, df_num=6>\n"
     ]
    }
   ],
   "source": [
    "hypotheses = '(gleason = 0, pgg45 = 0, lcp=0, age=0, lbph=0)'\n",
    "f_test = model.f_test(hypotheses)\n",
    "print(f_test)"
   ]
  },
  {
   "cell_type": "markdown",
   "id": "4393cced-a26a-47a9-a23d-cba029eeaf27",
   "metadata": {},
   "source": [
    "## Petrol consumption\n",
    "\n",
    "Read the dataset *petrol_consumption_train.csv*. It contains the following five columns: \n",
    "\n",
    "`Petrol_tax`: Petrol tax (cents per gallon) \n",
    "\n",
    "`Per_capita_income`: Average income (dollars) \n",
    "\n",
    "`Paved_highways`: Paved Highways (miles) \n",
    "\n",
    "`Prop_license`: Proportion of population with driver's licenses \n",
    "\n",
    "`Petrol_consumption`: Consumption of petrol (millions of gallons)"
   ]
  }
 ],
 "metadata": {
  "kernelspec": {
   "display_name": "Python 3",
   "language": "python",
   "name": "python3"
  },
  "language_info": {
   "codemirror_mode": {
    "name": "ipython",
    "version": 3
   },
   "file_extension": ".py",
   "mimetype": "text/x-python",
   "name": "python",
   "nbconvert_exporter": "python",
   "pygments_lexer": "ipython3",
   "version": "3.8.8"
  }
 },
 "nbformat": 4,
 "nbformat_minor": 5
}
