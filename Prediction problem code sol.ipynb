{
 "cells": [
  {
   "cell_type": "raw",
   "id": "7922f496",
   "metadata": {},
   "source": [
    "---\n",
    "title: \"Regression prediction problem: Common mistakes\"\n",
    "format: \n",
    "  html:\n",
    "    code-fold: false\n",
    "    toc-depth: 4\n",
    "    jupyter: python3\n",
    "    number-sections: false\n",
    "---"
   ]
  },
  {
   "cell_type": "markdown",
   "id": "bf68fc6d",
   "metadata": {},
   "source": [
    "Below is a sample solution to the regression prediction problem that consists of conceptual mistakes, and semantic errors. This highlights some of the common mistakes that students make in their solutions."
   ]
  },
  {
   "cell_type": "markdown",
   "id": "ba7e1067",
   "metadata": {},
   "source": [
    "## Step 0\n",
    "\n",
    "Assuming missing value imputation, and data cleaning *(such as converting `price` to numeric, etc.)* has been done already. The cleaned train and test datasets are `train_clean`, and `test_clean` respectively."
   ]
  },
  {
   "cell_type": "code",
   "execution_count": 3,
   "id": "04c70d28",
   "metadata": {},
   "outputs": [
    {
     "name": "stdout",
     "output_type": "stream",
     "text": [
      "Once deleted, variables cannot be recovered. Proceed (y/[n])? y\n"
     ]
    }
   ],
   "source": [
    "#| eval: false\n",
    "\n",
    "%reset\n",
    "\n",
    "# Imputing missing values & cleaning data\n",
    "%run \"missing_value_imputation.ipynb\""
   ]
  },
  {
   "cell_type": "markdown",
   "id": "033d43f4",
   "metadata": {},
   "source": [
    "## Step 1\n",
    "### Response transformation"
   ]
  },
  {
   "cell_type": "markdown",
   "id": "27243844",
   "metadata": {},
   "source": [
    "Let us visualize the distribution of the response `price`."
   ]
  },
  {
   "cell_type": "code",
   "execution_count": 12,
   "id": "b5c40437",
   "metadata": {},
   "outputs": [
    {
     "data": {
      "image/png": "[encoded data removed]",
      "text/plain": [
       "<Figure size 640x480 with 1 Axes>"
      ]
     },
     "metadata": {},
     "output_type": "display_data"
    }
   ],
   "source": [
    "#| eval: false\n",
    "\n",
    "sns.histplot(train_clean.price)\n",
    "plt.xlim([0,2000]);"
   ]
  },
  {
   "cell_type": "markdown",
   "id": "ad01068e",
   "metadata": {},
   "source": [
    "As the response `price` is right-skewed, we will take the log-transform to reduce the skew."
   ]
  },
  {
   "cell_type": "code",
   "execution_count": 4,
   "id": "03582af2",
   "metadata": {},
   "outputs": [],
   "source": [
    "#| eval: false\n",
    "\n",
    "train_clean['log_price'] = np.log(train_clean.price)"
   ]
  },
  {
   "cell_type": "markdown",
   "id": "f2d24a23",
   "metadata": {},
   "source": [
    "**<font color='blue'>No mistake!</font>**"
   ]
  },
  {
   "cell_type": "markdown",
   "id": "292f6fc9",
   "metadata": {},
   "source": [
    "<font color='grey'> However, if you have mentioned something like the following, it is fine.</font>\n",
    "\n",
    "<font color='grey'> When plotting the price to determine if it needed a transformation you set the x-axis limit to a max of 2000, this will prevent you from understanding the extent of the skew in the data, and also prevents you from noting what may be some extreme outliers in the data (like a value of 99,000) which may require further exploration if they turn out to be influential points. The solution would be to not include a limit in the plot. Using log of price to solve the right skew issue is the correct transformation.</font>"
   ]
  },
  {
   "cell_type": "markdown",
   "id": "43ec936c",
   "metadata": {},
   "source": [
    "## Step 2\n",
    "### Capping outliers"
   ]
  },
  {
   "cell_type": "markdown",
   "id": "28c5dd2c",
   "metadata": {},
   "source": [
    "As outliers may distort the regression model, let us cap the outlying values of the transformed response."
   ]
  },
  {
   "cell_type": "code",
   "execution_count": 14,
   "id": "dbd7ec0f",
   "metadata": {},
   "outputs": [],
   "source": [
    "#| eval: false\n",
    "\n",
    "#Finding upper and lower quartiles and interquartile range\n",
    "q1 = np.percentile(train_clean['log_price'],25)\n",
    "q3 = np.percentile(train_clean['log_price'],75)\n",
    "intQ_range = q3-q1"
   ]
  },
  {
   "cell_type": "code",
   "execution_count": 15,
   "id": "68b4690b",
   "metadata": {},
   "outputs": [],
   "source": [
    "#| eval: false\n",
    "\n",
    "#Tukey's fences\n",
    "Lower_fence = q1 - 1.5*intQ_range\n",
    "Upper_fence = q3 + 1.5*intQ_range"
   ]
  },
  {
   "cell_type": "code",
   "execution_count": 16,
   "id": "aa0d29c0",
   "metadata": {},
   "outputs": [],
   "source": [
    "#| eval: false\n",
    "\n",
    "# Capping the outlying values\n",
    "train_clean.loc[(train_clean.log_price < Lower_fence), 'log_price'] = Lower_fence\n",
    "train_clean.loc[(train_clean.log_price > Upper_fence), 'log_price'] = Upper_fence"
   ]
  },
  {
   "cell_type": "markdown",
   "id": "2e73873a",
   "metadata": {},
   "source": [
    "**<font color='blue'>Mistake 1: Should find outliers with respect to the model</font>** (1 point)"
   ]
  },
  {
   "cell_type": "markdown",
   "id": "676e2069",
   "metadata": {},
   "source": [
    "<font color='blue'>Capping outliers is the wrong approach to take because outliers may not have much impact on the data if they are not influential points, and we may be able to explain these outliers easily in our model. For example we may find that these outliers have extremely large values for `accommodates` and this may be why they have such high values. Removing them prevents the model from addressing what may be things it easily could in a model. Removing points that could have been explained by the model will mean we will likely underestimate similar data points in the test data set.</font>"
   ]
  },
  {
   "cell_type": "markdown",
   "id": "13898869",
   "metadata": {},
   "source": [
    "## Step 3"
   ]
  },
  {
   "cell_type": "markdown",
   "id": "b7b9d3ba",
   "metadata": {},
   "source": [
    "### Combining levels of categorical predictors with very few observations"
   ]
  },
  {
   "cell_type": "markdown",
   "id": "46cbde67",
   "metadata": {},
   "source": [
    "Some levels of categorical variables may have very few observations, which may lead to unreliable estimates of their regression coefficients. Thus, we will merge such levels into an 'others' category."
   ]
  },
  {
   "cell_type": "markdown",
   "id": "e75af714",
   "metadata": {},
   "source": [
    "There are 76 levels of `neighbourhood_cleansed` some of which have very few observations."
   ]
  },
  {
   "cell_type": "code",
   "execution_count": 19,
   "id": "c39f56e0",
   "metadata": {},
   "outputs": [
    {
     "data": {
      "text/plain": [
       "(76,)"
      ]
     },
     "execution_count": 19,
     "metadata": {},
     "output_type": "execute_result"
    }
   ],
   "source": [
    "#| eval: false\n",
    "\n",
    "train_clean.neighbourhood_cleansed.value_counts().shape"
   ]
  },
  {
   "cell_type": "code",
   "execution_count": 20,
   "id": "d4e7ed79",
   "metadata": {},
   "outputs": [
    {
     "data": {
      "text/plain": [
       "South Deering    2\n",
       "West Elsdon      2\n",
       "Riverdale        1\n",
       "Gage Park        1\n",
       "Edison Park      1\n",
       "Name: neighbourhood_cleansed, dtype: int64"
      ]
     },
     "execution_count": 20,
     "metadata": {},
     "output_type": "execute_result"
    }
   ],
   "source": [
    "#| eval: false\n",
    "\n",
    "train_clean.neighbourhood_cleansed.value_counts().tail()"
   ]
  },
  {
   "cell_type": "code",
   "execution_count": 21,
   "id": "1cfc9af4",
   "metadata": {},
   "outputs": [
    {
     "data": {
      "text/plain": [
       "(76,)"
      ]
     },
     "execution_count": 21,
     "metadata": {},
     "output_type": "execute_result"
    }
   ],
   "source": [
    "#| eval: false\n",
    "\n",
    "test_clean.neighbourhood_cleansed.value_counts().shape"
   ]
  },
  {
   "cell_type": "code",
   "execution_count": 22,
   "id": "d1d3ad31",
   "metadata": {},
   "outputs": [
    {
     "data": {
      "text/plain": [
       "Avalon Park        1\n",
       "South Deering      1\n",
       "Mount Greenwood    1\n",
       "Edison Park        1\n",
       "Chicago Lawn       1\n",
       "Name: neighbourhood_cleansed, dtype: int64"
      ]
     },
     "execution_count": 22,
     "metadata": {},
     "output_type": "execute_result"
    }
   ],
   "source": [
    "#| eval: false\n",
    "\n",
    "test_clean.neighbourhood_cleansed.value_counts().tail()"
   ]
  },
  {
   "cell_type": "markdown",
   "id": "34dbaf3f",
   "metadata": {},
   "source": [
    "Let us merge levels of `neighbourhood_cleansed` that have less than 40 observations. **Assume that 40 is a reasonable cut-off. There is no mistake in the choice of this cut-off.**"
   ]
  },
  {
   "cell_type": "code",
   "execution_count": 23,
   "id": "6f287650",
   "metadata": {},
   "outputs": [],
   "source": [
    "#| eval: false\n",
    "\n",
    "# Merging levels of neighbourhood_cleansed that have less than 40 observations in train data\n",
    "train_clean['neighbourhood_cleansed'] = train_clean[['id','neighbourhood_cleansed']].groupby(['neighbourhood_cleansed'], \n",
    "    group_keys=False).transform(lambda x:'others' if x.count() < 40 else train_clean.loc[x.index,'neighbourhood_cleansed'])"
   ]
  },
  {
   "cell_type": "code",
   "execution_count": 24,
   "id": "b5d83759",
   "metadata": {},
   "outputs": [],
   "source": [
    "#| eval: false\n",
    "\n",
    "# Merging levels of neighbourhood_cleansed that have less than 40 observations in test data\n",
    "test_clean['neighbourhood_cleansed'] = test_clean[['id','neighbourhood_cleansed']].groupby(['neighbourhood_cleansed'], \n",
    "    group_keys=False).transform(lambda x:'others' if x.count() < 40 else test_clean.loc[x.index,'neighbourhood_cleansed'])"
   ]
  },
  {
   "cell_type": "markdown",
   "id": "8f0ea4f6",
   "metadata": {},
   "source": [
    "Similarly, we can merge levels of all such categorical variables, using appropriate cut-offs."
   ]
  },
  {
   "cell_type": "markdown",
   "id": "ba6a8439",
   "metadata": {},
   "source": [
    "**<font color='blue'>Mistake 2: Should keep neighbourhoods in test that are in train, instead of using the cut-off used in train</font>** (0.5 points)"
   ]
  },
  {
   "cell_type": "markdown",
   "id": "66e7894a",
   "metadata": {},
   "source": [
    "<font color='blue'> Some neighbourhoods that have more than 40 observations in train data may have less than 40 observations in test data. Such neighbourhoods will be renamed as 'others' in the test data, but not in the train data, which will lead to different distinct dummy variables for neighbourhoods in train and test data. To rectify that, you may create columns for those neighbourhoods in test data, and set all values as 0. However, that will be inaccurate because those neighbourhoods actually have listings in the test data, but they were renamed as 'others'. So, the correction will be to simlpy rename all those neighbourhoods as 'others' in test data that are renamed as 'others' in the train data.</font>"
   ]
  },
  {
   "cell_type": "markdown",
   "id": "eedd2c78",
   "metadata": {},
   "source": [
    "## Step 4\n",
    "### Dummy variables"
   ]
  },
  {
   "cell_type": "markdown",
   "id": "a56a37b2",
   "metadata": {},
   "source": [
    "Let us convert categorical variables to dummy variables, as we intend to develop a ridge regression model. We will use the argument `drop_first = True` in the Pandas function `get_dummies()` as it reduces the size of the dataset without losing any information from the data."
   ]
  },
  {
   "cell_type": "code",
   "execution_count": 5,
   "id": "17607734",
   "metadata": {},
   "outputs": [],
   "source": [
    "#| eval: false\n",
    "\n",
    "# Train data\n",
    "train_clean = pd.get_dummies(train_clean, drop_first = True)\n",
    "\n",
    "# Cleaning column names\n",
    "train_clean.columns = train_clean.columns.str.replace(' ', '_')\n",
    "train_clean.columns = train_clean.columns.str.replace('-', '_')\n",
    "train_clean.columns = train_clean.columns.str.replace('/', '_')\n",
    "\n",
    "# Test data\n",
    "test_clean = pd.get_dummies(test_clean, drop_first = True)\n",
    "\n",
    "# Cleaning column names\n",
    "test_clean.columns = test_clean.columns.str.replace(' ', '_')\n",
    "test_clean.columns = test_clean.columns.str.replace('-', '_')\n",
    "test_clean.columns = test_clean.columns.str.replace('/', '_')"
   ]
  },
  {
   "cell_type": "markdown",
   "id": "cd05dbb6",
   "metadata": {},
   "source": [
    "Let us check if we have the same number of columns in the train and test data."
   ]
  },
  {
   "cell_type": "code",
   "execution_count": 6,
   "id": "51d0764c",
   "metadata": {},
   "outputs": [
    {
     "data": {
      "text/plain": [
       "(5000, 96)"
      ]
     },
     "execution_count": 6,
     "metadata": {},
     "output_type": "execute_result"
    }
   ],
   "source": [
    "#| eval: false\n",
    "\n",
    "train_clean.shape"
   ]
  },
  {
   "cell_type": "code",
   "execution_count": 7,
   "id": "4a80d45b",
   "metadata": {},
   "outputs": [
    {
     "data": {
      "text/plain": [
       "(3338, 91)"
      ]
     },
     "execution_count": 7,
     "metadata": {},
     "output_type": "execute_result"
    }
   ],
   "source": [
    "#| eval: false\n",
    "\n",
    "test_clean.shape"
   ]
  },
  {
   "cell_type": "code",
   "execution_count": 8,
   "id": "fab6e5bc",
   "metadata": {},
   "outputs": [
    {
     "data": {
      "text/plain": [
       "array(['log_price', 'neighbourhood_cleansed_Avondale',\n",
       "       'neighbourhood_cleansed_Douglas',\n",
       "       'neighbourhood_cleansed_Lincoln_Square', 'price'], dtype=object)"
      ]
     },
     "execution_count": 8,
     "metadata": {},
     "output_type": "execute_result"
    }
   ],
   "source": [
    "#| eval: false\n",
    "\n",
    "# Columns in train data that are not in test data\n",
    "np.setdiff1d(train_clean.columns, test_clean.columns)"
   ]
  },
  {
   "cell_type": "markdown",
   "id": "7af98e22",
   "metadata": {},
   "source": [
    "There are listings in 3 neighbourhoods in the train data that must also be in test data. Let us create the columns for those neighbourhoods in test data so that we have the same columns in both train and test datasets."
   ]
  },
  {
   "cell_type": "code",
   "execution_count": 9,
   "id": "f81f96cc",
   "metadata": {},
   "outputs": [],
   "source": [
    "#| eval: false\n",
    "\n",
    "test_clean['neighbourhood_cleansed_Douglas'] = 0\n",
    "test_clean['neighbourhood_cleansed_Lincoln_Square'] = 0\n",
    "test_clean['neighbourhood_cleansed_Avondale'] = 0"
   ]
  },
  {
   "cell_type": "markdown",
   "id": "7b2feeb9",
   "metadata": {},
   "source": [
    "**<font color='blue'>No mistake!</font>**\n",
    "    \n",
    "<font color='grey'>However, if you have explained the mistake of the previous step in this step, it is fine.</font>"
   ]
  },
  {
   "cell_type": "markdown",
   "id": "1224755c",
   "metadata": {},
   "source": [
    "## Step 5\n",
    "### Ordinal variables"
   ]
  },
  {
   "cell_type": "markdown",
   "id": "9121b29d",
   "metadata": {},
   "source": [
    "Here is an idea to further reduce the size of the dataset without losing any information. We will use the dummy variables to create an ordinal variable, which will have the information of all the dummy variables that correspond to the same categorical variable."
   ]
  },
  {
   "cell_type": "markdown",
   "id": "481a0900",
   "metadata": {},
   "source": [
    "Let us replace the dummy variables of `room_type` with an ordinal variable."
   ]
  },
  {
   "cell_type": "code",
   "execution_count": 10,
   "id": "b7a3e307",
   "metadata": {},
   "outputs": [],
   "source": [
    "#| eval: false\n",
    "\n",
    "####----Train data processing---------####\n",
    "\n",
    "# making one big room_type column including all of the room types \n",
    "train_clean['room_type'] = (train_clean['room_type_Hotel_room'] * 1 +\n",
    "                   train_clean['room_type_Private_room'] * 2 + train_clean['room_type_Shared_room'] * 3 + \n",
    "                           (1-(train_clean['room_type_Hotel_room']+ train_clean['room_type_Private_room'] + \\\n",
    "                               train_clean['room_type_Shared_room']))*4  )\n",
    "\n",
    "# Drop the dummy variables\n",
    "train_clean.drop(columns = ['room_type_Hotel_room', 'room_type_Private_room', 'room_type_Shared_room'],inplace=True)\n",
    "\n",
    "\n",
    "####----Test data processing---------####\n",
    "\n",
    "# making one big room_type column including all of the room types \n",
    "test_clean['room_type'] = (test_clean['room_type_Hotel_room'] * 1 +\n",
    "                   test_clean['room_type_Private_room'] * 2 + test_clean['room_type_Shared_room'] * 3 + \n",
    "                           (1-(test_clean['room_type_Hotel_room']+ test_clean['room_type_Private_room'] + \\\n",
    "                               test_clean['room_type_Shared_room']))*4  )\n",
    "\n",
    "# Drop the dummy variables\n",
    "test_clean.drop(columns = ['room_type_Hotel_room', 'room_type_Private_room', 'room_type_Shared_room'],inplace=True)"
   ]
  },
  {
   "cell_type": "markdown",
   "id": "79177ae5",
   "metadata": {},
   "source": [
    "Similarly, other dummy variables can be converted to ordinal variables to reduce data size without losing any information."
   ]
  },
  {
   "cell_type": "markdown",
   "id": "83304f7b",
   "metadata": {},
   "source": [
    "**<font color='blue'>Mistake 3: Creating unreasonable constraint</font>** (1 point)"
   ]
  },
  {
   "cell_type": "markdown",
   "id": "c27b05f1",
   "metadata": {},
   "source": [
    "<font color='blue'>Ordinal variables are not appropriate in this scenario because this relies on the assumption that there is an inherent hierarchy to the dummy variable which is not true. This step should be skipped (or only be applied to things we know are hierarchical in nature). Even if there was a hierarchy, another constraint it adds is that the difference between the expected response for any two consecutive levels of the hierarchy is the same.</font>"
   ]
  },
  {
   "cell_type": "markdown",
   "id": "b1618f48",
   "metadata": {},
   "source": [
    "## Step 6\n",
    "### Scaling data\n",
    "\n",
    "As we plan to develop a ridge regression model, we will scale predictors."
   ]
  },
  {
   "cell_type": "code",
   "execution_count": 11,
   "id": "4d339889",
   "metadata": {},
   "outputs": [],
   "source": [
    "#| eval: false\n",
    "\n",
    "X_train = train_clean.drop(columns = ['price', 'log_price', 'id', 'host_id'])\n",
    "X_test = test_clean.drop(columns = ['id', 'host_id'])"
   ]
  },
  {
   "cell_type": "code",
   "execution_count": 12,
   "id": "d9778f50",
   "metadata": {},
   "outputs": [],
   "source": [
    "#| eval: false\n",
    "\n",
    "scaler = StandardScaler()\n",
    "X_train_scaled = scaler.fit_transform(X_train)\n",
    "X_test_scaled = scaler.fit_transform(X_test)"
   ]
  },
  {
   "cell_type": "markdown",
   "id": "78142499",
   "metadata": {},
   "source": [
    "Let us check the shapes of train and test data to see if they are consistent."
   ]
  },
  {
   "cell_type": "code",
   "execution_count": 13,
   "id": "ed393fcb",
   "metadata": {},
   "outputs": [
    {
     "data": {
      "text/plain": [
       "(5000, 90)"
      ]
     },
     "execution_count": 13,
     "metadata": {},
     "output_type": "execute_result"
    }
   ],
   "source": [
    "#| eval: false\n",
    "\n",
    "X_train.shape"
   ]
  },
  {
   "cell_type": "code",
   "execution_count": 14,
   "id": "afbb5768",
   "metadata": {},
   "outputs": [
    {
     "data": {
      "text/plain": [
       "(3338, 90)"
      ]
     },
     "execution_count": 14,
     "metadata": {},
     "output_type": "execute_result"
    }
   ],
   "source": [
    "#| eval: false\n",
    "\n",
    "X_test.shape"
   ]
  },
  {
   "cell_type": "markdown",
   "id": "8b4c6dfa",
   "metadata": {},
   "source": [
    "Train and test datasets are consistent with regard to columns!"
   ]
  },
  {
   "cell_type": "markdown",
   "id": "25780292",
   "metadata": {},
   "source": [
    "**<font color='blue'>Mistake 4: Must use transform() on test data</font>** (1 point)"
   ]
  },
  {
   "cell_type": "markdown",
   "id": "e0288e69",
   "metadata": {},
   "source": [
    "<font color='blue'>`fit_transform` should not be used on test since we must scale the test data based on the mean and variance of the columns of the train data, and not the test data.</font>"
   ]
  },
  {
   "cell_type": "markdown",
   "id": "f92934db",
   "metadata": {},
   "source": [
    "## Step 7\n",
    "### Two-factor interactions"
   ]
  },
  {
   "cell_type": "markdown",
   "id": "22fe3733",
   "metadata": {},
   "source": [
    "Let us include two-factor interactions of all predictors."
   ]
  },
  {
   "cell_type": "code",
   "execution_count": 15,
   "id": "730dae13",
   "metadata": {},
   "outputs": [],
   "source": [
    "#| eval: false\n",
    "\n",
    "poly = PolynomialFeatures(2, include_bias = False)\n",
    "X_train_poly = poly.fit_transform(X_train_scaled)\n",
    "X_test_poly = poly.transform(X_test_scaled)"
   ]
  },
  {
   "cell_type": "markdown",
   "id": "82577c17",
   "metadata": {},
   "source": [
    "**<font color='blue'>Mistake 5: Must ensure that predictors are in the same order in train and test</font>** (0.5 points)"
   ]
  },
  {
   "cell_type": "markdown",
   "id": "949c8a3e",
   "metadata": {},
   "source": [
    "<font color='blue'>Note that three predictors *(or columns)* were added to test data in step 4. These columns will be added to the extreme right hand side of the test data set. This implies that the order in which the columns appear in the train and test data is different. This, in turn, implies that the order in which the columns appear in the scaled train and test data sets is also different. However, we lose the column names in the scaled datasets in Step 6. So, the function `transform()` used here doesn't throw an error that the columns must be in the same order, and creates the interactions. However, the interactions created in the train and test datasets are in a different order, which will lead to incorrect predictions on the test data.</font>"
   ]
  },
  {
   "cell_type": "markdown",
   "id": "679740fe",
   "metadata": {},
   "source": [
    "## Step 8\n",
    "### Model hyperparameter optimization"
   ]
  },
  {
   "cell_type": "markdown",
   "id": "ffdb309e",
   "metadata": {},
   "source": [
    "Let us find the optimal value of the regularization parameter for a ridge regression model."
   ]
  },
  {
   "cell_type": "code",
   "execution_count": 16,
   "id": "d90a4e23",
   "metadata": {},
   "outputs": [
    {
     "data": {
      "text/plain": [
       "100.0"
      ]
     },
     "execution_count": 16,
     "metadata": {},
     "output_type": "execute_result"
    }
   ],
   "source": [
    "#| eval: false\n",
    "\n",
    "alphas = np.logspace(2,0.5,2)\n",
    "modelcv = RidgeCV(alphas = alphas, scoring = 'neg_root_mean_squared_error').fit(X_train_poly, train_clean.log_price)\n",
    "modelcv.alpha_"
   ]
  },
  {
   "cell_type": "markdown",
   "id": "1bbb801b",
   "metadata": {},
   "source": [
    "**<font color='blue'>Mistake 6: Should expand search space</font>** (1 point)"
   ]
  },
  {
   "cell_type": "markdown",
   "id": "104a1fb9",
   "metadata": {},
   "source": [
    "<font color='blue'>If the optimal hyperparameter value is found at the edge of the search space, then the search space must be expanded in that direction. The cost function is highly likely to be minimized further if we continue search in the direction in which the cost function is decreasing.</font>"
   ]
  },
  {
   "cell_type": "markdown",
   "id": "16c82652",
   "metadata": {},
   "source": [
    "## Step 9\n",
    "### Cross-validation"
   ]
  },
  {
   "cell_type": "markdown",
   "id": "42c66315",
   "metadata": {},
   "source": [
    "Let us find the 5-fold cross validated root mean squared error (RMSE) to check if the model with the optimal regularization parameter is good, before making predictions."
   ]
  },
  {
   "cell_type": "code",
   "execution_count": 24,
   "id": "9061da04",
   "metadata": {},
   "outputs": [
    {
     "data": {
      "text/plain": [
       "30.617446257505094"
      ]
     },
     "execution_count": 24,
     "metadata": {},
     "output_type": "execute_result"
    }
   ],
   "source": [
    "#| eval: false\n",
    "\n",
    "np.exp(np.mean(-cross_val_score(Ridge(alpha = modelcv.alpha_), X_train_poly, \n",
    "                train_clean.log_price, scoring = 'neg_root_mean_squared_error', n_jobs = -1)))"
   ]
  },
  {
   "cell_type": "markdown",
   "id": "0a11defa",
   "metadata": {},
   "source": [
    "The 5-fold cross-validated RMSE is only around $30. The model seems to be good! "
   ]
  },
  {
   "cell_type": "markdown",
   "id": "59a2f187",
   "metadata": {},
   "source": [
    "**<font color='blue'>Mistake 7: Incorrect back-transformation to units of response</font>** (1 point)"
   ]
  },
  {
   "cell_type": "markdown",
   "id": "ec556abc",
   "metadata": {},
   "source": [
    "<font color='blue'>`cross_val_score()` returns 5 errors in the units of log price. Taking the exponential of the averge of these errors does not convert the error into the units of the response. Here, the function `cross_val_predict()` needs to be used to get the predictions in units of log price, then those predictions should be exponentiated to get them in the units of price, and then the cross-validated error must be obtained by comparing the cross-validated predictions in the units of price to the actual untransformed price.</font>"
   ]
  },
  {
   "cell_type": "markdown",
   "id": "e7af083d",
   "metadata": {},
   "source": [
    "## Step 10\n",
    "### Model predictions"
   ]
  },
  {
   "cell_type": "markdown",
   "id": "61092a2d",
   "metadata": {},
   "source": [
    "Let us use the model corresponding to the optimal regularization parameter value to make predictions."
   ]
  },
  {
   "cell_type": "code",
   "execution_count": 45,
   "id": "75e65c34",
   "metadata": {},
   "outputs": [],
   "source": [
    "#| eval: false\n",
    "\n",
    "test_predictions = np.exp(modelcv.predict(X_test_poly))"
   ]
  },
  {
   "cell_type": "markdown",
   "id": "2ef32f9a",
   "metadata": {},
   "source": [
    "**<font color='blue'>No mistake</font>**"
   ]
  },
  {
   "cell_type": "markdown",
   "id": "61246ff8",
   "metadata": {},
   "source": [
    "## Order of steps"
   ]
  },
  {
   "cell_type": "markdown",
   "id": "9eff2b55",
   "metadata": {},
   "source": [
    "**<font color='blue'>Mistake 8:</font>**  (1 point)\n",
    "    \n",
    "<font color='blue'>Steps 7 must come before step 6, predictors must be scaled after including the two-factor interactions.</font>"
   ]
  }
 ],
 "metadata": {
  "kernelspec": {
   "display_name": "Python 3 (ipykernel)",
   "language": "python",
   "name": "python3"
  },
  "language_info": {
   "codemirror_mode": {
    "name": "ipython",
    "version": 3
   },
   "file_extension": ".py",
   "mimetype": "text/x-python",
   "name": "python",
   "nbconvert_exporter": "python",
   "pygments_lexer": "ipython3",
   "version": "3.8.17"
  }
 },
 "nbformat": 4,
 "nbformat_minor": 5
}
