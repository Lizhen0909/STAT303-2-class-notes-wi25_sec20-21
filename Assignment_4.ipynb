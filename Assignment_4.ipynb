{
 "cells": [
  {
   "cell_type": "raw",
   "id": "560730de",
   "metadata": {},
   "source": [
    "---\n",
    "title: \"Assignment 4\"\n",
    "format: \n",
    "  html:\n",
    "    toc: true\n",
    "    toc-title: Contents\n",
    "    toc-depth: 4\n",
    "    code-fold: show\n",
    "    self-contained: true\n",
    "    html-math-method: mathml \n",
    "jupyter: python3\n",
    "---"
   ]
  },
  {
   "cell_type": "markdown",
   "id": "4aeb5119",
   "metadata": {},
   "source": [
    "## Instructions {-}\n",
    "\n",
    "1. You may talk to a friend, discuss the questions and potential directions for solving them. However, you need to write your own solutions and code separately, and not as a group activity. \n",
    "\n",
    "2. Write your code in the **Code cells** and your answers in the **Markdown cells** of the Jupyter notebook. Ensure that the solution is written neatly enough to for the graders to understand and follow.\n",
    "\n",
    "3. Use [Quarto](https://quarto.org/docs/output-formats/html-basics.html) to render the **.ipynb** file as HTML. You will need to open the command prompt, navigate to the directory containing the file, and use the command: `quarto render filename.ipynb --to html`. Submit the HTML file.\n",
    "\n",
    "4. The assignment is worth 100 points, and is due on **Sunday, 3rd March 2024 at 11:59 pm**. \n",
    "\n",
    "5. There is a **bonus** question worth 11 points.\n",
    "\n",
    "6. **Five points are properly formatting the assignment**. The breakdown is as follows:\n",
    "    - Must be an HTML file rendered using Quarto **(1 point)**. *If you have a Quarto issue, you must mention the issue & quote the error you get when rendering using Quarto in the comments section of Canvas, and submit the ipynb file.* \n",
    "    - No name can be written on the assignment, nor can there be any indicator of the student’s identity—e.g. printouts of the working directory should not be included in the final submission.  **(1 point)**\n",
    "    - There aren’t excessively long outputs of extraneous information (e.g. no printouts of entire data frames without good reason, there aren’t long printouts of which iteration a loop is on, there aren’t long sections of commented-out code, etc.) **(1 point)**\n",
    "    - Final answers to each question are written in the Markdown cells. **(1 point)**\n",
    "    - There is no piece of unnecessary / redundant code, and no unnecessary / redundant text. **(1 point)**\n",
    "\n",
    "7.  The maximum possible score in the assigment is 99 + 11 + 5 = 115 out of 100."
   ]
  },
  {
   "cell_type": "markdown",
   "id": "bdd4ff42",
   "metadata": {},
   "source": [
    "## 1) Modeling the Radii of Exoplanets (40 points)"
   ]
  },
  {
   "cell_type": "markdown",
   "id": "76c41411",
   "metadata": {},
   "source": [
    "For this question, we are interested in predicting the radius of exoplanets (planets outside the Solar System) in kilometers. To achieve this goal, we will use NASA's Composite Planetary Systems dataset and different regression models. (See https://exoplanetarchive.ipac.caltech.edu for more context.)\n",
    "\n",
    "Read all three CompositePlanetarySystems datasets - you should have one training and two test datasets. Each row is an exoplanet. `pl_rade` column represents the radius of each exoplanet as a proportion of Earth’s radius, which is approximately 6,378 km."
   ]
  },
  {
   "cell_type": "markdown",
   "id": "bbf94967",
   "metadata": {},
   "source": [
    "### a)\n",
    "\n",
    "Develop a linear regression model (no non-linear terms) to predict `pl_rade` using all the variables in the data except `pl_name`, `disc_facility` and `disc_locale`. You can use statsmodels or sklearn. **(2 points)**"
   ]
  },
  {
   "cell_type": "markdown",
   "id": "7783e0b3",
   "metadata": {},
   "source": [
    "### b)\n",
    "\n",
    "Find the RMSE of the model using both test sets **separately**. (You need to print two RMSE values.) Note that the library you used should not make a difference here! **(2 points)**\n",
    "\n",
    "Print the training RMSE as well for reference. **(1 point)**"
   ]
  },
  {
   "cell_type": "markdown",
   "id": "ecc7cf23",
   "metadata": {},
   "source": [
    "### c)\n",
    "\n",
    "Compare the training and test RMSEs. **(1 point)** What is the issue with this model? **(1 point)**"
   ]
  },
  {
   "cell_type": "markdown",
   "id": "d1cf08b6",
   "metadata": {},
   "source": [
    "### d)\n",
    "\n",
    "Train a Ridge regression model to predict `pl_rade` using the same variables as above. Optimize the hyperparameter using the RidgeCV object with LOOCV and `neg_root_mean_squared_error` scoring. What is the optimal hyperparameter value? **(5 points)**\n",
    "\n",
    "**Note:**\n",
    "\n",
    "- Keep in mind that scaling is always necessary before Ridge/Lasso regression.\n",
    "- Use the following array of possible hyperparameter values: `alphas = np.logspace(2,0.5,200)`\n",
    "- You have to use the RidgeCV object for this question."
   ]
  },
  {
   "cell_type": "markdown",
   "id": "dfcaba70",
   "metadata": {},
   "source": [
    "### e)\n",
    "\n",
    "Using the optimized and trained model, print the RMSEs for the training set and both test sets. **(4 points)**"
   ]
  },
  {
   "cell_type": "markdown",
   "id": "e79e2927",
   "metadata": {},
   "source": [
    "### f)\n",
    "\n",
    "How did the training and test performance change? Explain why the Ridge regression changed the training and test results. **(3 points)**"
   ]
  },
  {
   "cell_type": "markdown",
   "id": "e3f1787b",
   "metadata": {},
   "source": [
    "### g)\n",
    "\n",
    "Find the predictor whose coefficient is shrunk by far the most by Ridge regularization. **(3 points)**\n",
    "\n",
    "**Hint:** .coef_ and .columns attributes should be helpful."
   ]
  },
  {
   "cell_type": "markdown",
   "id": "1237d8c9",
   "metadata": {},
   "source": [
    "### h)\n",
    "\n",
    "Why did the coefficient of the predictor identified in the previous question shrunk the most? Justify your answer for credit. **(2 points)**\n",
    "\n",
    "**Hint:** Correlation vector/matrix"
   ]
  },
  {
   "cell_type": "markdown",
   "id": "c5de1a1c",
   "metadata": {},
   "source": [
    "### i)\n",
    "\n",
    "Visualize how the coefficients change with the change in the hyperparameter value:\n",
    "\n",
    "- Create a line plot of coefficient values vs. the hyperparameter value.\n",
    "- Color code each predictor's coefficient values.\n",
    "- Use log scale where necessary.\n",
    "- Use an alphas vector of `np.logspace(7,0,200)` for better visualization\n",
    "\n",
    "**(5 points)**"
   ]
  },
  {
   "cell_type": "markdown",
   "id": "60054b0f",
   "metadata": {},
   "source": [
    "### **j)**\n",
    "\n",
    "Recreate some of the previous steps with Lasso regression.\n",
    "\n",
    "- **Using LassoCV only**, find the optimal hyperparameter value. **(2 points)**\n",
    "    - You need a different hyperparameter array - use: `np.logspace(0,-2.5,200)`\n",
    "    - Use 10-fold CV.\n",
    "    - Lasso object does not have a scoring input.\n",
    "- Using the optimized and trained Lasso model, print the RMSEs for the training set and both test sets. **(2 points)**\n",
    "- Visualize how the coefficients change with the change in the hyperparameter value. **(2 points)**\n",
    "    - Use the hyperparameter array as `np.logspace(7,-2.5,200)` for better visualization."
   ]
  },
  {
   "cell_type": "markdown",
   "id": "8cfcc349",
   "metadata": {},
   "source": [
    "### **k)** \n",
    "\n",
    "Using the two figures created in parts i and j, explain how the Ridge and the Lasso models behave differently as the hyperparameter value changes. **(2 points)** What does that difference mean for the usage of the Lasso model? **(1 point)**"
   ]
  },
  {
   "cell_type": "markdown",
   "id": "c2448fde",
   "metadata": {},
   "source": [
    "### **l)** \n",
    "\n",
    "Find the predictors that are eliminated by Lasso regularization. **(2 points)**"
   ]
  },
  {
   "cell_type": "markdown",
   "id": "a8145e87",
   "metadata": {},
   "source": [
    "## 2) Improving House Prices Prediction with Higher-order Terms and Crossvalidation (29 points)"
   ]
  },
  {
   "cell_type": "markdown",
   "id": "ececbb27",
   "metadata": {},
   "source": [
    "In this question, we are interested in improving the prediction performance for house prices using five predictors. \n",
    "\n",
    "### a) \n",
    "\n",
    "Read the house feature and price files and create the training and test datasets. The response is log-price and the five predictors are the rest of the variables, except house_id. **(2 points)**"
   ]
  },
  {
   "cell_type": "markdown",
   "id": "e3395a7f",
   "metadata": {},
   "source": [
    "### b)\n",
    "\n",
    "In class, we saw how an entirely linear model is not enough to capture the complexity in the relationship between the response and the predictors - in other words, it is underfitting. We want to analyze how the training and test performance change as the level of model complexity increases. \n",
    "\n",
    "Using PolynomialFeatures object, create higher-order versions of the predictors (both transformations and interactions) in the training and test data. **(3 points)** Using all predictors (linear and transformed), train a Ridge model with alpha=0.000001 **(2 points)**  and store the training and test RMSEs. **(2 points)** Repeat this process from order 1 to order 6. **(2 points)**\n",
    "\n",
    "Finally, plot the training and test RMSE values on the same figure against the order. **(1 point)** Make sure the two lineplots have different colors and a legend is included. **(1 points)**\n",
    "\n",
    "**Note:**\n",
    "\n",
    "- This question needs a loop.\n",
    "- PolynomialFeatures object keeps the lower order terms (k-1 to 1) while creating new predictors of order k, so no need to concatenate.\n",
    "- Don't forget to exclude the bias term created by default with PolynomialFeatures.\n",
    "- Don't forget to scale (correctly) **(2 points)**\n",
    "- Minimal regularization is necessary for this question, as opposed to pure Linear Regression, otherwise the test RMSE values go to infinity very quickly for higher orders."
   ]
  },
  {
   "cell_type": "markdown",
   "id": "74d4d79a",
   "metadata": {},
   "source": [
    "### **c)** \n",
    "\n",
    "Which order has the best test RMSE? **(1 point)** What is the best test RMSE? **(1 point)** At which order does the overfitting start? **(1 point)**"
   ]
  },
  {
   "cell_type": "markdown",
   "id": "57de30b3",
   "metadata": {},
   "source": [
    "### d)\n",
    "\n",
    "Repeat part b, only this time use RidgeCV to find the best amount of regularization for each order by cross-validation. Use `alphas = np.logspace(2,0.5,200)` and LOOCV. Use `neg_root_mean_squared_error` for scoring. Create the same plot as part b. **(4 points)** Describe the obvious difference between the plot in this part and the plot in part b. **(2 points)**"
   ]
  },
  {
   "cell_type": "markdown",
   "id": "eafe99ef",
   "metadata": {},
   "source": [
    "### e)\n",
    "\n",
    "What is the best test RMSE found by using higher-orders and regularization? **(1 point)** Which order achieved this test RMSE? **(1 point)** Why did this order with regularization perform better than any lower order with or (almost) without regularization? **(3 points)**"
   ]
  },
  {
   "cell_type": "markdown",
   "id": "b8f0ba23",
   "metadata": {},
   "source": [
    "## 3) Systematic Elimination of Interaction Terms (30 points)"
   ]
  },
  {
   "cell_type": "markdown",
   "id": "2f57165f",
   "metadata": {},
   "source": [
    "In this question, we are interested in predicting if the client subscribed to a term deposit or not after a phone call using  **age** and **education** of the client and the **day** and the **month** the call took place.\n",
    "\n",
    "Note that this is the same problem as in the previous assignment, however, **using sklearn**, we aim to make the predictive analysis with interactions more systematic."
   ]
  },
  {
   "cell_type": "markdown",
   "id": "d0ee6ded",
   "metadata": {},
   "source": [
    "### a) \n",
    "\n",
    "Read train.csv, test1.csv, and test2.csv. Prepare the training and two test datasets according the description above. **(2 points)**"
   ]
  },
  {
   "cell_type": "markdown",
   "id": "7c5edbe9",
   "metadata": {},
   "source": [
    "### b)\n",
    "\n",
    "For all datasets:\n",
    "\n",
    "- One-hot-encode the categorical predictors. **(2 points)**\n",
    "- Get the interactions of **all** the predictors. (Numeric and one-hot-encoded) **(3 points)**\n",
    "    - Note that there is a very quick way of doing this with PolynomialFeatures\n",
    "    - Don't forget to exclude the bias.\n",
    "- Scale the predictors (correctly.) **(2 points)**"
   ]
  },
  {
   "cell_type": "markdown",
   "id": "90b95e1d",
   "metadata": {},
   "source": [
    "### c)\n",
    "\n",
    "Train a Logistic Regression model with Lasso penalty. **(2 points)** The idea is to discard interactions that are not useful. Note that instead of the manual, trial-and-error way of adding interactions in statsmodels, we include all the possible interactions and then discard the useless ones here.\n",
    "\n",
    "- Use `[0.0001,0.001, 0.01, 0.1, 1, 10, 100, 1000]` as the possible C values. **(1 point)**\n",
    "- Use 10-fold cross-validation to optimize the C value. **(1 point)**\n",
    "- Lasso is very useful, but it needs special algorithms, since it includes non-differentiable absolute values. Use `saga` as the solver. **(1 point)**\n",
    "- For the same reason as above, the default number of iterations the algorithm takes is usually not enough for Lasso. Use `max_iter = 1000`. (Default is 500)  **(1 point)**\n",
    "- **This will take 10-20 minutes to run.**"
   ]
  },
  {
   "cell_type": "markdown",
   "id": "28fc159d",
   "metadata": {},
   "source": [
    "### d) \n",
    "\n",
    "How many models in total are run by this cross-validation process? **(2 points)**"
   ]
  },
  {
   "cell_type": "markdown",
   "id": "d3f5ac3c",
   "metadata": {},
   "source": [
    "### e) \n",
    "\n",
    "What is the optimum C value? **(1 point)** What is the lambda (in the Lasso cost) value it corresponds to? **(1 point)**"
   ]
  },
  {
   "cell_type": "markdown",
   "id": "982b23fe",
   "metadata": {},
   "source": [
    "### f)\n",
    "\n",
    "What is the percentage of terms (linear or interaction) that are discarded by Lasso? (**Hint:** .coef_) **(2 points)**"
   ]
  },
  {
   "cell_type": "markdown",
   "id": "c4899bc2",
   "metadata": {},
   "source": [
    "### g) \n",
    "\n",
    "Find the five terms that have the highest effect on the logodds of a subscription. Assume that we are quantifying the effect of a term with the absolute value of its coefficient. (**Hint:** .get_feature_names_out()) **(4 points)**"
   ]
  },
  {
   "cell_type": "markdown",
   "id": "77afcdc1",
   "metadata": {},
   "source": [
    "### h)\n",
    "\n",
    "Come up with real-life explanations on why the terms identified in the previous part are important. (This is an open-ended question, just make sure your answer makes sense.) **(2 points)**"
   ]
  },
  {
   "cell_type": "markdown",
   "id": "c387d5dd",
   "metadata": {},
   "source": [
    "### i) \n",
    "\n",
    "Lastly, find a threshold to get all three (training and both test) datasets above 75% accuracy and 50% recall. Note that you only worry about the threshold now. Lasso took care of finding good interactions. **(3 points)**"
   ]
  },
  {
   "cell_type": "markdown",
   "id": "edf81e5c",
   "metadata": {},
   "source": [
    "## 4) Bonus: ElasticNet (11 points)"
   ]
  },
  {
   "cell_type": "markdown",
   "id": "e7a0e4d9",
   "metadata": {},
   "source": [
    "The entire goal of this part is to get you familiar with an alternate model: ElasticNet. It is implemented by adding both Lasso and Ridge penalties to the RSS (or subtracting them from the loglikelihood.) How much Lasso and how much Ridge penalty is up to two hyperparameters."
   ]
  },
  {
   "cell_type": "markdown",
   "id": "b5525305",
   "metadata": {},
   "source": [
    "### a)\n",
    "\n",
    "For regression, sklearn has its own object and its CV version for ElasticNet. \n",
    "\n",
    "\n",
    "Do your own research and implement a 5-fold cross-validation for the options of 25% Lasso-75% Ridge, 50% Lasso-50% Ridge and 75% Lasso- 25% Ridge, and the alpha values of `alphas = np.logspace(10,0.1,200)`. \n",
    "\n",
    "- Use the dataset given in the first question (with the same columns dropped.)\n",
    "- You still need to scale.\n",
    "- Return the best Lasso-Ridge ratio and the alpha value pair that corresponds to the best test performance.\n",
    "- Note that even if you use the CV object, you have to use loops.\n",
    "\n",
    "**(8 points)**"
   ]
  },
  {
   "cell_type": "markdown",
   "id": "30c3646b",
   "metadata": {},
   "source": [
    "### b)\n",
    "\n",
    "How many models were run in the cross-validation process of two hyperparameters? **(1 point)**"
   ]
  },
  {
   "cell_type": "markdown",
   "id": "07231d6d",
   "metadata": {},
   "source": [
    "### c)\n",
    "\n",
    "Briefly mention how you would implement ElasticNet for Logistic Regression. Again, you need to do your own research. **(2 points)**"
   ]
  }
 ],
 "metadata": {
  "kernelspec": {
   "display_name": "Python 3 (ipykernel)",
   "language": "python",
   "name": "python3"
  },
  "language_info": {
   "codemirror_mode": {
    "name": "ipython",
    "version": 3
   },
   "file_extension": ".py",
   "mimetype": "text/x-python",
   "name": "python",
   "nbconvert_exporter": "python",
   "pygments_lexer": "ipython3",
   "version": "3.8.17"
  }
 },
 "nbformat": 4,
 "nbformat_minor": 5
}
