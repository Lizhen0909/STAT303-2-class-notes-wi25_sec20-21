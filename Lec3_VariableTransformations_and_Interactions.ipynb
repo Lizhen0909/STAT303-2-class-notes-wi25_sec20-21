{
 "cells": [
  {
   "cell_type": "raw",
   "id": "2fb3988b",
   "metadata": {},
   "source": [
    "---\n",
    "title: \"Variable interactions and transformations\"\n",
    "format: \n",
    "  html:\n",
    "    code-fold: false\n",
    "    toc-depth: 4\n",
    "    jupyter: python3\n",
    "---"
   ]
  },
  {
   "cell_type": "markdown",
   "id": "b1b231a8",
   "metadata": {},
   "source": [
    "## Variable interactions"
   ]
  },
  {
   "cell_type": "code",
   "execution_count": 35,
   "id": "bdb5a335",
   "metadata": {},
   "outputs": [],
   "source": [
    "import pandas as pd\n",
    "import numpy as np\n",
    "import statsmodels.formula.api as smf\n",
    "import seaborn as sns\n",
    "import matplotlib.pyplot as plt"
   ]
  },
  {
   "cell_type": "code",
   "execution_count": 36,
   "id": "4ffcff8f",
   "metadata": {},
   "outputs": [
    {
     "data": {
      "text/html": [
       "<div>\n",
       "<style scoped>\n",
       "    .dataframe tbody tr th:only-of-type {\n",
       "        vertical-align: middle;\n",
       "    }\n",
       "\n",
       "    .dataframe tbody tr th {\n",
       "        vertical-align: top;\n",
       "    }\n",
       "\n",
       "    .dataframe thead th {\n",
       "        text-align: right;\n",
       "    }\n",
       "</style>\n",
       "<table border=\"1\" class=\"dataframe\">\n",
       "  <thead>\n",
       "    <tr style=\"text-align: right;\">\n",
       "      <th></th>\n",
       "      <th>carID</th>\n",
       "      <th>brand</th>\n",
       "      <th>model</th>\n",
       "      <th>year</th>\n",
       "      <th>transmission</th>\n",
       "      <th>mileage</th>\n",
       "      <th>fuelType</th>\n",
       "      <th>tax</th>\n",
       "      <th>mpg</th>\n",
       "      <th>engineSize</th>\n",
       "      <th>price</th>\n",
       "    </tr>\n",
       "  </thead>\n",
       "  <tbody>\n",
       "    <tr>\n",
       "      <th>0</th>\n",
       "      <td>18473</td>\n",
       "      <td>bmw</td>\n",
       "      <td>6 Series</td>\n",
       "      <td>2020</td>\n",
       "      <td>Semi-Auto</td>\n",
       "      <td>11</td>\n",
       "      <td>Diesel</td>\n",
       "      <td>145</td>\n",
       "      <td>53.3282</td>\n",
       "      <td>3.0</td>\n",
       "      <td>37980</td>\n",
       "    </tr>\n",
       "    <tr>\n",
       "      <th>1</th>\n",
       "      <td>15064</td>\n",
       "      <td>bmw</td>\n",
       "      <td>6 Series</td>\n",
       "      <td>2019</td>\n",
       "      <td>Semi-Auto</td>\n",
       "      <td>10813</td>\n",
       "      <td>Diesel</td>\n",
       "      <td>145</td>\n",
       "      <td>53.0430</td>\n",
       "      <td>3.0</td>\n",
       "      <td>33980</td>\n",
       "    </tr>\n",
       "    <tr>\n",
       "      <th>2</th>\n",
       "      <td>18268</td>\n",
       "      <td>bmw</td>\n",
       "      <td>6 Series</td>\n",
       "      <td>2020</td>\n",
       "      <td>Semi-Auto</td>\n",
       "      <td>6</td>\n",
       "      <td>Diesel</td>\n",
       "      <td>145</td>\n",
       "      <td>53.4379</td>\n",
       "      <td>3.0</td>\n",
       "      <td>36850</td>\n",
       "    </tr>\n",
       "    <tr>\n",
       "      <th>3</th>\n",
       "      <td>18480</td>\n",
       "      <td>bmw</td>\n",
       "      <td>6 Series</td>\n",
       "      <td>2017</td>\n",
       "      <td>Semi-Auto</td>\n",
       "      <td>18895</td>\n",
       "      <td>Diesel</td>\n",
       "      <td>145</td>\n",
       "      <td>51.5140</td>\n",
       "      <td>3.0</td>\n",
       "      <td>25998</td>\n",
       "    </tr>\n",
       "    <tr>\n",
       "      <th>4</th>\n",
       "      <td>18492</td>\n",
       "      <td>bmw</td>\n",
       "      <td>6 Series</td>\n",
       "      <td>2015</td>\n",
       "      <td>Automatic</td>\n",
       "      <td>62953</td>\n",
       "      <td>Diesel</td>\n",
       "      <td>160</td>\n",
       "      <td>51.4903</td>\n",
       "      <td>3.0</td>\n",
       "      <td>18990</td>\n",
       "    </tr>\n",
       "  </tbody>\n",
       "</table>\n",
       "</div>"
      ],
      "text/plain": [
       "   carID brand      model  year transmission  mileage fuelType  tax      mpg  \\\n",
       "0  18473   bmw   6 Series  2020    Semi-Auto       11   Diesel  145  53.3282   \n",
       "1  15064   bmw   6 Series  2019    Semi-Auto    10813   Diesel  145  53.0430   \n",
       "2  18268   bmw   6 Series  2020    Semi-Auto        6   Diesel  145  53.4379   \n",
       "3  18480   bmw   6 Series  2017    Semi-Auto    18895   Diesel  145  51.5140   \n",
       "4  18492   bmw   6 Series  2015    Automatic    62953   Diesel  160  51.4903   \n",
       "\n",
       "   engineSize  price  \n",
       "0         3.0  37980  \n",
       "1         3.0  33980  \n",
       "2         3.0  36850  \n",
       "3         3.0  25998  \n",
       "4         3.0  18990  "
      ]
     },
     "execution_count": 36,
     "metadata": {},
     "output_type": "execute_result"
    }
   ],
   "source": [
    "trainf = pd.read_csv('./Datasets/Car_features_train.csv')\n",
    "trainp = pd.read_csv('./Datasets/Car_prices_train.csv')\n",
    "testf = pd.read_csv('./Datasets/Car_features_test.csv')\n",
    "testp = pd.read_csv('./Datasets/Car_prices_test.csv')\n",
    "train = pd.merge(trainf,trainp)\n",
    "train.head()"
   ]
  },
  {
   "cell_type": "markdown",
   "id": "5bec4a0a",
   "metadata": {},
   "source": [
    "Until now, we have have assumed that the association between a predictor $X_j$ and response $Y$ does not depend on the value of other predictors. For example, the muliple linear regression model that we developed in Chapter [2](https://nustat.github.io/STAT303-2-class-notes/Lec2_MultipleLinearRegression.html) assumes that the average increase in price associated with a unit increase in engineSize is always $12,180, regardless of the value of other predictors. However, this assumption may be incorrect."
   ]
  },
  {
   "cell_type": "markdown",
   "id": "c317fc3d",
   "metadata": {},
   "source": [
    "### Variable interaction between continuous predictors"
   ]
  },
  {
   "cell_type": "markdown",
   "id": "746e2642",
   "metadata": {},
   "source": [
    "We can relax this assumption by considering another predictor, called an interaction term. Let us assume that the average increase in `price` associated with a one-unit increase in `engineSize` depends on the model `year` of the car. In other words, there is an interaction between `engineSize` and `year`. This interaction can be included as a predictor, which is the product of `engineSize` and `year`. *Note that there are several possible interactions that we can consider. Here the interaction between `engineSize` and `year` is just an example.*"
   ]
  },
  {
   "cell_type": "code",
   "execution_count": 37,
   "id": "04a16955",
   "metadata": {},
   "outputs": [
    {
     "data": {
      "text/html": [
       "<table class=\"simpletable\">\n",
       "<caption>OLS Regression Results</caption>\n",
       "<tr>\n",
       "  <th>Dep. Variable:</th>          <td>price</td>      <th>  R-squared:         </th> <td>   0.682</td> \n",
       "</tr>\n",
       "<tr>\n",
       "  <th>Model:</th>                   <td>OLS</td>       <th>  Adj. R-squared:    </th> <td>   0.681</td> \n",
       "</tr>\n",
       "<tr>\n",
       "  <th>Method:</th>             <td>Least Squares</td>  <th>  F-statistic:       </th> <td>   2121.</td> \n",
       "</tr>\n",
       "<tr>\n",
       "  <th>Date:</th>             <td>Sat, 21 Jan 2023</td> <th>  Prob (F-statistic):</th>  <td>  0.00</td>  \n",
       "</tr>\n",
       "<tr>\n",
       "  <th>Time:</th>                 <td>14:45:04</td>     <th>  Log-Likelihood:    </th> <td> -52338.</td> \n",
       "</tr>\n",
       "<tr>\n",
       "  <th>No. Observations:</th>      <td>  4960</td>      <th>  AIC:               </th> <td>1.047e+05</td>\n",
       "</tr>\n",
       "<tr>\n",
       "  <th>Df Residuals:</th>          <td>  4954</td>      <th>  BIC:               </th> <td>1.047e+05</td>\n",
       "</tr>\n",
       "<tr>\n",
       "  <th>Df Model:</th>              <td>     5</td>      <th>                     </th>     <td> </td>    \n",
       "</tr>\n",
       "<tr>\n",
       "  <th>Covariance Type:</th>      <td>nonrobust</td>    <th>                     </th>     <td> </td>    \n",
       "</tr>\n",
       "</table>\n",
       "<table class=\"simpletable\">\n",
       "<tr>\n",
       "         <td></td>            <th>coef</th>     <th>std err</th>      <th>t</th>      <th>P>|t|</th>  <th>[0.025</th>    <th>0.975]</th>  \n",
       "</tr>\n",
       "<tr>\n",
       "  <th>Intercept</th>       <td> 5.606e+05</td> <td> 2.74e+05</td> <td>    2.048</td> <td> 0.041</td> <td>  2.4e+04</td> <td>  1.1e+06</td>\n",
       "</tr>\n",
       "<tr>\n",
       "  <th>year</th>            <td> -275.3833</td> <td>  135.695</td> <td>   -2.029</td> <td> 0.042</td> <td> -541.405</td> <td>   -9.361</td>\n",
       "</tr>\n",
       "<tr>\n",
       "  <th>engineSize</th>      <td>-1.796e+06</td> <td> 9.97e+04</td> <td>  -18.019</td> <td> 0.000</td> <td>-1.99e+06</td> <td> -1.6e+06</td>\n",
       "</tr>\n",
       "<tr>\n",
       "  <th>year:engineSize</th> <td>  896.7687</td> <td>   49.431</td> <td>   18.142</td> <td> 0.000</td> <td>  799.861</td> <td>  993.676</td>\n",
       "</tr>\n",
       "<tr>\n",
       "  <th>mileage</th>         <td>   -0.1525</td> <td>    0.008</td> <td>  -17.954</td> <td> 0.000</td> <td>   -0.169</td> <td>   -0.136</td>\n",
       "</tr>\n",
       "<tr>\n",
       "  <th>mpg</th>             <td>  -84.3417</td> <td>    9.048</td> <td>   -9.322</td> <td> 0.000</td> <td> -102.079</td> <td>  -66.604</td>\n",
       "</tr>\n",
       "</table>\n",
       "<table class=\"simpletable\">\n",
       "<tr>\n",
       "  <th>Omnibus:</th>       <td>2330.413</td> <th>  Durbin-Watson:     </th> <td>   0.524</td> \n",
       "</tr>\n",
       "<tr>\n",
       "  <th>Prob(Omnibus):</th>  <td> 0.000</td>  <th>  Jarque-Bera (JB):  </th> <td>29977.437</td>\n",
       "</tr>\n",
       "<tr>\n",
       "  <th>Skew:</th>           <td> 1.908</td>  <th>  Prob(JB):          </th> <td>    0.00</td> \n",
       "</tr>\n",
       "<tr>\n",
       "  <th>Kurtosis:</th>       <td>14.423</td>  <th>  Cond. No.          </th> <td>7.66e+07</td> \n",
       "</tr>\n",
       "</table><br/><br/>Notes:<br/>[1] Standard Errors assume that the covariance matrix of the errors is correctly specified.<br/>[2] The condition number is large, 7.66e+07. This might indicate that there are<br/>strong multicollinearity or other numerical problems."
      ],
      "text/plain": [
       "<class 'statsmodels.iolib.summary.Summary'>\n",
       "\"\"\"\n",
       "                            OLS Regression Results                            \n",
       "==============================================================================\n",
       "Dep. Variable:                  price   R-squared:                       0.682\n",
       "Model:                            OLS   Adj. R-squared:                  0.681\n",
       "Method:                 Least Squares   F-statistic:                     2121.\n",
       "Date:                Sat, 21 Jan 2023   Prob (F-statistic):               0.00\n",
       "Time:                        14:45:04   Log-Likelihood:                -52338.\n",
       "No. Observations:                4960   AIC:                         1.047e+05\n",
       "Df Residuals:                    4954   BIC:                         1.047e+05\n",
       "Df Model:                           5                                         \n",
       "Covariance Type:            nonrobust                                         \n",
       "===================================================================================\n",
       "                      coef    std err          t      P>|t|      [0.025      0.975]\n",
       "-----------------------------------------------------------------------------------\n",
       "Intercept        5.606e+05   2.74e+05      2.048      0.041     2.4e+04     1.1e+06\n",
       "year             -275.3833    135.695     -2.029      0.042    -541.405      -9.361\n",
       "engineSize      -1.796e+06   9.97e+04    -18.019      0.000   -1.99e+06    -1.6e+06\n",
       "year:engineSize   896.7687     49.431     18.142      0.000     799.861     993.676\n",
       "mileage            -0.1525      0.008    -17.954      0.000      -0.169      -0.136\n",
       "mpg               -84.3417      9.048     -9.322      0.000    -102.079     -66.604\n",
       "==============================================================================\n",
       "Omnibus:                     2330.413   Durbin-Watson:                   0.524\n",
       "Prob(Omnibus):                  0.000   Jarque-Bera (JB):            29977.437\n",
       "Skew:                           1.908   Prob(JB):                         0.00\n",
       "Kurtosis:                      14.423   Cond. No.                     7.66e+07\n",
       "==============================================================================\n",
       "\n",
       "Notes:\n",
       "[1] Standard Errors assume that the covariance matrix of the errors is correctly specified.\n",
       "[2] The condition number is large, 7.66e+07. This might indicate that there are\n",
       "strong multicollinearity or other numerical problems.\n",
       "\"\"\""
      ]
     },
     "execution_count": 37,
     "metadata": {},
     "output_type": "execute_result"
    }
   ],
   "source": [
    "#Considering interaction between engineSize and year\n",
    "ols_object = smf.ols(formula = 'price~year*engineSize+mileage+mpg', data = train)\n",
    "model = ols_object.fit()\n",
    "model.summary()"
   ]
  },
  {
   "cell_type": "markdown",
   "id": "4686452b",
   "metadata": {},
   "source": [
    "Note that the R-squared has increased as compared to the model in Chapter [2](https://nustat.github.io/STAT303-2-class-notes/Lec2_MultipleLinearRegression.html) since we added a predictor."
   ]
  },
  {
   "cell_type": "markdown",
   "id": "dc28e5fa",
   "metadata": {},
   "source": [
    "The model equation is:\n",
    "\n",
    "\\begin{equation}\n",
    "price = \\beta_0 + \\beta_1*year + \\beta_2*engineSize + \\beta_3*(year * engineSize) + \\beta4*mileage + \\beta_5*mpg,\n",
    "\\end{equation}or\n",
    "\n",
    "\\begin{equation}\n",
    "price = \\beta_0 + \\beta_1*year + (\\beta_2+\\beta_3*year)*engineSize + \\beta4*mileage + \\beta_5*mpg,\n",
    "\\end{equation}or\n",
    "\n",
    "\\begin{equation}\n",
    "price = \\beta_0 + \\beta_1*year + \\tilde \\beta*engineSize + \\beta4*mileage + \\beta_5*mpg,\n",
    "\\end{equation}"
   ]
  },
  {
   "cell_type": "markdown",
   "id": "c11a0b1d",
   "metadata": {},
   "source": [
    "Since $\\tilde \\beta$ is a function of `year`, the association between `engineSize` and `price` is no longer a constant. A change in the value of `year` will change the association between `price` and `engineSize`."
   ]
  },
  {
   "cell_type": "markdown",
   "id": "81b09c33",
   "metadata": {},
   "source": [
    "Substituting the values of the coefficients:\n",
    "\\begin{equation}\n",
    "price = 5.606e5 - 275.3833*year + (-1.796e6+896.7687*year)*engineSize -0.1525*mileage -84.3417*mpg\n",
    "\\end{equation}"
   ]
  },
  {
   "cell_type": "markdown",
   "id": "83608128",
   "metadata": {},
   "source": [
    "Thus, for cars launched in the year 2010, the average increase in price for one liter increase in engine size is -1.796e6 + 896.7687 * 2010 $\\approx$ \\\\$6,500, assuming all the other predictors are constant. However, for cars launched in the year 2020, the average increase in price for one liter increase in engine size is -1.796e6 + 896.7687*2020 $\\approx$ \\\\$15,500 , assuming all the other predictors are constant."
   ]
  },
  {
   "cell_type": "markdown",
   "id": "5da161d5",
   "metadata": {},
   "source": [
    "Similarly, the equation can be re-arranged as:\n",
    "\\begin{equation}\n",
    "price = 5.606e5 +(-275.3833+896.7687*engineSize)*year -1.796e6*engineSize -0.1525*mileage -84.3417*mpg\n",
    "\\end{equation}"
   ]
  },
  {
   "cell_type": "markdown",
   "id": "77b1e71a",
   "metadata": {},
   "source": [
    "Thus, for cars with an engine size of 2 litres, the average increase in price for a one year newer model is -275.3833+896.7687 * 2 $\\approx$ \\\\$1500, assuming all the other predictors are constant. However, for cars with an engine size of 3 litres, the average increase in price for a one year newer model is -275.3833+896.7687 * 3 $\\approx$ \\\\$2400, assuming all the other predictors are constant."
   ]
  },
  {
   "cell_type": "code",
   "execution_count": 38,
   "id": "7d013a28",
   "metadata": {},
   "outputs": [
    {
     "data": {
      "text/plain": [
       "9423.598872501092"
      ]
     },
     "execution_count": 38,
     "metadata": {},
     "output_type": "execute_result"
    }
   ],
   "source": [
    "#Computing the RMSE of the model with the interaction term\n",
    "pred_price = model.predict(testf)\n",
    "np.sqrt(((testp.price - pred_price)**2).mean())"
   ]
  },
  {
   "cell_type": "markdown",
   "id": "fde8dc6d",
   "metadata": {},
   "source": [
    "Note that the RMSE reduced as compared to that of the model in Chapter [2](https://nustat.github.io/STAT303-2-class-notes/Lec2_MultipleLinearRegression.html). This is because the interaction term between `engineSize` and `year` is significant and relaxes the assumption of constant association between price and engine size, and between price and year. This added flexibility makes the model better fit the data. Caution: Too much flexibility may lead to overfitting!\n",
    "\n",
    "Note that interaction terms corresponding to other variable pairs, and higher order interaction terms (such as those containing 3 or 4 variables) may also be significant and improve the model fit & thereby the prediction accuracy of the model."
   ]
  },
  {
   "cell_type": "markdown",
   "id": "3196586b",
   "metadata": {},
   "source": [
    "### Including qualitative predictors in the model"
   ]
  },
  {
   "cell_type": "markdown",
   "id": "7d04cf64",
   "metadata": {},
   "source": [
    "Let us develop a model for predicting `price` based on `engineSize` and the qualitative predictor `transmission`."
   ]
  },
  {
   "cell_type": "code",
   "execution_count": 39,
   "id": "229d2e1d",
   "metadata": {},
   "outputs": [
    {
     "data": {
      "text/plain": [
       "Manual       1948\n",
       "Automatic    1660\n",
       "Semi-Auto    1351\n",
       "Other           1\n",
       "Name: transmission, dtype: int64"
      ]
     },
     "execution_count": 39,
     "metadata": {},
     "output_type": "execute_result"
    }
   ],
   "source": [
    "#checking the distribution of values of transmission\n",
    "train.transmission.value_counts()"
   ]
  },
  {
   "cell_type": "markdown",
   "id": "a8846f56",
   "metadata": {},
   "source": [
    "Note that the *Other* category of the variable *transmission* contains only a single observation, which is likely to be insufficient to train the model. We'll remove that observation from the training data. Another option may be to combine the observation in the *Other* category with the nearest category, and keep it in the data."
   ]
  },
  {
   "cell_type": "code",
   "execution_count": 40,
   "id": "04b620c9",
   "metadata": {},
   "outputs": [],
   "source": [
    "train_updated = train[train.transmission!='Other']"
   ]
  },
  {
   "cell_type": "code",
   "execution_count": 41,
   "id": "6ea95322",
   "metadata": {},
   "outputs": [
    {
     "data": {
      "text/html": [
       "<table class=\"simpletable\">\n",
       "<caption>OLS Regression Results</caption>\n",
       "<tr>\n",
       "  <th>Dep. Variable:</th>          <td>price</td>      <th>  R-squared:         </th> <td>   0.459</td> \n",
       "</tr>\n",
       "<tr>\n",
       "  <th>Model:</th>                   <td>OLS</td>       <th>  Adj. R-squared:    </th> <td>   0.458</td> \n",
       "</tr>\n",
       "<tr>\n",
       "  <th>Method:</th>             <td>Least Squares</td>  <th>  F-statistic:       </th> <td>   1400.</td> \n",
       "</tr>\n",
       "<tr>\n",
       "  <th>Date:</th>             <td>Sat, 21 Jan 2023</td> <th>  Prob (F-statistic):</th>  <td>  0.00</td>  \n",
       "</tr>\n",
       "<tr>\n",
       "  <th>Time:</th>                 <td>14:45:14</td>     <th>  Log-Likelihood:    </th> <td> -53644.</td> \n",
       "</tr>\n",
       "<tr>\n",
       "  <th>No. Observations:</th>      <td>  4959</td>      <th>  AIC:               </th> <td>1.073e+05</td>\n",
       "</tr>\n",
       "<tr>\n",
       "  <th>Df Residuals:</th>          <td>  4955</td>      <th>  BIC:               </th> <td>1.073e+05</td>\n",
       "</tr>\n",
       "<tr>\n",
       "  <th>Df Model:</th>              <td>     3</td>      <th>                     </th>     <td> </td>    \n",
       "</tr>\n",
       "<tr>\n",
       "  <th>Covariance Type:</th>      <td>nonrobust</td>    <th>                     </th>     <td> </td>    \n",
       "</tr>\n",
       "</table>\n",
       "<table class=\"simpletable\">\n",
       "<tr>\n",
       "              <td></td>                 <th>coef</th>     <th>std err</th>      <th>t</th>      <th>P>|t|</th>  <th>[0.025</th>    <th>0.975]</th>  \n",
       "</tr>\n",
       "<tr>\n",
       "  <th>Intercept</th>                 <td> 3042.6765</td> <td>  661.190</td> <td>    4.602</td> <td> 0.000</td> <td> 1746.451</td> <td> 4338.902</td>\n",
       "</tr>\n",
       "<tr>\n",
       "  <th>transmission[T.Manual]</th>    <td>-6770.6165</td> <td>  442.116</td> <td>  -15.314</td> <td> 0.000</td> <td>-7637.360</td> <td>-5903.873</td>\n",
       "</tr>\n",
       "<tr>\n",
       "  <th>transmission[T.Semi-Auto]</th> <td> 4994.3112</td> <td>  442.989</td> <td>   11.274</td> <td> 0.000</td> <td> 4125.857</td> <td> 5862.765</td>\n",
       "</tr>\n",
       "<tr>\n",
       "  <th>engineSize</th>                <td> 1.023e+04</td> <td>  247.485</td> <td>   41.323</td> <td> 0.000</td> <td> 9741.581</td> <td> 1.07e+04</td>\n",
       "</tr>\n",
       "</table>\n",
       "<table class=\"simpletable\">\n",
       "<tr>\n",
       "  <th>Omnibus:</th>       <td>1575.518</td> <th>  Durbin-Watson:     </th> <td>   0.579</td> \n",
       "</tr>\n",
       "<tr>\n",
       "  <th>Prob(Omnibus):</th>  <td> 0.000</td>  <th>  Jarque-Bera (JB):  </th> <td>11006.609</td>\n",
       "</tr>\n",
       "<tr>\n",
       "  <th>Skew:</th>           <td> 1.334</td>  <th>  Prob(JB):          </th> <td>    0.00</td> \n",
       "</tr>\n",
       "<tr>\n",
       "  <th>Kurtosis:</th>       <td> 9.793</td>  <th>  Cond. No.          </th> <td>    11.4</td> \n",
       "</tr>\n",
       "</table><br/><br/>Notes:<br/>[1] Standard Errors assume that the covariance matrix of the errors is correctly specified."
      ],
      "text/plain": [
       "<class 'statsmodels.iolib.summary.Summary'>\n",
       "\"\"\"\n",
       "                            OLS Regression Results                            \n",
       "==============================================================================\n",
       "Dep. Variable:                  price   R-squared:                       0.459\n",
       "Model:                            OLS   Adj. R-squared:                  0.458\n",
       "Method:                 Least Squares   F-statistic:                     1400.\n",
       "Date:                Sat, 21 Jan 2023   Prob (F-statistic):               0.00\n",
       "Time:                        14:45:14   Log-Likelihood:                -53644.\n",
       "No. Observations:                4959   AIC:                         1.073e+05\n",
       "Df Residuals:                    4955   BIC:                         1.073e+05\n",
       "Df Model:                           3                                         \n",
       "Covariance Type:            nonrobust                                         \n",
       "=============================================================================================\n",
       "                                coef    std err          t      P>|t|      [0.025      0.975]\n",
       "---------------------------------------------------------------------------------------------\n",
       "Intercept                  3042.6765    661.190      4.602      0.000    1746.451    4338.902\n",
       "transmission[T.Manual]    -6770.6165    442.116    -15.314      0.000   -7637.360   -5903.873\n",
       "transmission[T.Semi-Auto]  4994.3112    442.989     11.274      0.000    4125.857    5862.765\n",
       "engineSize                 1.023e+04    247.485     41.323      0.000    9741.581    1.07e+04\n",
       "==============================================================================\n",
       "Omnibus:                     1575.518   Durbin-Watson:                   0.579\n",
       "Prob(Omnibus):                  0.000   Jarque-Bera (JB):            11006.609\n",
       "Skew:                           1.334   Prob(JB):                         0.00\n",
       "Kurtosis:                       9.793   Cond. No.                         11.4\n",
       "==============================================================================\n",
       "\n",
       "Notes:\n",
       "[1] Standard Errors assume that the covariance matrix of the errors is correctly specified.\n",
       "\"\"\""
      ]
     },
     "execution_count": 41,
     "metadata": {},
     "output_type": "execute_result"
    }
   ],
   "source": [
    "ols_object = smf.ols(formula = 'price~engineSize+transmission', data = train_updated)\n",
    "model = ols_object.fit()\n",
    "model.summary()"
   ]
  },
  {
   "cell_type": "code",
   "execution_count": 42,
   "id": "da09b02d",
   "metadata": {},
   "outputs": [
    {
     "data": {
      "text/plain": [
       "<matplotlib.legend.Legend at 0x1c113cf8e20>"
      ]
     },
     "execution_count": 42,
     "metadata": {},
     "output_type": "execute_result"
    },
    {
     "data": {
      "image/png": "[encoded data removed]",
      "text/plain": [
       "<Figure size 432x288 with 1 Axes>"
      ]
     },
     "metadata": {
      "needs_background": "light"
     },
     "output_type": "display_data"
    }
   ],
   "source": [
    "#Visualizing the developed model\n",
    "x = np.linspace(train_updated.engineSize.min(),train_updated.engineSize.max(),100)\n",
    "sns.lineplot(x = x, y = model.params['engineSize']*x+model.params['Intercept'], color = 'red')\n",
    "sns.lineplot(x = x, y = model.params['engineSize']*x+model.params['Intercept']+model.params['transmission[T.Semi-Auto]'], color = 'blue')\n",
    "sns.lineplot(x = x, y = model.params['engineSize']*x+model.params['Intercept']+model.params['transmission[T.Manual]'], color = 'green')\n",
    "plt.legend(labels=[\"Automatic\",\"Semi-Automatic\", \"Manual\"])"
   ]
  },
  {
   "cell_type": "markdown",
   "id": "c2b5b8c3",
   "metadata": {},
   "source": [
    "### Including qualitative predictors and its interaction with continuous predictor in the model"
   ]
  },
  {
   "cell_type": "markdown",
   "id": "70e07916",
   "metadata": {},
   "source": [
    "Note that the qualitative predictor leads to fitting 3 parallel lines to the data, as there are 3 categories.\n",
    "\n",
    "However, note that we have made the constant association assumption. The fact that the lines are parallel means that the average increase in car price for one litre increase in engine size does not depend on the type of transmission. This represents a potentially serious limitation of the model, since in fact a change in engine size may have a very different association on the price of an automatic car versus a semi-automatic or manual car.\n",
    "\n",
    "This limitation can be addressed by adding an interaction variable by multiplying `engineSize` with the dummy variables for semi-automatic and manual transmissions. "
   ]
  },
  {
   "cell_type": "code",
   "execution_count": 43,
   "id": "f2c90abc",
   "metadata": {},
   "outputs": [
    {
     "data": {
      "text/html": [
       "<table class=\"simpletable\">\n",
       "<caption>OLS Regression Results</caption>\n",
       "<tr>\n",
       "  <th>Dep. Variable:</th>          <td>price</td>      <th>  R-squared:         </th> <td>   0.479</td> \n",
       "</tr>\n",
       "<tr>\n",
       "  <th>Model:</th>                   <td>OLS</td>       <th>  Adj. R-squared:    </th> <td>   0.478</td> \n",
       "</tr>\n",
       "<tr>\n",
       "  <th>Method:</th>             <td>Least Squares</td>  <th>  F-statistic:       </th> <td>   909.9</td> \n",
       "</tr>\n",
       "<tr>\n",
       "  <th>Date:</th>             <td>Sat, 21 Jan 2023</td> <th>  Prob (F-statistic):</th>  <td>  0.00</td>  \n",
       "</tr>\n",
       "<tr>\n",
       "  <th>Time:</th>                 <td>14:45:16</td>     <th>  Log-Likelihood:    </th> <td> -53550.</td> \n",
       "</tr>\n",
       "<tr>\n",
       "  <th>No. Observations:</th>      <td>  4959</td>      <th>  AIC:               </th> <td>1.071e+05</td>\n",
       "</tr>\n",
       "<tr>\n",
       "  <th>Df Residuals:</th>          <td>  4953</td>      <th>  BIC:               </th> <td>1.072e+05</td>\n",
       "</tr>\n",
       "<tr>\n",
       "  <th>Df Model:</th>              <td>     5</td>      <th>                     </th>     <td> </td>    \n",
       "</tr>\n",
       "<tr>\n",
       "  <th>Covariance Type:</th>      <td>nonrobust</td>    <th>                     </th>     <td> </td>    \n",
       "</tr>\n",
       "</table>\n",
       "<table class=\"simpletable\">\n",
       "<tr>\n",
       "                    <td></td>                      <th>coef</th>     <th>std err</th>      <th>t</th>      <th>P>|t|</th>  <th>[0.025</th>    <th>0.975]</th>  \n",
       "</tr>\n",
       "<tr>\n",
       "  <th>Intercept</th>                            <td> 3754.7238</td> <td>  895.221</td> <td>    4.194</td> <td> 0.000</td> <td> 1999.695</td> <td> 5509.753</td>\n",
       "</tr>\n",
       "<tr>\n",
       "  <th>transmission[T.Manual]</th>               <td> 1768.5856</td> <td> 1294.071</td> <td>    1.367</td> <td> 0.172</td> <td> -768.366</td> <td> 4305.538</td>\n",
       "</tr>\n",
       "<tr>\n",
       "  <th>transmission[T.Semi-Auto]</th>            <td>-5282.7164</td> <td> 1416.472</td> <td>   -3.729</td> <td> 0.000</td> <td>-8059.628</td> <td>-2505.805</td>\n",
       "</tr>\n",
       "<tr>\n",
       "  <th>engineSize</th>                           <td> 9928.6082</td> <td>  354.511</td> <td>   28.006</td> <td> 0.000</td> <td> 9233.610</td> <td> 1.06e+04</td>\n",
       "</tr>\n",
       "<tr>\n",
       "  <th>engineSize:transmission[T.Manual]</th>    <td>-5285.9059</td> <td>  646.175</td> <td>   -8.180</td> <td> 0.000</td> <td>-6552.695</td> <td>-4019.117</td>\n",
       "</tr>\n",
       "<tr>\n",
       "  <th>engineSize:transmission[T.Semi-Auto]</th> <td> 4162.2428</td> <td>  552.597</td> <td>    7.532</td> <td> 0.000</td> <td> 3078.908</td> <td> 5245.578</td>\n",
       "</tr>\n",
       "</table>\n",
       "<table class=\"simpletable\">\n",
       "<tr>\n",
       "  <th>Omnibus:</th>       <td>1379.846</td> <th>  Durbin-Watson:     </th> <td>   0.622</td>\n",
       "</tr>\n",
       "<tr>\n",
       "  <th>Prob(Omnibus):</th>  <td> 0.000</td>  <th>  Jarque-Bera (JB):  </th> <td>9799.471</td>\n",
       "</tr>\n",
       "<tr>\n",
       "  <th>Skew:</th>           <td> 1.139</td>  <th>  Prob(JB):          </th> <td>    0.00</td>\n",
       "</tr>\n",
       "<tr>\n",
       "  <th>Kurtosis:</th>       <td> 9.499</td>  <th>  Cond. No.          </th> <td>    30.8</td>\n",
       "</tr>\n",
       "</table><br/><br/>Notes:<br/>[1] Standard Errors assume that the covariance matrix of the errors is correctly specified."
      ],
      "text/plain": [
       "<class 'statsmodels.iolib.summary.Summary'>\n",
       "\"\"\"\n",
       "                            OLS Regression Results                            \n",
       "==============================================================================\n",
       "Dep. Variable:                  price   R-squared:                       0.479\n",
       "Model:                            OLS   Adj. R-squared:                  0.478\n",
       "Method:                 Least Squares   F-statistic:                     909.9\n",
       "Date:                Sat, 21 Jan 2023   Prob (F-statistic):               0.00\n",
       "Time:                        14:45:16   Log-Likelihood:                -53550.\n",
       "No. Observations:                4959   AIC:                         1.071e+05\n",
       "Df Residuals:                    4953   BIC:                         1.072e+05\n",
       "Df Model:                           5                                         \n",
       "Covariance Type:            nonrobust                                         \n",
       "========================================================================================================\n",
       "                                           coef    std err          t      P>|t|      [0.025      0.975]\n",
       "--------------------------------------------------------------------------------------------------------\n",
       "Intercept                             3754.7238    895.221      4.194      0.000    1999.695    5509.753\n",
       "transmission[T.Manual]                1768.5856   1294.071      1.367      0.172    -768.366    4305.538\n",
       "transmission[T.Semi-Auto]            -5282.7164   1416.472     -3.729      0.000   -8059.628   -2505.805\n",
       "engineSize                            9928.6082    354.511     28.006      0.000    9233.610    1.06e+04\n",
       "engineSize:transmission[T.Manual]    -5285.9059    646.175     -8.180      0.000   -6552.695   -4019.117\n",
       "engineSize:transmission[T.Semi-Auto]  4162.2428    552.597      7.532      0.000    3078.908    5245.578\n",
       "==============================================================================\n",
       "Omnibus:                     1379.846   Durbin-Watson:                   0.622\n",
       "Prob(Omnibus):                  0.000   Jarque-Bera (JB):             9799.471\n",
       "Skew:                           1.139   Prob(JB):                         0.00\n",
       "Kurtosis:                       9.499   Cond. No.                         30.8\n",
       "==============================================================================\n",
       "\n",
       "Notes:\n",
       "[1] Standard Errors assume that the covariance matrix of the errors is correctly specified.\n",
       "\"\"\""
      ]
     },
     "execution_count": 43,
     "metadata": {},
     "output_type": "execute_result"
    }
   ],
   "source": [
    "#Using the ols function to create an ols object. 'ols' stands for 'Ordinary least squares'\n",
    "ols_object = smf.ols(formula = 'price~engineSize*transmission', data = train_updated)\n",
    "model = ols_object.fit()\n",
    "model.summary()"
   ]
  },
  {
   "cell_type": "markdown",
   "id": "ef7af100",
   "metadata": {},
   "source": [
    "The model equation for the model with interactions is:\n",
    "\n",
    "Automatic transmission: $price = 3754.7238\t + 9928.6082 * engineSize$, \\\n",
    "Semi-Automatic transmission: $price = 3754.7238 + 9928.6082 * engineSize + (-5282.7164+4162.2428*engineSize)$, \\\n",
    "Manual transmission: $price = 3754.7238 + 9928.6082 * engineSize +(1768.5856-5285.9059*engineSize)$, or\n",
    "\n",
    "Automatic transmission: $price = 3754.7238\t + 9928.6082 * engineSize$, \\\n",
    "Semi-Automatic transmission: $price = -1527 + 7046 * engineSize$, \\\n",
    "Manual transmission: $price = 5523 + 4642 * engineSize$,\n"
   ]
  },
  {
   "cell_type": "code",
   "execution_count": 44,
   "id": "f8d39935",
   "metadata": {},
   "outputs": [
    {
     "data": {
      "image/png": "[encoded data removed]",
      "text/plain": [
       "<Figure size 432x288 with 1 Axes>"
      ]
     },
     "metadata": {
      "needs_background": "light"
     },
     "output_type": "display_data"
    }
   ],
   "source": [
    "#Visualizing the developed model with interaction terms\n",
    "x = np.linspace(train_updated.engineSize.min(),train_updated.engineSize.max(),100)\n",
    "plt.plot(x, model.params['engineSize']*x+model.params['Intercept'], '-r', label='Automatic')\n",
    "plt.plot(x, (model.params['engineSize']+model.params['engineSize:transmission[T.Semi-Auto]'])*x+model.params['Intercept']+model.params['transmission[T.Semi-Auto]'], '-b', label='Semi-Automatic')\n",
    "plt.plot(x, (model.params['engineSize']+model.params['engineSize:transmission[T.Manual]'])*x+model.params['Intercept']+model.params['transmission[T.Manual]'], '-g', label='Manual')\n",
    "plt.legend(loc='upper left')\n",
    "plt.xlabel('engine size')\n",
    "plt.ylabel('price')\n",
    "plt.show()"
   ]
  },
  {
   "cell_type": "markdown",
   "id": "d404bacb",
   "metadata": {},
   "source": [
    "Note the interaction term adds flexibility to the model."
   ]
  },
  {
   "cell_type": "markdown",
   "id": "24461eba",
   "metadata": {},
   "source": [
    "The slope of the regression line for semi-automatic cars is the largest. This suggests that increase in engine size is associated with a higher increase in car price for semi-automatic cars, as compared to other cars."
   ]
  },
  {
   "cell_type": "markdown",
   "id": "ac096656",
   "metadata": {},
   "source": [
    "## Variable transformations"
   ]
  },
  {
   "cell_type": "markdown",
   "id": "b7338387",
   "metadata": {},
   "source": [
    "So far we have considered only a linear relationship between the predictors and the response. However, the relationship may be non-linear."
   ]
  },
  {
   "cell_type": "markdown",
   "id": "91263c77",
   "metadata": {},
   "source": [
    "Consider the regression plot of *price* on *mileage*"
   ]
  },
  {
   "cell_type": "code",
   "execution_count": 45,
   "id": "7edea36e",
   "metadata": {},
   "outputs": [
    {
     "data": {
      "text/plain": [
       "<AxesSubplot:xlabel='mileage', ylabel='price'>"
      ]
     },
     "execution_count": 45,
     "metadata": {},
     "output_type": "execute_result"
    },
    {
     "data": {
      "image/png": "[encoded data removed]",
      "text/plain": [
       "<Figure size 432x288 with 1 Axes>"
      ]
     },
     "metadata": {
      "needs_background": "light"
     },
     "output_type": "display_data"
    }
   ],
   "source": [
    "sns.regplot(x = train_updated.mileage, y =train_updated.price,color = 'orange', line_kws = {'color':'blue'})"
   ]
  },
  {
   "cell_type": "markdown",
   "id": "c747639a",
   "metadata": {},
   "source": [
    "It seems like a quadratic curve may better fit the points."
   ]
  },
  {
   "cell_type": "code",
   "execution_count": 46,
   "id": "bd85038f",
   "metadata": {},
   "outputs": [
    {
     "data": {
      "text/html": [
       "<table class=\"simpletable\">\n",
       "<caption>OLS Regression Results</caption>\n",
       "<tr>\n",
       "  <th>Dep. Variable:</th>          <td>price</td>      <th>  R-squared:         </th> <td>   0.271</td> \n",
       "</tr>\n",
       "<tr>\n",
       "  <th>Model:</th>                   <td>OLS</td>       <th>  Adj. R-squared:    </th> <td>   0.271</td> \n",
       "</tr>\n",
       "<tr>\n",
       "  <th>Method:</th>             <td>Least Squares</td>  <th>  F-statistic:       </th> <td>   920.6</td> \n",
       "</tr>\n",
       "<tr>\n",
       "  <th>Date:</th>             <td>Sat, 21 Jan 2023</td> <th>  Prob (F-statistic):</th>  <td>  0.00</td>  \n",
       "</tr>\n",
       "<tr>\n",
       "  <th>Time:</th>                 <td>14:45:23</td>     <th>  Log-Likelihood:    </th> <td> -54382.</td> \n",
       "</tr>\n",
       "<tr>\n",
       "  <th>No. Observations:</th>      <td>  4959</td>      <th>  AIC:               </th> <td>1.088e+05</td>\n",
       "</tr>\n",
       "<tr>\n",
       "  <th>Df Residuals:</th>          <td>  4956</td>      <th>  BIC:               </th> <td>1.088e+05</td>\n",
       "</tr>\n",
       "<tr>\n",
       "  <th>Df Model:</th>              <td>     2</td>      <th>                     </th>     <td> </td>    \n",
       "</tr>\n",
       "<tr>\n",
       "  <th>Covariance Type:</th>      <td>nonrobust</td>    <th>                     </th>     <td> </td>    \n",
       "</tr>\n",
       "</table>\n",
       "<table class=\"simpletable\">\n",
       "<tr>\n",
       "         <td></td>            <th>coef</th>     <th>std err</th>      <th>t</th>      <th>P>|t|</th>  <th>[0.025</th>    <th>0.975]</th>  \n",
       "</tr>\n",
       "<tr>\n",
       "  <th>Intercept</th>       <td>  3.44e+04</td> <td>  332.710</td> <td>  103.382</td> <td> 0.000</td> <td> 3.37e+04</td> <td>  3.5e+04</td>\n",
       "</tr>\n",
       "<tr>\n",
       "  <th>mileage</th>         <td>   -0.5662</td> <td>    0.017</td> <td>  -33.940</td> <td> 0.000</td> <td>   -0.599</td> <td>   -0.534</td>\n",
       "</tr>\n",
       "<tr>\n",
       "  <th>I(mileage ** 2)</th> <td> 2.629e-06</td> <td> 1.56e-07</td> <td>   16.813</td> <td> 0.000</td> <td> 2.32e-06</td> <td> 2.94e-06</td>\n",
       "</tr>\n",
       "</table>\n",
       "<table class=\"simpletable\">\n",
       "<tr>\n",
       "  <th>Omnibus:</th>       <td>2362.973</td> <th>  Durbin-Watson:     </th> <td>   0.325</td> \n",
       "</tr>\n",
       "<tr>\n",
       "  <th>Prob(Omnibus):</th>  <td> 0.000</td>  <th>  Jarque-Bera (JB):  </th> <td>22427.952</td>\n",
       "</tr>\n",
       "<tr>\n",
       "  <th>Skew:</th>           <td> 2.052</td>  <th>  Prob(JB):          </th> <td>    0.00</td> \n",
       "</tr>\n",
       "<tr>\n",
       "  <th>Kurtosis:</th>       <td>12.576</td>  <th>  Cond. No.          </th> <td>4.81e+09</td> \n",
       "</tr>\n",
       "</table><br/><br/>Notes:<br/>[1] Standard Errors assume that the covariance matrix of the errors is correctly specified.<br/>[2] The condition number is large, 4.81e+09. This might indicate that there are<br/>strong multicollinearity or other numerical problems."
      ],
      "text/plain": [
       "<class 'statsmodels.iolib.summary.Summary'>\n",
       "\"\"\"\n",
       "                            OLS Regression Results                            \n",
       "==============================================================================\n",
       "Dep. Variable:                  price   R-squared:                       0.271\n",
       "Model:                            OLS   Adj. R-squared:                  0.271\n",
       "Method:                 Least Squares   F-statistic:                     920.6\n",
       "Date:                Sat, 21 Jan 2023   Prob (F-statistic):               0.00\n",
       "Time:                        14:45:23   Log-Likelihood:                -54382.\n",
       "No. Observations:                4959   AIC:                         1.088e+05\n",
       "Df Residuals:                    4956   BIC:                         1.088e+05\n",
       "Df Model:                           2                                         \n",
       "Covariance Type:            nonrobust                                         \n",
       "===================================================================================\n",
       "                      coef    std err          t      P>|t|      [0.025      0.975]\n",
       "-----------------------------------------------------------------------------------\n",
       "Intercept         3.44e+04    332.710    103.382      0.000    3.37e+04     3.5e+04\n",
       "mileage            -0.5662      0.017    -33.940      0.000      -0.599      -0.534\n",
       "I(mileage ** 2)  2.629e-06   1.56e-07     16.813      0.000    2.32e-06    2.94e-06\n",
       "==============================================================================\n",
       "Omnibus:                     2362.973   Durbin-Watson:                   0.325\n",
       "Prob(Omnibus):                  0.000   Jarque-Bera (JB):            22427.952\n",
       "Skew:                           2.052   Prob(JB):                         0.00\n",
       "Kurtosis:                      12.576   Cond. No.                     4.81e+09\n",
       "==============================================================================\n",
       "\n",
       "Notes:\n",
       "[1] Standard Errors assume that the covariance matrix of the errors is correctly specified.\n",
       "[2] The condition number is large, 4.81e+09. This might indicate that there are\n",
       "strong multicollinearity or other numerical problems.\n",
       "\"\"\""
      ]
     },
     "execution_count": 46,
     "metadata": {},
     "output_type": "execute_result"
    }
   ],
   "source": [
    "#Including mileage squared as a predictor and developing the model\n",
    "ols_object = smf.ols(formula = 'price~mileage+I(mileage**2)', data = train_updated)\n",
    "model = ols_object.fit()\n",
    "model.summary()"
   ]
  },
  {
   "cell_type": "code",
   "execution_count": 47,
   "id": "8283839d",
   "metadata": {},
   "outputs": [
    {
     "data": {
      "text/plain": [
       "<AxesSubplot:xlabel='mileage', ylabel='price'>"
      ]
     },
     "execution_count": 47,
     "metadata": {},
     "output_type": "execute_result"
    },
    {
     "data": {
      "image/png": "[encoded data removed]",
      "text/plain": [
       "<Figure size 432x288 with 1 Axes>"
      ]
     },
     "metadata": {
      "needs_background": "light"
     },
     "output_type": "display_data"
    }
   ],
   "source": [
    "#Visualizing the regression line\n",
    "pred_price = model.predict(train_updated)\n",
    "sns.scatterplot(x = 'mileage', y = 'price', data = train_updated, color = 'orange')\n",
    "sns.lineplot(x = train_updated.mileage, y = pred_price, color = 'blue')"
   ]
  },
  {
   "cell_type": "code",
   "execution_count": 48,
   "id": "bf8a4a31",
   "metadata": {},
   "outputs": [
    {
     "data": {
      "text/html": [
       "<table class=\"simpletable\">\n",
       "<caption>OLS Regression Results</caption>\n",
       "<tr>\n",
       "  <th>Dep. Variable:</th>          <td>price</td>      <th>  R-squared:         </th> <td>   0.283</td> \n",
       "</tr>\n",
       "<tr>\n",
       "  <th>Model:</th>                   <td>OLS</td>       <th>  Adj. R-squared:    </th> <td>   0.283</td> \n",
       "</tr>\n",
       "<tr>\n",
       "  <th>Method:</th>             <td>Least Squares</td>  <th>  F-statistic:       </th> <td>   652.3</td> \n",
       "</tr>\n",
       "<tr>\n",
       "  <th>Date:</th>             <td>Sat, 21 Jan 2023</td> <th>  Prob (F-statistic):</th>  <td>  0.00</td>  \n",
       "</tr>\n",
       "<tr>\n",
       "  <th>Time:</th>                 <td>14:45:33</td>     <th>  Log-Likelihood:    </th> <td> -54340.</td> \n",
       "</tr>\n",
       "<tr>\n",
       "  <th>No. Observations:</th>      <td>  4959</td>      <th>  AIC:               </th> <td>1.087e+05</td>\n",
       "</tr>\n",
       "<tr>\n",
       "  <th>Df Residuals:</th>          <td>  4955</td>      <th>  BIC:               </th> <td>1.087e+05</td>\n",
       "</tr>\n",
       "<tr>\n",
       "  <th>Df Model:</th>              <td>     3</td>      <th>                     </th>     <td> </td>    \n",
       "</tr>\n",
       "<tr>\n",
       "  <th>Covariance Type:</th>      <td>nonrobust</td>    <th>                     </th>     <td> </td>    \n",
       "</tr>\n",
       "</table>\n",
       "<table class=\"simpletable\">\n",
       "<tr>\n",
       "         <td></td>            <th>coef</th>     <th>std err</th>      <th>t</th>      <th>P>|t|</th>  <th>[0.025</th>    <th>0.975]</th>  \n",
       "</tr>\n",
       "<tr>\n",
       "  <th>Intercept</th>       <td> 3.598e+04</td> <td>  371.926</td> <td>   96.727</td> <td> 0.000</td> <td> 3.52e+04</td> <td> 3.67e+04</td>\n",
       "</tr>\n",
       "<tr>\n",
       "  <th>mileage</th>         <td>   -0.7742</td> <td>    0.028</td> <td>  -27.634</td> <td> 0.000</td> <td>   -0.829</td> <td>   -0.719</td>\n",
       "</tr>\n",
       "<tr>\n",
       "  <th>I(mileage ** 2)</th> <td> 6.875e-06</td> <td> 4.87e-07</td> <td>   14.119</td> <td> 0.000</td> <td> 5.92e-06</td> <td> 7.83e-06</td>\n",
       "</tr>\n",
       "<tr>\n",
       "  <th>I(mileage ** 3)</th> <td>-1.823e-11</td> <td> 1.98e-12</td> <td>   -9.199</td> <td> 0.000</td> <td>-2.21e-11</td> <td>-1.43e-11</td>\n",
       "</tr>\n",
       "</table>\n",
       "<table class=\"simpletable\">\n",
       "<tr>\n",
       "  <th>Omnibus:</th>       <td>2380.788</td> <th>  Durbin-Watson:     </th> <td>   0.321</td> \n",
       "</tr>\n",
       "<tr>\n",
       "  <th>Prob(Omnibus):</th>  <td> 0.000</td>  <th>  Jarque-Bera (JB):  </th> <td>23039.307</td>\n",
       "</tr>\n",
       "<tr>\n",
       "  <th>Skew:</th>           <td> 2.065</td>  <th>  Prob(JB):          </th> <td>    0.00</td> \n",
       "</tr>\n",
       "<tr>\n",
       "  <th>Kurtosis:</th>       <td>12.719</td>  <th>  Cond. No.          </th> <td>7.73e+14</td> \n",
       "</tr>\n",
       "</table><br/><br/>Notes:<br/>[1] Standard Errors assume that the covariance matrix of the errors is correctly specified.<br/>[2] The condition number is large, 7.73e+14. This might indicate that there are<br/>strong multicollinearity or other numerical problems."
      ],
      "text/plain": [
       "<class 'statsmodels.iolib.summary.Summary'>\n",
       "\"\"\"\n",
       "                            OLS Regression Results                            \n",
       "==============================================================================\n",
       "Dep. Variable:                  price   R-squared:                       0.283\n",
       "Model:                            OLS   Adj. R-squared:                  0.283\n",
       "Method:                 Least Squares   F-statistic:                     652.3\n",
       "Date:                Sat, 21 Jan 2023   Prob (F-statistic):               0.00\n",
       "Time:                        14:45:33   Log-Likelihood:                -54340.\n",
       "No. Observations:                4959   AIC:                         1.087e+05\n",
       "Df Residuals:                    4955   BIC:                         1.087e+05\n",
       "Df Model:                           3                                         \n",
       "Covariance Type:            nonrobust                                         \n",
       "===================================================================================\n",
       "                      coef    std err          t      P>|t|      [0.025      0.975]\n",
       "-----------------------------------------------------------------------------------\n",
       "Intercept        3.598e+04    371.926     96.727      0.000    3.52e+04    3.67e+04\n",
       "mileage            -0.7742      0.028    -27.634      0.000      -0.829      -0.719\n",
       "I(mileage ** 2)  6.875e-06   4.87e-07     14.119      0.000    5.92e-06    7.83e-06\n",
       "I(mileage ** 3) -1.823e-11   1.98e-12     -9.199      0.000   -2.21e-11   -1.43e-11\n",
       "==============================================================================\n",
       "Omnibus:                     2380.788   Durbin-Watson:                   0.321\n",
       "Prob(Omnibus):                  0.000   Jarque-Bera (JB):            23039.307\n",
       "Skew:                           2.065   Prob(JB):                         0.00\n",
       "Kurtosis:                      12.719   Cond. No.                     7.73e+14\n",
       "==============================================================================\n",
       "\n",
       "Notes:\n",
       "[1] Standard Errors assume that the covariance matrix of the errors is correctly specified.\n",
       "[2] The condition number is large, 7.73e+14. This might indicate that there are\n",
       "strong multicollinearity or other numerical problems.\n",
       "\"\"\""
      ]
     },
     "execution_count": 48,
     "metadata": {},
     "output_type": "execute_result"
    }
   ],
   "source": [
    "#Including mileage squared as a predictor and developing the model\n",
    "ols_object = smf.ols(formula = 'price~mileage+I(mileage**2)+I(mileage**3)', data = train_updated)\n",
    "model = ols_object.fit()\n",
    "model.summary()"
   ]
  },
  {
   "cell_type": "markdown",
   "id": "9eba46ee",
   "metadata": {},
   "source": [
    "Note that the fit seems slighty better for mileage less than 150k. The model should not be used to predict car prices of cars with a mileage higher than 150k."
   ]
  },
  {
   "cell_type": "markdown",
   "id": "06f14799",
   "metadata": {},
   "source": [
    "Let's update the model created earlier (in the beginning of this chapter) to include the transformed predictor."
   ]
  },
  {
   "cell_type": "code",
   "execution_count": 49,
   "id": "8e5f942c",
   "metadata": {},
   "outputs": [
    {
     "data": {
      "text/html": [
       "<table class=\"simpletable\">\n",
       "<caption>OLS Regression Results</caption>\n",
       "<tr>\n",
       "  <th>Dep. Variable:</th>          <td>price</td>      <th>  R-squared:         </th> <td>   0.702</td> \n",
       "</tr>\n",
       "<tr>\n",
       "  <th>Model:</th>                   <td>OLS</td>       <th>  Adj. R-squared:    </th> <td>   0.702</td> \n",
       "</tr>\n",
       "<tr>\n",
       "  <th>Method:</th>             <td>Least Squares</td>  <th>  F-statistic:       </th> <td>   1947.</td> \n",
       "</tr>\n",
       "<tr>\n",
       "  <th>Date:</th>             <td>Sat, 21 Jan 2023</td> <th>  Prob (F-statistic):</th>  <td>  0.00</td>  \n",
       "</tr>\n",
       "<tr>\n",
       "  <th>Time:</th>                 <td>14:45:36</td>     <th>  Log-Likelihood:    </th> <td> -52162.</td> \n",
       "</tr>\n",
       "<tr>\n",
       "  <th>No. Observations:</th>      <td>  4959</td>      <th>  AIC:               </th> <td>1.043e+05</td>\n",
       "</tr>\n",
       "<tr>\n",
       "  <th>Df Residuals:</th>          <td>  4952</td>      <th>  BIC:               </th> <td>1.044e+05</td>\n",
       "</tr>\n",
       "<tr>\n",
       "  <th>Df Model:</th>              <td>     6</td>      <th>                     </th>     <td> </td>    \n",
       "</tr>\n",
       "<tr>\n",
       "  <th>Covariance Type:</th>      <td>nonrobust</td>    <th>                     </th>     <td> </td>    \n",
       "</tr>\n",
       "</table>\n",
       "<table class=\"simpletable\">\n",
       "<tr>\n",
       "         <td></td>            <th>coef</th>     <th>std err</th>      <th>t</th>      <th>P>|t|</th>  <th>[0.025</th>    <th>0.975]</th>  \n",
       "</tr>\n",
       "<tr>\n",
       "  <th>Intercept</th>       <td>  1.53e+06</td> <td>  2.7e+05</td> <td>    5.671</td> <td> 0.000</td> <td>    1e+06</td> <td> 2.06e+06</td>\n",
       "</tr>\n",
       "<tr>\n",
       "  <th>year</th>            <td> -755.7419</td> <td>  133.791</td> <td>   -5.649</td> <td> 0.000</td> <td>-1018.031</td> <td> -493.453</td>\n",
       "</tr>\n",
       "<tr>\n",
       "  <th>engineSize</th>      <td>-2.022e+06</td> <td> 9.72e+04</td> <td>  -20.803</td> <td> 0.000</td> <td>-2.21e+06</td> <td>-1.83e+06</td>\n",
       "</tr>\n",
       "<tr>\n",
       "  <th>year:engineSize</th> <td> 1008.6993</td> <td>   48.196</td> <td>   20.929</td> <td> 0.000</td> <td>  914.215</td> <td> 1103.184</td>\n",
       "</tr>\n",
       "<tr>\n",
       "  <th>mileage</th>         <td>   -0.3548</td> <td>    0.014</td> <td>  -25.973</td> <td> 0.000</td> <td>   -0.382</td> <td>   -0.328</td>\n",
       "</tr>\n",
       "<tr>\n",
       "  <th>mpg</th>             <td>  -54.7450</td> <td>    8.896</td> <td>   -6.154</td> <td> 0.000</td> <td>  -72.185</td> <td>  -37.305</td>\n",
       "</tr>\n",
       "<tr>\n",
       "  <th>I(mileage ** 2)</th> <td> 1.926e-06</td> <td> 1.04e-07</td> <td>   18.536</td> <td> 0.000</td> <td> 1.72e-06</td> <td> 2.13e-06</td>\n",
       "</tr>\n",
       "</table>\n",
       "<table class=\"simpletable\">\n",
       "<tr>\n",
       "  <th>Omnibus:</th>       <td>2355.448</td> <th>  Durbin-Watson:     </th> <td>   0.562</td> \n",
       "</tr>\n",
       "<tr>\n",
       "  <th>Prob(Omnibus):</th>  <td> 0.000</td>  <th>  Jarque-Bera (JB):  </th> <td>38317.404</td>\n",
       "</tr>\n",
       "<tr>\n",
       "  <th>Skew:</th>           <td> 1.857</td>  <th>  Prob(JB):          </th> <td>    0.00</td> \n",
       "</tr>\n",
       "<tr>\n",
       "  <th>Kurtosis:</th>       <td>16.101</td>  <th>  Cond. No.          </th> <td>6.40e+12</td> \n",
       "</tr>\n",
       "</table><br/><br/>Notes:<br/>[1] Standard Errors assume that the covariance matrix of the errors is correctly specified.<br/>[2] The condition number is large, 6.4e+12. This might indicate that there are<br/>strong multicollinearity or other numerical problems."
      ],
      "text/plain": [
       "<class 'statsmodels.iolib.summary.Summary'>\n",
       "\"\"\"\n",
       "                            OLS Regression Results                            \n",
       "==============================================================================\n",
       "Dep. Variable:                  price   R-squared:                       0.702\n",
       "Model:                            OLS   Adj. R-squared:                  0.702\n",
       "Method:                 Least Squares   F-statistic:                     1947.\n",
       "Date:                Sat, 21 Jan 2023   Prob (F-statistic):               0.00\n",
       "Time:                        14:45:36   Log-Likelihood:                -52162.\n",
       "No. Observations:                4959   AIC:                         1.043e+05\n",
       "Df Residuals:                    4952   BIC:                         1.044e+05\n",
       "Df Model:                           6                                         \n",
       "Covariance Type:            nonrobust                                         \n",
       "===================================================================================\n",
       "                      coef    std err          t      P>|t|      [0.025      0.975]\n",
       "-----------------------------------------------------------------------------------\n",
       "Intercept         1.53e+06    2.7e+05      5.671      0.000       1e+06    2.06e+06\n",
       "year             -755.7419    133.791     -5.649      0.000   -1018.031    -493.453\n",
       "engineSize      -2.022e+06   9.72e+04    -20.803      0.000   -2.21e+06   -1.83e+06\n",
       "year:engineSize  1008.6993     48.196     20.929      0.000     914.215    1103.184\n",
       "mileage            -0.3548      0.014    -25.973      0.000      -0.382      -0.328\n",
       "mpg               -54.7450      8.896     -6.154      0.000     -72.185     -37.305\n",
       "I(mileage ** 2)  1.926e-06   1.04e-07     18.536      0.000    1.72e-06    2.13e-06\n",
       "==============================================================================\n",
       "Omnibus:                     2355.448   Durbin-Watson:                   0.562\n",
       "Prob(Omnibus):                  0.000   Jarque-Bera (JB):            38317.404\n",
       "Skew:                           1.857   Prob(JB):                         0.00\n",
       "Kurtosis:                      16.101   Cond. No.                     6.40e+12\n",
       "==============================================================================\n",
       "\n",
       "Notes:\n",
       "[1] Standard Errors assume that the covariance matrix of the errors is correctly specified.\n",
       "[2] The condition number is large, 6.4e+12. This might indicate that there are\n",
       "strong multicollinearity or other numerical problems.\n",
       "\"\"\""
      ]
     },
     "execution_count": 49,
     "metadata": {},
     "output_type": "execute_result"
    }
   ],
   "source": [
    "#Model with an interaction term and a variable transformation term\n",
    "ols_object = smf.ols(formula = 'price~year*engineSize+mileage+mpg+I(mileage**2)', data = train_updated)\n",
    "model = ols_object.fit()\n",
    "model.summary()"
   ]
  },
  {
   "cell_type": "markdown",
   "id": "e1335c99",
   "metadata": {},
   "source": [
    "Note that the R-squared has increased as compared to the model with just the interaction term."
   ]
  },
  {
   "cell_type": "code",
   "execution_count": 50,
   "id": "aac77932",
   "metadata": {},
   "outputs": [
    {
     "data": {
      "text/plain": [
       "9074.494088619422"
      ]
     },
     "execution_count": 50,
     "metadata": {},
     "output_type": "execute_result"
    }
   ],
   "source": [
    "#Computing RMSE on test data\n",
    "pred_price = model.predict(testf)\n",
    "np.sqrt(((testp.price - pred_price)**2).mean())"
   ]
  },
  {
   "cell_type": "markdown",
   "id": "821026ca",
   "metadata": {},
   "source": [
    "Note that the prediction accuracy of the model has further increased, as the RMSE has reduced. The transformed predictor is statisically significant and provides additional flexibility to better capture the trend in the data, leading to an increase in prediction accuracy."
   ]
  }
 ],
 "metadata": {
  "kernelspec": {
   "display_name": "Python 3",
   "language": "python",
   "name": "python3"
  },
  "language_info": {
   "codemirror_mode": {
    "name": "ipython",
    "version": 3
   },
   "file_extension": ".py",
   "mimetype": "text/x-python",
   "name": "python",
   "nbconvert_exporter": "python",
   "pygments_lexer": "ipython3",
   "version": "3.8.8"
  }
 },
 "nbformat": 4,
 "nbformat_minor": 5
}
