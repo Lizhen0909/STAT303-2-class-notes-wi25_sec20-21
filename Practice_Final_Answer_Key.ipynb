{
 "cells": [
  {
   "cell_type": "raw",
   "id": "041bef59",
   "metadata": {},
   "source": [
    "---\n",
    "title: \"Practice Final Solutions\"\n",
    "subtitle: STAT303-2 (Winter2023)\n",
    "author: Angelica Wang, Naoki Ito, Yida Hao, Victoria Shi, Radhika Todi, Ally Bardas, Mingyi Gong, Nayada Tantichirasakul, Yuyan Zhang, Annabel Skubisz, Karrine Denisova, Hoda Fakhari, Catherine Erickson, Anjali Patel, Elena Cantu and Arvind Krishna.\n",
    "date: 03/08/2023\n",
    "number-sections: true\n",
    "abstract: _These solutions are being composed by students of the course STAT303-2 (Winter 2023)_.\n",
    "format: \n",
    "  html:\n",
    "    toc: true\n",
    "    toc-title: Contents\n",
    "    self-contained: true\n",
    "    font-size: 100%\n",
    "    toc-depth: 4\n",
    "    mainfont: serif\n",
    "jupyter: python3\n",
    "---"
   ]
  },
  {
   "cell_type": "markdown",
   "id": "24773937",
   "metadata": {},
   "source": [
    "## \n",
    "\n",
    "Presence of which of the following potential problems in a linear regression model may lead to statistically significant variables appearing insignificant? \n",
    "\n",
    "A) Multicollinearity\n",
    "\n",
    "B) Outliers\n",
    "\n",
    "C) Overfitting"
   ]
  },
  {
   "cell_type": "markdown",
   "id": "fbd1e051",
   "metadata": {},
   "source": [
    "<span style='color:Blue'>\n",
    "\n",
    "**Answer**: A and B\n",
    "\n",
    "**Explanation**:\n",
    "\n",
    "**A) Multicollinearity:**\n",
    "\n",
    "Recall, the estimated variance of the coefficient $\\beta_j$, of the $j^{th}$ predictor $X_j$, can be expressed as:\n",
    "\n",
    "$$\\hat{var}(\\hat{\\beta_j}) = \\frac{(\\hat{\\sigma})^2}{(n-1)\\hat{var}({X_j})}.\\frac{1}{1-R^2_{X_j|X_{-j}}}$$ </span>"
   ]
  },
  {
   "cell_type": "markdown",
   "id": "5d4dbc99",
   "metadata": {},
   "source": [
    "<span style='color:Blue'>If the predictor $X_j$ is collinear with other predictors, $R^2_{X_j|X_{-j}}$ will be large, which in turn will inflate $\\hat{var}(\\hat{\\beta_j})$. In other words, multicollinearity inflates the standard errors of the coefficients for which the variables are collinear. Since $t$-statistic is calculated by dividing the estimated coefficient by its standard error, the $t$-statistics shrinks, and the corresponding $p$-value increases. Therefore, the hypothesis test loses the power to reject the null hypotheses, and thus statistically significant variables appearing insignificant. </span>"
   ]
  },
  {
   "cell_type": "markdown",
   "id": "f43cf6f9",
   "metadata": {},
   "source": [
    "<span style='color:Blue'>Another way to think about this can be that if some predictors are collinear, it can be difficult to separate out the individual effects of these variables in the response and significant variables may appear insignificant. </span>"
   ]
  },
  {
   "cell_type": "markdown",
   "id": "304efc86",
   "metadata": {},
   "source": [
    "<span style='color:Blue'>\n",
    "\n",
    "**B) Outliers**\n",
    "</span>\n",
    "<span style='color:Blue'>Recall, the estimate of error variance is given by:</span>\n",
    "    \n",
    "$$\\hat{\\sigma}^2 = {\\frac{RSS}{n-2}},$$\n",
    "<span style='color:Blue'>where RSS is the residual sum of squared errors. Outliers result in an increase in $RSS$, leading to an increase in the estimated error variance $\\hat{\\sigma}^2$, which in turn inflates $\\hat{var}(\\hat{\\beta_j})$. The rest of the explanation follows from the previous explanation on multicollinearity.</span>"
   ]
  },
  {
   "cell_type": "markdown",
   "id": "376feb5f",
   "metadata": {},
   "source": [
    "<span style='color:Blue'>\n",
    "\n",
    "**C) Overfitting**\n",
    "    \n",
    "<span style='color:Blue'>Overfitting shrinks $RSS$, which in turn shrinks $\\hat{\\sigma}^2$, thereby shrinking $\\hat{var}(\\hat{\\beta_j})$. Thus overfitting will act in way opposite to what we observe in (A) and (B). </span>"
   ]
  },
  {
   "cell_type": "markdown",
   "id": "d04cd158",
   "metadata": {},
   "source": [
    "## \n",
    "Classify a data point as influential / outlier / high leverage in a linear regression model, based on the description.\n",
    "\n",
    "A) The data point is likely to have a large effect on the model in terms of prediction: <span style='color:Blue'>**Influential point**</span>\n",
    "\n",
    "B) The data point has the potential to have a large effect on the model in terms of prediction: <span style='color:Blue'>**High leverage point**</span>\n",
    "\n",
    "C) The data point is likely to inflate the model R-squared: <span style='color:Blue'>**High leverage point that is not influencial** </span>\n",
    "\n",
    "D) The data point is unlikely to have a large effect on the model in terms of prediction: <span style='color:Blue'>**outlier**</span>\n",
    "\n",
    "<span style='color:Blue'>\n",
    "\n",
    "   \n",
    "**Explanation:**\n",
    "    \n",
    "<span style='color:Blue'>See the graphics in class presentation on *Chapter3_Outliers_high_leverage_influential_points*. Think of influential points / high leverage points / outliers as a force (proportional to the residual corresponding to the point) pulling a canteliver beam. Depending on the position from where you pull the cantilever beam, you may move it too much or too little.</span>\n",
    "    \n",
    "<span style='color:Blue'>A) **Inluential point** (high leverage & outlier): an outlier with the respect to both the predictor and the response. It has a large effect on the regression line. As shown in the graphics, influence is higher for more extreme outliers with same leverage and for points with higher leverage & similar outlying distance.</span>\n",
    "    \n",
    "<span style='color:Blue'>B) **High leverage point**: Observations with high leverage have an unusual value for the predictor (ie. lie outside the domain of most points). High leverage point has the potential to have a large affect on the regression line. It is cause for concern if the least squares line is heavily affected by just a couple of observations, because any problems with these points may invalidate the entire fit.</span>\n",
    "\n",
    "<span style='color:Blue'>C) If you have a **high leverage point that is not influencial**: The variance of the response may increase in the presence of high leverage points, since an unusual set of predictor values may correspond to an unusual response, which may increase the total variation. However, as the point is not inluential, the increase in the unexplained variation *(the squared residual)* will not be proportionate to the increase in total variation. As $R^2$ is one minus the ratio of unexplained variation to total variation, it is likely to increase.</span>\n",
    "\n",
    "<span style='color:Blue'>D) **Outliers:** As shown in the graphics, outliers very small effect on prediction.</span>"
   ]
  }
 ],
 "metadata": {
  "kernelspec": {
   "display_name": "Python 3",
   "language": "python",
   "name": "python3"
  },
  "language_info": {
   "codemirror_mode": {
    "name": "ipython",
    "version": 3
   },
   "file_extension": ".py",
   "mimetype": "text/x-python",
   "name": "python",
   "nbconvert_exporter": "python",
   "pygments_lexer": "ipython3",
   "version": "3.8.8"
  }
 },
 "nbformat": 4,
 "nbformat_minor": 5
}
