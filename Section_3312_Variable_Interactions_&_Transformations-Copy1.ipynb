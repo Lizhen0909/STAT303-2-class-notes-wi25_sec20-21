{
 "cells": [
  {
   "cell_type": "raw",
   "id": "57c9d831",
   "metadata": {},
   "source": [
    "---\n",
    "title: \"Variable interactions and transformations\"\n",
    "format: \n",
    "  html:\n",
    "    code-fold: false\n",
    "    toc-depth: 4\n",
    "    jupyter: python3\n",
    "---"
   ]
  },
  {
   "cell_type": "markdown",
   "id": "cef54769",
   "metadata": {},
   "source": [
    "## Variable interactions"
   ]
  },
  {
   "cell_type": "code",
   "execution_count": 2,
   "id": "2f66df9f",
   "metadata": {},
   "outputs": [],
   "source": [
    "import pandas as pd\n",
    "import numpy as np\n",
    "import statsmodels.formula.api as smf\n",
    "import seaborn as sns\n",
    "import matplotlib.pyplot as plt"
   ]
  },
  {
   "cell_type": "code",
   "execution_count": 3,
   "id": "8b7ffcae",
   "metadata": {},
   "outputs": [
    {
     "data": {
      "text/html": [
       "<div>\n",
       "<style scoped>\n",
       "    .dataframe tbody tr th:only-of-type {\n",
       "        vertical-align: middle;\n",
       "    }\n",
       "\n",
       "    .dataframe tbody tr th {\n",
       "        vertical-align: top;\n",
       "    }\n",
       "\n",
       "    .dataframe thead th {\n",
       "        text-align: right;\n",
       "    }\n",
       "</style>\n",
       "<table border=\"1\" class=\"dataframe\">\n",
       "  <thead>\n",
       "    <tr style=\"text-align: right;\">\n",
       "      <th></th>\n",
       "      <th>carID</th>\n",
       "      <th>brand</th>\n",
       "      <th>model</th>\n",
       "      <th>year</th>\n",
       "      <th>transmission</th>\n",
       "      <th>mileage</th>\n",
       "      <th>fuelType</th>\n",
       "      <th>tax</th>\n",
       "      <th>mpg</th>\n",
       "      <th>engineSize</th>\n",
       "      <th>price</th>\n",
       "    </tr>\n",
       "  </thead>\n",
       "  <tbody>\n",
       "    <tr>\n",
       "      <th>0</th>\n",
       "      <td>18473</td>\n",
       "      <td>bmw</td>\n",
       "      <td>6 Series</td>\n",
       "      <td>2020</td>\n",
       "      <td>Semi-Auto</td>\n",
       "      <td>11</td>\n",
       "      <td>Diesel</td>\n",
       "      <td>145</td>\n",
       "      <td>53.3282</td>\n",
       "      <td>3.0</td>\n",
       "      <td>37980</td>\n",
       "    </tr>\n",
       "    <tr>\n",
       "      <th>1</th>\n",
       "      <td>15064</td>\n",
       "      <td>bmw</td>\n",
       "      <td>6 Series</td>\n",
       "      <td>2019</td>\n",
       "      <td>Semi-Auto</td>\n",
       "      <td>10813</td>\n",
       "      <td>Diesel</td>\n",
       "      <td>145</td>\n",
       "      <td>53.0430</td>\n",
       "      <td>3.0</td>\n",
       "      <td>33980</td>\n",
       "    </tr>\n",
       "    <tr>\n",
       "      <th>2</th>\n",
       "      <td>18268</td>\n",
       "      <td>bmw</td>\n",
       "      <td>6 Series</td>\n",
       "      <td>2020</td>\n",
       "      <td>Semi-Auto</td>\n",
       "      <td>6</td>\n",
       "      <td>Diesel</td>\n",
       "      <td>145</td>\n",
       "      <td>53.4379</td>\n",
       "      <td>3.0</td>\n",
       "      <td>36850</td>\n",
       "    </tr>\n",
       "    <tr>\n",
       "      <th>3</th>\n",
       "      <td>18480</td>\n",
       "      <td>bmw</td>\n",
       "      <td>6 Series</td>\n",
       "      <td>2017</td>\n",
       "      <td>Semi-Auto</td>\n",
       "      <td>18895</td>\n",
       "      <td>Diesel</td>\n",
       "      <td>145</td>\n",
       "      <td>51.5140</td>\n",
       "      <td>3.0</td>\n",
       "      <td>25998</td>\n",
       "    </tr>\n",
       "    <tr>\n",
       "      <th>4</th>\n",
       "      <td>18492</td>\n",
       "      <td>bmw</td>\n",
       "      <td>6 Series</td>\n",
       "      <td>2015</td>\n",
       "      <td>Automatic</td>\n",
       "      <td>62953</td>\n",
       "      <td>Diesel</td>\n",
       "      <td>160</td>\n",
       "      <td>51.4903</td>\n",
       "      <td>3.0</td>\n",
       "      <td>18990</td>\n",
       "    </tr>\n",
       "  </tbody>\n",
       "</table>\n",
       "</div>"
      ],
      "text/plain": [
       "   carID brand      model  year transmission  mileage fuelType  tax      mpg  \\\n",
       "0  18473   bmw   6 Series  2020    Semi-Auto       11   Diesel  145  53.3282   \n",
       "1  15064   bmw   6 Series  2019    Semi-Auto    10813   Diesel  145  53.0430   \n",
       "2  18268   bmw   6 Series  2020    Semi-Auto        6   Diesel  145  53.4379   \n",
       "3  18480   bmw   6 Series  2017    Semi-Auto    18895   Diesel  145  51.5140   \n",
       "4  18492   bmw   6 Series  2015    Automatic    62953   Diesel  160  51.4903   \n",
       "\n",
       "   engineSize  price  \n",
       "0         3.0  37980  \n",
       "1         3.0  33980  \n",
       "2         3.0  36850  \n",
       "3         3.0  25998  \n",
       "4         3.0  18990  "
      ]
     },
     "execution_count": 3,
     "metadata": {},
     "output_type": "execute_result"
    }
   ],
   "source": [
    "trainf = pd.read_csv('./Datasets/Car_features_train.csv')\n",
    "trainp = pd.read_csv('./Datasets/Car_prices_train.csv')\n",
    "testf = pd.read_csv('./Datasets/Car_features_test.csv')\n",
    "testp = pd.read_csv('./Datasets/Car_prices_test.csv')\n",
    "train = pd.merge(trainf,trainp)\n",
    "train.head()"
   ]
  },
  {
   "cell_type": "markdown",
   "id": "46281e19",
   "metadata": {},
   "source": [
    "Until now, we have have assumed that the association between a predictor $X_j$ and response $Y$ does not depend on the value of other predictors. For example, the muliple linear regression model that we developed in Chapter [2](https://nustat.github.io/STAT303-2-class-notes/Lec2_MultipleLinearRegression.html) assumes that the average increase in price associated with a unit increase in engineSize is always $12,180, regardless of the value of other predictors. However, this assumption may be incorrect."
   ]
  },
  {
   "cell_type": "markdown",
   "id": "130b745c",
   "metadata": {},
   "source": [
    "### Variable interaction between continuous predictors"
   ]
  },
  {
   "cell_type": "markdown",
   "id": "a2db0bfd",
   "metadata": {},
   "source": [
    "We can relax this assumption by considering another predictor, called an interaction term. Let us assume that the average increase in `price` associated with a one-unit increase in `engineSize` depends on the model `year` of the car. In other words, there is an interaction between `engineSize` and `year`. This interaction can be included as a predictor, which is the product of `engineSize` and `year`. *Note that there are several possible interactions that we can consider. Here the interaction between `engineSize` and `year` is just an example.*"
   ]
  },
  {
   "cell_type": "code",
   "execution_count": 4,
   "id": "f2db4520",
   "metadata": {},
   "outputs": [
    {
     "data": {
      "text/html": [
       "<table class=\"simpletable\">\n",
       "<caption>OLS Regression Results</caption>\n",
       "<tr>\n",
       "  <th>Dep. Variable:</th>          <td>price</td>      <th>  R-squared:         </th> <td>   0.682</td> \n",
       "</tr>\n",
       "<tr>\n",
       "  <th>Model:</th>                   <td>OLS</td>       <th>  Adj. R-squared:    </th> <td>   0.681</td> \n",
       "</tr>\n",
       "<tr>\n",
       "  <th>Method:</th>             <td>Least Squares</td>  <th>  F-statistic:       </th> <td>   2121.</td> \n",
       "</tr>\n",
       "<tr>\n",
       "  <th>Date:</th>             <td>Tue, 17 Jan 2023</td> <th>  Prob (F-statistic):</th>  <td>  0.00</td>  \n",
       "</tr>\n",
       "<tr>\n",
       "  <th>Time:</th>                 <td>02:19:05</td>     <th>  Log-Likelihood:    </th> <td> -52338.</td> \n",
       "</tr>\n",
       "<tr>\n",
       "  <th>No. Observations:</th>      <td>  4960</td>      <th>  AIC:               </th> <td>1.047e+05</td>\n",
       "</tr>\n",
       "<tr>\n",
       "  <th>Df Residuals:</th>          <td>  4954</td>      <th>  BIC:               </th> <td>1.047e+05</td>\n",
       "</tr>\n",
       "<tr>\n",
       "  <th>Df Model:</th>              <td>     5</td>      <th>                     </th>     <td> </td>    \n",
       "</tr>\n",
       "<tr>\n",
       "  <th>Covariance Type:</th>      <td>nonrobust</td>    <th>                     </th>     <td> </td>    \n",
       "</tr>\n",
       "</table>\n",
       "<table class=\"simpletable\">\n",
       "<tr>\n",
       "         <td></td>            <th>coef</th>     <th>std err</th>      <th>t</th>      <th>P>|t|</th>  <th>[0.025</th>    <th>0.975]</th>  \n",
       "</tr>\n",
       "<tr>\n",
       "  <th>Intercept</th>       <td> 5.606e+05</td> <td> 2.74e+05</td> <td>    2.048</td> <td> 0.041</td> <td>  2.4e+04</td> <td>  1.1e+06</td>\n",
       "</tr>\n",
       "<tr>\n",
       "  <th>year</th>            <td> -275.3833</td> <td>  135.695</td> <td>   -2.029</td> <td> 0.042</td> <td> -541.405</td> <td>   -9.361</td>\n",
       "</tr>\n",
       "<tr>\n",
       "  <th>engineSize</th>      <td>-1.796e+06</td> <td> 9.97e+04</td> <td>  -18.019</td> <td> 0.000</td> <td>-1.99e+06</td> <td> -1.6e+06</td>\n",
       "</tr>\n",
       "<tr>\n",
       "  <th>year:engineSize</th> <td>  896.7687</td> <td>   49.431</td> <td>   18.142</td> <td> 0.000</td> <td>  799.861</td> <td>  993.676</td>\n",
       "</tr>\n",
       "<tr>\n",
       "  <th>mileage</th>         <td>   -0.1525</td> <td>    0.008</td> <td>  -17.954</td> <td> 0.000</td> <td>   -0.169</td> <td>   -0.136</td>\n",
       "</tr>\n",
       "<tr>\n",
       "  <th>mpg</th>             <td>  -84.3417</td> <td>    9.048</td> <td>   -9.322</td> <td> 0.000</td> <td> -102.079</td> <td>  -66.604</td>\n",
       "</tr>\n",
       "</table>\n",
       "<table class=\"simpletable\">\n",
       "<tr>\n",
       "  <th>Omnibus:</th>       <td>2330.413</td> <th>  Durbin-Watson:     </th> <td>   0.524</td> \n",
       "</tr>\n",
       "<tr>\n",
       "  <th>Prob(Omnibus):</th>  <td> 0.000</td>  <th>  Jarque-Bera (JB):  </th> <td>29977.437</td>\n",
       "</tr>\n",
       "<tr>\n",
       "  <th>Skew:</th>           <td> 1.908</td>  <th>  Prob(JB):          </th> <td>    0.00</td> \n",
       "</tr>\n",
       "<tr>\n",
       "  <th>Kurtosis:</th>       <td>14.423</td>  <th>  Cond. No.          </th> <td>7.66e+07</td> \n",
       "</tr>\n",
       "</table><br/><br/>Notes:<br/>[1] Standard Errors assume that the covariance matrix of the errors is correctly specified.<br/>[2] The condition number is large, 7.66e+07. This might indicate that there are<br/>strong multicollinearity or other numerical problems."
      ],
      "text/plain": [
       "<class 'statsmodels.iolib.summary.Summary'>\n",
       "\"\"\"\n",
       "                            OLS Regression Results                            \n",
       "==============================================================================\n",
       "Dep. Variable:                  price   R-squared:                       0.682\n",
       "Model:                            OLS   Adj. R-squared:                  0.681\n",
       "Method:                 Least Squares   F-statistic:                     2121.\n",
       "Date:                Tue, 17 Jan 2023   Prob (F-statistic):               0.00\n",
       "Time:                        02:19:05   Log-Likelihood:                -52338.\n",
       "No. Observations:                4960   AIC:                         1.047e+05\n",
       "Df Residuals:                    4954   BIC:                         1.047e+05\n",
       "Df Model:                           5                                         \n",
       "Covariance Type:            nonrobust                                         \n",
       "===================================================================================\n",
       "                      coef    std err          t      P>|t|      [0.025      0.975]\n",
       "-----------------------------------------------------------------------------------\n",
       "Intercept        5.606e+05   2.74e+05      2.048      0.041     2.4e+04     1.1e+06\n",
       "year             -275.3833    135.695     -2.029      0.042    -541.405      -9.361\n",
       "engineSize      -1.796e+06   9.97e+04    -18.019      0.000   -1.99e+06    -1.6e+06\n",
       "year:engineSize   896.7687     49.431     18.142      0.000     799.861     993.676\n",
       "mileage            -0.1525      0.008    -17.954      0.000      -0.169      -0.136\n",
       "mpg               -84.3417      9.048     -9.322      0.000    -102.079     -66.604\n",
       "==============================================================================\n",
       "Omnibus:                     2330.413   Durbin-Watson:                   0.524\n",
       "Prob(Omnibus):                  0.000   Jarque-Bera (JB):            29977.437\n",
       "Skew:                           1.908   Prob(JB):                         0.00\n",
       "Kurtosis:                      14.423   Cond. No.                     7.66e+07\n",
       "==============================================================================\n",
       "\n",
       "Notes:\n",
       "[1] Standard Errors assume that the covariance matrix of the errors is correctly specified.\n",
       "[2] The condition number is large, 7.66e+07. This might indicate that there are\n",
       "strong multicollinearity or other numerical problems.\n",
       "\"\"\""
      ]
     },
     "execution_count": 4,
     "metadata": {},
     "output_type": "execute_result"
    }
   ],
   "source": [
    "#Considering interaction between engineSize and year\n",
    "ols_object = smf.ols(formula = 'price~year*engineSize+mileage+mpg', data = train)\n",
    "model = ols_object.fit()\n",
    "model.summary()"
   ]
  },
  {
   "cell_type": "markdown",
   "id": "f800a4b2",
   "metadata": {},
   "source": [
    "Note that the R-squared has increased as compared to the model in Chapter [2](https://nustat.github.io/STAT303-2-class-notes/Lec2_MultipleLinearRegression.html) since we added a predictor."
   ]
  },
  {
   "cell_type": "markdown",
   "id": "497211a4",
   "metadata": {},
   "source": [
    "The model equation is:\n",
    "\n",
    "\\begin{equation}\n",
    "price = \\beta_0 + \\beta_1*year + \\beta_2*engineSize + \\beta_3*(year*engineSize) + \\beta4*mileage + \\beta_5*mpg,\n",
    "\\end{equation}or\n",
    "\n",
    "\\begin{equation}\n",
    "price = \\beta_0 + \\beta_1*year + (\\beta_2+\\beta_3*year)*engineSize + \\beta4*mileage + \\beta_5*mpg,\n",
    "\\end{equation}or\n",
    "\n",
    "\\begin{equation}\n",
    "price = \\beta_0 + \\beta_1*year + \\tilde \\beta*engineSize + \\beta4*mileage + \\beta_5*mpg,\n",
    "\\end{equation}"
   ]
  },
  {
   "cell_type": "markdown",
   "id": "aa890ddc",
   "metadata": {},
   "source": [
    "Since $\\tilde \\beta$ is a function of `year`, the association between `engineSize` and `price` is no longer a constant. A change in the value of `year` will change the association between `price` and `engineSize`."
   ]
  },
  {
   "cell_type": "markdown",
   "id": "9ac5a05b",
   "metadata": {},
   "source": [
    "Substituting the values of the coefficients:\n",
    "\\begin{equation}\n",
    "price = 5.606e5 - 275.3833*year + (-1.796e6+896.7687*year)*engineSize -0.1525*mileage -84.3417*mpg\n",
    "\\end{equation}"
   ]
  },
  {
   "cell_type": "markdown",
   "id": "04dd2ed0",
   "metadata": {},
   "source": [
    "Thus, for cars launched in the year 2010, the average increase in price for one liter increase in engine size is -1.796e6 + 896.7687 * 2010 $\\approx$ \\\\$6,500, assuming all the other predictors are constant. However, for cars launched in the year 2020, the average increase in price for one liter increase in engine size is -1.796e6 + 896.7687*2020 $\\approx$ \\\\$15,500 , assuming all the other predictors are constant."
   ]
  },
  {
   "cell_type": "markdown",
   "id": "b7dcf99e",
   "metadata": {},
   "source": [
    "Similarly, the equation can be re-arranged as:\n",
    "\\begin{equation}\n",
    "price = 5.606e5 +(-275.3833+896.7687*engineSize)*year -1.796e6*engineSize -0.1525*mileage -84.3417*mpg\n",
    "\\end{equation}"
   ]
  },
  {
   "cell_type": "markdown",
   "id": "d9bc1525",
   "metadata": {},
   "source": [
    "Thus, for cars with an engine size of 2 litres, the average increase in price for a one year newer model is -275.3833+896.7687 * 2 $\\approx$ \\\\$1500, assuming all the other predictors are constant. However, for cars with an engine size of 3 litres, the average increase in price for a one year newer model is -275.3833+896.7687 * 3 $\\approx$ \\\\$2400, assuming all the other predictors are constant."
   ]
  },
  {
   "cell_type": "code",
   "execution_count": 5,
   "id": "49a7879e",
   "metadata": {},
   "outputs": [
    {
     "data": {
      "text/plain": [
       "9423.598872501092"
      ]
     },
     "execution_count": 5,
     "metadata": {},
     "output_type": "execute_result"
    }
   ],
   "source": [
    "#Computing the RMSE of the model with the interaction term\n",
    "pred_price = model.predict(testf)\n",
    "np.sqrt(((testp.price - pred_price)**2).mean())"
   ]
  },
  {
   "cell_type": "markdown",
   "id": "4e2c7e79",
   "metadata": {},
   "source": [
    "Note that the RMSE reduced as compared to that of the model in Chapter [2](https://nustat.github.io/STAT303-2-class-notes/Lec2_MultipleLinearRegression.html). This is because the interaction term between `engineSize` and `year` is significant and relaxes the assumption of constant association between price and engine size, and between price and year. This added flexibility makes the model better fit the data. Caution: Too much flexibility may lead to overfitting!\n",
    "\n",
    "Note that interaction terms corresponding to other variable pairs, and higher order interaction terms (such as those containing 3 or 4 variables) may also be significant and improve the model fit & thereby the prediction accuracy of the model."
   ]
  },
  {
   "cell_type": "markdown",
   "id": "3196586b",
   "metadata": {},
   "source": [
    "### Including qualitative predictors in the model"
   ]
  },
  {
   "cell_type": "markdown",
   "id": "7d04cf64",
   "metadata": {},
   "source": [
    "Let us develop a model for predicting `price` based on `engineSize` and the qualitative predictor `transmission`."
   ]
  },
  {
   "cell_type": "code",
   "execution_count": 23,
   "id": "229d2e1d",
   "metadata": {},
   "outputs": [
    {
     "data": {
      "text/plain": [
       "Manual       1948\n",
       "Automatic    1660\n",
       "Semi-Auto    1351\n",
       "Other           1\n",
       "Name: transmission, dtype: int64"
      ]
     },
     "execution_count": 23,
     "metadata": {},
     "output_type": "execute_result"
    }
   ],
   "source": [
    "#checking the distribution of values of transmission\n",
    "train.transmission.value_counts()"
   ]
  },
  {
   "cell_type": "markdown",
   "id": "a8846f56",
   "metadata": {},
   "source": [
    "Note that the *Other* category of the variable *transmission* contains only a single observation, which is likely to be insufficient to train the model. We'll remove that observation from the training data. Another option may be to combine the observation in the *Other* category with the nearest category, and keep it in the data."
   ]
  },
  {
   "cell_type": "code",
   "execution_count": 24,
   "id": "4e615c59",
   "metadata": {},
   "outputs": [],
   "source": [
    "train_updated = train[train.transmission!='Other']"
   ]
  },
  {
   "cell_type": "code",
   "execution_count": 25,
   "id": "0193709a",
   "metadata": {},
   "outputs": [
    {
     "data": {
      "text/html": [
       "<table class=\"simpletable\">\n",
       "<caption>OLS Regression Results</caption>\n",
       "<tr>\n",
       "  <th>Dep. Variable:</th>          <td>price</td>      <th>  R-squared:         </th> <td>   0.459</td> \n",
       "</tr>\n",
       "<tr>\n",
       "  <th>Model:</th>                   <td>OLS</td>       <th>  Adj. R-squared:    </th> <td>   0.458</td> \n",
       "</tr>\n",
       "<tr>\n",
       "  <th>Method:</th>             <td>Least Squares</td>  <th>  F-statistic:       </th> <td>   1400.</td> \n",
       "</tr>\n",
       "<tr>\n",
       "  <th>Date:</th>             <td>Tue, 17 Jan 2023</td> <th>  Prob (F-statistic):</th>  <td>  0.00</td>  \n",
       "</tr>\n",
       "<tr>\n",
       "  <th>Time:</th>                 <td>03:22:02</td>     <th>  Log-Likelihood:    </th> <td> -53644.</td> \n",
       "</tr>\n",
       "<tr>\n",
       "  <th>No. Observations:</th>      <td>  4959</td>      <th>  AIC:               </th> <td>1.073e+05</td>\n",
       "</tr>\n",
       "<tr>\n",
       "  <th>Df Residuals:</th>          <td>  4955</td>      <th>  BIC:               </th> <td>1.073e+05</td>\n",
       "</tr>\n",
       "<tr>\n",
       "  <th>Df Model:</th>              <td>     3</td>      <th>                     </th>     <td> </td>    \n",
       "</tr>\n",
       "<tr>\n",
       "  <th>Covariance Type:</th>      <td>nonrobust</td>    <th>                     </th>     <td> </td>    \n",
       "</tr>\n",
       "</table>\n",
       "<table class=\"simpletable\">\n",
       "<tr>\n",
       "              <td></td>                 <th>coef</th>     <th>std err</th>      <th>t</th>      <th>P>|t|</th>  <th>[0.025</th>    <th>0.975]</th>  \n",
       "</tr>\n",
       "<tr>\n",
       "  <th>Intercept</th>                 <td> 3042.6765</td> <td>  661.190</td> <td>    4.602</td> <td> 0.000</td> <td> 1746.451</td> <td> 4338.902</td>\n",
       "</tr>\n",
       "<tr>\n",
       "  <th>transmission[T.Manual]</th>    <td>-6770.6165</td> <td>  442.116</td> <td>  -15.314</td> <td> 0.000</td> <td>-7637.360</td> <td>-5903.873</td>\n",
       "</tr>\n",
       "<tr>\n",
       "  <th>transmission[T.Semi-Auto]</th> <td> 4994.3112</td> <td>  442.989</td> <td>   11.274</td> <td> 0.000</td> <td> 4125.857</td> <td> 5862.765</td>\n",
       "</tr>\n",
       "<tr>\n",
       "  <th>engineSize</th>                <td> 1.023e+04</td> <td>  247.485</td> <td>   41.323</td> <td> 0.000</td> <td> 9741.581</td> <td> 1.07e+04</td>\n",
       "</tr>\n",
       "</table>\n",
       "<table class=\"simpletable\">\n",
       "<tr>\n",
       "  <th>Omnibus:</th>       <td>1575.518</td> <th>  Durbin-Watson:     </th> <td>   0.579</td> \n",
       "</tr>\n",
       "<tr>\n",
       "  <th>Prob(Omnibus):</th>  <td> 0.000</td>  <th>  Jarque-Bera (JB):  </th> <td>11006.609</td>\n",
       "</tr>\n",
       "<tr>\n",
       "  <th>Skew:</th>           <td> 1.334</td>  <th>  Prob(JB):          </th> <td>    0.00</td> \n",
       "</tr>\n",
       "<tr>\n",
       "  <th>Kurtosis:</th>       <td> 9.793</td>  <th>  Cond. No.          </th> <td>    11.4</td> \n",
       "</tr>\n",
       "</table><br/><br/>Notes:<br/>[1] Standard Errors assume that the covariance matrix of the errors is correctly specified."
      ],
      "text/plain": [
       "<class 'statsmodels.iolib.summary.Summary'>\n",
       "\"\"\"\n",
       "                            OLS Regression Results                            \n",
       "==============================================================================\n",
       "Dep. Variable:                  price   R-squared:                       0.459\n",
       "Model:                            OLS   Adj. R-squared:                  0.458\n",
       "Method:                 Least Squares   F-statistic:                     1400.\n",
       "Date:                Tue, 17 Jan 2023   Prob (F-statistic):               0.00\n",
       "Time:                        03:22:02   Log-Likelihood:                -53644.\n",
       "No. Observations:                4959   AIC:                         1.073e+05\n",
       "Df Residuals:                    4955   BIC:                         1.073e+05\n",
       "Df Model:                           3                                         \n",
       "Covariance Type:            nonrobust                                         \n",
       "=============================================================================================\n",
       "                                coef    std err          t      P>|t|      [0.025      0.975]\n",
       "---------------------------------------------------------------------------------------------\n",
       "Intercept                  3042.6765    661.190      4.602      0.000    1746.451    4338.902\n",
       "transmission[T.Manual]    -6770.6165    442.116    -15.314      0.000   -7637.360   -5903.873\n",
       "transmission[T.Semi-Auto]  4994.3112    442.989     11.274      0.000    4125.857    5862.765\n",
       "engineSize                 1.023e+04    247.485     41.323      0.000    9741.581    1.07e+04\n",
       "==============================================================================\n",
       "Omnibus:                     1575.518   Durbin-Watson:                   0.579\n",
       "Prob(Omnibus):                  0.000   Jarque-Bera (JB):            11006.609\n",
       "Skew:                           1.334   Prob(JB):                         0.00\n",
       "Kurtosis:                       9.793   Cond. No.                         11.4\n",
       "==============================================================================\n",
       "\n",
       "Notes:\n",
       "[1] Standard Errors assume that the covariance matrix of the errors is correctly specified.\n",
       "\"\"\""
      ]
     },
     "execution_count": 25,
     "metadata": {},
     "output_type": "execute_result"
    }
   ],
   "source": [
    "ols_object = smf.ols(formula = 'price~engineSize+transmission', data = train_updated)\n",
    "model = ols_object.fit()\n",
    "model.summary()"
   ]
  },
  {
   "cell_type": "markdown",
   "id": "6d144888",
   "metadata": {},
   "source": [
    "The model equation is:\n",
    "\n",
    "Automatic transmission: $price = 3042.6765 + 1.023e4 * engineSize$, \n",
    "\n",
    "Semi-Automatic transmission: $price = 3042.6765 + 1.023e4 * engineSize + 4994.3112$, \n",
    "\n",
    "Manual transmission: $price = 3042.6765 + 1.023e4 * engineSize -6770.6165$"
   ]
  },
  {
   "cell_type": "code",
   "execution_count": 33,
   "id": "bbdebedd",
   "metadata": {},
   "outputs": [
    {
     "data": {
      "text/plain": [
       "[<matplotlib.lines.Line2D at 0x166b37a0e80>]"
      ]
     },
     "execution_count": 33,
     "metadata": {},
     "output_type": "execute_result"
    },
    {
     "data": {
      "image/png": "[encoded data removed]",
      "text/plain": [
       "<Figure size 432x288 with 1 Axes>"
      ]
     },
     "metadata": {
      "needs_background": "light"
     },
     "output_type": "display_data"
    }
   ],
   "source": [
    "#Visualizing the developed model with interaction terms\n",
    "x = np.linspace(train.engineSize.min(),train.engineSize.max(),100)\n",
    "plt.plot(x, model.params['engineSize']*x+model.params['Intercept'], '-r', label='Automatic')"
   ]
  },
  {
   "cell_type": "code",
   "execution_count": 31,
   "id": "444e5e38",
   "metadata": {},
   "outputs": [
    {
     "data": {
      "text/plain": [
       "Intercept                     3042.676514\n",
       "transmission[T.Manual]       -6770.616525\n",
       "transmission[T.Semi-Auto]     4994.311234\n",
       "engineSize                   10226.761423\n",
       "dtype: float64"
      ]
     },
     "execution_count": 31,
     "metadata": {},
     "output_type": "execute_result"
    }
   ],
   "source": [
    "model.params"
   ]
  }
 ],
 "metadata": {
  "kernelspec": {
   "display_name": "Python 3",
   "language": "python",
   "name": "python3"
  },
  "language_info": {
   "codemirror_mode": {
    "name": "ipython",
    "version": 3
   },
   "file_extension": ".py",
   "mimetype": "text/x-python",
   "name": "python",
   "nbconvert_exporter": "python",
   "pygments_lexer": "ipython3",
   "version": "3.8.8"
  }
 },
 "nbformat": 4,
 "nbformat_minor": 5
}
