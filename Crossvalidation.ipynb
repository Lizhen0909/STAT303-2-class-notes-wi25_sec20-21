{
 "cells": [
  {
   "cell_type": "raw",
   "id": "a6880135",
   "metadata": {},
   "source": [
    "---\n",
    "title: \"Cross-validation\"\n",
    "format: \n",
    "  html:\n",
    "    code-fold: false\n",
    "    toc-depth: 4\n",
    "    jupyter: python3\n",
    "---"
   ]
  },
  {
   "cell_type": "markdown",
   "id": "ce3c3b7a",
   "metadata": {},
   "source": [
    "*Read section 5.1 of the book before using these notes.*\n",
    "\n",
    "*Note that in this course, lecture notes are not sufficient, you must read the book for better understanding. Lecture notes are just implementing the concepts of the book on a dataset, but not explaining the concepts elaborately.*"
   ]
  },
  {
   "cell_type": "markdown",
   "id": "04c3cc49",
   "metadata": {},
   "source": [
    "- The aim of the notebook is to introduce how to use some low-level cross-validation tools.\n",
    "- Why? Because unlike Lasso, Ridge and LogisticRegression, most models in sklearn don't have a CV version.\n",
    "- In that case, you need to CV yourself with the tools in this notebook."
   ]
  },
  {
   "cell_type": "code",
   "execution_count": 90,
   "id": "5466c307",
   "metadata": {},
   "outputs": [],
   "source": [
    "import pandas as pd\n",
    "import numpy as np\n",
    "import seaborn as sns\n",
    "import matplotlib.pyplot as plt\n",
    "from sklearn.linear_model import Ridge, Lasso, LogisticRegression # No CV versions of the objects\n",
    "from sklearn.preprocessing import StandardScaler, PolynomialFeatures\n",
    "from sklearn.metrics import mean_squared_error, mean_absolute_error, accuracy_score, roc_curve, auc, \\\n",
    "precision_score, recall_score, confusion_matrix\n",
    "from sklearn.model_selection import cross_val_score, cross_val_predict"
   ]
  },
  {
   "cell_type": "markdown",
   "id": "6f1fba8a",
   "metadata": {},
   "source": [
    "## Regression"
   ]
  },
  {
   "cell_type": "code",
   "execution_count": 3,
   "id": "bc785682",
   "metadata": {},
   "outputs": [
    {
     "data": {
      "text/html": [
       "<div>\n",
       "<style scoped>\n",
       "    .dataframe tbody tr th:only-of-type {\n",
       "        vertical-align: middle;\n",
       "    }\n",
       "\n",
       "    .dataframe tbody tr th {\n",
       "        vertical-align: top;\n",
       "    }\n",
       "\n",
       "    .dataframe thead th {\n",
       "        text-align: right;\n",
       "    }\n",
       "</style>\n",
       "<table border=\"1\" class=\"dataframe\">\n",
       "  <thead>\n",
       "    <tr style=\"text-align: right;\">\n",
       "      <th></th>\n",
       "      <th>house_id</th>\n",
       "      <th>house_age</th>\n",
       "      <th>distance_MRT</th>\n",
       "      <th>number_convenience_stores</th>\n",
       "      <th>latitude</th>\n",
       "      <th>longitude</th>\n",
       "      <th>house_price</th>\n",
       "    </tr>\n",
       "  </thead>\n",
       "  <tbody>\n",
       "    <tr>\n",
       "      <th>0</th>\n",
       "      <td>210</td>\n",
       "      <td>5.2</td>\n",
       "      <td>390.5684</td>\n",
       "      <td>5</td>\n",
       "      <td>24.97937</td>\n",
       "      <td>121.54245</td>\n",
       "      <td>2724.84</td>\n",
       "    </tr>\n",
       "    <tr>\n",
       "      <th>1</th>\n",
       "      <td>190</td>\n",
       "      <td>35.3</td>\n",
       "      <td>616.5735</td>\n",
       "      <td>8</td>\n",
       "      <td>24.97945</td>\n",
       "      <td>121.53642</td>\n",
       "      <td>1789.29</td>\n",
       "    </tr>\n",
       "    <tr>\n",
       "      <th>2</th>\n",
       "      <td>328</td>\n",
       "      <td>15.9</td>\n",
       "      <td>1497.7130</td>\n",
       "      <td>3</td>\n",
       "      <td>24.97003</td>\n",
       "      <td>121.51696</td>\n",
       "      <td>556.96</td>\n",
       "    </tr>\n",
       "    <tr>\n",
       "      <th>3</th>\n",
       "      <td>5</td>\n",
       "      <td>7.1</td>\n",
       "      <td>2175.0300</td>\n",
       "      <td>3</td>\n",
       "      <td>24.96305</td>\n",
       "      <td>121.51254</td>\n",
       "      <td>1030.41</td>\n",
       "    </tr>\n",
       "    <tr>\n",
       "      <th>4</th>\n",
       "      <td>412</td>\n",
       "      <td>8.1</td>\n",
       "      <td>104.8101</td>\n",
       "      <td>5</td>\n",
       "      <td>24.96674</td>\n",
       "      <td>121.54067</td>\n",
       "      <td>2756.25</td>\n",
       "    </tr>\n",
       "  </tbody>\n",
       "</table>\n",
       "</div>"
      ],
      "text/plain": [
       "   house_id  house_age  distance_MRT  number_convenience_stores  latitude  \\\n",
       "0       210        5.2      390.5684                          5  24.97937   \n",
       "1       190       35.3      616.5735                          8  24.97945   \n",
       "2       328       15.9     1497.7130                          3  24.97003   \n",
       "3         5        7.1     2175.0300                          3  24.96305   \n",
       "4       412        8.1      104.8101                          5  24.96674   \n",
       "\n",
       "   longitude  house_price  \n",
       "0  121.54245      2724.84  \n",
       "1  121.53642      1789.29  \n",
       "2  121.51696       556.96  \n",
       "3  121.51254      1030.41  \n",
       "4  121.54067      2756.25  "
      ]
     },
     "execution_count": 3,
     "metadata": {},
     "output_type": "execute_result"
    }
   ],
   "source": [
    "trainf = pd.read_csv('Datasets/house_feature_train.csv')\n",
    "trainp = pd.read_csv('Datasets/house_price_train.csv')\n",
    "testf = pd.read_csv('Datasets/house_feature_test.csv')\n",
    "testp = pd.read_csv('Datasets/house_price_test.csv')\n",
    "train = pd.merge(trainf,trainp)\n",
    "test = pd.merge(testf,testp)\n",
    "train.head()"
   ]
  },
  {
   "cell_type": "code",
   "execution_count": 4,
   "id": "7afe4316",
   "metadata": {},
   "outputs": [],
   "source": [
    "# Data\n",
    "\n",
    "# Train\n",
    "y_train = np.log(train.house_price) # Response (log taken to account for the skewed dist. of house prices)\n",
    "X_train = train.iloc[:,1:6] # Slice out the predictors\n",
    "\n",
    "# Test\n",
    "y_test = np.log(test.house_price) # Response (log taken to account for the skewed dist. of house prices)\n",
    "X_test = test.iloc[:,1:6] # Slice out the predictor\n",
    "\n",
    "# Scale both\n",
    "scaler = StandardScaler()\n",
    "scaler.fit(X_train)\n",
    "X_train_scaled = scaler.transform(X_train)\n",
    "X_test_scaled = scaler.transform(X_test)"
   ]
  },
  {
   "cell_type": "code",
   "execution_count": 56,
   "id": "c1c5aeff",
   "metadata": {},
   "outputs": [],
   "source": [
    "# Let's tune the lambda of a Ridge model, with 5-fold CV.\n",
    "\n",
    "# For that, we need to loop through lambda (alpha) values.\n",
    "# However, we don't need to loop through folds - we will use a function for that! - cross_val_score\n",
    "\n",
    "alphas = np.logspace(-1,1,200)\n",
    "\n",
    "cv_results = []\n",
    "\n",
    "for alpha in alphas: # For each alpha\n",
    "    model = Ridge(alpha=alpha) # Create the model\n",
    "    cv_results.append(cross_val_score(model, X_train_scaled, y_train, cv=5, scoring='neg_root_mean_squared_error')) # cross validate it\n",
    "    \n",
    "# Note that the input is the model object, the data, number of folds and the metric\n",
    "# If you don't specify the scoring, it will use r-squared for regression and accuracy for classification\n",
    "# The output is an array of k values, k being the number of folds (cv input)"
   ]
  },
  {
   "cell_type": "code",
   "execution_count": 57,
   "id": "9416bd7d",
   "metadata": {},
   "outputs": [
    {
     "data": {
      "text/plain": [
       "4.768611697714469"
      ]
     },
     "execution_count": 57,
     "metadata": {},
     "output_type": "execute_result"
    }
   ],
   "source": [
    "# For each alpha value, 5 RMSE values\n",
    "\n",
    "# Take the mean of each row to find avg cv score for each alpha\n",
    "# Negative sign because the scoring input has \"neg\" in the previous cell\n",
    "rmses = -np.array(cv_results).mean(axis=1)\n",
    "\n",
    "# Index of the minimum CV RMSE\n",
    "np.argmin(rmses)\n",
    "\n",
    "alphas[np.argmin(rmses)]\n",
    "\n",
    "# Note the same alpha as in RidgeCV example in the previous notebook"
   ]
  },
  {
   "cell_type": "code",
   "execution_count": 58,
   "id": "d6486679",
   "metadata": {},
   "outputs": [
    {
     "data": {
      "text/html": [
       "<style>#sk-container-id-4 {color: black;background-color: white;}#sk-container-id-4 pre{padding: 0;}#sk-container-id-4 div.sk-toggleable {background-color: white;}#sk-container-id-4 label.sk-toggleable__label {cursor: pointer;display: block;width: 100%;margin-bottom: 0;padding: 0.3em;box-sizing: border-box;text-align: center;}#sk-container-id-4 label.sk-toggleable__label-arrow:before {content: \"▸\";float: left;margin-right: 0.25em;color: #696969;}#sk-container-id-4 label.sk-toggleable__label-arrow:hover:before {color: black;}#sk-container-id-4 div.sk-estimator:hover label.sk-toggleable__label-arrow:before {color: black;}#sk-container-id-4 div.sk-toggleable__content {max-height: 0;max-width: 0;overflow: hidden;text-align: left;background-color: #f0f8ff;}#sk-container-id-4 div.sk-toggleable__content pre {margin: 0.2em;color: black;border-radius: 0.25em;background-color: #f0f8ff;}#sk-container-id-4 input.sk-toggleable__control:checked~div.sk-toggleable__content {max-height: 200px;max-width: 100%;overflow: auto;}#sk-container-id-4 input.sk-toggleable__control:checked~label.sk-toggleable__label-arrow:before {content: \"▾\";}#sk-container-id-4 div.sk-estimator input.sk-toggleable__control:checked~label.sk-toggleable__label {background-color: #d4ebff;}#sk-container-id-4 div.sk-label input.sk-toggleable__control:checked~label.sk-toggleable__label {background-color: #d4ebff;}#sk-container-id-4 input.sk-hidden--visually {border: 0;clip: rect(1px 1px 1px 1px);clip: rect(1px, 1px, 1px, 1px);height: 1px;margin: -1px;overflow: hidden;padding: 0;position: absolute;width: 1px;}#sk-container-id-4 div.sk-estimator {font-family: monospace;background-color: #f0f8ff;border: 1px dotted black;border-radius: 0.25em;box-sizing: border-box;margin-bottom: 0.5em;}#sk-container-id-4 div.sk-estimator:hover {background-color: #d4ebff;}#sk-container-id-4 div.sk-parallel-item::after {content: \"\";width: 100%;border-bottom: 1px solid gray;flex-grow: 1;}#sk-container-id-4 div.sk-label:hover label.sk-toggleable__label {background-color: #d4ebff;}#sk-container-id-4 div.sk-serial::before {content: \"\";position: absolute;border-left: 1px solid gray;box-sizing: border-box;top: 0;bottom: 0;left: 50%;z-index: 0;}#sk-container-id-4 div.sk-serial {display: flex;flex-direction: column;align-items: center;background-color: white;padding-right: 0.2em;padding-left: 0.2em;position: relative;}#sk-container-id-4 div.sk-item {position: relative;z-index: 1;}#sk-container-id-4 div.sk-parallel {display: flex;align-items: stretch;justify-content: center;background-color: white;position: relative;}#sk-container-id-4 div.sk-item::before, #sk-container-id-4 div.sk-parallel-item::before {content: \"\";position: absolute;border-left: 1px solid gray;box-sizing: border-box;top: 0;bottom: 0;left: 50%;z-index: -1;}#sk-container-id-4 div.sk-parallel-item {display: flex;flex-direction: column;z-index: 1;position: relative;background-color: white;}#sk-container-id-4 div.sk-parallel-item:first-child::after {align-self: flex-end;width: 50%;}#sk-container-id-4 div.sk-parallel-item:last-child::after {align-self: flex-start;width: 50%;}#sk-container-id-4 div.sk-parallel-item:only-child::after {width: 0;}#sk-container-id-4 div.sk-dashed-wrapped {border: 1px dashed gray;margin: 0 0.4em 0.5em 0.4em;box-sizing: border-box;padding-bottom: 0.4em;background-color: white;}#sk-container-id-4 div.sk-label label {font-family: monospace;font-weight: bold;display: inline-block;line-height: 1.2em;}#sk-container-id-4 div.sk-label-container {text-align: center;}#sk-container-id-4 div.sk-container {/* jupyter's `normalize.less` sets `[hidden] { display: none; }` but bootstrap.min.css set `[hidden] { display: none !important; }` so we also need the `!important` here to be able to override the default hidden behavior on the sphinx rendered scikit-learn.org. See: https://github.com/scikit-learn/scikit-learn/issues/21755 */display: inline-block !important;position: relative;}#sk-container-id-4 div.sk-text-repr-fallback {display: none;}</style><div id=\"sk-container-id-4\" class=\"sk-top-container\"><div class=\"sk-text-repr-fallback\"><pre>Ridge(alpha=4.768611697714469)</pre><b>In a Jupyter environment, please rerun this cell to show the HTML representation or trust the notebook. <br />On GitHub, the HTML representation is unable to render, please try loading this page with nbviewer.org.</b></div><div class=\"sk-container\" hidden><div class=\"sk-item\"><div class=\"sk-estimator sk-toggleable\"><input class=\"sk-toggleable__control sk-hidden--visually\" id=\"sk-estimator-id-4\" type=\"checkbox\" checked><label for=\"sk-estimator-id-4\" class=\"sk-toggleable__label sk-toggleable__label-arrow\">Ridge</label><div class=\"sk-toggleable__content\"><pre>Ridge(alpha=4.768611697714469)</pre></div></div></div></div></div>"
      ],
      "text/plain": [
       "Ridge(alpha=4.768611697714469)"
      ]
     },
     "execution_count": 58,
     "metadata": {},
     "output_type": "execute_result"
    }
   ],
   "source": [
    "# Now we need to create one final Ridge model with the optimized alpha value\n",
    "\n",
    "model = Ridge(alpha=alphas[np.argmin(rmses)])\n",
    "\n",
    "model.fit(X_train_scaled, y_train)\n",
    "\n",
    "# Predict\n",
    "# Evaluate"
   ]
  },
  {
   "cell_type": "markdown",
   "id": "36e019da",
   "metadata": {},
   "source": [
    "## Classification"
   ]
  },
  {
   "cell_type": "code",
   "execution_count": 64,
   "id": "1f7e0a7d",
   "metadata": {},
   "outputs": [],
   "source": [
    "# Data\n",
    "train = pd.read_csv('Datasets/Social_Network_Ads_train.csv') \n",
    "test = pd.read_csv('Datasets/Social_Network_Ads_test.csv')\n",
    "\n",
    "# Predictors and response\n",
    "X_train = train[['Age', 'EstimatedSalary']]\n",
    "y_train = train['Purchased']\n",
    "\n",
    "X_test = test[['Age', 'EstimatedSalary']]\n",
    "y_test = test['Purchased']\n",
    "\n",
    "# Scale\n",
    "sc = StandardScaler()\n",
    "sc.fit(X_train)\n",
    "X_train_scaled = sc.transform(X_train)\n",
    "X_test_scaled = sc.transform(X_test)"
   ]
  },
  {
   "cell_type": "code",
   "execution_count": 65,
   "id": "4258f6ec",
   "metadata": {},
   "outputs": [],
   "source": [
    "# CV a logistic regression model\n",
    "\n",
    "# a list of possible C values\n",
    "Cs = [0.001, 0.01, 0.1, 1, 10, 100]\n",
    "\n",
    "cv_results = []\n",
    "\n",
    "for C in Cs:\n",
    "    model = LogisticRegression(penalty='l2', C=C)\n",
    "    cv_results.append(cross_val_score(model, X_train_scaled, y_train, cv=10))\n",
    "\n",
    "# Scoring not given, default metric is accuracy (you can use recall, precision etc.)"
   ]
  },
  {
   "cell_type": "code",
   "execution_count": 66,
   "id": "9c4d6198",
   "metadata": {},
   "outputs": [
    {
     "data": {
      "text/plain": [
       "1"
      ]
     },
     "execution_count": 66,
     "metadata": {},
     "output_type": "execute_result"
    }
   ],
   "source": [
    "# For each C, 10 accuracy values\n",
    "\n",
    "accs = np.array(cv_results).mean(axis=1)\n",
    "\n",
    "Cs[np.argmax(accs)] # best C - Same as the output of LogisticRegressionCV in the previous notebook\n",
    "\n",
    "# Train the final model\n",
    "# predict\n",
    "# Evaluate"
   ]
  },
  {
   "cell_type": "markdown",
   "id": "e062ef26",
   "metadata": {},
   "source": [
    "- Important question: How were these accuracies calculated? With a threhold of 0.5\n",
    "- What if we want to change/optimize the threshold in this process as well? Then `cross_val_score()` is not enough, we need to change the function!"
   ]
  },
  {
   "cell_type": "code",
   "execution_count": 72,
   "id": "e8362048",
   "metadata": {},
   "outputs": [],
   "source": [
    "# CV a logistic regression model - but do not return the accuracy metric for each fold\n",
    "    # Return the PREDICTIONS FOR EACH FOLD\n",
    "\n",
    "# a list of possible C values\n",
    "Cs = [0.001, 0.01, 0.1, 1, 10, 100, 1000]\n",
    "\n",
    "cv_results = []\n",
    "\n",
    "for C in Cs:\n",
    "    model = LogisticRegression(penalty='l2', C=C)\n",
    "    cv_results.append(cross_val_predict(model, X_train_scaled, y_train, cv=10, method='predict_proba'))\n",
    "    \n",
    "# Cross_val_predict function has an optional input: method"
   ]
  },
  {
   "cell_type": "code",
   "execution_count": 77,
   "id": "97fb28de",
   "metadata": {},
   "outputs": [],
   "source": [
    "threshold_hyperparam_vals = np.arange(0,1.01,0.01)\n",
    "C_hyperparam_vals = np.logspace(-3.5, 1)\n",
    "accuracy_iter = pd.DataFrame(columns = {'threshold':[], 'C':[], 'accuracy':[]})\n",
    "iter_number = 0\n",
    "\n",
    "for c_val in C_hyperparam_vals:\n",
    "    predicted_probability = cross_val_predict(LogisticRegression(C = c_val), X_train_scaled, \n",
    "                                                  y_train, cv = 5, method = 'predict_proba')\n",
    "\n",
    "    for threshold_prob in threshold_hyperparam_vals:\n",
    "        predicted_class = predicted_probability[:,1] > threshold_prob\n",
    "        predicted_class = predicted_class.astype(int)\n",
    "\n",
    "        #Computing the accuracy\n",
    "        accuracy = accuracy_score(predicted_class, y_train)*100\n",
    "        accuracy_iter.loc[iter_number, 'threshold'] = threshold_prob\n",
    "        accuracy_iter.loc[iter_number, 'C'] = c_val\n",
    "        accuracy_iter.loc[iter_number, 'accuracy'] = accuracy\n",
    "        iter_number = iter_number + 1"
   ]
  },
  {
   "cell_type": "code",
   "execution_count": 78,
   "id": "46c3ecc5",
   "metadata": {},
   "outputs": [
    {
     "name": "stdout",
     "output_type": "stream",
     "text": [
      "Optimal decision threshold =  0.41000000000000003\n",
      "Optimal C =  0.06250551925273976\n"
     ]
    }
   ],
   "source": [
    "# Parameters for highest accuracy\n",
    "optimal_C = accuracy_iter.sort_values(by = 'accuracy', ascending = False).iloc[0,:]['C']\n",
    "optimal_threshold = accuracy_iter.sort_values(by = 'accuracy', ascending = False).iloc[0, :]['threshold']\n",
    "\n",
    "#Optimal decision threshold probability\n",
    "print(\"Optimal decision threshold = \", optimal_threshold)\n",
    "\n",
    "#Optimal C\n",
    "print(\"Optimal C = \", optimal_C)"
   ]
  },
  {
   "cell_type": "code",
   "execution_count": 97,
   "id": "81e7bc93",
   "metadata": {},
   "outputs": [
    {
     "name": "stdout",
     "output_type": "stream",
     "text": [
      "Accuracy:  87.0\n",
      "ROC-AUC:  0.868940368940369\n",
      "Precision:  0.8\n",
      "Recall:  0.8648648648648649\n"
     ]
    },
    {
     "data": {
      "image/png": "[encoded data removed]",
      "text/plain": [
       "<Figure size 640x480 with 2 Axes>"
      ]
     },
     "metadata": {},
     "output_type": "display_data"
    }
   ],
   "source": [
    "model = LogisticRegression(C = optimal_C).fit(X_train_scaled, y_train)\n",
    "test_pred = model.predict_proba(X_test_scaled)[:,1]\n",
    "\n",
    "y_pred_optimal_threshold = (test_pred > optimal_threshold).astype(int)\n",
    "\n",
    "#Computing the accuracy\n",
    "print(\"Accuracy: \",accuracy_score(y_pred_optimal_threshold, y_test)*100)  \n",
    "\n",
    "#Computing the ROC-AUC\n",
    "fpr, tpr, auc_thresholds = roc_curve(y_test, y_pred_optimal_threshold)\n",
    "print(\"ROC-AUC: \",auc(fpr, tpr))# AUC of ROC\n",
    "\n",
    "#Computing the precision and recall\n",
    "print(\"Precision: \", precision_score(y_test, y_pred_optimal_threshold))\n",
    "print(\"Recall: \", recall_score(y_test, y_pred_optimal_threshold))\n",
    "\n",
    "#Confusion matrix\n",
    "cm = pd.DataFrame(confusion_matrix(y_test, y_pred_optimal_threshold), columns=['Predicted 0', 'Predicted 1'], \n",
    "            index = ['Actual 0', 'Actual 1'])\n",
    "sns.heatmap(cm, annot=True, cmap='Blues', fmt='g');\n"
   ]
  },
  {
   "cell_type": "markdown",
   "id": "b47323f0",
   "metadata": {},
   "source": [
    "- We will use `cross_val_score()` and `cross_val_predict()` repeatedly next quarter.\n",
    "- There is a `cross_validate()` function that allows us to use multiple metrics at once (for example, accuracy and recall) - next quarter."
   ]
  },
  {
   "cell_type": "markdown",
   "id": "5608b602",
   "metadata": {},
   "source": [
    "Find some more examples of using the cross validation and some other useful functions [here](https://nustat.github.io/STAT303-3-class-notes/L1_Scikit-learn.html)."
   ]
  }
 ],
 "metadata": {
  "kernelspec": {
   "display_name": "Python 3 (ipykernel)",
   "language": "python",
   "name": "python3"
  },
  "language_info": {
   "codemirror_mode": {
    "name": "ipython",
    "version": 3
   },
   "file_extension": ".py",
   "mimetype": "text/x-python",
   "name": "python",
   "nbconvert_exporter": "python",
   "pygments_lexer": "ipython3",
   "version": "3.8.17"
  }
 },
 "nbformat": 4,
 "nbformat_minor": 5
}
