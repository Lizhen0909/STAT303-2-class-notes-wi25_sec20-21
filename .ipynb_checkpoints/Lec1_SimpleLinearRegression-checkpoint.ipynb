{
 "cells": [
  {
   "cell_type": "markdown",
   "id": "b1b231a8",
   "metadata": {},
   "source": [
    "# Simple Linear Regression"
   ]
  },
  {
   "cell_type": "code",
   "execution_count": 1,
   "id": "bdb5a335",
   "metadata": {},
   "outputs": [],
   "source": [
    "import pandas as pd\n",
    "import numpy as np\n",
    "import statsmodels.formula.api as smf\n",
    "import seaborn as sns\n",
    "import matplotlib.pyplot as plt"
   ]
  },
  {
   "cell_type": "markdown",
   "id": "755fdfec",
   "metadata": {},
   "source": [
    "**Develop a simple linear regression model that predicts car price based on engine size.**\n",
    "Datasets to be used: *Car_features_train.csv, Car_prices_train.csv*"
   ]
  },
  {
   "cell_type": "code",
   "execution_count": 4,
   "id": "4ffcff8f",
   "metadata": {},
   "outputs": [
    {
     "data": {
      "text/html": [
       "<div>\n",
       "<style scoped>\n",
       "    .dataframe tbody tr th:only-of-type {\n",
       "        vertical-align: middle;\n",
       "    }\n",
       "\n",
       "    .dataframe tbody tr th {\n",
       "        vertical-align: top;\n",
       "    }\n",
       "\n",
       "    .dataframe thead th {\n",
       "        text-align: right;\n",
       "    }\n",
       "</style>\n",
       "<table border=\"1\" class=\"dataframe\">\n",
       "  <thead>\n",
       "    <tr style=\"text-align: right;\">\n",
       "      <th></th>\n",
       "      <th>carID</th>\n",
       "      <th>brand</th>\n",
       "      <th>model</th>\n",
       "      <th>year</th>\n",
       "      <th>transmission</th>\n",
       "      <th>mileage</th>\n",
       "      <th>fuelType</th>\n",
       "      <th>tax</th>\n",
       "      <th>mpg</th>\n",
       "      <th>engineSize</th>\n",
       "      <th>price</th>\n",
       "    </tr>\n",
       "  </thead>\n",
       "  <tbody>\n",
       "    <tr>\n",
       "      <th>0</th>\n",
       "      <td>18473</td>\n",
       "      <td>bmw</td>\n",
       "      <td>6 Series</td>\n",
       "      <td>2020</td>\n",
       "      <td>Semi-Auto</td>\n",
       "      <td>11</td>\n",
       "      <td>Diesel</td>\n",
       "      <td>145</td>\n",
       "      <td>53.3282</td>\n",
       "      <td>3.0</td>\n",
       "      <td>37980</td>\n",
       "    </tr>\n",
       "    <tr>\n",
       "      <th>1</th>\n",
       "      <td>15064</td>\n",
       "      <td>bmw</td>\n",
       "      <td>6 Series</td>\n",
       "      <td>2019</td>\n",
       "      <td>Semi-Auto</td>\n",
       "      <td>10813</td>\n",
       "      <td>Diesel</td>\n",
       "      <td>145</td>\n",
       "      <td>53.0430</td>\n",
       "      <td>3.0</td>\n",
       "      <td>33980</td>\n",
       "    </tr>\n",
       "    <tr>\n",
       "      <th>2</th>\n",
       "      <td>18268</td>\n",
       "      <td>bmw</td>\n",
       "      <td>6 Series</td>\n",
       "      <td>2020</td>\n",
       "      <td>Semi-Auto</td>\n",
       "      <td>6</td>\n",
       "      <td>Diesel</td>\n",
       "      <td>145</td>\n",
       "      <td>53.4379</td>\n",
       "      <td>3.0</td>\n",
       "      <td>36850</td>\n",
       "    </tr>\n",
       "    <tr>\n",
       "      <th>3</th>\n",
       "      <td>18480</td>\n",
       "      <td>bmw</td>\n",
       "      <td>6 Series</td>\n",
       "      <td>2017</td>\n",
       "      <td>Semi-Auto</td>\n",
       "      <td>18895</td>\n",
       "      <td>Diesel</td>\n",
       "      <td>145</td>\n",
       "      <td>51.5140</td>\n",
       "      <td>3.0</td>\n",
       "      <td>25998</td>\n",
       "    </tr>\n",
       "    <tr>\n",
       "      <th>4</th>\n",
       "      <td>18492</td>\n",
       "      <td>bmw</td>\n",
       "      <td>6 Series</td>\n",
       "      <td>2015</td>\n",
       "      <td>Automatic</td>\n",
       "      <td>62953</td>\n",
       "      <td>Diesel</td>\n",
       "      <td>160</td>\n",
       "      <td>51.4903</td>\n",
       "      <td>3.0</td>\n",
       "      <td>18990</td>\n",
       "    </tr>\n",
       "  </tbody>\n",
       "</table>\n",
       "</div>"
      ],
      "text/plain": [
       "   carID brand      model  year transmission  mileage fuelType  tax      mpg  \\\n",
       "0  18473   bmw   6 Series  2020    Semi-Auto       11   Diesel  145  53.3282   \n",
       "1  15064   bmw   6 Series  2019    Semi-Auto    10813   Diesel  145  53.0430   \n",
       "2  18268   bmw   6 Series  2020    Semi-Auto        6   Diesel  145  53.4379   \n",
       "3  18480   bmw   6 Series  2017    Semi-Auto    18895   Diesel  145  51.5140   \n",
       "4  18492   bmw   6 Series  2015    Automatic    62953   Diesel  160  51.4903   \n",
       "\n",
       "   engineSize  price  \n",
       "0         3.0  37980  \n",
       "1         3.0  33980  \n",
       "2         3.0  36850  \n",
       "3         3.0  25998  \n",
       "4         3.0  18990  "
      ]
     },
     "execution_count": 4,
     "metadata": {},
     "output_type": "execute_result"
    }
   ],
   "source": [
    "trainf = pd.read_csv('./Datasets/Car_features_train.csv')\n",
    "trainp = pd.read_csv('./Datasets/Car_prices_train.csv')\n",
    "train = pd.merge(trainf,trainp)\n",
    "train.head()"
   ]
  },
  {
   "cell_type": "code",
   "execution_count": 5,
   "id": "060e40d7",
   "metadata": {},
   "outputs": [],
   "source": [
    "#Using the ols function to create an ols object. 'ols' stands for 'Ordinary least squares'\n",
    "ols_object = smf.ols(formula = 'price~engineSize', data = train)"
   ]
  },
  {
   "cell_type": "code",
   "execution_count": 6,
   "id": "e1c0ac56",
   "metadata": {},
   "outputs": [],
   "source": [
    "#Using the fit() function of the 'ols' class to fit the model\n",
    "model = ols_object.fit()"
   ]
  },
  {
   "cell_type": "code",
   "execution_count": 7,
   "id": "c30c9e90",
   "metadata": {},
   "outputs": [
    {
     "data": {
      "text/html": [
       "<table class=\"simpletable\">\n",
       "<caption>OLS Regression Results</caption>\n",
       "<tr>\n",
       "  <th>Dep. Variable:</th>          <td>price</td>      <th>  R-squared:         </th> <td>   0.390</td> \n",
       "</tr>\n",
       "<tr>\n",
       "  <th>Model:</th>                   <td>OLS</td>       <th>  Adj. R-squared:    </th> <td>   0.390</td> \n",
       "</tr>\n",
       "<tr>\n",
       "  <th>Method:</th>             <td>Least Squares</td>  <th>  F-statistic:       </th> <td>   3177.</td> \n",
       "</tr>\n",
       "<tr>\n",
       "  <th>Date:</th>             <td>Tue, 27 Dec 2022</td> <th>  Prob (F-statistic):</th>  <td>  0.00</td>  \n",
       "</tr>\n",
       "<tr>\n",
       "  <th>Time:</th>                 <td>01:06:42</td>     <th>  Log-Likelihood:    </th> <td> -53949.</td> \n",
       "</tr>\n",
       "<tr>\n",
       "  <th>No. Observations:</th>      <td>  4960</td>      <th>  AIC:               </th> <td>1.079e+05</td>\n",
       "</tr>\n",
       "<tr>\n",
       "  <th>Df Residuals:</th>          <td>  4958</td>      <th>  BIC:               </th> <td>1.079e+05</td>\n",
       "</tr>\n",
       "<tr>\n",
       "  <th>Df Model:</th>              <td>     1</td>      <th>                     </th>     <td> </td>    \n",
       "</tr>\n",
       "<tr>\n",
       "  <th>Covariance Type:</th>      <td>nonrobust</td>    <th>                     </th>     <td> </td>    \n",
       "</tr>\n",
       "</table>\n",
       "<table class=\"simpletable\">\n",
       "<tr>\n",
       "       <td></td>         <th>coef</th>     <th>std err</th>      <th>t</th>      <th>P>|t|</th>  <th>[0.025</th>    <th>0.975]</th>  \n",
       "</tr>\n",
       "<tr>\n",
       "  <th>Intercept</th>  <td>-4122.0357</td> <td>  522.260</td> <td>   -7.893</td> <td> 0.000</td> <td>-5145.896</td> <td>-3098.176</td>\n",
       "</tr>\n",
       "<tr>\n",
       "  <th>engineSize</th> <td> 1.299e+04</td> <td>  230.450</td> <td>   56.361</td> <td> 0.000</td> <td> 1.25e+04</td> <td> 1.34e+04</td>\n",
       "</tr>\n",
       "</table>\n",
       "<table class=\"simpletable\">\n",
       "<tr>\n",
       "  <th>Omnibus:</th>       <td>1271.986</td> <th>  Durbin-Watson:     </th> <td>   0.517</td>\n",
       "</tr>\n",
       "<tr>\n",
       "  <th>Prob(Omnibus):</th>  <td> 0.000</td>  <th>  Jarque-Bera (JB):  </th> <td>6490.719</td>\n",
       "</tr>\n",
       "<tr>\n",
       "  <th>Skew:</th>           <td> 1.137</td>  <th>  Prob(JB):          </th> <td>    0.00</td>\n",
       "</tr>\n",
       "<tr>\n",
       "  <th>Kurtosis:</th>       <td> 8.122</td>  <th>  Cond. No.          </th> <td>    7.64</td>\n",
       "</tr>\n",
       "</table><br/><br/>Notes:<br/>[1] Standard Errors assume that the covariance matrix of the errors is correctly specified."
      ],
      "text/plain": [
       "<class 'statsmodels.iolib.summary.Summary'>\n",
       "\"\"\"\n",
       "                            OLS Regression Results                            \n",
       "==============================================================================\n",
       "Dep. Variable:                  price   R-squared:                       0.390\n",
       "Model:                            OLS   Adj. R-squared:                  0.390\n",
       "Method:                 Least Squares   F-statistic:                     3177.\n",
       "Date:                Tue, 27 Dec 2022   Prob (F-statistic):               0.00\n",
       "Time:                        01:06:42   Log-Likelihood:                -53949.\n",
       "No. Observations:                4960   AIC:                         1.079e+05\n",
       "Df Residuals:                    4958   BIC:                         1.079e+05\n",
       "Df Model:                           1                                         \n",
       "Covariance Type:            nonrobust                                         \n",
       "==============================================================================\n",
       "                 coef    std err          t      P>|t|      [0.025      0.975]\n",
       "------------------------------------------------------------------------------\n",
       "Intercept  -4122.0357    522.260     -7.893      0.000   -5145.896   -3098.176\n",
       "engineSize  1.299e+04    230.450     56.361      0.000    1.25e+04    1.34e+04\n",
       "==============================================================================\n",
       "Omnibus:                     1271.986   Durbin-Watson:                   0.517\n",
       "Prob(Omnibus):                  0.000   Jarque-Bera (JB):             6490.719\n",
       "Skew:                           1.137   Prob(JB):                         0.00\n",
       "Kurtosis:                       8.122   Cond. No.                         7.64\n",
       "==============================================================================\n",
       "\n",
       "Notes:\n",
       "[1] Standard Errors assume that the covariance matrix of the errors is correctly specified.\n",
       "\"\"\""
      ]
     },
     "execution_count": 7,
     "metadata": {},
     "output_type": "execute_result"
    }
   ],
   "source": [
    "model.summary()"
   ]
  },
  {
   "cell_type": "code",
   "execution_count": 8,
   "id": "6257a86c",
   "metadata": {
    "scrolled": true
   },
   "outputs": [
    {
     "data": {
      "text/html": [
       "<table class=\"simpletable\">\n",
       "<caption>OLS Regression Results</caption>\n",
       "<tr>\n",
       "  <th>Dep. Variable:</th>          <td>price</td>      <th>  R-squared:         </th> <td>   0.390</td> \n",
       "</tr>\n",
       "<tr>\n",
       "  <th>Model:</th>                   <td>OLS</td>       <th>  Adj. R-squared:    </th> <td>   0.390</td> \n",
       "</tr>\n",
       "<tr>\n",
       "  <th>Method:</th>             <td>Least Squares</td>  <th>  F-statistic:       </th> <td>   3177.</td> \n",
       "</tr>\n",
       "<tr>\n",
       "  <th>Date:</th>             <td>Tue, 27 Dec 2022</td> <th>  Prob (F-statistic):</th>  <td>  0.00</td>  \n",
       "</tr>\n",
       "<tr>\n",
       "  <th>Time:</th>                 <td>01:06:43</td>     <th>  Log-Likelihood:    </th> <td> -53949.</td> \n",
       "</tr>\n",
       "<tr>\n",
       "  <th>No. Observations:</th>      <td>  4960</td>      <th>  AIC:               </th> <td>1.079e+05</td>\n",
       "</tr>\n",
       "<tr>\n",
       "  <th>Df Residuals:</th>          <td>  4958</td>      <th>  BIC:               </th> <td>1.079e+05</td>\n",
       "</tr>\n",
       "<tr>\n",
       "  <th>Df Model:</th>              <td>     1</td>      <th>                     </th>     <td> </td>    \n",
       "</tr>\n",
       "<tr>\n",
       "  <th>Covariance Type:</th>      <td>nonrobust</td>    <th>                     </th>     <td> </td>    \n",
       "</tr>\n",
       "</table>\n",
       "<table class=\"simpletable\">\n",
       "<tr>\n",
       "       <td></td>         <th>coef</th>     <th>std err</th>      <th>t</th>      <th>P>|t|</th>  <th>[0.025</th>    <th>0.975]</th>  \n",
       "</tr>\n",
       "<tr>\n",
       "  <th>Intercept</th>  <td>-4122.0357</td> <td>  522.260</td> <td>   -7.893</td> <td> 0.000</td> <td>-5145.896</td> <td>-3098.176</td>\n",
       "</tr>\n",
       "<tr>\n",
       "  <th>engineSize</th> <td> 1.299e+04</td> <td>  230.450</td> <td>   56.361</td> <td> 0.000</td> <td> 1.25e+04</td> <td> 1.34e+04</td>\n",
       "</tr>\n",
       "</table>\n",
       "<table class=\"simpletable\">\n",
       "<tr>\n",
       "  <th>Omnibus:</th>       <td>1271.986</td> <th>  Durbin-Watson:     </th> <td>   0.517</td>\n",
       "</tr>\n",
       "<tr>\n",
       "  <th>Prob(Omnibus):</th>  <td> 0.000</td>  <th>  Jarque-Bera (JB):  </th> <td>6490.719</td>\n",
       "</tr>\n",
       "<tr>\n",
       "  <th>Skew:</th>           <td> 1.137</td>  <th>  Prob(JB):          </th> <td>    0.00</td>\n",
       "</tr>\n",
       "<tr>\n",
       "  <th>Kurtosis:</th>       <td> 8.122</td>  <th>  Cond. No.          </th> <td>    7.64</td>\n",
       "</tr>\n",
       "</table><br/><br/>Notes:<br/>[1] Standard Errors assume that the covariance matrix of the errors is correctly specified."
      ],
      "text/plain": [
       "<class 'statsmodels.iolib.summary.Summary'>\n",
       "\"\"\"\n",
       "                            OLS Regression Results                            \n",
       "==============================================================================\n",
       "Dep. Variable:                  price   R-squared:                       0.390\n",
       "Model:                            OLS   Adj. R-squared:                  0.390\n",
       "Method:                 Least Squares   F-statistic:                     3177.\n",
       "Date:                Tue, 27 Dec 2022   Prob (F-statistic):               0.00\n",
       "Time:                        01:06:43   Log-Likelihood:                -53949.\n",
       "No. Observations:                4960   AIC:                         1.079e+05\n",
       "Df Residuals:                    4958   BIC:                         1.079e+05\n",
       "Df Model:                           1                                         \n",
       "Covariance Type:            nonrobust                                         \n",
       "==============================================================================\n",
       "                 coef    std err          t      P>|t|      [0.025      0.975]\n",
       "------------------------------------------------------------------------------\n",
       "Intercept  -4122.0357    522.260     -7.893      0.000   -5145.896   -3098.176\n",
       "engineSize  1.299e+04    230.450     56.361      0.000    1.25e+04    1.34e+04\n",
       "==============================================================================\n",
       "Omnibus:                     1271.986   Durbin-Watson:                   0.517\n",
       "Prob(Omnibus):                  0.000   Jarque-Bera (JB):             6490.719\n",
       "Skew:                           1.137   Prob(JB):                         0.00\n",
       "Kurtosis:                       8.122   Cond. No.                         7.64\n",
       "==============================================================================\n",
       "\n",
       "Notes:\n",
       "[1] Standard Errors assume that the covariance matrix of the errors is correctly specified.\n",
       "\"\"\""
      ]
     },
     "execution_count": 8,
     "metadata": {},
     "output_type": "execute_result"
    }
   ],
   "source": [
    "#Printing model summary which contains among other things, the model coefficients\n",
    "model.summary()"
   ]
  },
  {
   "cell_type": "markdown",
   "id": "453fcd80",
   "metadata": {},
   "source": [
    "The model equation is:\n",
    "car price = -4122.0357 + 12990 * engineSize"
   ]
  },
  {
   "cell_type": "markdown",
   "id": "f9f656d2",
   "metadata": {},
   "source": [
    "**Visualize the regression line**"
   ]
  },
  {
   "cell_type": "code",
   "execution_count": 9,
   "id": "fdc7e5ed",
   "metadata": {},
   "outputs": [
    {
     "data": {
      "text/plain": [
       "(-1.0, 7.0)"
      ]
     },
     "execution_count": 9,
     "metadata": {},
     "output_type": "execute_result"
    },
    {
     "data": {
      "image/png": "[encoded data removed]",
      "text/plain": [
       "<Figure size 432x288 with 1 Axes>"
      ]
     },
     "metadata": {
      "needs_background": "light"
     },
     "output_type": "display_data"
    }
   ],
   "source": [
    "sns.regplot(x = 'engineSize', y = 'price', data = train, color = 'orange',line_kws={\"color\": \"red\"})\n",
    "plt.xlim(-1,7)\n",
    "#Note that some of the engineSize values are 0. They are incorrect, and should ideally be imputed before developing the model."
   ]
  },
  {
   "cell_type": "markdown",
   "id": "aa4c3cc4",
   "metadata": {},
   "source": [
    "**Predict the car price for the cars in the test dataset**. Datasets to be used: *Car_features_test.csv, Car_prices_test.csv*"
   ]
  },
  {
   "cell_type": "code",
   "execution_count": 11,
   "id": "1a647b0f",
   "metadata": {},
   "outputs": [],
   "source": [
    "testf = pd.read_csv('./Datasets/Car_features_test.csv')\n",
    "testp = pd.read_csv('./Datasets/Car_prices_test.csv')"
   ]
  },
  {
   "cell_type": "code",
   "execution_count": 12,
   "id": "13d0a83c",
   "metadata": {},
   "outputs": [],
   "source": [
    "#Using the predict() function associated with the 'model' object to make predictions of car price on test (unknown) data\n",
    "pred_price = model.predict(testf)#Note that the predict() function finds the predictor 'engineSize' in the testf dataframe, and plugs it's values in the regression equation for prediction."
   ]
  },
  {
   "cell_type": "markdown",
   "id": "1b7e315c",
   "metadata": {},
   "source": [
    "**Make a visualization that compares the predicted car prices with the actual car prices**"
   ]
  },
  {
   "cell_type": "code",
   "execution_count": 13,
   "id": "236fbefe",
   "metadata": {
    "scrolled": true
   },
   "outputs": [
    {
     "data": {
      "text/plain": [
       "Text(0, 0.5, 'Predicted price')"
      ]
     },
     "execution_count": 13,
     "metadata": {},
     "output_type": "execute_result"
    },
    {
     "data": {
      "image/png": "[encoded data removed]",
      "text/plain": [
       "<Figure size 432x288 with 1 Axes>"
      ]
     },
     "metadata": {
      "needs_background": "light"
     },
     "output_type": "display_data"
    }
   ],
   "source": [
    "sns.scatterplot(x = testp.price, y = pred_price)\n",
    "#In case of a perfect prediction, all the points must lie on the line x = y.\n",
    "sns.lineplot(x = [0,testp.price.max()], y = [0,testp.price.max()],color='orange') #Plotting the line x = y.\n",
    "plt.xlabel('Actual price')\n",
    "plt.ylabel('Predicted price')"
   ]
  },
  {
   "cell_type": "markdown",
   "id": "3ba9c9e8",
   "metadata": {},
   "source": [
    "The prediction doesn't look too good. This is because we are just using one predictor - engine size. We can probably improve the model by adding more predictors when we learn multiple linear regression."
   ]
  },
  {
   "cell_type": "markdown",
   "id": "ddede462",
   "metadata": {},
   "source": [
    "**What is the RMSE of the predicted car price?**"
   ]
  },
  {
   "cell_type": "code",
   "execution_count": 14,
   "id": "d314b8e1",
   "metadata": {},
   "outputs": [
    {
     "data": {
      "text/plain": [
       "12995.1064515487"
      ]
     },
     "execution_count": 14,
     "metadata": {},
     "output_type": "execute_result"
    }
   ],
   "source": [
    "np.sqrt(((testp.price - pred_price)**2).mean())"
   ]
  },
  {
   "cell_type": "markdown",
   "id": "1ec459df",
   "metadata": {},
   "source": [
    "The root mean squared error in predicting car price is around $13k."
   ]
  },
  {
   "cell_type": "markdown",
   "id": "ce01759a",
   "metadata": {},
   "source": [
    "**What is the residual standard error based on the training data?**"
   ]
  },
  {
   "cell_type": "code",
   "execution_count": 15,
   "id": "4888d4fa",
   "metadata": {},
   "outputs": [
    {
     "data": {
      "text/plain": [
       "12810.109175214136"
      ]
     },
     "execution_count": 15,
     "metadata": {},
     "output_type": "execute_result"
    }
   ],
   "source": [
    "np.sqrt(model.mse_resid)"
   ]
  },
  {
   "cell_type": "markdown",
   "id": "043f3dc3",
   "metadata": {},
   "source": [
    "The residual standard error on the training data is close to the RMSE on the test data. This shows that the performance of the model on unknown data is comparable to its performance on known data. This implies that the model is not overfitting, which is good! In case we overfit a model on the training data, it's performance on unknonwn data is likely to be worse than that on the training data."
   ]
  },
  {
   "cell_type": "markdown",
   "id": "23158248",
   "metadata": {},
   "source": [
    "**Find the confidence and prediction intervals of the predicted car price**"
   ]
  },
  {
   "cell_type": "code",
   "execution_count": 16,
   "id": "53965e2f",
   "metadata": {},
   "outputs": [],
   "source": [
    "#Using the get_prediction() fucntion associated with the 'model' object to get the intervals\n",
    "intervals = model.get_prediction(testf)"
   ]
  },
  {
   "cell_type": "code",
   "execution_count": 17,
   "id": "9eba0938",
   "metadata": {},
   "outputs": [
    {
     "data": {
      "text/html": [
       "<div>\n",
       "<style scoped>\n",
       "    .dataframe tbody tr th:only-of-type {\n",
       "        vertical-align: middle;\n",
       "    }\n",
       "\n",
       "    .dataframe tbody tr th {\n",
       "        vertical-align: top;\n",
       "    }\n",
       "\n",
       "    .dataframe thead th {\n",
       "        text-align: right;\n",
       "    }\n",
       "</style>\n",
       "<table border=\"1\" class=\"dataframe\">\n",
       "  <thead>\n",
       "    <tr style=\"text-align: right;\">\n",
       "      <th></th>\n",
       "      <th>mean</th>\n",
       "      <th>mean_se</th>\n",
       "      <th>mean_ci_lower</th>\n",
       "      <th>mean_ci_upper</th>\n",
       "      <th>obs_ci_lower</th>\n",
       "      <th>obs_ci_upper</th>\n",
       "    </tr>\n",
       "  </thead>\n",
       "  <tbody>\n",
       "    <tr>\n",
       "      <th>0</th>\n",
       "      <td>34842.807319</td>\n",
       "      <td>271.666459</td>\n",
       "      <td>34310.220826</td>\n",
       "      <td>35375.393812</td>\n",
       "      <td>9723.677232</td>\n",
       "      <td>59961.937406</td>\n",
       "    </tr>\n",
       "    <tr>\n",
       "      <th>1</th>\n",
       "      <td>34842.807319</td>\n",
       "      <td>271.666459</td>\n",
       "      <td>34310.220826</td>\n",
       "      <td>35375.393812</td>\n",
       "      <td>9723.677232</td>\n",
       "      <td>59961.937406</td>\n",
       "    </tr>\n",
       "    <tr>\n",
       "      <th>2</th>\n",
       "      <td>34842.807319</td>\n",
       "      <td>271.666459</td>\n",
       "      <td>34310.220826</td>\n",
       "      <td>35375.393812</td>\n",
       "      <td>9723.677232</td>\n",
       "      <td>59961.937406</td>\n",
       "    </tr>\n",
       "    <tr>\n",
       "      <th>3</th>\n",
       "      <td>8866.245277</td>\n",
       "      <td>316.580850</td>\n",
       "      <td>8245.606701</td>\n",
       "      <td>9486.883853</td>\n",
       "      <td>-16254.905974</td>\n",
       "      <td>33987.396528</td>\n",
       "    </tr>\n",
       "    <tr>\n",
       "      <th>4</th>\n",
       "      <td>47831.088340</td>\n",
       "      <td>468.949360</td>\n",
       "      <td>46911.740050</td>\n",
       "      <td>48750.436631</td>\n",
       "      <td>22700.782946</td>\n",
       "      <td>72961.393735</td>\n",
       "    </tr>\n",
       "    <tr>\n",
       "      <th>...</th>\n",
       "      <td>...</td>\n",
       "      <td>...</td>\n",
       "      <td>...</td>\n",
       "      <td>...</td>\n",
       "      <td>...</td>\n",
       "      <td>...</td>\n",
       "    </tr>\n",
       "    <tr>\n",
       "      <th>2667</th>\n",
       "      <td>47831.088340</td>\n",
       "      <td>468.949360</td>\n",
       "      <td>46911.740050</td>\n",
       "      <td>48750.436631</td>\n",
       "      <td>22700.782946</td>\n",
       "      <td>72961.393735</td>\n",
       "    </tr>\n",
       "    <tr>\n",
       "      <th>2668</th>\n",
       "      <td>34842.807319</td>\n",
       "      <td>271.666459</td>\n",
       "      <td>34310.220826</td>\n",
       "      <td>35375.393812</td>\n",
       "      <td>9723.677232</td>\n",
       "      <td>59961.937406</td>\n",
       "    </tr>\n",
       "    <tr>\n",
       "      <th>2669</th>\n",
       "      <td>8866.245277</td>\n",
       "      <td>316.580850</td>\n",
       "      <td>8245.606701</td>\n",
       "      <td>9486.883853</td>\n",
       "      <td>-16254.905974</td>\n",
       "      <td>33987.396528</td>\n",
       "    </tr>\n",
       "    <tr>\n",
       "      <th>2670</th>\n",
       "      <td>21854.526298</td>\n",
       "      <td>184.135754</td>\n",
       "      <td>21493.538727</td>\n",
       "      <td>22215.513869</td>\n",
       "      <td>-3261.551421</td>\n",
       "      <td>46970.604017</td>\n",
       "    </tr>\n",
       "    <tr>\n",
       "      <th>2671</th>\n",
       "      <td>21854.526298</td>\n",
       "      <td>184.135754</td>\n",
       "      <td>21493.538727</td>\n",
       "      <td>22215.513869</td>\n",
       "      <td>-3261.551421</td>\n",
       "      <td>46970.604017</td>\n",
       "    </tr>\n",
       "  </tbody>\n",
       "</table>\n",
       "<p>2672 rows × 6 columns</p>\n",
       "</div>"
      ],
      "text/plain": [
       "              mean     mean_se  mean_ci_lower  mean_ci_upper  obs_ci_lower  \\\n",
       "0     34842.807319  271.666459   34310.220826   35375.393812   9723.677232   \n",
       "1     34842.807319  271.666459   34310.220826   35375.393812   9723.677232   \n",
       "2     34842.807319  271.666459   34310.220826   35375.393812   9723.677232   \n",
       "3      8866.245277  316.580850    8245.606701    9486.883853 -16254.905974   \n",
       "4     47831.088340  468.949360   46911.740050   48750.436631  22700.782946   \n",
       "...            ...         ...            ...            ...           ...   \n",
       "2667  47831.088340  468.949360   46911.740050   48750.436631  22700.782946   \n",
       "2668  34842.807319  271.666459   34310.220826   35375.393812   9723.677232   \n",
       "2669   8866.245277  316.580850    8245.606701    9486.883853 -16254.905974   \n",
       "2670  21854.526298  184.135754   21493.538727   22215.513869  -3261.551421   \n",
       "2671  21854.526298  184.135754   21493.538727   22215.513869  -3261.551421   \n",
       "\n",
       "      obs_ci_upper  \n",
       "0     59961.937406  \n",
       "1     59961.937406  \n",
       "2     59961.937406  \n",
       "3     33987.396528  \n",
       "4     72961.393735  \n",
       "...            ...  \n",
       "2667  72961.393735  \n",
       "2668  59961.937406  \n",
       "2669  33987.396528  \n",
       "2670  46970.604017  \n",
       "2671  46970.604017  \n",
       "\n",
       "[2672 rows x 6 columns]"
      ]
     },
     "execution_count": 17,
     "metadata": {},
     "output_type": "execute_result"
    }
   ],
   "source": [
    "#The function requires specifying alpha (probability of Type 1 error) instead of the confidence level to get the intervals\n",
    "intervals.summary_frame(alpha=0.05)"
   ]
  },
  {
   "cell_type": "markdown",
   "id": "5de78543",
   "metadata": {},
   "source": [
    "**Show the regression line predicting car price based on engine size for test data. Also show the confidence and prediction intervals for the car price.**"
   ]
  },
  {
   "cell_type": "code",
   "execution_count": 18,
   "id": "aaf344c6",
   "metadata": {},
   "outputs": [],
   "source": [
    "interval_table = intervals.summary_frame(alpha=0.05)"
   ]
  },
  {
   "cell_type": "code",
   "execution_count": 19,
   "id": "dfb9185f",
   "metadata": {},
   "outputs": [
    {
     "data": {
      "text/plain": [
       "<matplotlib.legend.Legend at 0x27c6cfd1070>"
      ]
     },
     "execution_count": 19,
     "metadata": {},
     "output_type": "execute_result"
    },
    {
     "data": {
      "image/png": "[encoded data removed]",
      "text/plain": [
       "<Figure size 432x288 with 1 Axes>"
      ]
     },
     "metadata": {
      "needs_background": "light"
     },
     "output_type": "display_data"
    }
   ],
   "source": [
    "sns.scatterplot(x = testf.engineSize, y = pred_price,color = 'orange', s = 10)\n",
    "sns.lineplot(x = testf.engineSize, y = pred_price, color = 'red')\n",
    "sns.lineplot(x = testf.engineSize, y = interval_table.mean_ci_lower, color = 'blue')\n",
    "sns.lineplot(x = testf.engineSize, y = interval_table.mean_ci_upper, color = 'blue',label='_nolegend_')\n",
    "sns.lineplot(x = testf.engineSize, y = interval_table.obs_ci_lower, color = 'green')\n",
    "sns.lineplot(x = testf.engineSize, y = interval_table.obs_ci_upper, color = 'green')\n",
    "plt.legend(labels=[\"Regression line\",\"Confidence interval\", \"Prediction interval\"])"
   ]
  }
 ],
 "metadata": {
  "kernelspec": {
   "display_name": "Python 3",
   "language": "python",
   "name": "python3"
  },
  "language_info": {
   "codemirror_mode": {
    "name": "ipython",
    "version": 3
   },
   "file_extension": ".py",
   "mimetype": "text/x-python",
   "name": "python",
   "nbconvert_exporter": "python",
   "pygments_lexer": "ipython3",
   "version": "3.8.8"
  }
 },
 "nbformat": 4,
 "nbformat_minor": 5
}
