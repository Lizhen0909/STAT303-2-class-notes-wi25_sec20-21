{
 "cells": [
  {
   "cell_type": "raw",
   "id": "230170e0",
   "metadata": {},
   "source": [
    "---\n",
    "title: \"Potential issues\"\n",
    "format: \n",
    "  html:\n",
    "    code-fold: false\n",
    "    toc-depth: 4\n",
    "    jupyter: python3\n",
    "---"
   ]
  },
  {
   "cell_type": "markdown",
   "id": "a7166ae9",
   "metadata": {},
   "source": [
    "*Read section 3.3.3 (4, 5, & 6) of the book before using these notes.*\n",
    "\n",
    "*Note that in this course, lecture notes are not sufficient, you must read the book for better understanding. Lecture notes are just implementing the concepts of the book on a dataset, but not explaining the concepts elaborately.*"
   ]
  },
  {
   "cell_type": "markdown",
   "id": "9ddaafaa",
   "metadata": {},
   "source": [
    "Let us continue with the car price prediction example from the previous chapter."
   ]
  },
  {
   "cell_type": "code",
   "execution_count": 7,
   "id": "2f66df9f",
   "metadata": {},
   "outputs": [],
   "source": [
    "import pandas as pd\n",
    "import numpy as np\n",
    "import statsmodels.formula.api as smf\n",
    "import seaborn as sns\n",
    "import matplotlib.pyplot as plt\n",
    "import statsmodels.api as sm\n",
    "from scipy import stats"
   ]
  },
  {
   "cell_type": "code",
   "execution_count": 2,
   "id": "8b7ffcae",
   "metadata": {},
   "outputs": [
    {
     "data": {
      "text/html": [
       "<div>\n",
       "<style scoped>\n",
       "    .dataframe tbody tr th:only-of-type {\n",
       "        vertical-align: middle;\n",
       "    }\n",
       "\n",
       "    .dataframe tbody tr th {\n",
       "        vertical-align: top;\n",
       "    }\n",
       "\n",
       "    .dataframe thead th {\n",
       "        text-align: right;\n",
       "    }\n",
       "</style>\n",
       "<table border=\"1\" class=\"dataframe\">\n",
       "  <thead>\n",
       "    <tr style=\"text-align: right;\">\n",
       "      <th></th>\n",
       "      <th>carID</th>\n",
       "      <th>brand</th>\n",
       "      <th>model</th>\n",
       "      <th>year</th>\n",
       "      <th>transmission</th>\n",
       "      <th>mileage</th>\n",
       "      <th>fuelType</th>\n",
       "      <th>tax</th>\n",
       "      <th>mpg</th>\n",
       "      <th>engineSize</th>\n",
       "      <th>price</th>\n",
       "    </tr>\n",
       "  </thead>\n",
       "  <tbody>\n",
       "    <tr>\n",
       "      <th>0</th>\n",
       "      <td>18473</td>\n",
       "      <td>bmw</td>\n",
       "      <td>6 Series</td>\n",
       "      <td>2020</td>\n",
       "      <td>Semi-Auto</td>\n",
       "      <td>11</td>\n",
       "      <td>Diesel</td>\n",
       "      <td>145</td>\n",
       "      <td>53.3282</td>\n",
       "      <td>3.0</td>\n",
       "      <td>37980</td>\n",
       "    </tr>\n",
       "    <tr>\n",
       "      <th>1</th>\n",
       "      <td>15064</td>\n",
       "      <td>bmw</td>\n",
       "      <td>6 Series</td>\n",
       "      <td>2019</td>\n",
       "      <td>Semi-Auto</td>\n",
       "      <td>10813</td>\n",
       "      <td>Diesel</td>\n",
       "      <td>145</td>\n",
       "      <td>53.0430</td>\n",
       "      <td>3.0</td>\n",
       "      <td>33980</td>\n",
       "    </tr>\n",
       "    <tr>\n",
       "      <th>2</th>\n",
       "      <td>18268</td>\n",
       "      <td>bmw</td>\n",
       "      <td>6 Series</td>\n",
       "      <td>2020</td>\n",
       "      <td>Semi-Auto</td>\n",
       "      <td>6</td>\n",
       "      <td>Diesel</td>\n",
       "      <td>145</td>\n",
       "      <td>53.4379</td>\n",
       "      <td>3.0</td>\n",
       "      <td>36850</td>\n",
       "    </tr>\n",
       "    <tr>\n",
       "      <th>3</th>\n",
       "      <td>18480</td>\n",
       "      <td>bmw</td>\n",
       "      <td>6 Series</td>\n",
       "      <td>2017</td>\n",
       "      <td>Semi-Auto</td>\n",
       "      <td>18895</td>\n",
       "      <td>Diesel</td>\n",
       "      <td>145</td>\n",
       "      <td>51.5140</td>\n",
       "      <td>3.0</td>\n",
       "      <td>25998</td>\n",
       "    </tr>\n",
       "    <tr>\n",
       "      <th>4</th>\n",
       "      <td>18492</td>\n",
       "      <td>bmw</td>\n",
       "      <td>6 Series</td>\n",
       "      <td>2015</td>\n",
       "      <td>Automatic</td>\n",
       "      <td>62953</td>\n",
       "      <td>Diesel</td>\n",
       "      <td>160</td>\n",
       "      <td>51.4903</td>\n",
       "      <td>3.0</td>\n",
       "      <td>18990</td>\n",
       "    </tr>\n",
       "  </tbody>\n",
       "</table>\n",
       "</div>"
      ],
      "text/plain": [
       "   carID brand      model  year transmission  mileage fuelType  tax      mpg  \\\n",
       "0  18473   bmw   6 Series  2020    Semi-Auto       11   Diesel  145  53.3282   \n",
       "1  15064   bmw   6 Series  2019    Semi-Auto    10813   Diesel  145  53.0430   \n",
       "2  18268   bmw   6 Series  2020    Semi-Auto        6   Diesel  145  53.4379   \n",
       "3  18480   bmw   6 Series  2017    Semi-Auto    18895   Diesel  145  51.5140   \n",
       "4  18492   bmw   6 Series  2015    Automatic    62953   Diesel  160  51.4903   \n",
       "\n",
       "   engineSize  price  \n",
       "0         3.0  37980  \n",
       "1         3.0  33980  \n",
       "2         3.0  36850  \n",
       "3         3.0  25998  \n",
       "4         3.0  18990  "
      ]
     },
     "execution_count": 2,
     "metadata": {},
     "output_type": "execute_result"
    }
   ],
   "source": [
    "trainf = pd.read_csv('./Datasets/Car_features_train.csv')\n",
    "trainp = pd.read_csv('./Datasets/Car_prices_train.csv')\n",
    "testf = pd.read_csv('./Datasets/Car_features_test.csv')\n",
    "testp = pd.read_csv('./Datasets/Car_prices_test.csv')\n",
    "train = pd.merge(trainf,trainp)\n",
    "train.head()"
   ]
  },
  {
   "cell_type": "code",
   "execution_count": 161,
   "id": "4984470b",
   "metadata": {},
   "outputs": [
    {
     "data": {
      "text/html": [
       "<table class=\"simpletable\">\n",
       "<caption>OLS Regression Results</caption>\n",
       "<tr>\n",
       "  <th>Dep. Variable:</th>      <td>np.log(price)</td>  <th>  R-squared:         </th> <td>   0.803</td>\n",
       "</tr>\n",
       "<tr>\n",
       "  <th>Model:</th>                   <td>OLS</td>       <th>  Adj. R-squared:    </th> <td>   0.803</td>\n",
       "</tr>\n",
       "<tr>\n",
       "  <th>Method:</th>             <td>Least Squares</td>  <th>  F-statistic:       </th> <td>   1834.</td>\n",
       "</tr>\n",
       "<tr>\n",
       "  <th>Date:</th>             <td>Wed, 28 Feb 2024</td> <th>  Prob (F-statistic):</th>  <td>  0.00</td> \n",
       "</tr>\n",
       "<tr>\n",
       "  <th>Time:</th>                 <td>13:32:48</td>     <th>  Log-Likelihood:    </th> <td> -1173.8</td>\n",
       "</tr>\n",
       "<tr>\n",
       "  <th>No. Observations:</th>      <td>  4960</td>      <th>  AIC:               </th> <td>   2372.</td>\n",
       "</tr>\n",
       "<tr>\n",
       "  <th>Df Residuals:</th>          <td>  4948</td>      <th>  BIC:               </th> <td>   2450.</td>\n",
       "</tr>\n",
       "<tr>\n",
       "  <th>Df Model:</th>              <td>    11</td>      <th>                     </th>     <td> </td>   \n",
       "</tr>\n",
       "<tr>\n",
       "  <th>Covariance Type:</th>      <td>nonrobust</td>    <th>                     </th>     <td> </td>   \n",
       "</tr>\n",
       "</table>\n",
       "<table class=\"simpletable\">\n",
       "<tr>\n",
       "           <td></td>             <th>coef</th>     <th>std err</th>      <th>t</th>      <th>P>|t|</th>  <th>[0.025</th>    <th>0.975]</th>  \n",
       "</tr>\n",
       "<tr>\n",
       "  <th>Intercept</th>          <td> -238.2125</td> <td>   25.790</td> <td>   -9.237</td> <td> 0.000</td> <td> -288.773</td> <td> -187.652</td>\n",
       "</tr>\n",
       "<tr>\n",
       "  <th>year</th>               <td>    0.1227</td> <td>    0.013</td> <td>    9.608</td> <td> 0.000</td> <td>    0.098</td> <td>    0.148</td>\n",
       "</tr>\n",
       "<tr>\n",
       "  <th>engineSize</th>         <td>   13.8349</td> <td>    5.795</td> <td>    2.387</td> <td> 0.017</td> <td>    2.475</td> <td>   25.195</td>\n",
       "</tr>\n",
       "<tr>\n",
       "  <th>mileage</th>            <td>    0.0005</td> <td>    0.000</td> <td>    3.837</td> <td> 0.000</td> <td>    0.000</td> <td>    0.001</td>\n",
       "</tr>\n",
       "<tr>\n",
       "  <th>mpg</th>                <td>   -1.2446</td> <td>    0.345</td> <td>   -3.610</td> <td> 0.000</td> <td>   -1.921</td> <td>   -0.569</td>\n",
       "</tr>\n",
       "<tr>\n",
       "  <th>year:engineSize</th>    <td>   -0.0067</td> <td>    0.003</td> <td>   -2.324</td> <td> 0.020</td> <td>   -0.012</td> <td>   -0.001</td>\n",
       "</tr>\n",
       "<tr>\n",
       "  <th>year:mileage</th>       <td> -2.67e-07</td> <td>  6.8e-08</td> <td>   -3.923</td> <td> 0.000</td> <td>   -4e-07</td> <td>-1.34e-07</td>\n",
       "</tr>\n",
       "<tr>\n",
       "  <th>year:mpg</th>           <td>    0.0006</td> <td>    0.000</td> <td>    3.591</td> <td> 0.000</td> <td>    0.000</td> <td>    0.001</td>\n",
       "</tr>\n",
       "<tr>\n",
       "  <th>engineSize:mileage</th> <td>-2.668e-07</td> <td> 4.08e-07</td> <td>   -0.654</td> <td> 0.513</td> <td>-1.07e-06</td> <td> 5.33e-07</td>\n",
       "</tr>\n",
       "<tr>\n",
       "  <th>engineSize:mpg</th>     <td>    0.0028</td> <td>    0.000</td> <td>    6.842</td> <td> 0.000</td> <td>    0.002</td> <td>    0.004</td>\n",
       "</tr>\n",
       "<tr>\n",
       "  <th>mileage:mpg</th>        <td> 7.235e-08</td> <td> 1.79e-08</td> <td>    4.036</td> <td> 0.000</td> <td> 3.72e-08</td> <td> 1.08e-07</td>\n",
       "</tr>\n",
       "<tr>\n",
       "  <th>I(mileage ** 2)</th>    <td> 1.828e-11</td> <td> 5.64e-12</td> <td>    3.240</td> <td> 0.001</td> <td> 7.22e-12</td> <td> 2.93e-11</td>\n",
       "</tr>\n",
       "</table>\n",
       "<table class=\"simpletable\">\n",
       "<tr>\n",
       "  <th>Omnibus:</th>       <td>711.514</td> <th>  Durbin-Watson:     </th> <td>   0.498</td>\n",
       "</tr>\n",
       "<tr>\n",
       "  <th>Prob(Omnibus):</th> <td> 0.000</td>  <th>  Jarque-Bera (JB):  </th> <td>2545.807</td>\n",
       "</tr>\n",
       "<tr>\n",
       "  <th>Skew:</th>          <td> 0.699</td>  <th>  Prob(JB):          </th> <td>    0.00</td>\n",
       "</tr>\n",
       "<tr>\n",
       "  <th>Kurtosis:</th>      <td> 6.220</td>  <th>  Cond. No.          </th> <td>1.73e+13</td>\n",
       "</tr>\n",
       "</table><br/><br/>Notes:<br/>[1] Standard Errors assume that the covariance matrix of the errors is correctly specified.<br/>[2] The condition number is large, 1.73e+13. This might indicate that there are<br/>strong multicollinearity or other numerical problems."
      ],
      "text/latex": [
       "\\begin{center}\n",
       "\\begin{tabular}{lclc}\n",
       "\\toprule\n",
       "\\textbf{Dep. Variable:}     &  np.log(price)   & \\textbf{  R-squared:         } &     0.803   \\\\\n",
       "\\textbf{Model:}             &       OLS        & \\textbf{  Adj. R-squared:    } &     0.803   \\\\\n",
       "\\textbf{Method:}            &  Least Squares   & \\textbf{  F-statistic:       } &     1834.   \\\\\n",
       "\\textbf{Date:}              & Wed, 28 Feb 2024 & \\textbf{  Prob (F-statistic):} &     0.00    \\\\\n",
       "\\textbf{Time:}              &     13:32:48     & \\textbf{  Log-Likelihood:    } &   -1173.8   \\\\\n",
       "\\textbf{No. Observations:}  &        4960      & \\textbf{  AIC:               } &     2372.   \\\\\n",
       "\\textbf{Df Residuals:}      &        4948      & \\textbf{  BIC:               } &     2450.   \\\\\n",
       "\\textbf{Df Model:}          &          11      & \\textbf{                     } &             \\\\\n",
       "\\textbf{Covariance Type:}   &    nonrobust     & \\textbf{                     } &             \\\\\n",
       "\\bottomrule\n",
       "\\end{tabular}\n",
       "\\begin{tabular}{lcccccc}\n",
       "                            & \\textbf{coef} & \\textbf{std err} & \\textbf{t} & \\textbf{P$> |$t$|$} & \\textbf{[0.025} & \\textbf{0.975]}  \\\\\n",
       "\\midrule\n",
       "\\textbf{Intercept}          &    -238.2125  &       25.790     &    -9.237  &         0.000        &     -288.773    &     -187.652     \\\\\n",
       "\\textbf{year}               &       0.1227  &        0.013     &     9.608  &         0.000        &        0.098    &        0.148     \\\\\n",
       "\\textbf{engineSize}         &      13.8349  &        5.795     &     2.387  &         0.017        &        2.475    &       25.195     \\\\\n",
       "\\textbf{mileage}            &       0.0005  &        0.000     &     3.837  &         0.000        &        0.000    &        0.001     \\\\\n",
       "\\textbf{mpg}                &      -1.2446  &        0.345     &    -3.610  &         0.000        &       -1.921    &       -0.569     \\\\\n",
       "\\textbf{year:engineSize}    &      -0.0067  &        0.003     &    -2.324  &         0.020        &       -0.012    &       -0.001     \\\\\n",
       "\\textbf{year:mileage}       &    -2.67e-07  &      6.8e-08     &    -3.923  &         0.000        &       -4e-07    &    -1.34e-07     \\\\\n",
       "\\textbf{year:mpg}           &       0.0006  &        0.000     &     3.591  &         0.000        &        0.000    &        0.001     \\\\\n",
       "\\textbf{engineSize:mileage} &   -2.668e-07  &     4.08e-07     &    -0.654  &         0.513        &    -1.07e-06    &     5.33e-07     \\\\\n",
       "\\textbf{engineSize:mpg}     &       0.0028  &        0.000     &     6.842  &         0.000        &        0.002    &        0.004     \\\\\n",
       "\\textbf{mileage:mpg}        &    7.235e-08  &     1.79e-08     &     4.036  &         0.000        &     3.72e-08    &     1.08e-07     \\\\\n",
       "\\textbf{I(mileage ** 2)}    &    1.828e-11  &     5.64e-12     &     3.240  &         0.001        &     7.22e-12    &     2.93e-11     \\\\\n",
       "\\bottomrule\n",
       "\\end{tabular}\n",
       "\\begin{tabular}{lclc}\n",
       "\\textbf{Omnibus:}       & 711.514 & \\textbf{  Durbin-Watson:     } &    0.498  \\\\\n",
       "\\textbf{Prob(Omnibus):} &   0.000 & \\textbf{  Jarque-Bera (JB):  } & 2545.807  \\\\\n",
       "\\textbf{Skew:}          &   0.699 & \\textbf{  Prob(JB):          } &     0.00  \\\\\n",
       "\\textbf{Kurtosis:}      &   6.220 & \\textbf{  Cond. No.          } & 1.73e+13  \\\\\n",
       "\\bottomrule\n",
       "\\end{tabular}\n",
       "%\\caption{OLS Regression Results}\n",
       "\\end{center}\n",
       "\n",
       "Notes: \\newline\n",
       " [1] Standard Errors assume that the covariance matrix of the errors is correctly specified. \\newline\n",
       " [2] The condition number is large, 1.73e+13. This might indicate that there are \\newline\n",
       " strong multicollinearity or other numerical problems."
      ],
      "text/plain": [
       "<class 'statsmodels.iolib.summary.Summary'>\n",
       "\"\"\"\n",
       "                            OLS Regression Results                            \n",
       "==============================================================================\n",
       "Dep. Variable:          np.log(price)   R-squared:                       0.803\n",
       "Model:                            OLS   Adj. R-squared:                  0.803\n",
       "Method:                 Least Squares   F-statistic:                     1834.\n",
       "Date:                Wed, 28 Feb 2024   Prob (F-statistic):               0.00\n",
       "Time:                        13:32:48   Log-Likelihood:                -1173.8\n",
       "No. Observations:                4960   AIC:                             2372.\n",
       "Df Residuals:                    4948   BIC:                             2450.\n",
       "Df Model:                          11                                         \n",
       "Covariance Type:            nonrobust                                         \n",
       "======================================================================================\n",
       "                         coef    std err          t      P>|t|      [0.025      0.975]\n",
       "--------------------------------------------------------------------------------------\n",
       "Intercept           -238.2125     25.790     -9.237      0.000    -288.773    -187.652\n",
       "year                   0.1227      0.013      9.608      0.000       0.098       0.148\n",
       "engineSize            13.8349      5.795      2.387      0.017       2.475      25.195\n",
       "mileage                0.0005      0.000      3.837      0.000       0.000       0.001\n",
       "mpg                   -1.2446      0.345     -3.610      0.000      -1.921      -0.569\n",
       "year:engineSize       -0.0067      0.003     -2.324      0.020      -0.012      -0.001\n",
       "year:mileage        -2.67e-07    6.8e-08     -3.923      0.000      -4e-07   -1.34e-07\n",
       "year:mpg               0.0006      0.000      3.591      0.000       0.000       0.001\n",
       "engineSize:mileage -2.668e-07   4.08e-07     -0.654      0.513   -1.07e-06    5.33e-07\n",
       "engineSize:mpg         0.0028      0.000      6.842      0.000       0.002       0.004\n",
       "mileage:mpg         7.235e-08   1.79e-08      4.036      0.000    3.72e-08    1.08e-07\n",
       "I(mileage ** 2)     1.828e-11   5.64e-12      3.240      0.001    7.22e-12    2.93e-11\n",
       "==============================================================================\n",
       "Omnibus:                      711.514   Durbin-Watson:                   0.498\n",
       "Prob(Omnibus):                  0.000   Jarque-Bera (JB):             2545.807\n",
       "Skew:                           0.699   Prob(JB):                         0.00\n",
       "Kurtosis:                       6.220   Cond. No.                     1.73e+13\n",
       "==============================================================================\n",
       "\n",
       "Notes:\n",
       "[1] Standard Errors assume that the covariance matrix of the errors is correctly specified.\n",
       "[2] The condition number is large, 1.73e+13. This might indicate that there are\n",
       "strong multicollinearity or other numerical problems.\n",
       "\"\"\""
      ]
     },
     "execution_count": 161,
     "metadata": {},
     "output_type": "execute_result"
    }
   ],
   "source": [
    "# Considering the model developed to address assumptions in the previous chapter\n",
    "# Model with an interaction term and a variable transformation term\n",
    "ols_object = smf.ols(formula = 'np.log(price)~(year+engineSize+mileage+mpg)**2+I(mileage**2)', data = train)\n",
    "model_log = ols_object.fit()\n",
    "model_log.summary()"
   ]
  },
  {
   "cell_type": "code",
   "execution_count": 162,
   "id": "c18e7ac7",
   "metadata": {},
   "outputs": [
    {
     "data": {
      "text/plain": [
       "9094.209473232966"
      ]
     },
     "execution_count": 162,
     "metadata": {},
     "output_type": "execute_result"
    }
   ],
   "source": [
    "#Computing RMSE on test data\n",
    "pred_price_log = model_log.predict(testf)\n",
    "np.sqrt(((testp.price - np.exp(pred_price_log))**2).mean())"
   ]
  },
  {
   "cell_type": "markdown",
   "id": "2e21d973",
   "metadata": {},
   "source": [
    "## Outliers\n",
    "An outlier is a point for which the true response ($y_i$) is far from the value predicted by the model. Residual plots can be used to identify outliers."
   ]
  },
  {
   "cell_type": "markdown",
   "id": "203ad56e",
   "metadata": {},
   "source": [
    "If the the response at the $i^{th}$ observation is $y_i$, the prediction is $\\hat{y}_i$, then the residual $e_i$ is:\n",
    "\n",
    "$$e_i = y_i - \\hat{y_i}$$"
   ]
  },
  {
   "cell_type": "code",
   "execution_count": 5,
   "id": "099ffe6b",
   "metadata": {},
   "outputs": [
    {
     "data": {
      "image/png": "[encoded data removed]",
      "text/plain": [
       "<Figure size 1000x600 with 1 Axes>"
      ]
     },
     "metadata": {},
     "output_type": "display_data"
    }
   ],
   "source": [
    "#Plotting residuals vs fitted values\n",
    "sns.set(rc={'figure.figsize':(10,6)})\n",
    "sns.scatterplot(x = (model_log.fittedvalues), y=(model_log.resid),color = 'orange')\n",
    "sns.lineplot(x = [model_log.fittedvalues.min(),model_log.fittedvalues.max()],y = [0,0],color = 'blue')\n",
    "plt.xlabel('Fitted values')\n",
    "plt.ylabel('Residuals');"
   ]
  },
  {
   "cell_type": "markdown",
   "id": "6aa4ca0e",
   "metadata": {},
   "source": [
    "Some of the errors may be high. However, it is difficult to decide how large a residual needs to be before we can consider a point to be an outlier. To address this problem, we have standardized residuals, which are defined as:\n",
    "\n",
    "$$r_i = \\frac{e_i}{RSE(\\sqrt{1-h_{ii}})},$$\n",
    "where $r_i$ is the standardized residual, $RSE$ is the residual standard error, and $h_{ii}$ is the leverage *(introduced in the next section)* of the $i^{th}$ observation."
   ]
  },
  {
   "cell_type": "markdown",
   "id": "f024c019",
   "metadata": {},
   "source": [
    "Standardized residuals, allow the residuals to be compared on a *standard scale*."
   ]
  },
  {
   "cell_type": "markdown",
   "id": "dc035347",
   "metadata": {},
   "source": [
    "**Issue with standardized residuals:**, If the observation corresponding to the standardized residual has a high leverage, then it will drag the regression line / plane / hyperplane towards it, thereby influencing the estimate of the residual itself."
   ]
  },
  {
   "cell_type": "markdown",
   "id": "148d79d4",
   "metadata": {},
   "source": [
    "**Studentized residuals:** To address the issue with standardized residuals, studentized residual for the $i^{th}$ observation is computed as the standardized residual, but with the $RSE$ (residual standard error) computed after removing the $i^{th}$ observation from the data. Studentized residual, $t_i$ for the $i^{th}$ observation is given as:\n",
    "\n",
    "$$t_i = \\frac{e_i}{RSE_{i}(\\sqrt{1-h_{ii}})},$$\n",
    "where $RSE_{i}$ is the residual standard error of the model developed on the data without the $i^{th}$ observation."
   ]
  },
  {
   "cell_type": "markdown",
   "id": "7eb9cc8a",
   "metadata": {},
   "source": [
    "If the regression model is appropriate such that no case is outlying because of a change in the model, then each studentized residual will follow a $t$ distribution with $(n–p–1)$ degrees of freedom. \n",
    "\n",
    "As the studentized residuals follow a $t$ distribution, we can conduct a hypothesis test to identify whether an observation is an outlier or not for a given sigificance level. Note that the test will be two-sided since we are not concerned with the sign of the residuals, but only their absolute values."
   ]
  },
  {
   "cell_type": "markdown",
   "id": "9856c774",
   "metadata": {},
   "source": [
    "In the current example, for a signficance level of 5\\%, the critical $t$-statistic is $t\\big(1 - \\frac{\\alpha}{2}, n - p - 1\\big)$, as calculated below."
   ]
  },
  {
   "cell_type": "code",
   "execution_count": 15,
   "id": "42af699d",
   "metadata": {},
   "outputs": [
    {
     "data": {
      "text/plain": [
       "1.9604435402730618"
      ]
     },
     "execution_count": 15,
     "metadata": {},
     "output_type": "execute_result"
    }
   ],
   "source": [
    "n = train.shape[0]\n",
    "p = model_log.df_model\n",
    "alpha = 0.05\n",
    "\n",
    "# Critical value\n",
    "stats.t.ppf(1 - alpha/2, n - p - 1)"
   ]
  },
  {
   "cell_type": "markdown",
   "id": "2527d333",
   "metadata": {},
   "source": [
    "If were conducting the test for a single observation, we'll compare the studentized residual for that observation with the critical $t$-statistic, and if the residual is greater than the critical value, we'll consider that observation as an outlier."
   ]
  },
  {
   "cell_type": "markdown",
   "id": "221c6be1",
   "metadata": {},
   "source": [
    "However, typically, we'll be interested in conducting this test for all observations, and thus we'll need a more conservative critical value for the same signficance level. This critical value is given by the Bonferroni correction as $t\\big(1 - \\frac{\\alpha}{2n}, n - p - 1\\big)$."
   ]
  },
  {
   "cell_type": "markdown",
   "id": "670725bc",
   "metadata": {},
   "source": [
    "Thus, the minimum value of studentized residual for which the observation will be classified as an outlier is:"
   ]
  },
  {
   "cell_type": "code",
   "execution_count": 18,
   "id": "769ba052",
   "metadata": {},
   "outputs": [
    {
     "data": {
      "text/plain": [
       "4.4200129981725365"
      ]
     },
     "execution_count": 18,
     "metadata": {},
     "output_type": "execute_result"
    }
   ],
   "source": [
    "critical_value = stats.t.ppf(1-alpha/(2*n), n - p - 1)\n",
    "critical_value"
   ]
  },
  {
   "cell_type": "markdown",
   "id": "ac54295c",
   "metadata": {},
   "source": [
    "The studentized residuals can be obtained using the `outlier_test()` method of the object returned by the `fit()` method of an OLS object. Let us find the studentized residuals in our car `price` prediction model. "
   ]
  },
  {
   "cell_type": "code",
   "execution_count": 6,
   "id": "bba48749",
   "metadata": {},
   "outputs": [
    {
     "data": {
      "text/html": [
       "<div>\n",
       "<style scoped>\n",
       "    .dataframe tbody tr th:only-of-type {\n",
       "        vertical-align: middle;\n",
       "    }\n",
       "\n",
       "    .dataframe tbody tr th {\n",
       "        vertical-align: top;\n",
       "    }\n",
       "\n",
       "    .dataframe thead th {\n",
       "        text-align: right;\n",
       "    }\n",
       "</style>\n",
       "<table border=\"1\" class=\"dataframe\">\n",
       "  <thead>\n",
       "    <tr style=\"text-align: right;\">\n",
       "      <th></th>\n",
       "      <th>student_resid</th>\n",
       "      <th>unadj_p</th>\n",
       "      <th>bonf(p)</th>\n",
       "    </tr>\n",
       "  </thead>\n",
       "  <tbody>\n",
       "    <tr>\n",
       "      <th>0</th>\n",
       "      <td>-1.164204</td>\n",
       "      <td>0.244398</td>\n",
       "      <td>1.0</td>\n",
       "    </tr>\n",
       "    <tr>\n",
       "      <th>1</th>\n",
       "      <td>-0.801879</td>\n",
       "      <td>0.422661</td>\n",
       "      <td>1.0</td>\n",
       "    </tr>\n",
       "    <tr>\n",
       "      <th>2</th>\n",
       "      <td>-1.263820</td>\n",
       "      <td>0.206354</td>\n",
       "      <td>1.0</td>\n",
       "    </tr>\n",
       "    <tr>\n",
       "      <th>3</th>\n",
       "      <td>-0.614171</td>\n",
       "      <td>0.539131</td>\n",
       "      <td>1.0</td>\n",
       "    </tr>\n",
       "    <tr>\n",
       "      <th>4</th>\n",
       "      <td>0.027929</td>\n",
       "      <td>0.977720</td>\n",
       "      <td>1.0</td>\n",
       "    </tr>\n",
       "    <tr>\n",
       "      <th>...</th>\n",
       "      <td>...</td>\n",
       "      <td>...</td>\n",
       "      <td>...</td>\n",
       "    </tr>\n",
       "    <tr>\n",
       "      <th>4955</th>\n",
       "      <td>-0.523361</td>\n",
       "      <td>0.600747</td>\n",
       "      <td>1.0</td>\n",
       "    </tr>\n",
       "    <tr>\n",
       "      <th>4956</th>\n",
       "      <td>-0.509538</td>\n",
       "      <td>0.610398</td>\n",
       "      <td>1.0</td>\n",
       "    </tr>\n",
       "    <tr>\n",
       "      <th>4957</th>\n",
       "      <td>-1.718808</td>\n",
       "      <td>0.085712</td>\n",
       "      <td>1.0</td>\n",
       "    </tr>\n",
       "    <tr>\n",
       "      <th>4958</th>\n",
       "      <td>-0.077594</td>\n",
       "      <td>0.938154</td>\n",
       "      <td>1.0</td>\n",
       "    </tr>\n",
       "    <tr>\n",
       "      <th>4959</th>\n",
       "      <td>-0.482388</td>\n",
       "      <td>0.629551</td>\n",
       "      <td>1.0</td>\n",
       "    </tr>\n",
       "  </tbody>\n",
       "</table>\n",
       "<p>4960 rows × 3 columns</p>\n",
       "</div>"
      ],
      "text/plain": [
       "      student_resid   unadj_p  bonf(p)\n",
       "0         -1.164204  0.244398      1.0\n",
       "1         -0.801879  0.422661      1.0\n",
       "2         -1.263820  0.206354      1.0\n",
       "3         -0.614171  0.539131      1.0\n",
       "4          0.027929  0.977720      1.0\n",
       "...             ...       ...      ...\n",
       "4955      -0.523361  0.600747      1.0\n",
       "4956      -0.509538  0.610398      1.0\n",
       "4957      -1.718808  0.085712      1.0\n",
       "4958      -0.077594  0.938154      1.0\n",
       "4959      -0.482388  0.629551      1.0\n",
       "\n",
       "[4960 rows x 3 columns]"
      ]
     },
     "execution_count": 6,
     "metadata": {},
     "output_type": "execute_result"
    }
   ],
   "source": [
    "#Studentized residuals\n",
    "out = model_log.outlier_test()\n",
    "out"
   ]
  },
  {
   "cell_type": "markdown",
   "id": "6cf39b63",
   "metadata": {},
   "source": [
    "Studentized residuals are in the first column of the above table."
   ]
  },
  {
   "cell_type": "code",
   "execution_count": 155,
   "id": "5ec1cee2",
   "metadata": {},
   "outputs": [
    {
     "data": {
      "text/plain": [
       "Text(0, 0.5, 'Studentized Residuals')"
      ]
     },
     "execution_count": 155,
     "metadata": {},
     "output_type": "execute_result"
    },
    {
     "data": {
      "image/png": "[encoded data removed]",
      "text/plain": [
       "<Figure size 720x432 with 1 Axes>"
      ]
     },
     "metadata": {},
     "output_type": "display_data"
    }
   ],
   "source": [
    "#Plotting studentized residuals vs fitted values\n",
    "sns.scatterplot(x = (model_log.fittedvalues), y=(out.student_resid),color = 'orange')\n",
    "sns.lineplot(x = [model_log.fittedvalues.min(),model_log.fittedvalues.max()],y = [0,0],color = 'blue')\n",
    "plt.xlabel('Fitted values')\n",
    "plt.ylabel('Studentized Residuals');"
   ]
  },
  {
   "cell_type": "markdown",
   "id": "9dbbb4c5",
   "metadata": {},
   "source": [
    "**Potential outliers:** Observations whose studentized residuals have a magnitude greater than 3."
   ]
  },
  {
   "cell_type": "markdown",
   "id": "e7abeb73",
   "metadata": {},
   "source": [
    "**Impact of outliers:** Outliers do not have a large impact on the OLS line / plane / hyperplane. However, outliers do inflate the residual standard error (RSE). RSE in turn is used to compute the standard errors of regression coefficients. As a result, statistically significant variables may appear to be insignificant, and $R^2$ may appear to be lower."
   ]
  },
  {
   "cell_type": "markdown",
   "id": "02f5b958",
   "metadata": {},
   "source": [
    "**Are there outliers in our example?**"
   ]
  },
  {
   "cell_type": "code",
   "execution_count": 21,
   "id": "057fc1cc",
   "metadata": {},
   "outputs": [
    {
     "data": {
      "text/plain": [
       "19"
      ]
     },
     "execution_count": 21,
     "metadata": {},
     "output_type": "execute_result"
    }
   ],
   "source": [
    "#Number of points with absolute studentized residuals greater than critical_value\n",
    "np.sum(np.abs(out.student_resid) > critical_value)"
   ]
  },
  {
   "cell_type": "markdown",
   "id": "b4bd5bc6",
   "metadata": {},
   "source": [
    "Let us analyze the outliers."
   ]
  },
  {
   "cell_type": "code",
   "execution_count": 28,
   "id": "604af257",
   "metadata": {},
   "outputs": [
    {
     "data": {
      "text/html": [
       "<div>\n",
       "<style scoped>\n",
       "    .dataframe tbody tr th:only-of-type {\n",
       "        vertical-align: middle;\n",
       "    }\n",
       "\n",
       "    .dataframe tbody tr th {\n",
       "        vertical-align: top;\n",
       "    }\n",
       "\n",
       "    .dataframe thead th {\n",
       "        text-align: right;\n",
       "    }\n",
       "</style>\n",
       "<table border=\"1\" class=\"dataframe\">\n",
       "  <thead>\n",
       "    <tr style=\"text-align: right;\">\n",
       "      <th></th>\n",
       "      <th>carID</th>\n",
       "      <th>brand</th>\n",
       "      <th>model</th>\n",
       "      <th>year</th>\n",
       "      <th>transmission</th>\n",
       "      <th>mileage</th>\n",
       "      <th>fuelType</th>\n",
       "      <th>tax</th>\n",
       "      <th>mpg</th>\n",
       "      <th>engineSize</th>\n",
       "      <th>price</th>\n",
       "      <th>0</th>\n",
       "    </tr>\n",
       "  </thead>\n",
       "  <tbody>\n",
       "    <tr>\n",
       "      <th>2042</th>\n",
       "      <td>18228</td>\n",
       "      <td>bmw</td>\n",
       "      <td>i3</td>\n",
       "      <td>2017</td>\n",
       "      <td>Automatic</td>\n",
       "      <td>24041</td>\n",
       "      <td>Hybrid</td>\n",
       "      <td>0</td>\n",
       "      <td>78.2726</td>\n",
       "      <td>0.0</td>\n",
       "      <td>21495</td>\n",
       "      <td>5537.337460</td>\n",
       "    </tr>\n",
       "    <tr>\n",
       "      <th>2046</th>\n",
       "      <td>17362</td>\n",
       "      <td>bmw</td>\n",
       "      <td>i3</td>\n",
       "      <td>2016</td>\n",
       "      <td>Automatic</td>\n",
       "      <td>68000</td>\n",
       "      <td>Hybrid</td>\n",
       "      <td>0</td>\n",
       "      <td>78.0258</td>\n",
       "      <td>0.0</td>\n",
       "      <td>15990</td>\n",
       "      <td>4107.811771</td>\n",
       "    </tr>\n",
       "    <tr>\n",
       "      <th>2050</th>\n",
       "      <td>19224</td>\n",
       "      <td>bmw</td>\n",
       "      <td>i3</td>\n",
       "      <td>2016</td>\n",
       "      <td>Automatic</td>\n",
       "      <td>20013</td>\n",
       "      <td>Hybrid</td>\n",
       "      <td>0</td>\n",
       "      <td>77.9310</td>\n",
       "      <td>0.0</td>\n",
       "      <td>19875</td>\n",
       "      <td>4784.986021</td>\n",
       "    </tr>\n",
       "    <tr>\n",
       "      <th>2051</th>\n",
       "      <td>13913</td>\n",
       "      <td>bmw</td>\n",
       "      <td>i3</td>\n",
       "      <td>2014</td>\n",
       "      <td>Automatic</td>\n",
       "      <td>34539</td>\n",
       "      <td>Hybrid</td>\n",
       "      <td>0</td>\n",
       "      <td>78.3838</td>\n",
       "      <td>0.0</td>\n",
       "      <td>14495</td>\n",
       "      <td>3269.686113</td>\n",
       "    </tr>\n",
       "    <tr>\n",
       "      <th>2055</th>\n",
       "      <td>16512</td>\n",
       "      <td>bmw</td>\n",
       "      <td>i3</td>\n",
       "      <td>2017</td>\n",
       "      <td>Automatic</td>\n",
       "      <td>28169</td>\n",
       "      <td>Hybrid</td>\n",
       "      <td>0</td>\n",
       "      <td>77.9799</td>\n",
       "      <td>0.0</td>\n",
       "      <td>23751</td>\n",
       "      <td>5454.207333</td>\n",
       "    </tr>\n",
       "    <tr>\n",
       "      <th>2059</th>\n",
       "      <td>15844</td>\n",
       "      <td>bmw</td>\n",
       "      <td>i3</td>\n",
       "      <td>2016</td>\n",
       "      <td>Automatic</td>\n",
       "      <td>19995</td>\n",
       "      <td>Hybrid</td>\n",
       "      <td>0</td>\n",
       "      <td>78.2825</td>\n",
       "      <td>0.0</td>\n",
       "      <td>19850</td>\n",
       "      <td>4773.707307</td>\n",
       "    </tr>\n",
       "    <tr>\n",
       "      <th>2060</th>\n",
       "      <td>12107</td>\n",
       "      <td>bmw</td>\n",
       "      <td>i3</td>\n",
       "      <td>2016</td>\n",
       "      <td>Automatic</td>\n",
       "      <td>8421</td>\n",
       "      <td>Hybrid</td>\n",
       "      <td>0</td>\n",
       "      <td>77.9125</td>\n",
       "      <td>0.0</td>\n",
       "      <td>19490</td>\n",
       "      <td>5028.048305</td>\n",
       "    </tr>\n",
       "    <tr>\n",
       "      <th>2061</th>\n",
       "      <td>18215</td>\n",
       "      <td>bmw</td>\n",
       "      <td>i3</td>\n",
       "      <td>2014</td>\n",
       "      <td>Automatic</td>\n",
       "      <td>37161</td>\n",
       "      <td>Hybrid</td>\n",
       "      <td>0</td>\n",
       "      <td>77.7505</td>\n",
       "      <td>0.0</td>\n",
       "      <td>14182</td>\n",
       "      <td>3259.101789</td>\n",
       "    </tr>\n",
       "    <tr>\n",
       "      <th>2063</th>\n",
       "      <td>15617</td>\n",
       "      <td>bmw</td>\n",
       "      <td>i3</td>\n",
       "      <td>2017</td>\n",
       "      <td>Automatic</td>\n",
       "      <td>41949</td>\n",
       "      <td>Hybrid</td>\n",
       "      <td>140</td>\n",
       "      <td>78.1907</td>\n",
       "      <td>0.0</td>\n",
       "      <td>19998</td>\n",
       "      <td>5173.402125</td>\n",
       "    </tr>\n",
       "    <tr>\n",
       "      <th>2064</th>\n",
       "      <td>18020</td>\n",
       "      <td>bmw</td>\n",
       "      <td>i3</td>\n",
       "      <td>2015</td>\n",
       "      <td>Automatic</td>\n",
       "      <td>9886</td>\n",
       "      <td>Hybrid</td>\n",
       "      <td>0</td>\n",
       "      <td>78.1810</td>\n",
       "      <td>0.0</td>\n",
       "      <td>17481</td>\n",
       "      <td>4214.053932</td>\n",
       "    </tr>\n",
       "    <tr>\n",
       "      <th>2143</th>\n",
       "      <td>12972</td>\n",
       "      <td>bmw</td>\n",
       "      <td>i8</td>\n",
       "      <td>2017</td>\n",
       "      <td>Automatic</td>\n",
       "      <td>9992</td>\n",
       "      <td>Hybrid</td>\n",
       "      <td>135</td>\n",
       "      <td>69.2767</td>\n",
       "      <td>1.5</td>\n",
       "      <td>59950</td>\n",
       "      <td>14675.519883</td>\n",
       "    </tr>\n",
       "    <tr>\n",
       "      <th>2144</th>\n",
       "      <td>13826</td>\n",
       "      <td>bmw</td>\n",
       "      <td>i8</td>\n",
       "      <td>2015</td>\n",
       "      <td>Automatic</td>\n",
       "      <td>43323</td>\n",
       "      <td>Hybrid</td>\n",
       "      <td>0</td>\n",
       "      <td>69.2683</td>\n",
       "      <td>1.5</td>\n",
       "      <td>44990</td>\n",
       "      <td>9289.744847</td>\n",
       "    </tr>\n",
       "    <tr>\n",
       "      <th>2150</th>\n",
       "      <td>18949</td>\n",
       "      <td>bmw</td>\n",
       "      <td>i8</td>\n",
       "      <td>2015</td>\n",
       "      <td>Automatic</td>\n",
       "      <td>43102</td>\n",
       "      <td>Hybrid</td>\n",
       "      <td>0</td>\n",
       "      <td>69.0922</td>\n",
       "      <td>1.5</td>\n",
       "      <td>42890</td>\n",
       "      <td>9300.576839</td>\n",
       "    </tr>\n",
       "    <tr>\n",
       "      <th>2151</th>\n",
       "      <td>18977</td>\n",
       "      <td>bmw</td>\n",
       "      <td>i8</td>\n",
       "      <td>2016</td>\n",
       "      <td>Automatic</td>\n",
       "      <td>10087</td>\n",
       "      <td>Hybrid</td>\n",
       "      <td>0</td>\n",
       "      <td>68.9279</td>\n",
       "      <td>1.5</td>\n",
       "      <td>48998</td>\n",
       "      <td>12607.867130</td>\n",
       "    </tr>\n",
       "    <tr>\n",
       "      <th>2744</th>\n",
       "      <td>18866</td>\n",
       "      <td>merc</td>\n",
       "      <td>M Class</td>\n",
       "      <td>2004</td>\n",
       "      <td>Automatic</td>\n",
       "      <td>121000</td>\n",
       "      <td>Diesel</td>\n",
       "      <td>325</td>\n",
       "      <td>29.3713</td>\n",
       "      <td>2.7</td>\n",
       "      <td>19950</td>\n",
       "      <td>4068.883513</td>\n",
       "    </tr>\n",
       "    <tr>\n",
       "      <th>3548</th>\n",
       "      <td>13149</td>\n",
       "      <td>audi</td>\n",
       "      <td>S4</td>\n",
       "      <td>2019</td>\n",
       "      <td>Automatic</td>\n",
       "      <td>4900</td>\n",
       "      <td>Diesel</td>\n",
       "      <td>145</td>\n",
       "      <td>40.7030</td>\n",
       "      <td>0.0</td>\n",
       "      <td>45000</td>\n",
       "      <td>10679.644966</td>\n",
       "    </tr>\n",
       "    <tr>\n",
       "      <th>4116</th>\n",
       "      <td>16420</td>\n",
       "      <td>audi</td>\n",
       "      <td>SQ5</td>\n",
       "      <td>2020</td>\n",
       "      <td>Automatic</td>\n",
       "      <td>1500</td>\n",
       "      <td>Diesel</td>\n",
       "      <td>145</td>\n",
       "      <td>34.7968</td>\n",
       "      <td>0.0</td>\n",
       "      <td>56450</td>\n",
       "      <td>13166.374034</td>\n",
       "    </tr>\n",
       "    <tr>\n",
       "      <th>4117</th>\n",
       "      <td>17611</td>\n",
       "      <td>audi</td>\n",
       "      <td>SQ5</td>\n",
       "      <td>2019</td>\n",
       "      <td>Automatic</td>\n",
       "      <td>1500</td>\n",
       "      <td>Diesel</td>\n",
       "      <td>145</td>\n",
       "      <td>34.5016</td>\n",
       "      <td>0.0</td>\n",
       "      <td>48800</td>\n",
       "      <td>11426.005642</td>\n",
       "    </tr>\n",
       "    <tr>\n",
       "      <th>4851</th>\n",
       "      <td>16577</td>\n",
       "      <td>bmw</td>\n",
       "      <td>Z3</td>\n",
       "      <td>2002</td>\n",
       "      <td>Automatic</td>\n",
       "      <td>16500</td>\n",
       "      <td>Petrol</td>\n",
       "      <td>325</td>\n",
       "      <td>29.7614</td>\n",
       "      <td>2.2</td>\n",
       "      <td>14995</td>\n",
       "      <td>3426.196256</td>\n",
       "    </tr>\n",
       "  </tbody>\n",
       "</table>\n",
       "</div>"
      ],
      "text/plain": [
       "      carID brand     model  year transmission  mileage fuelType  tax  \\\n",
       "2042  18228   bmw        i3  2017    Automatic    24041   Hybrid    0   \n",
       "2046  17362   bmw        i3  2016    Automatic    68000   Hybrid    0   \n",
       "2050  19224   bmw        i3  2016    Automatic    20013   Hybrid    0   \n",
       "2051  13913   bmw        i3  2014    Automatic    34539   Hybrid    0   \n",
       "2055  16512   bmw        i3  2017    Automatic    28169   Hybrid    0   \n",
       "2059  15844   bmw        i3  2016    Automatic    19995   Hybrid    0   \n",
       "2060  12107   bmw        i3  2016    Automatic     8421   Hybrid    0   \n",
       "2061  18215   bmw        i3  2014    Automatic    37161   Hybrid    0   \n",
       "2063  15617   bmw        i3  2017    Automatic    41949   Hybrid  140   \n",
       "2064  18020   bmw        i3  2015    Automatic     9886   Hybrid    0   \n",
       "2143  12972   bmw        i8  2017    Automatic     9992   Hybrid  135   \n",
       "2144  13826   bmw        i8  2015    Automatic    43323   Hybrid    0   \n",
       "2150  18949   bmw        i8  2015    Automatic    43102   Hybrid    0   \n",
       "2151  18977   bmw        i8  2016    Automatic    10087   Hybrid    0   \n",
       "2744  18866  merc   M Class  2004    Automatic   121000   Diesel  325   \n",
       "3548  13149  audi        S4  2019    Automatic     4900   Diesel  145   \n",
       "4116  16420  audi       SQ5  2020    Automatic     1500   Diesel  145   \n",
       "4117  17611  audi       SQ5  2019    Automatic     1500   Diesel  145   \n",
       "4851  16577   bmw        Z3  2002    Automatic    16500   Petrol  325   \n",
       "\n",
       "          mpg  engineSize  price             0  \n",
       "2042  78.2726         0.0  21495   5537.337460  \n",
       "2046  78.0258         0.0  15990   4107.811771  \n",
       "2050  77.9310         0.0  19875   4784.986021  \n",
       "2051  78.3838         0.0  14495   3269.686113  \n",
       "2055  77.9799         0.0  23751   5454.207333  \n",
       "2059  78.2825         0.0  19850   4773.707307  \n",
       "2060  77.9125         0.0  19490   5028.048305  \n",
       "2061  77.7505         0.0  14182   3259.101789  \n",
       "2063  78.1907         0.0  19998   5173.402125  \n",
       "2064  78.1810         0.0  17481   4214.053932  \n",
       "2143  69.2767         1.5  59950  14675.519883  \n",
       "2144  69.2683         1.5  44990   9289.744847  \n",
       "2150  69.0922         1.5  42890   9300.576839  \n",
       "2151  68.9279         1.5  48998  12607.867130  \n",
       "2744  29.3713         2.7  19950   4068.883513  \n",
       "3548  40.7030         0.0  45000  10679.644966  \n",
       "4116  34.7968         0.0  56450  13166.374034  \n",
       "4117  34.5016         0.0  48800  11426.005642  \n",
       "4851  29.7614         2.2  14995   3426.196256  "
      ]
     },
     "execution_count": 28,
     "metadata": {},
     "output_type": "execute_result"
    }
   ],
   "source": [
    "ind = (np.abs(out.student_resid) > critical_value)\n",
    "pd.concat([train.loc[ind,:], np.exp(model_log.fittedvalues[ind])], axis = 1)"
   ]
  },
  {
   "cell_type": "markdown",
   "id": "c8246af1",
   "metadata": {},
   "source": [
    "**Do you notice some unique characteristics of these observations due to which they may be outliers?**\n",
    "\n",
    "**What methods you can propose to estimate the price of these outliers more accurately, which will also result in the overall reduction in RMSE?**"
   ]
  },
  {
   "cell_type": "markdown",
   "id": "f20ebe1c",
   "metadata": {},
   "source": [
    "## High leverage points"
   ]
  },
  {
   "cell_type": "markdown",
   "id": "1bc1b827",
   "metadata": {},
   "source": [
    "High leverage points are those with an unsual value of the predictor(s). They have a relatively higher impact on the OLS line / plane / hyperplane, as compared to the outliers. \n",
    "\n",
    "**Leverage statistic** (page 99 of the book): In order to quantify an observation’s leverage, we compute the leverage statistic. A large value of this statistic indicates an observation with high leverage. For simple linear regression,\n",
    "\\begin{equation}\n",
    "h_i = \\frac{1}{n} + \\frac{(x_i - \\bar x)^2}{\\sum_{i'=1}^{n}(x_{i'} - \\bar x)^2}.\n",
    "\\end{equation}\n",
    "\n",
    "It is clear from this equation that $h_i$ increases with the distance of $x_i$ from $\\bar x$.The leverage statistic $h_i$ is always between $1/n$ and $1$, and the average leverage for all the observations is always equal to $(p+1)/n$. So if a given observation has a leverage statistic that greatly exceeds $(p+1)/n$, then we may suspect that the corresponding point has high leverage."
   ]
  },
  {
   "cell_type": "markdown",
   "id": "9a537366",
   "metadata": {},
   "source": [
    "**Influential points:** Note that if a high leverage point falls in line with the regression line, then it will not affect the regression line. However, it may inflate R-squared and increase the significance of predictors. If a high leverage point falls away from the regression line, then it is also an outlier, and will affect the regression line. The points whose presence significantly affects the regression line are called influential points. A point that is both a high leverage point and an outlier is likely to be an influential point. However, a high leverage point is not necessarily an influential point.\n",
    "\n",
    "*Source for influential points: https://online.stat.psu.edu/stat501/book/export/html/973*"
   ]
  },
  {
   "cell_type": "markdown",
   "id": "85d81fea",
   "metadata": {},
   "source": [
    "Let us see if there are any high leverage points in our regression model without the predictor - `model`."
   ]
  },
  {
   "cell_type": "code",
   "execution_count": 82,
   "id": "e4933a3c",
   "metadata": {},
   "outputs": [
    {
     "data": {
      "text/html": [
       "<table class=\"simpletable\">\n",
       "<caption>OLS Regression Results</caption>\n",
       "<tr>\n",
       "  <th>Dep. Variable:</th>      <td>np.log(price)</td>  <th>  R-squared:         </th> <td>   0.803</td>\n",
       "</tr>\n",
       "<tr>\n",
       "  <th>Model:</th>                   <td>OLS</td>       <th>  Adj. R-squared:    </th> <td>   0.803</td>\n",
       "</tr>\n",
       "<tr>\n",
       "  <th>Method:</th>             <td>Least Squares</td>  <th>  F-statistic:       </th> <td>   1834.</td>\n",
       "</tr>\n",
       "<tr>\n",
       "  <th>Date:</th>             <td>Wed, 28 Feb 2024</td> <th>  Prob (F-statistic):</th>  <td>  0.00</td> \n",
       "</tr>\n",
       "<tr>\n",
       "  <th>Time:</th>                 <td>13:25:59</td>     <th>  Log-Likelihood:    </th> <td> -1173.8</td>\n",
       "</tr>\n",
       "<tr>\n",
       "  <th>No. Observations:</th>      <td>  4960</td>      <th>  AIC:               </th> <td>   2372.</td>\n",
       "</tr>\n",
       "<tr>\n",
       "  <th>Df Residuals:</th>          <td>  4948</td>      <th>  BIC:               </th> <td>   2450.</td>\n",
       "</tr>\n",
       "<tr>\n",
       "  <th>Df Model:</th>              <td>    11</td>      <th>                     </th>     <td> </td>   \n",
       "</tr>\n",
       "<tr>\n",
       "  <th>Covariance Type:</th>      <td>nonrobust</td>    <th>                     </th>     <td> </td>   \n",
       "</tr>\n",
       "</table>\n",
       "<table class=\"simpletable\">\n",
       "<tr>\n",
       "           <td></td>             <th>coef</th>     <th>std err</th>      <th>t</th>      <th>P>|t|</th>  <th>[0.025</th>    <th>0.975]</th>  \n",
       "</tr>\n",
       "<tr>\n",
       "  <th>Intercept</th>          <td> -238.2125</td> <td>   25.790</td> <td>   -9.237</td> <td> 0.000</td> <td> -288.773</td> <td> -187.652</td>\n",
       "</tr>\n",
       "<tr>\n",
       "  <th>year</th>               <td>    0.1227</td> <td>    0.013</td> <td>    9.608</td> <td> 0.000</td> <td>    0.098</td> <td>    0.148</td>\n",
       "</tr>\n",
       "<tr>\n",
       "  <th>engineSize</th>         <td>   13.8349</td> <td>    5.795</td> <td>    2.387</td> <td> 0.017</td> <td>    2.475</td> <td>   25.195</td>\n",
       "</tr>\n",
       "<tr>\n",
       "  <th>mileage</th>            <td>    0.0005</td> <td>    0.000</td> <td>    3.837</td> <td> 0.000</td> <td>    0.000</td> <td>    0.001</td>\n",
       "</tr>\n",
       "<tr>\n",
       "  <th>mpg</th>                <td>   -1.2446</td> <td>    0.345</td> <td>   -3.610</td> <td> 0.000</td> <td>   -1.921</td> <td>   -0.569</td>\n",
       "</tr>\n",
       "<tr>\n",
       "  <th>year:engineSize</th>    <td>   -0.0067</td> <td>    0.003</td> <td>   -2.324</td> <td> 0.020</td> <td>   -0.012</td> <td>   -0.001</td>\n",
       "</tr>\n",
       "<tr>\n",
       "  <th>year:mileage</th>       <td> -2.67e-07</td> <td>  6.8e-08</td> <td>   -3.923</td> <td> 0.000</td> <td>   -4e-07</td> <td>-1.34e-07</td>\n",
       "</tr>\n",
       "<tr>\n",
       "  <th>year:mpg</th>           <td>    0.0006</td> <td>    0.000</td> <td>    3.591</td> <td> 0.000</td> <td>    0.000</td> <td>    0.001</td>\n",
       "</tr>\n",
       "<tr>\n",
       "  <th>engineSize:mileage</th> <td>-2.668e-07</td> <td> 4.08e-07</td> <td>   -0.654</td> <td> 0.513</td> <td>-1.07e-06</td> <td> 5.33e-07</td>\n",
       "</tr>\n",
       "<tr>\n",
       "  <th>engineSize:mpg</th>     <td>    0.0028</td> <td>    0.000</td> <td>    6.842</td> <td> 0.000</td> <td>    0.002</td> <td>    0.004</td>\n",
       "</tr>\n",
       "<tr>\n",
       "  <th>mileage:mpg</th>        <td> 7.235e-08</td> <td> 1.79e-08</td> <td>    4.036</td> <td> 0.000</td> <td> 3.72e-08</td> <td> 1.08e-07</td>\n",
       "</tr>\n",
       "<tr>\n",
       "  <th>I(mileage ** 2)</th>    <td> 1.828e-11</td> <td> 5.64e-12</td> <td>    3.240</td> <td> 0.001</td> <td> 7.22e-12</td> <td> 2.93e-11</td>\n",
       "</tr>\n",
       "</table>\n",
       "<table class=\"simpletable\">\n",
       "<tr>\n",
       "  <th>Omnibus:</th>       <td>711.514</td> <th>  Durbin-Watson:     </th> <td>   0.498</td>\n",
       "</tr>\n",
       "<tr>\n",
       "  <th>Prob(Omnibus):</th> <td> 0.000</td>  <th>  Jarque-Bera (JB):  </th> <td>2545.807</td>\n",
       "</tr>\n",
       "<tr>\n",
       "  <th>Skew:</th>          <td> 0.699</td>  <th>  Prob(JB):          </th> <td>    0.00</td>\n",
       "</tr>\n",
       "<tr>\n",
       "  <th>Kurtosis:</th>      <td> 6.220</td>  <th>  Cond. No.          </th> <td>1.73e+13</td>\n",
       "</tr>\n",
       "</table><br/><br/>Notes:<br/>[1] Standard Errors assume that the covariance matrix of the errors is correctly specified.<br/>[2] The condition number is large, 1.73e+13. This might indicate that there are<br/>strong multicollinearity or other numerical problems."
      ],
      "text/latex": [
       "\\begin{center}\n",
       "\\begin{tabular}{lclc}\n",
       "\\toprule\n",
       "\\textbf{Dep. Variable:}     &  np.log(price)   & \\textbf{  R-squared:         } &     0.803   \\\\\n",
       "\\textbf{Model:}             &       OLS        & \\textbf{  Adj. R-squared:    } &     0.803   \\\\\n",
       "\\textbf{Method:}            &  Least Squares   & \\textbf{  F-statistic:       } &     1834.   \\\\\n",
       "\\textbf{Date:}              & Wed, 28 Feb 2024 & \\textbf{  Prob (F-statistic):} &     0.00    \\\\\n",
       "\\textbf{Time:}              &     13:25:59     & \\textbf{  Log-Likelihood:    } &   -1173.8   \\\\\n",
       "\\textbf{No. Observations:}  &        4960      & \\textbf{  AIC:               } &     2372.   \\\\\n",
       "\\textbf{Df Residuals:}      &        4948      & \\textbf{  BIC:               } &     2450.   \\\\\n",
       "\\textbf{Df Model:}          &          11      & \\textbf{                     } &             \\\\\n",
       "\\textbf{Covariance Type:}   &    nonrobust     & \\textbf{                     } &             \\\\\n",
       "\\bottomrule\n",
       "\\end{tabular}\n",
       "\\begin{tabular}{lcccccc}\n",
       "                            & \\textbf{coef} & \\textbf{std err} & \\textbf{t} & \\textbf{P$> |$t$|$} & \\textbf{[0.025} & \\textbf{0.975]}  \\\\\n",
       "\\midrule\n",
       "\\textbf{Intercept}          &    -238.2125  &       25.790     &    -9.237  &         0.000        &     -288.773    &     -187.652     \\\\\n",
       "\\textbf{year}               &       0.1227  &        0.013     &     9.608  &         0.000        &        0.098    &        0.148     \\\\\n",
       "\\textbf{engineSize}         &      13.8349  &        5.795     &     2.387  &         0.017        &        2.475    &       25.195     \\\\\n",
       "\\textbf{mileage}            &       0.0005  &        0.000     &     3.837  &         0.000        &        0.000    &        0.001     \\\\\n",
       "\\textbf{mpg}                &      -1.2446  &        0.345     &    -3.610  &         0.000        &       -1.921    &       -0.569     \\\\\n",
       "\\textbf{year:engineSize}    &      -0.0067  &        0.003     &    -2.324  &         0.020        &       -0.012    &       -0.001     \\\\\n",
       "\\textbf{year:mileage}       &    -2.67e-07  &      6.8e-08     &    -3.923  &         0.000        &       -4e-07    &    -1.34e-07     \\\\\n",
       "\\textbf{year:mpg}           &       0.0006  &        0.000     &     3.591  &         0.000        &        0.000    &        0.001     \\\\\n",
       "\\textbf{engineSize:mileage} &   -2.668e-07  &     4.08e-07     &    -0.654  &         0.513        &    -1.07e-06    &     5.33e-07     \\\\\n",
       "\\textbf{engineSize:mpg}     &       0.0028  &        0.000     &     6.842  &         0.000        &        0.002    &        0.004     \\\\\n",
       "\\textbf{mileage:mpg}        &    7.235e-08  &     1.79e-08     &     4.036  &         0.000        &     3.72e-08    &     1.08e-07     \\\\\n",
       "\\textbf{I(mileage ** 2)}    &    1.828e-11  &     5.64e-12     &     3.240  &         0.001        &     7.22e-12    &     2.93e-11     \\\\\n",
       "\\bottomrule\n",
       "\\end{tabular}\n",
       "\\begin{tabular}{lclc}\n",
       "\\textbf{Omnibus:}       & 711.514 & \\textbf{  Durbin-Watson:     } &    0.498  \\\\\n",
       "\\textbf{Prob(Omnibus):} &   0.000 & \\textbf{  Jarque-Bera (JB):  } & 2545.807  \\\\\n",
       "\\textbf{Skew:}          &   0.699 & \\textbf{  Prob(JB):          } &     0.00  \\\\\n",
       "\\textbf{Kurtosis:}      &   6.220 & \\textbf{  Cond. No.          } & 1.73e+13  \\\\\n",
       "\\bottomrule\n",
       "\\end{tabular}\n",
       "%\\caption{OLS Regression Results}\n",
       "\\end{center}\n",
       "\n",
       "Notes: \\newline\n",
       " [1] Standard Errors assume that the covariance matrix of the errors is correctly specified. \\newline\n",
       " [2] The condition number is large, 1.73e+13. This might indicate that there are \\newline\n",
       " strong multicollinearity or other numerical problems."
      ],
      "text/plain": [
       "<class 'statsmodels.iolib.summary.Summary'>\n",
       "\"\"\"\n",
       "                            OLS Regression Results                            \n",
       "==============================================================================\n",
       "Dep. Variable:          np.log(price)   R-squared:                       0.803\n",
       "Model:                            OLS   Adj. R-squared:                  0.803\n",
       "Method:                 Least Squares   F-statistic:                     1834.\n",
       "Date:                Wed, 28 Feb 2024   Prob (F-statistic):               0.00\n",
       "Time:                        13:25:59   Log-Likelihood:                -1173.8\n",
       "No. Observations:                4960   AIC:                             2372.\n",
       "Df Residuals:                    4948   BIC:                             2450.\n",
       "Df Model:                          11                                         \n",
       "Covariance Type:            nonrobust                                         \n",
       "======================================================================================\n",
       "                         coef    std err          t      P>|t|      [0.025      0.975]\n",
       "--------------------------------------------------------------------------------------\n",
       "Intercept           -238.2125     25.790     -9.237      0.000    -288.773    -187.652\n",
       "year                   0.1227      0.013      9.608      0.000       0.098       0.148\n",
       "engineSize            13.8349      5.795      2.387      0.017       2.475      25.195\n",
       "mileage                0.0005      0.000      3.837      0.000       0.000       0.001\n",
       "mpg                   -1.2446      0.345     -3.610      0.000      -1.921      -0.569\n",
       "year:engineSize       -0.0067      0.003     -2.324      0.020      -0.012      -0.001\n",
       "year:mileage        -2.67e-07    6.8e-08     -3.923      0.000      -4e-07   -1.34e-07\n",
       "year:mpg               0.0006      0.000      3.591      0.000       0.000       0.001\n",
       "engineSize:mileage -2.668e-07   4.08e-07     -0.654      0.513   -1.07e-06    5.33e-07\n",
       "engineSize:mpg         0.0028      0.000      6.842      0.000       0.002       0.004\n",
       "mileage:mpg         7.235e-08   1.79e-08      4.036      0.000    3.72e-08    1.08e-07\n",
       "I(mileage ** 2)     1.828e-11   5.64e-12      3.240      0.001    7.22e-12    2.93e-11\n",
       "==============================================================================\n",
       "Omnibus:                      711.514   Durbin-Watson:                   0.498\n",
       "Prob(Omnibus):                  0.000   Jarque-Bera (JB):             2545.807\n",
       "Skew:                           0.699   Prob(JB):                         0.00\n",
       "Kurtosis:                       6.220   Cond. No.                     1.73e+13\n",
       "==============================================================================\n",
       "\n",
       "Notes:\n",
       "[1] Standard Errors assume that the covariance matrix of the errors is correctly specified.\n",
       "[2] The condition number is large, 1.73e+13. This might indicate that there are\n",
       "strong multicollinearity or other numerical problems.\n",
       "\"\"\""
      ]
     },
     "execution_count": 82,
     "metadata": {},
     "output_type": "execute_result"
    }
   ],
   "source": [
    "#Model with an interaction term and a variable transformation term\n",
    "ols_object = smf.ols(formula = 'np.log(price)~(year+engineSize+mileage+mpg)**2+I(mileage**2)', data = train)\n",
    "model_log = ols_object.fit()\n",
    "model_log.summary()"
   ]
  },
  {
   "cell_type": "code",
   "execution_count": 83,
   "id": "379017a7",
   "metadata": {},
   "outputs": [],
   "source": [
    "#Computing the leverage statistic for each observation\n",
    "influence = model_log.get_influence()\n",
    "leverage = influence.hat_matrix_diag"
   ]
  },
  {
   "cell_type": "code",
   "execution_count": 70,
   "id": "8c9d7a92",
   "metadata": {},
   "outputs": [
    {
     "data": {
      "image/png": "[encoded data removed]",
      "text/plain": [
       "<Figure size 1080x576 with 1 Axes>"
      ]
     },
     "metadata": {},
     "output_type": "display_data"
    }
   ],
   "source": [
    "#Visualizng leverage against studentized residuals\n",
    "sns.set(rc={'figure.figsize':(15,8)})\n",
    "sm.graphics.influence_plot(model_log);"
   ]
  },
  {
   "cell_type": "markdown",
   "id": "346ec061",
   "metadata": {},
   "source": [
    "Let us identify the high leverage points in the data, as they may be affecting the regression line if they are outliers as well, i.e., if they are influential points. Note that there is no defined threshold for a point to be classified as a high leverage point. Some statisticians consider points having twice the average leverage as high leverage points, some consider points having thrice the average leverage as high leverage points, and so on."
   ]
  },
  {
   "cell_type": "code",
   "execution_count": 84,
   "id": "255d189c",
   "metadata": {},
   "outputs": [],
   "source": [
    "out = model_log.outlier_test()"
   ]
  },
  {
   "cell_type": "code",
   "execution_count": 128,
   "id": "19265368",
   "metadata": {},
   "outputs": [
    {
     "data": {
      "text/plain": [
       "0.002425222312045271"
      ]
     },
     "execution_count": 128,
     "metadata": {},
     "output_type": "execute_result"
    }
   ],
   "source": [
    "#Average leverage of points\n",
    "average_leverage = (model_log.df_model+1)/model_log.nobs\n",
    "average_leverage"
   ]
  },
  {
   "cell_type": "markdown",
   "id": "c2222d2d",
   "metadata": {},
   "source": [
    "Let us consider points having four times the average leverage as high leverage points."
   ]
  },
  {
   "cell_type": "code",
   "execution_count": 148,
   "id": "3127d045",
   "metadata": {},
   "outputs": [],
   "source": [
    "#We will remove all observations that have leverage higher than the threshold value.\n",
    "high_leverage_threshold = 4*average_leverage"
   ]
  },
  {
   "cell_type": "code",
   "execution_count": 149,
   "id": "68080b90",
   "metadata": {},
   "outputs": [
    {
     "data": {
      "text/plain": [
       "196"
      ]
     },
     "execution_count": 149,
     "metadata": {},
     "output_type": "execute_result"
    }
   ],
   "source": [
    "#Number of high leverage points in the dataset\n",
    "np.sum(leverage>high_leverage_threshold)"
   ]
  },
  {
   "cell_type": "markdown",
   "id": "49cdd388",
   "metadata": {},
   "source": [
    "## Influential points"
   ]
  },
  {
   "cell_type": "markdown",
   "id": "4873fd7a",
   "metadata": {},
   "source": [
    "Observations that are both high leverage points and outliers are influential points that may affect the regression line. Let's remove these influential points from the data and see if it improves the model prediction accuracy on test data."
   ]
  },
  {
   "cell_type": "code",
   "execution_count": 155,
   "id": "d5e4ea49",
   "metadata": {},
   "outputs": [],
   "source": [
    "#Dropping influential points from data\n",
    "train_filtered = train.drop(np.intersect1d(np.where(np.abs(out.student_resid) > 4)[0],\n",
    "                                           (np.where(leverage>high_leverage_threshold)[0])))"
   ]
  },
  {
   "cell_type": "markdown",
   "id": "27535882",
   "metadata": {},
   "source": [
    "Note that as the Bonferroni's critical value is very conservative estimate, we have rounded off the critical value to 4, instead of 4.42."
   ]
  },
  {
   "cell_type": "code",
   "execution_count": 156,
   "id": "a486b4f6",
   "metadata": {},
   "outputs": [
    {
     "data": {
      "text/plain": [
       "(4935, 11)"
      ]
     },
     "execution_count": 156,
     "metadata": {},
     "output_type": "execute_result"
    }
   ],
   "source": [
    "train_filtered.shape"
   ]
  },
  {
   "cell_type": "code",
   "execution_count": 157,
   "id": "a58fbd34",
   "metadata": {},
   "outputs": [
    {
     "data": {
      "text/plain": [
       "25"
      ]
     },
     "execution_count": 157,
     "metadata": {},
     "output_type": "execute_result"
    }
   ],
   "source": [
    "#Number of points removed as they were influential\n",
    "train.shape[0]-train_filtered.shape[0]"
   ]
  },
  {
   "cell_type": "markdown",
   "id": "c533ee5a",
   "metadata": {},
   "source": [
    "We removed 25 influential data points from the training data."
   ]
  },
  {
   "cell_type": "code",
   "execution_count": 159,
   "id": "99df9b10",
   "metadata": {},
   "outputs": [
    {
     "data": {
      "text/html": [
       "<table class=\"simpletable\">\n",
       "<caption>OLS Regression Results</caption>\n",
       "<tr>\n",
       "  <th>Dep. Variable:</th>      <td>np.log(price)</td>  <th>  R-squared:         </th> <td>   0.826</td>\n",
       "</tr>\n",
       "<tr>\n",
       "  <th>Model:</th>                   <td>OLS</td>       <th>  Adj. R-squared:    </th> <td>   0.826</td>\n",
       "</tr>\n",
       "<tr>\n",
       "  <th>Method:</th>             <td>Least Squares</td>  <th>  F-statistic:       </th> <td>   2130.</td>\n",
       "</tr>\n",
       "<tr>\n",
       "  <th>Date:</th>             <td>Wed, 28 Feb 2024</td> <th>  Prob (F-statistic):</th>  <td>  0.00</td> \n",
       "</tr>\n",
       "<tr>\n",
       "  <th>Time:</th>                 <td>13:32:30</td>     <th>  Log-Likelihood:    </th> <td> -854.09</td>\n",
       "</tr>\n",
       "<tr>\n",
       "  <th>No. Observations:</th>      <td>  4935</td>      <th>  AIC:               </th> <td>   1732.</td>\n",
       "</tr>\n",
       "<tr>\n",
       "  <th>Df Residuals:</th>          <td>  4923</td>      <th>  BIC:               </th> <td>   1810.</td>\n",
       "</tr>\n",
       "<tr>\n",
       "  <th>Df Model:</th>              <td>    11</td>      <th>                     </th>     <td> </td>   \n",
       "</tr>\n",
       "<tr>\n",
       "  <th>Covariance Type:</th>      <td>nonrobust</td>    <th>                     </th>     <td> </td>   \n",
       "</tr>\n",
       "</table>\n",
       "<table class=\"simpletable\">\n",
       "<tr>\n",
       "           <td></td>             <th>coef</th>     <th>std err</th>      <th>t</th>      <th>P>|t|</th>  <th>[0.025</th>    <th>0.975]</th>  \n",
       "</tr>\n",
       "<tr>\n",
       "  <th>Intercept</th>          <td> -247.1820</td> <td>   24.579</td> <td>  -10.057</td> <td> 0.000</td> <td> -295.367</td> <td> -198.997</td>\n",
       "</tr>\n",
       "<tr>\n",
       "  <th>year</th>               <td>    0.1273</td> <td>    0.012</td> <td>   10.460</td> <td> 0.000</td> <td>    0.103</td> <td>    0.151</td>\n",
       "</tr>\n",
       "<tr>\n",
       "  <th>engineSize</th>         <td>   18.3749</td> <td>    5.492</td> <td>    3.346</td> <td> 0.001</td> <td>    7.609</td> <td>   29.141</td>\n",
       "</tr>\n",
       "<tr>\n",
       "  <th>mileage</th>            <td>    0.0006</td> <td>    0.000</td> <td>    4.515</td> <td> 0.000</td> <td>    0.000</td> <td>    0.001</td>\n",
       "</tr>\n",
       "<tr>\n",
       "  <th>mpg</th>                <td>   -1.2885</td> <td>    0.327</td> <td>   -3.940</td> <td> 0.000</td> <td>   -1.930</td> <td>   -0.647</td>\n",
       "</tr>\n",
       "<tr>\n",
       "  <th>year:engineSize</th>    <td>   -0.0090</td> <td>    0.003</td> <td>   -3.309</td> <td> 0.001</td> <td>   -0.014</td> <td>   -0.004</td>\n",
       "</tr>\n",
       "<tr>\n",
       "  <th>year:mileage</th>       <td>-3.005e-07</td> <td> 6.52e-08</td> <td>   -4.611</td> <td> 0.000</td> <td>-4.28e-07</td> <td>-1.73e-07</td>\n",
       "</tr>\n",
       "<tr>\n",
       "  <th>year:mpg</th>           <td>    0.0006</td> <td>    0.000</td> <td>    3.890</td> <td> 0.000</td> <td>    0.000</td> <td>    0.001</td>\n",
       "</tr>\n",
       "<tr>\n",
       "  <th>engineSize:mileage</th> <td>-4.002e-07</td> <td> 3.88e-07</td> <td>   -1.032</td> <td> 0.302</td> <td>-1.16e-06</td> <td>  3.6e-07</td>\n",
       "</tr>\n",
       "<tr>\n",
       "  <th>engineSize:mpg</th>     <td>    0.0075</td> <td>    0.000</td> <td>   17.430</td> <td> 0.000</td> <td>    0.007</td> <td>    0.008</td>\n",
       "</tr>\n",
       "<tr>\n",
       "  <th>mileage:mpg</th>        <td> 8.383e-08</td> <td> 1.69e-08</td> <td>    4.948</td> <td> 0.000</td> <td> 5.06e-08</td> <td> 1.17e-07</td>\n",
       "</tr>\n",
       "<tr>\n",
       "  <th>I(mileage ** 2)</th>    <td> 1.742e-11</td> <td> 5.35e-12</td> <td>    3.258</td> <td> 0.001</td> <td> 6.94e-12</td> <td> 2.79e-11</td>\n",
       "</tr>\n",
       "</table>\n",
       "<table class=\"simpletable\">\n",
       "<tr>\n",
       "  <th>Omnibus:</th>       <td>626.395</td> <th>  Durbin-Watson:     </th> <td>   0.550</td>\n",
       "</tr>\n",
       "<tr>\n",
       "  <th>Prob(Omnibus):</th> <td> 0.000</td>  <th>  Jarque-Bera (JB):  </th> <td>1852.816</td>\n",
       "</tr>\n",
       "<tr>\n",
       "  <th>Skew:</th>          <td> 0.672</td>  <th>  Prob(JB):          </th> <td>    0.00</td>\n",
       "</tr>\n",
       "<tr>\n",
       "  <th>Kurtosis:</th>      <td> 5.684</td>  <th>  Cond. No.          </th> <td>1.74e+13</td>\n",
       "</tr>\n",
       "</table><br/><br/>Notes:<br/>[1] Standard Errors assume that the covariance matrix of the errors is correctly specified.<br/>[2] The condition number is large, 1.74e+13. This might indicate that there are<br/>strong multicollinearity or other numerical problems."
      ],
      "text/latex": [
       "\\begin{center}\n",
       "\\begin{tabular}{lclc}\n",
       "\\toprule\n",
       "\\textbf{Dep. Variable:}     &  np.log(price)   & \\textbf{  R-squared:         } &     0.826   \\\\\n",
       "\\textbf{Model:}             &       OLS        & \\textbf{  Adj. R-squared:    } &     0.826   \\\\\n",
       "\\textbf{Method:}            &  Least Squares   & \\textbf{  F-statistic:       } &     2130.   \\\\\n",
       "\\textbf{Date:}              & Wed, 28 Feb 2024 & \\textbf{  Prob (F-statistic):} &     0.00    \\\\\n",
       "\\textbf{Time:}              &     13:32:30     & \\textbf{  Log-Likelihood:    } &   -854.09   \\\\\n",
       "\\textbf{No. Observations:}  &        4935      & \\textbf{  AIC:               } &     1732.   \\\\\n",
       "\\textbf{Df Residuals:}      &        4923      & \\textbf{  BIC:               } &     1810.   \\\\\n",
       "\\textbf{Df Model:}          &          11      & \\textbf{                     } &             \\\\\n",
       "\\textbf{Covariance Type:}   &    nonrobust     & \\textbf{                     } &             \\\\\n",
       "\\bottomrule\n",
       "\\end{tabular}\n",
       "\\begin{tabular}{lcccccc}\n",
       "                            & \\textbf{coef} & \\textbf{std err} & \\textbf{t} & \\textbf{P$> |$t$|$} & \\textbf{[0.025} & \\textbf{0.975]}  \\\\\n",
       "\\midrule\n",
       "\\textbf{Intercept}          &    -247.1820  &       24.579     &   -10.057  &         0.000        &     -295.367    &     -198.997     \\\\\n",
       "\\textbf{year}               &       0.1273  &        0.012     &    10.460  &         0.000        &        0.103    &        0.151     \\\\\n",
       "\\textbf{engineSize}         &      18.3749  &        5.492     &     3.346  &         0.001        &        7.609    &       29.141     \\\\\n",
       "\\textbf{mileage}            &       0.0006  &        0.000     &     4.515  &         0.000        &        0.000    &        0.001     \\\\\n",
       "\\textbf{mpg}                &      -1.2885  &        0.327     &    -3.940  &         0.000        &       -1.930    &       -0.647     \\\\\n",
       "\\textbf{year:engineSize}    &      -0.0090  &        0.003     &    -3.309  &         0.001        &       -0.014    &       -0.004     \\\\\n",
       "\\textbf{year:mileage}       &   -3.005e-07  &     6.52e-08     &    -4.611  &         0.000        &    -4.28e-07    &    -1.73e-07     \\\\\n",
       "\\textbf{year:mpg}           &       0.0006  &        0.000     &     3.890  &         0.000        &        0.000    &        0.001     \\\\\n",
       "\\textbf{engineSize:mileage} &   -4.002e-07  &     3.88e-07     &    -1.032  &         0.302        &    -1.16e-06    &      3.6e-07     \\\\\n",
       "\\textbf{engineSize:mpg}     &       0.0075  &        0.000     &    17.430  &         0.000        &        0.007    &        0.008     \\\\\n",
       "\\textbf{mileage:mpg}        &    8.383e-08  &     1.69e-08     &     4.948  &         0.000        &     5.06e-08    &     1.17e-07     \\\\\n",
       "\\textbf{I(mileage ** 2)}    &    1.742e-11  &     5.35e-12     &     3.258  &         0.001        &     6.94e-12    &     2.79e-11     \\\\\n",
       "\\bottomrule\n",
       "\\end{tabular}\n",
       "\\begin{tabular}{lclc}\n",
       "\\textbf{Omnibus:}       & 626.395 & \\textbf{  Durbin-Watson:     } &    0.550  \\\\\n",
       "\\textbf{Prob(Omnibus):} &   0.000 & \\textbf{  Jarque-Bera (JB):  } & 1852.816  \\\\\n",
       "\\textbf{Skew:}          &   0.672 & \\textbf{  Prob(JB):          } &     0.00  \\\\\n",
       "\\textbf{Kurtosis:}      &   5.684 & \\textbf{  Cond. No.          } & 1.74e+13  \\\\\n",
       "\\bottomrule\n",
       "\\end{tabular}\n",
       "%\\caption{OLS Regression Results}\n",
       "\\end{center}\n",
       "\n",
       "Notes: \\newline\n",
       " [1] Standard Errors assume that the covariance matrix of the errors is correctly specified. \\newline\n",
       " [2] The condition number is large, 1.74e+13. This might indicate that there are \\newline\n",
       " strong multicollinearity or other numerical problems."
      ],
      "text/plain": [
       "<class 'statsmodels.iolib.summary.Summary'>\n",
       "\"\"\"\n",
       "                            OLS Regression Results                            \n",
       "==============================================================================\n",
       "Dep. Variable:          np.log(price)   R-squared:                       0.826\n",
       "Model:                            OLS   Adj. R-squared:                  0.826\n",
       "Method:                 Least Squares   F-statistic:                     2130.\n",
       "Date:                Wed, 28 Feb 2024   Prob (F-statistic):               0.00\n",
       "Time:                        13:32:30   Log-Likelihood:                -854.09\n",
       "No. Observations:                4935   AIC:                             1732.\n",
       "Df Residuals:                    4923   BIC:                             1810.\n",
       "Df Model:                          11                                         \n",
       "Covariance Type:            nonrobust                                         \n",
       "======================================================================================\n",
       "                         coef    std err          t      P>|t|      [0.025      0.975]\n",
       "--------------------------------------------------------------------------------------\n",
       "Intercept           -247.1820     24.579    -10.057      0.000    -295.367    -198.997\n",
       "year                   0.1273      0.012     10.460      0.000       0.103       0.151\n",
       "engineSize            18.3749      5.492      3.346      0.001       7.609      29.141\n",
       "mileage                0.0006      0.000      4.515      0.000       0.000       0.001\n",
       "mpg                   -1.2885      0.327     -3.940      0.000      -1.930      -0.647\n",
       "year:engineSize       -0.0090      0.003     -3.309      0.001      -0.014      -0.004\n",
       "year:mileage       -3.005e-07   6.52e-08     -4.611      0.000   -4.28e-07   -1.73e-07\n",
       "year:mpg               0.0006      0.000      3.890      0.000       0.000       0.001\n",
       "engineSize:mileage -4.002e-07   3.88e-07     -1.032      0.302   -1.16e-06     3.6e-07\n",
       "engineSize:mpg         0.0075      0.000     17.430      0.000       0.007       0.008\n",
       "mileage:mpg         8.383e-08   1.69e-08      4.948      0.000    5.06e-08    1.17e-07\n",
       "I(mileage ** 2)     1.742e-11   5.35e-12      3.258      0.001    6.94e-12    2.79e-11\n",
       "==============================================================================\n",
       "Omnibus:                      626.395   Durbin-Watson:                   0.550\n",
       "Prob(Omnibus):                  0.000   Jarque-Bera (JB):             1852.816\n",
       "Skew:                           0.672   Prob(JB):                         0.00\n",
       "Kurtosis:                       5.684   Cond. No.                     1.74e+13\n",
       "==============================================================================\n",
       "\n",
       "Notes:\n",
       "[1] Standard Errors assume that the covariance matrix of the errors is correctly specified.\n",
       "[2] The condition number is large, 1.74e+13. This might indicate that there are\n",
       "strong multicollinearity or other numerical problems.\n",
       "\"\"\""
      ]
     },
     "execution_count": 159,
     "metadata": {},
     "output_type": "execute_result"
    }
   ],
   "source": [
    "#Model after removing the influential observations\n",
    "ols_object = smf.ols(formula = 'np.log(price)~(year+engineSize+mileage+mpg)**2+I(mileage**2)', data = train_filtered)\n",
    "model_log = ols_object.fit()\n",
    "model_log.summary()"
   ]
  },
  {
   "cell_type": "markdown",
   "id": "a77c2be8",
   "metadata": {},
   "source": [
    "Note that we obtain a higher R-sqauared value of 83% as compared to 80% with the complete data. Removing the influential points helped obtain a better model fit. However, that may also happen just by reducing observations."
   ]
  },
  {
   "cell_type": "code",
   "execution_count": 160,
   "id": "1191d611",
   "metadata": {},
   "outputs": [
    {
     "data": {
      "text/plain": [
       "8813.186842472378"
      ]
     },
     "execution_count": 160,
     "metadata": {},
     "output_type": "execute_result"
    }
   ],
   "source": [
    "#Computing RMSE on test data\n",
    "pred_price_log = model_log.predict(testf)\n",
    "np.sqrt(((testp.price - np.exp(pred_price_log))**2).mean())"
   ]
  },
  {
   "cell_type": "markdown",
   "id": "22dca6aa",
   "metadata": {},
   "source": [
    "The RMSE on test data has also reduced. This shows that some of the influential points were impacting the regression line. With those points removed, the model better captures the general trend in the data."
   ]
  },
  {
   "cell_type": "markdown",
   "id": "953936bf",
   "metadata": {},
   "source": [
    "## Collinearity"
   ]
  },
  {
   "cell_type": "markdown",
   "id": "0c905157",
   "metadata": {},
   "source": [
    "Collinearity refers to the situation when two or more predictor variables have a high linear association. Linear association between a pair of variables can be measured by the correlation coefficient. Thus the correlation matrix can indicate some potential collinearity problems. "
   ]
  },
  {
   "cell_type": "markdown",
   "id": "04e7bdca",
   "metadata": {},
   "source": [
    "### Why and how is collinearity a problem \n",
    "*(Source:  page 100-101 of book)* \n",
    "\n",
    "The presence of collinearity can pose problems in the regression context, since it can be difficult to separate out the individual effects of collinear variables on the response. \n",
    "\n",
    "Since collinearity reduces the accuracy of the estimates of the regression coefficients, it causes the standard error for $\\hat \\beta_j$ to grow. Recall that the t-statistic for each predictor is calculated by dividing $\\hat \\beta_j$ by its standard error. Consequently, collinearity results in a decline in the $t$-statistic. As a result, **in the presence of collinearity, we may fail to reject $H_0: \\beta_j = 0$. This means that the power of the hypothesis test—the probability of correctly detecting a non-zero coefficient—is reduced by collinearity.**\n",
    "\n",
    "### How to measure collinearity/multicollinearity\n",
    "*(Source: page 102 of book)* \n",
    "\n",
    "Unfortunately, not all collinearity problems can be detected by inspection of the correlation matrix: it is possible for collinearity to exist between three or more variables even if no pair of variables has a particularly high correlation. We call this situation multicollinearity. Instead of inspecting the correlation matrix, a better way to assess multicollinearity is to compute the variance inflation factor (VIF). The VIF is variance inflation factor the ratio of the variance of $\\hat \\beta_j$ when fitting the full model divided by the variance of $\\hat \\beta_j$ if fit on its own. The smallest possible value for VIF is 1, which indicates the complete absence of collinearity. Typically in practice there is a small amount of collinearity among the predictors. As a rule of thumb, a **VIF value that exceeds 5 or 10 indicates a problematic amount of collinearity.**\n",
    "\n",
    "The estimated variance of the coefficient $\\beta_j$, of the $j^{th}$ predictor $X_j$, can be expressed as:\n",
    "\n",
    "$$\\hat{var}(\\hat{\\beta_j}) = \\frac{(\\hat{\\sigma})^2}{(n-1)\\hat{var}({X_j})}.\\frac{1}{1-R^2_{X_j|X_{-j}}},$$\n",
    "\n",
    "where $R^2_{X_j|X_{-j}}$ is the $R$-squared for the regression of $X_j$ on the other covariates (a regression that does not involve the response variable $Y$).\n",
    "\n",
    "In case of simple linear regression, the variance expression in the equation above does not contain the term $\\frac{1}{1-R^2_{X_j|X_{-j}}}$, as there is only one predictor. However, in case of multiple linear regression, the variance of the estimate of the $j^{th}$ coefficient ($\\hat{\\beta_j}$) gets inflated by a factor of $\\frac{1}{1-R^2_{X_j|X_{-j}}}$ *(Note that in the complete absence of collinearity, $R^2_{X_j|X_{-j}}=0$, and the value of this factor will be 1).*\n",
    "\n",
    "Thus, the Variance inflation factor, or the VIF for the estimated coefficient of the $j^{th}$ predictor $X_j$ is:\n",
    "\n",
    "\\begin{equation}\n",
    "VIF(\\hat \\beta_j) = \\frac{1}{1-R^2_{X_j|X_{-j}}}\n",
    "\\end{equation}"
   ]
  },
  {
   "cell_type": "code",
   "execution_count": 4,
   "id": "a452d7f2",
   "metadata": {},
   "outputs": [
    {
     "data": {
      "text/html": [
       "<div>\n",
       "<style scoped>\n",
       "    .dataframe tbody tr th:only-of-type {\n",
       "        vertical-align: middle;\n",
       "    }\n",
       "\n",
       "    .dataframe tbody tr th {\n",
       "        vertical-align: top;\n",
       "    }\n",
       "\n",
       "    .dataframe thead th {\n",
       "        text-align: right;\n",
       "    }\n",
       "</style>\n",
       "<table border=\"1\" class=\"dataframe\">\n",
       "  <thead>\n",
       "    <tr style=\"text-align: right;\">\n",
       "      <th></th>\n",
       "      <th>carID</th>\n",
       "      <th>year</th>\n",
       "      <th>mileage</th>\n",
       "      <th>tax</th>\n",
       "      <th>mpg</th>\n",
       "      <th>engineSize</th>\n",
       "      <th>price</th>\n",
       "    </tr>\n",
       "  </thead>\n",
       "  <tbody>\n",
       "    <tr>\n",
       "      <th>carID</th>\n",
       "      <td>1.000000</td>\n",
       "      <td>0.006251</td>\n",
       "      <td>-0.001320</td>\n",
       "      <td>0.023806</td>\n",
       "      <td>-0.010774</td>\n",
       "      <td>0.011365</td>\n",
       "      <td>0.012129</td>\n",
       "    </tr>\n",
       "    <tr>\n",
       "      <th>year</th>\n",
       "      <td>0.006251</td>\n",
       "      <td>1.000000</td>\n",
       "      <td>-0.768058</td>\n",
       "      <td>-0.205902</td>\n",
       "      <td>-0.057093</td>\n",
       "      <td>0.014623</td>\n",
       "      <td>0.501296</td>\n",
       "    </tr>\n",
       "    <tr>\n",
       "      <th>mileage</th>\n",
       "      <td>-0.001320</td>\n",
       "      <td>-0.768058</td>\n",
       "      <td>1.000000</td>\n",
       "      <td>0.133744</td>\n",
       "      <td>0.125376</td>\n",
       "      <td>-0.006459</td>\n",
       "      <td>-0.478705</td>\n",
       "    </tr>\n",
       "    <tr>\n",
       "      <th>tax</th>\n",
       "      <td>0.023806</td>\n",
       "      <td>-0.205902</td>\n",
       "      <td>0.133744</td>\n",
       "      <td>1.000000</td>\n",
       "      <td>-0.488002</td>\n",
       "      <td>0.465282</td>\n",
       "      <td>0.144652</td>\n",
       "    </tr>\n",
       "    <tr>\n",
       "      <th>mpg</th>\n",
       "      <td>-0.010774</td>\n",
       "      <td>-0.057093</td>\n",
       "      <td>0.125376</td>\n",
       "      <td>-0.488002</td>\n",
       "      <td>1.000000</td>\n",
       "      <td>-0.419417</td>\n",
       "      <td>-0.369919</td>\n",
       "    </tr>\n",
       "    <tr>\n",
       "      <th>engineSize</th>\n",
       "      <td>0.011365</td>\n",
       "      <td>0.014623</td>\n",
       "      <td>-0.006459</td>\n",
       "      <td>0.465282</td>\n",
       "      <td>-0.419417</td>\n",
       "      <td>1.000000</td>\n",
       "      <td>0.624899</td>\n",
       "    </tr>\n",
       "    <tr>\n",
       "      <th>price</th>\n",
       "      <td>0.012129</td>\n",
       "      <td>0.501296</td>\n",
       "      <td>-0.478705</td>\n",
       "      <td>0.144652</td>\n",
       "      <td>-0.369919</td>\n",
       "      <td>0.624899</td>\n",
       "      <td>1.000000</td>\n",
       "    </tr>\n",
       "  </tbody>\n",
       "</table>\n",
       "</div>"
      ],
      "text/plain": [
       "               carID      year   mileage       tax       mpg  engineSize  \\\n",
       "carID       1.000000  0.006251 -0.001320  0.023806 -0.010774    0.011365   \n",
       "year        0.006251  1.000000 -0.768058 -0.205902 -0.057093    0.014623   \n",
       "mileage    -0.001320 -0.768058  1.000000  0.133744  0.125376   -0.006459   \n",
       "tax         0.023806 -0.205902  0.133744  1.000000 -0.488002    0.465282   \n",
       "mpg        -0.010774 -0.057093  0.125376 -0.488002  1.000000   -0.419417   \n",
       "engineSize  0.011365  0.014623 -0.006459  0.465282 -0.419417    1.000000   \n",
       "price       0.012129  0.501296 -0.478705  0.144652 -0.369919    0.624899   \n",
       "\n",
       "               price  \n",
       "carID       0.012129  \n",
       "year        0.501296  \n",
       "mileage    -0.478705  \n",
       "tax         0.144652  \n",
       "mpg        -0.369919  \n",
       "engineSize  0.624899  \n",
       "price       1.000000  "
      ]
     },
     "execution_count": 4,
     "metadata": {},
     "output_type": "execute_result"
    }
   ],
   "source": [
    "#Correlation matrix\n",
    "train.corr()"
   ]
  },
  {
   "cell_type": "markdown",
   "id": "8c8470a2",
   "metadata": {},
   "source": [
    "Let us compute the Variance Inflation Factor (VIF) for the four predictors."
   ]
  },
  {
   "cell_type": "code",
   "execution_count": 21,
   "id": "58af88e9",
   "metadata": {},
   "outputs": [],
   "source": [
    "X = train[['mpg','year','mileage','engineSize']]"
   ]
  },
  {
   "cell_type": "code",
   "execution_count": 22,
   "id": "2abb6d0a",
   "metadata": {},
   "outputs": [
    {
     "data": {
      "text/plain": [
       "Index(['year', 'mileage', 'engineSize'], dtype='object')"
      ]
     },
     "execution_count": 22,
     "metadata": {},
     "output_type": "execute_result"
    }
   ],
   "source": [
    "X.columns[1:]"
   ]
  },
  {
   "cell_type": "code",
   "execution_count": 23,
   "id": "ac8d3b13",
   "metadata": {},
   "outputs": [
    {
     "name": "stdout",
     "output_type": "stream",
     "text": [
      "      feature           VIF\n",
      "0       const  1.201579e+06\n",
      "1         mpg  1.243040e+00\n",
      "2        year  2.452891e+00\n",
      "3     mileage  2.490210e+00\n",
      "4  engineSize  1.219170e+00\n"
     ]
    }
   ],
   "source": [
    "from statsmodels.stats.outliers_influence import variance_inflation_factor\n",
    "from statsmodels.tools.tools import add_constant\n",
    "X = add_constant(X)\n",
    "vif_data = pd.DataFrame()\n",
    "vif_data[\"feature\"] = X.columns\n",
    "\n",
    "for i in range(len(X.columns)):\n",
    "    vif_data.loc[i,'VIF'] = variance_inflation_factor(X.values, i)\n",
    "\n",
    "print(vif_data)"
   ]
  },
  {
   "cell_type": "markdown",
   "id": "0d5a6833",
   "metadata": {},
   "source": [
    "As all the values of VIF are close to one, we do not have the problem of multicollinearity in the model. Note that the VIF of `year` and `mileage` is relatively high as they are the most correlated."
   ]
  },
  {
   "cell_type": "markdown",
   "id": "75a18dfa",
   "metadata": {},
   "source": [
    "**Q1:** Why is the VIF of the constant so high?\n",
    "\n",
    "**Q2:** Why do we need to include the constant while finding the VIF?"
   ]
  },
  {
   "cell_type": "markdown",
   "id": "1e614135",
   "metadata": {},
   "source": [
    "### Manual computation of VIF"
   ]
  },
  {
   "cell_type": "code",
   "execution_count": 25,
   "id": "b52c77cc",
   "metadata": {},
   "outputs": [
    {
     "data": {
      "text/html": [
       "<table class=\"simpletable\">\n",
       "<caption>OLS Regression Results</caption>\n",
       "<tr>\n",
       "  <th>Dep. Variable:</th>          <td>year</td>       <th>  R-squared:         </th> <td>   0.592</td> \n",
       "</tr>\n",
       "<tr>\n",
       "  <th>Model:</th>                   <td>OLS</td>       <th>  Adj. R-squared:    </th> <td>   0.592</td> \n",
       "</tr>\n",
       "<tr>\n",
       "  <th>Method:</th>             <td>Least Squares</td>  <th>  F-statistic:       </th> <td>   2400.</td> \n",
       "</tr>\n",
       "<tr>\n",
       "  <th>Date:</th>             <td>Mon, 30 Jan 2023</td> <th>  Prob (F-statistic):</th>  <td>  0.00</td>  \n",
       "</tr>\n",
       "<tr>\n",
       "  <th>Time:</th>                 <td>02:49:19</td>     <th>  Log-Likelihood:    </th> <td> -10066.</td> \n",
       "</tr>\n",
       "<tr>\n",
       "  <th>No. Observations:</th>      <td>  4960</td>      <th>  AIC:               </th> <td>2.014e+04</td>\n",
       "</tr>\n",
       "<tr>\n",
       "  <th>Df Residuals:</th>          <td>  4956</td>      <th>  BIC:               </th> <td>2.017e+04</td>\n",
       "</tr>\n",
       "<tr>\n",
       "  <th>Df Model:</th>              <td>     3</td>      <th>                     </th>     <td> </td>    \n",
       "</tr>\n",
       "<tr>\n",
       "  <th>Covariance Type:</th>      <td>nonrobust</td>    <th>                     </th>     <td> </td>    \n",
       "</tr>\n",
       "</table>\n",
       "<table class=\"simpletable\">\n",
       "<tr>\n",
       "       <td></td>         <th>coef</th>     <th>std err</th>      <th>t</th>      <th>P>|t|</th>  <th>[0.025</th>    <th>0.975]</th>  \n",
       "</tr>\n",
       "<tr>\n",
       "  <th>Intercept</th>  <td> 2018.3135</td> <td>    0.140</td> <td> 1.44e+04</td> <td> 0.000</td> <td> 2018.039</td> <td> 2018.588</td>\n",
       "</tr>\n",
       "<tr>\n",
       "  <th>mpg</th>        <td>    0.0095</td> <td>    0.002</td> <td>    5.301</td> <td> 0.000</td> <td>    0.006</td> <td>    0.013</td>\n",
       "</tr>\n",
       "<tr>\n",
       "  <th>engineSize</th> <td>    0.1171</td> <td>    0.037</td> <td>    3.203</td> <td> 0.001</td> <td>    0.045</td> <td>    0.189</td>\n",
       "</tr>\n",
       "<tr>\n",
       "  <th>mileage</th>    <td>-9.139e-05</td> <td> 1.08e-06</td> <td>  -84.615</td> <td> 0.000</td> <td>-9.35e-05</td> <td>-8.93e-05</td>\n",
       "</tr>\n",
       "</table>\n",
       "<table class=\"simpletable\">\n",
       "<tr>\n",
       "  <th>Omnibus:</th>       <td>2949.664</td> <th>  Durbin-Watson:     </th> <td>   1.161</td> \n",
       "</tr>\n",
       "<tr>\n",
       "  <th>Prob(Omnibus):</th>  <td> 0.000</td>  <th>  Jarque-Bera (JB):  </th> <td>63773.271</td>\n",
       "</tr>\n",
       "<tr>\n",
       "  <th>Skew:</th>           <td>-2.426</td>  <th>  Prob(JB):          </th> <td>    0.00</td> \n",
       "</tr>\n",
       "<tr>\n",
       "  <th>Kurtosis:</th>       <td>19.883</td>  <th>  Cond. No.          </th> <td>1.91e+05</td> \n",
       "</tr>\n",
       "</table><br/><br/>Notes:<br/>[1] Standard Errors assume that the covariance matrix of the errors is correctly specified.<br/>[2] The condition number is large, 1.91e+05. This might indicate that there are<br/>strong multicollinearity or other numerical problems."
      ],
      "text/plain": [
       "<class 'statsmodels.iolib.summary.Summary'>\n",
       "\"\"\"\n",
       "                            OLS Regression Results                            \n",
       "==============================================================================\n",
       "Dep. Variable:                   year   R-squared:                       0.592\n",
       "Model:                            OLS   Adj. R-squared:                  0.592\n",
       "Method:                 Least Squares   F-statistic:                     2400.\n",
       "Date:                Mon, 30 Jan 2023   Prob (F-statistic):               0.00\n",
       "Time:                        02:49:19   Log-Likelihood:                -10066.\n",
       "No. Observations:                4960   AIC:                         2.014e+04\n",
       "Df Residuals:                    4956   BIC:                         2.017e+04\n",
       "Df Model:                           3                                         \n",
       "Covariance Type:            nonrobust                                         \n",
       "==============================================================================\n",
       "                 coef    std err          t      P>|t|      [0.025      0.975]\n",
       "------------------------------------------------------------------------------\n",
       "Intercept   2018.3135      0.140   1.44e+04      0.000    2018.039    2018.588\n",
       "mpg            0.0095      0.002      5.301      0.000       0.006       0.013\n",
       "engineSize     0.1171      0.037      3.203      0.001       0.045       0.189\n",
       "mileage    -9.139e-05   1.08e-06    -84.615      0.000   -9.35e-05   -8.93e-05\n",
       "==============================================================================\n",
       "Omnibus:                     2949.664   Durbin-Watson:                   1.161\n",
       "Prob(Omnibus):                  0.000   Jarque-Bera (JB):            63773.271\n",
       "Skew:                          -2.426   Prob(JB):                         0.00\n",
       "Kurtosis:                      19.883   Cond. No.                     1.91e+05\n",
       "==============================================================================\n",
       "\n",
       "Notes:\n",
       "[1] Standard Errors assume that the covariance matrix of the errors is correctly specified.\n",
       "[2] The condition number is large, 1.91e+05. This might indicate that there are\n",
       "strong multicollinearity or other numerical problems.\n",
       "\"\"\""
      ]
     },
     "execution_count": 25,
     "metadata": {},
     "output_type": "execute_result"
    }
   ],
   "source": [
    "#Manually computing the VIF for year\n",
    "ols_object = smf.ols(formula = 'year~mpg+engineSize+mileage', data = train)\n",
    "model_log = ols_object.fit()\n",
    "model_log.summary()"
   ]
  },
  {
   "cell_type": "code",
   "execution_count": 470,
   "id": "138d152e",
   "metadata": {},
   "outputs": [
    {
     "data": {
      "text/plain": [
       "2.4509803921568625"
      ]
     },
     "execution_count": 470,
     "metadata": {},
     "output_type": "execute_result"
    }
   ],
   "source": [
    "#VIF for year\n",
    "1/(1-0.592)"
   ]
  },
  {
   "cell_type": "markdown",
   "id": "2f1fbc7d",
   "metadata": {},
   "source": [
    "Note that year and mileage have a high linear correlation. Removing one of them should decrease the standard error of the coefficient of the other, without significanty decrease R-squared."
   ]
  },
  {
   "cell_type": "code",
   "execution_count": 5,
   "id": "f2f72227",
   "metadata": {},
   "outputs": [
    {
     "data": {
      "text/html": [
       "<table class=\"simpletable\">\n",
       "<caption>OLS Regression Results</caption>\n",
       "<tr>\n",
       "  <th>Dep. Variable:</th>          <td>price</td>      <th>  R-squared:         </th> <td>   0.660</td> \n",
       "</tr>\n",
       "<tr>\n",
       "  <th>Model:</th>                   <td>OLS</td>       <th>  Adj. R-squared:    </th> <td>   0.660</td> \n",
       "</tr>\n",
       "<tr>\n",
       "  <th>Method:</th>             <td>Least Squares</td>  <th>  F-statistic:       </th> <td>   2410.</td> \n",
       "</tr>\n",
       "<tr>\n",
       "  <th>Date:</th>             <td>Tue, 07 Feb 2023</td> <th>  Prob (F-statistic):</th>  <td>  0.00</td>  \n",
       "</tr>\n",
       "<tr>\n",
       "  <th>Time:</th>                 <td>21:39:45</td>     <th>  Log-Likelihood:    </th> <td> -52497.</td> \n",
       "</tr>\n",
       "<tr>\n",
       "  <th>No. Observations:</th>      <td>  4960</td>      <th>  AIC:               </th> <td>1.050e+05</td>\n",
       "</tr>\n",
       "<tr>\n",
       "  <th>Df Residuals:</th>          <td>  4955</td>      <th>  BIC:               </th> <td>1.050e+05</td>\n",
       "</tr>\n",
       "<tr>\n",
       "  <th>Df Model:</th>              <td>     4</td>      <th>                     </th>     <td> </td>    \n",
       "</tr>\n",
       "<tr>\n",
       "  <th>Covariance Type:</th>      <td>nonrobust</td>    <th>                     </th>     <td> </td>    \n",
       "</tr>\n",
       "</table>\n",
       "<table class=\"simpletable\">\n",
       "<tr>\n",
       "       <td></td>         <th>coef</th>     <th>std err</th>      <th>t</th>      <th>P>|t|</th>  <th>[0.025</th>    <th>0.975]</th>  \n",
       "</tr>\n",
       "<tr>\n",
       "  <th>Intercept</th>  <td>-3.661e+06</td> <td> 1.49e+05</td> <td>  -24.593</td> <td> 0.000</td> <td>-3.95e+06</td> <td>-3.37e+06</td>\n",
       "</tr>\n",
       "<tr>\n",
       "  <th>mpg</th>        <td>  -79.3126</td> <td>    9.338</td> <td>   -8.493</td> <td> 0.000</td> <td>  -97.620</td> <td>  -61.006</td>\n",
       "</tr>\n",
       "<tr>\n",
       "  <th>engineSize</th> <td> 1.218e+04</td> <td>  189.969</td> <td>   64.107</td> <td> 0.000</td> <td> 1.18e+04</td> <td> 1.26e+04</td>\n",
       "</tr>\n",
       "<tr>\n",
       "  <th>mileage</th>    <td>   -0.1474</td> <td>    0.009</td> <td>  -16.817</td> <td> 0.000</td> <td>   -0.165</td> <td>   -0.130</td>\n",
       "</tr>\n",
       "<tr>\n",
       "  <th>year</th>       <td> 1817.7366</td> <td>   73.751</td> <td>   24.647</td> <td> 0.000</td> <td> 1673.151</td> <td> 1962.322</td>\n",
       "</tr>\n",
       "</table>\n",
       "<table class=\"simpletable\">\n",
       "<tr>\n",
       "  <th>Omnibus:</th>       <td>2450.973</td> <th>  Durbin-Watson:     </th> <td>   0.541</td> \n",
       "</tr>\n",
       "<tr>\n",
       "  <th>Prob(Omnibus):</th>  <td> 0.000</td>  <th>  Jarque-Bera (JB):  </th> <td>31060.548</td>\n",
       "</tr>\n",
       "<tr>\n",
       "  <th>Skew:</th>           <td> 2.045</td>  <th>  Prob(JB):          </th> <td>    0.00</td> \n",
       "</tr>\n",
       "<tr>\n",
       "  <th>Kurtosis:</th>       <td>14.557</td>  <th>  Cond. No.          </th> <td>3.83e+07</td> \n",
       "</tr>\n",
       "</table><br/><br/>Notes:<br/>[1] Standard Errors assume that the covariance matrix of the errors is correctly specified.<br/>[2] The condition number is large, 3.83e+07. This might indicate that there are<br/>strong multicollinearity or other numerical problems."
      ],
      "text/plain": [
       "<class 'statsmodels.iolib.summary.Summary'>\n",
       "\"\"\"\n",
       "                            OLS Regression Results                            \n",
       "==============================================================================\n",
       "Dep. Variable:                  price   R-squared:                       0.660\n",
       "Model:                            OLS   Adj. R-squared:                  0.660\n",
       "Method:                 Least Squares   F-statistic:                     2410.\n",
       "Date:                Tue, 07 Feb 2023   Prob (F-statistic):               0.00\n",
       "Time:                        21:39:45   Log-Likelihood:                -52497.\n",
       "No. Observations:                4960   AIC:                         1.050e+05\n",
       "Df Residuals:                    4955   BIC:                         1.050e+05\n",
       "Df Model:                           4                                         \n",
       "Covariance Type:            nonrobust                                         \n",
       "==============================================================================\n",
       "                 coef    std err          t      P>|t|      [0.025      0.975]\n",
       "------------------------------------------------------------------------------\n",
       "Intercept  -3.661e+06   1.49e+05    -24.593      0.000   -3.95e+06   -3.37e+06\n",
       "mpg          -79.3126      9.338     -8.493      0.000     -97.620     -61.006\n",
       "engineSize  1.218e+04    189.969     64.107      0.000    1.18e+04    1.26e+04\n",
       "mileage       -0.1474      0.009    -16.817      0.000      -0.165      -0.130\n",
       "year        1817.7366     73.751     24.647      0.000    1673.151    1962.322\n",
       "==============================================================================\n",
       "Omnibus:                     2450.973   Durbin-Watson:                   0.541\n",
       "Prob(Omnibus):                  0.000   Jarque-Bera (JB):            31060.548\n",
       "Skew:                           2.045   Prob(JB):                         0.00\n",
       "Kurtosis:                      14.557   Cond. No.                     3.83e+07\n",
       "==============================================================================\n",
       "\n",
       "Notes:\n",
       "[1] Standard Errors assume that the covariance matrix of the errors is correctly specified.\n",
       "[2] The condition number is large, 3.83e+07. This might indicate that there are\n",
       "strong multicollinearity or other numerical problems.\n",
       "\"\"\""
      ]
     },
     "execution_count": 5,
     "metadata": {},
     "output_type": "execute_result"
    }
   ],
   "source": [
    "ols_object = smf.ols(formula = 'price~mpg+engineSize+mileage+year', data = train)\n",
    "model_log = ols_object.fit()\n",
    "model_log.summary()"
   ]
  },
  {
   "cell_type": "markdown",
   "id": "3be76e48",
   "metadata": {},
   "source": [
    "Removing mileage from the above regression."
   ]
  },
  {
   "cell_type": "code",
   "execution_count": 7,
   "id": "675ce850",
   "metadata": {},
   "outputs": [
    {
     "data": {
      "text/html": [
       "<table class=\"simpletable\">\n",
       "<caption>OLS Regression Results</caption>\n",
       "<tr>\n",
       "  <th>Dep. Variable:</th>          <td>price</td>      <th>  R-squared:         </th> <td>   0.641</td> \n",
       "</tr>\n",
       "<tr>\n",
       "  <th>Model:</th>                   <td>OLS</td>       <th>  Adj. R-squared:    </th> <td>   0.641</td> \n",
       "</tr>\n",
       "<tr>\n",
       "  <th>Method:</th>             <td>Least Squares</td>  <th>  F-statistic:       </th> <td>   2951.</td> \n",
       "</tr>\n",
       "<tr>\n",
       "  <th>Date:</th>             <td>Tue, 07 Feb 2023</td> <th>  Prob (F-statistic):</th>  <td>  0.00</td>  \n",
       "</tr>\n",
       "<tr>\n",
       "  <th>Time:</th>                 <td>21:40:00</td>     <th>  Log-Likelihood:    </th> <td> -52635.</td> \n",
       "</tr>\n",
       "<tr>\n",
       "  <th>No. Observations:</th>      <td>  4960</td>      <th>  AIC:               </th> <td>1.053e+05</td>\n",
       "</tr>\n",
       "<tr>\n",
       "  <th>Df Residuals:</th>          <td>  4956</td>      <th>  BIC:               </th> <td>1.053e+05</td>\n",
       "</tr>\n",
       "<tr>\n",
       "  <th>Df Model:</th>              <td>     3</td>      <th>                     </th>     <td> </td>    \n",
       "</tr>\n",
       "<tr>\n",
       "  <th>Covariance Type:</th>      <td>nonrobust</td>    <th>                     </th>     <td> </td>    \n",
       "</tr>\n",
       "</table>\n",
       "<table class=\"simpletable\">\n",
       "<tr>\n",
       "       <td></td>         <th>coef</th>     <th>std err</th>      <th>t</th>      <th>P>|t|</th>  <th>[0.025</th>    <th>0.975]</th>  \n",
       "</tr>\n",
       "<tr>\n",
       "  <th>Intercept</th>  <td>-5.586e+06</td> <td> 9.78e+04</td> <td>  -57.098</td> <td> 0.000</td> <td>-5.78e+06</td> <td>-5.39e+06</td>\n",
       "</tr>\n",
       "<tr>\n",
       "  <th>mpg</th>        <td> -101.9120</td> <td>    9.500</td> <td>  -10.727</td> <td> 0.000</td> <td> -120.536</td> <td>  -83.288</td>\n",
       "</tr>\n",
       "<tr>\n",
       "  <th>engineSize</th> <td> 1.196e+04</td> <td>  194.848</td> <td>   61.392</td> <td> 0.000</td> <td> 1.16e+04</td> <td> 1.23e+04</td>\n",
       "</tr>\n",
       "<tr>\n",
       "  <th>year</th>       <td> 2771.1844</td> <td>   48.492</td> <td>   57.147</td> <td> 0.000</td> <td> 2676.118</td> <td> 2866.251</td>\n",
       "</tr>\n",
       "</table>\n",
       "<table class=\"simpletable\">\n",
       "<tr>\n",
       "  <th>Omnibus:</th>       <td>2389.075</td> <th>  Durbin-Watson:     </th> <td>   0.528</td> \n",
       "</tr>\n",
       "<tr>\n",
       "  <th>Prob(Omnibus):</th>  <td> 0.000</td>  <th>  Jarque-Bera (JB):  </th> <td>26920.051</td>\n",
       "</tr>\n",
       "<tr>\n",
       "  <th>Skew:</th>           <td> 2.018</td>  <th>  Prob(JB):          </th> <td>    0.00</td> \n",
       "</tr>\n",
       "<tr>\n",
       "  <th>Kurtosis:</th>       <td>13.675</td>  <th>  Cond. No.          </th> <td>1.41e+06</td> \n",
       "</tr>\n",
       "</table><br/><br/>Notes:<br/>[1] Standard Errors assume that the covariance matrix of the errors is correctly specified.<br/>[2] The condition number is large, 1.41e+06. This might indicate that there are<br/>strong multicollinearity or other numerical problems."
      ],
      "text/plain": [
       "<class 'statsmodels.iolib.summary.Summary'>\n",
       "\"\"\"\n",
       "                            OLS Regression Results                            \n",
       "==============================================================================\n",
       "Dep. Variable:                  price   R-squared:                       0.641\n",
       "Model:                            OLS   Adj. R-squared:                  0.641\n",
       "Method:                 Least Squares   F-statistic:                     2951.\n",
       "Date:                Tue, 07 Feb 2023   Prob (F-statistic):               0.00\n",
       "Time:                        21:40:00   Log-Likelihood:                -52635.\n",
       "No. Observations:                4960   AIC:                         1.053e+05\n",
       "Df Residuals:                    4956   BIC:                         1.053e+05\n",
       "Df Model:                           3                                         \n",
       "Covariance Type:            nonrobust                                         \n",
       "==============================================================================\n",
       "                 coef    std err          t      P>|t|      [0.025      0.975]\n",
       "------------------------------------------------------------------------------\n",
       "Intercept  -5.586e+06   9.78e+04    -57.098      0.000   -5.78e+06   -5.39e+06\n",
       "mpg         -101.9120      9.500    -10.727      0.000    -120.536     -83.288\n",
       "engineSize  1.196e+04    194.848     61.392      0.000    1.16e+04    1.23e+04\n",
       "year        2771.1844     48.492     57.147      0.000    2676.118    2866.251\n",
       "==============================================================================\n",
       "Omnibus:                     2389.075   Durbin-Watson:                   0.528\n",
       "Prob(Omnibus):                  0.000   Jarque-Bera (JB):            26920.051\n",
       "Skew:                           2.018   Prob(JB):                         0.00\n",
       "Kurtosis:                      13.675   Cond. No.                     1.41e+06\n",
       "==============================================================================\n",
       "\n",
       "Notes:\n",
       "[1] Standard Errors assume that the covariance matrix of the errors is correctly specified.\n",
       "[2] The condition number is large, 1.41e+06. This might indicate that there are\n",
       "strong multicollinearity or other numerical problems.\n",
       "\"\"\""
      ]
     },
     "execution_count": 7,
     "metadata": {},
     "output_type": "execute_result"
    }
   ],
   "source": [
    "ols_object = smf.ols(formula = 'price~mpg+engineSize+year', data = train)\n",
    "model_log = ols_object.fit()\n",
    "model_log.summary()"
   ]
  },
  {
   "cell_type": "markdown",
   "id": "ee94ba7b",
   "metadata": {},
   "source": [
    "Note that the standard error of the coefficient of *year* has reduced from 73 to 48, without any large reduction in R-squared."
   ]
  },
  {
   "cell_type": "markdown",
   "id": "5e01740b",
   "metadata": {},
   "source": [
    "### When can we overlook multicollinearity?\n",
    "\n",
    "- The severity of the problems increases with the degree of the multicollinearity. Therefore, if there is only moderate multicollinearity *(5 < VIF < 10)*, we may overlook it.\n",
    "\n",
    "- Multicollinearity affects only the standard errors of the coefficients of collinear predictors. Therefore, if multicollinearity is not present for the predictors that we are particularly interested in, we may not need to resolve it. \n",
    "\n",
    "- Multicollinearity affects the standard error of the coefficients and thereby their $p$-values, but in general, it does not influence the prediction accuracy, except in the case that the coefficients are so unstable that the predictions are outside of the domain space of the response. If our sole aim is prediction, and we don’t wish to infer the statistical significance of predictors, then we may avoid addressing multicollinearity. \"*The fact that some or all predictor variables are correlated among themselves does not, in general, inhibit our ability to obtain a good fit nor does it tend to affect inferences about mean responses or predictions of new observations, provided these inferences are made within the region of observations\" - Neter, John, Michael H. Kutner, Christopher J. Nachtsheim, and William Wasserman. \"Applied linear statistical models.\" (1996): 318.*"
   ]
  }
 ],
 "metadata": {
  "kernelspec": {
   "display_name": "Python 3 (ipykernel)",
   "language": "python",
   "name": "python3"
  },
  "language_info": {
   "codemirror_mode": {
    "name": "ipython",
    "version": 3
   },
   "file_extension": ".py",
   "mimetype": "text/x-python",
   "name": "python",
   "nbconvert_exporter": "python",
   "pygments_lexer": "ipython3",
   "version": "3.8.17"
  }
 },
 "nbformat": 4,
 "nbformat_minor": 5
}
